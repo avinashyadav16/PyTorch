{
 "cells": [
  {
   "cell_type": "markdown",
   "metadata": {},
   "source": [
    "## Importing Required Libraries\n",
    "This cell imports PyTorch, its neural network module, and torchinfo for model summary."
   ]
  },
  {
   "cell_type": "code",
   "execution_count": 57,
   "metadata": {},
   "outputs": [],
   "source": [
    "import torch\n",
    "import torch.nn as nn\n",
    "\n",
    "# Import torchinfo for model summary\n",
    "from torchinfo import summary"
   ]
  },
  {
   "cell_type": "markdown",
   "metadata": {},
   "source": [
    "# **Single Layer Neural Network**"
   ]
  },
  {
   "attachments": {
    "image.png": {
     "image/png": "[encoded data removed]"
    }
   },
   "cell_type": "markdown",
   "metadata": {},
   "source": [
    "![image.png](attachment:image.png)"
   ]
  },
  {
   "cell_type": "markdown",
   "metadata": {},
   "source": [
    "## Defining a Single Layer Neural Network\n",
    "This cell defines a simple neural network with one linear layer followed by a sigmoid activation."
   ]
  },
  {
   "cell_type": "code",
   "execution_count": 58,
   "metadata": {},
   "outputs": [],
   "source": [
    "# Define a single layer neural network model\n",
    "class Model(nn.Module):\n",
    "    \n",
    "    def __init__(self, num_features):\n",
    "        # Call parent constructor\n",
    "        super().__init__()\n",
    "        \n",
    "        # Linear layer: input features to 1 output\n",
    "        self.linear = nn.Linear(num_features, 1)\n",
    "        # Sigmoid activation for output\n",
    "        self.sigmoid = nn.Sigmoid()\n",
    "        \n",
    "    \n",
    "    def forward(self, features):\n",
    "        # Pass input through linear layer\n",
    "        out = self.linear(features)\n",
    "        \n",
    "        # Apply sigmoid activation\n",
    "        out = self.sigmoid(out)\n",
    "        \n",
    "        # Return output\n",
    "        return out"
   ]
  },
  {
   "cell_type": "markdown",
   "metadata": {},
   "source": [
    "## Creating Input Features and Model Instance\n",
    "This cell creates random input features and instantiates the single layer model."
   ]
  },
  {
   "cell_type": "code",
   "execution_count": 59,
   "metadata": {},
   "outputs": [
    {
     "data": {
      "text/plain": [
       "tensor([[0.6561],\n",
       "        [0.6080],\n",
       "        [0.6191],\n",
       "        [0.5357],\n",
       "        [0.5413],\n",
       "        [0.6357],\n",
       "        [0.6521],\n",
       "        [0.4936],\n",
       "        [0.5535],\n",
       "        [0.5481]], grad_fn=<SigmoidBackward0>)"
      ]
     },
     "execution_count": 59,
     "metadata": {},
     "output_type": "execute_result"
    }
   ],
   "source": [
    "# Create random input features (10 samples, 5 features each)\n",
    "features = torch.rand(10, 5)\n",
    "\n",
    "# Instantiate the single layer model\n",
    "model = Model(features.shape[1])\n",
    "\n",
    "# Forward pass: get model output for features\n",
    "model(features)"
   ]
  },
  {
   "cell_type": "markdown",
   "metadata": {},
   "source": [
    "## Viewing Model Weights\n",
    "This cell displays the weights of the linear layer."
   ]
  },
  {
   "cell_type": "code",
   "execution_count": 60,
   "metadata": {},
   "outputs": [
    {
     "data": {
      "text/plain": [
       "Parameter containing:\n",
       "tensor([[ 0.2822,  0.3193, -0.2541,  0.2047, -0.0826]], requires_grad=True)"
      ]
     },
     "execution_count": 60,
     "metadata": {},
     "output_type": "execute_result"
    }
   ],
   "source": [
    "# View weights of the linear layer\n",
    "model.linear.weight"
   ]
  },
  {
   "cell_type": "markdown",
   "metadata": {},
   "source": [
    "## Viewing Model Bias\n",
    "This cell displays the bias of the linear layer."
   ]
  },
  {
   "cell_type": "code",
   "execution_count": 61,
   "metadata": {},
   "outputs": [
    {
     "data": {
      "text/plain": [
       "Parameter containing:\n",
       "tensor([0.1003], requires_grad=True)"
      ]
     },
     "execution_count": 61,
     "metadata": {},
     "output_type": "execute_result"
    }
   ],
   "source": [
    "# View bias of the linear layer\n",
    "model.linear.bias"
   ]
  },
  {
   "cell_type": "markdown",
   "metadata": {},
   "source": [
    "## Model Summary\n",
    "This cell prints a summary of the single layer model."
   ]
  },
  {
   "cell_type": "code",
   "execution_count": 62,
   "metadata": {},
   "outputs": [
    {
     "data": {
      "text/plain": [
       "==========================================================================================\n",
       "Layer (type:depth-idx)                   Output Shape              Param #\n",
       "==========================================================================================\n",
       "Model                                    [10, 1]                   --\n",
       "├─Linear: 1-1                            [10, 1]                   6\n",
       "├─Sigmoid: 1-2                           [10, 1]                   --\n",
       "==========================================================================================\n",
       "Total params: 6\n",
       "Trainable params: 6\n",
       "Non-trainable params: 0\n",
       "Total mult-adds (M): 0.00\n",
       "==========================================================================================\n",
       "Input size (MB): 0.00\n",
       "Forward/backward pass size (MB): 0.00\n",
       "Params size (MB): 0.00\n",
       "Estimated Total Size (MB): 0.00\n",
       "=========================================================================================="
      ]
     },
     "execution_count": 62,
     "metadata": {},
     "output_type": "execute_result"
    }
   ],
   "source": [
    "# Print summary of the single layer model\n",
    "summary(model, input_size=(10, 5))"
   ]
  },
  {
   "cell_type": "markdown",
   "metadata": {},
   "source": [
    "# **Multi Layer Neural Network**"
   ]
  },
  {
   "cell_type": "markdown",
   "metadata": {},
   "source": [
    "- Input Layer with 5 inputs\n",
    "    - Weights = 5 x 3\n",
    "- 1 Hidden layer with 3 neurons -> Activation Function => ReLu\n",
    "    - Weights = 3 x 1\n",
    "    - Bias = 3\n",
    "- 1 Output Layer with 1 neuron -> Activation Function => Sigmoid\n",
    "    - Bias = 1\n",
    "\n",
    "- Total Weights = (5 x 3) + (3 x 1)\n",
    "                = 15 + 3\n",
    "                = 18\n",
    "\n",
    "- Total Bias = 3 + 1\n",
    "             = 4"
   ]
  },
  {
   "attachments": {
    "image.png": {
     "image/png": "[encoded data removed]"
    }
   },
   "cell_type": "markdown",
   "metadata": {},
   "source": [
    "![image.png](attachment:image.png)"
   ]
  },
  {
   "cell_type": "markdown",
   "metadata": {},
   "source": [
    "## Defining a Multi Layer Neural Network\n",
    "This cell defines a neural network with one hidden layer using nn.Sequential."
   ]
  },
  {
   "cell_type": "code",
   "execution_count": 63,
   "metadata": {
    "id": "oJvxf-ftpdEy"
   },
   "outputs": [],
   "source": [
    "# create model class\n",
    "# While creating our class,\n",
    "# we must inherit it from the nn.Module class in order to use its functionalities\n",
    "class Model(nn.Module):\n",
    "\n",
    "  def __init__(self, num_features):\n",
    "      # Invoking Parent Class Constructor -> nn.Module Class\n",
    "      super().__init__()\n",
    "\n",
    "      '''\n",
    "      # Alternative: manual layer definition\n",
    "      self.linear1 = nn.Linear(num_features, 3)\n",
    "      self.relu = nn.ReLU()\n",
    "      self.linear2 = nn.Linear(3, 1)\n",
    "      self.sigmoid = nn.Sigmoid()\n",
    "      '''\n",
    "\n",
    "      # Use nn.Sequential for compact definition\n",
    "      self.network = nn.Sequential(\n",
    "          nn.Linear(num_features, 3),  # First linear layer\n",
    "          nn.ReLU(),                   # Activation\n",
    "          nn.Linear(3, 1),             # Second linear layer\n",
    "          nn.Sigmoid()                 # Output activation\n",
    "      )\n",
    "\n",
    "  def forward(self, features):\n",
    "      '''\n",
    "      # Alternative: manual forward pass\n",
    "      out = self.linear1(features)\n",
    "      out = self.relu(out)\n",
    "      out = self.linear2(out)\n",
    "      out = self.sigmoid(out)\n",
    "      '''\n",
    "      \n",
    "      # Forward pass through sequential network\n",
    "      out = self.network(features)\n",
    "\n",
    "      return out"
   ]
  },
  {
   "cell_type": "markdown",
   "metadata": {},
   "source": [
    "## Creating Input Features and Multi Layer Model Instance\n",
    "This cell creates random input features and instantiates the multi layer model."
   ]
  },
  {
   "cell_type": "code",
   "execution_count": 64,
   "metadata": {
    "colab": {
     "base_uri": "https://localhost:8080/"
    },
    "id": "I_Tbf5p6sQQI",
    "outputId": "5f897187-6609-4868-a294-ef15c32d5eaa"
   },
   "outputs": [
    {
     "data": {
      "text/plain": [
       "tensor([[0.5889],\n",
       "        [0.5859],\n",
       "        [0.5866],\n",
       "        [0.5483],\n",
       "        [0.5800],\n",
       "        [0.5495],\n",
       "        [0.5880],\n",
       "        [0.5897],\n",
       "        [0.5925],\n",
       "        [0.5789]], grad_fn=<SigmoidBackward0>)"
      ]
     },
     "execution_count": 64,
     "metadata": {},
     "output_type": "execute_result"
    }
   ],
   "source": [
    "# Create random input features (10 samples, 5 features each)\n",
    "features = torch.rand(10,5)\n",
    "\n",
    "# Instantiate the multi-layer model\n",
    "model = Model(features.shape[1])\n",
    "\n",
    "# Forward pass: get model output for features\n",
    "# model.forward(features)\n",
    "model(features)"
   ]
  },
  {
   "cell_type": "markdown",
   "metadata": {},
   "source": [
    "## Viewing First Layer Weights\n",
    "This cell displays the weights of the first linear layer in the multi layer model."
   ]
  },
  {
   "cell_type": "code",
   "execution_count": 65,
   "metadata": {
    "colab": {
     "base_uri": "https://localhost:8080/"
    },
    "id": "Kf6yPbtBPvCD",
    "outputId": "988cf3c5-b9a4-45ba-bdf5-ddc01fcd9279"
   },
   "outputs": [
    {
     "data": {
      "text/plain": [
       "Parameter containing:\n",
       "tensor([[ 0.4441, -0.2528,  0.2634, -0.1171, -0.2983],\n",
       "        [ 0.1114,  0.0236, -0.3008, -0.3204,  0.0914],\n",
       "        [ 0.3998,  0.1094,  0.2528,  0.0489, -0.1786]], requires_grad=True)"
      ]
     },
     "execution_count": 65,
     "metadata": {},
     "output_type": "execute_result"
    }
   ],
   "source": [
    "# Show weights of the first linear layer in the multi-layer model\n",
    "\n",
    "# model.linear1.weight  # If using manual definition\n",
    "\n",
    "model.network[0].weight  # First layer in nn.Sequential"
   ]
  },
  {
   "cell_type": "markdown",
   "metadata": {},
   "source": [
    "## Viewing Second Layer Weights\n",
    "This cell displays the weights of the second linear layer in the multi layer model."
   ]
  },
  {
   "cell_type": "code",
   "execution_count": 66,
   "metadata": {},
   "outputs": [
    {
     "data": {
      "text/plain": [
       "Parameter containing:\n",
       "tensor([[-0.3820,  0.3964, -0.0446]], requires_grad=True)"
      ]
     },
     "execution_count": 66,
     "metadata": {},
     "output_type": "execute_result"
    }
   ],
   "source": [
    "# Show weights of the second linear layer in the multi-layer model\n",
    "model.network[2].weight  # Second layer in nn.Sequential"
   ]
  },
  {
   "cell_type": "markdown",
   "metadata": {},
   "source": [
    "## Viewing First Layer Bias\n",
    "This cell displays the bias of the first linear layer in the multi layer model."
   ]
  },
  {
   "cell_type": "code",
   "execution_count": 67,
   "metadata": {},
   "outputs": [
    {
     "data": {
      "text/plain": [
       "Parameter containing:\n",
       "tensor([ 0.3910, -0.3342,  0.3250], requires_grad=True)"
      ]
     },
     "execution_count": 67,
     "metadata": {},
     "output_type": "execute_result"
    }
   ],
   "source": [
    "# Show bias of the first linear layer in the multi-layer model\n",
    "model.network[0].bias"
   ]
  },
  {
   "cell_type": "markdown",
   "metadata": {},
   "source": [
    "## Viewing Second Layer Bias\n",
    "This cell displays the bias of the second linear layer in the multi layer model."
   ]
  },
  {
   "cell_type": "code",
   "execution_count": 68,
   "metadata": {},
   "outputs": [
    {
     "data": {
      "text/plain": [
       "Parameter containing:\n",
       "tensor([0.5235], requires_grad=True)"
      ]
     },
     "execution_count": 68,
     "metadata": {},
     "output_type": "execute_result"
    }
   ],
   "source": [
    "# Show bias of the second linear layer in the multi-layer model\n",
    "model.network[2].bias"
   ]
  },
  {
   "cell_type": "markdown",
   "metadata": {},
   "source": [
    "## Multi Layer Model Summary\n",
    "This cell prints a summary of the multi layer model."
   ]
  },
  {
   "cell_type": "code",
   "execution_count": 69,
   "metadata": {
    "colab": {
     "base_uri": "https://localhost:8080/"
    },
    "id": "ah9VjT_dxiJD",
    "outputId": "b63089c2-db30-4cfb-e039-830c018cdee2"
   },
   "outputs": [
    {
     "data": {
      "text/plain": [
       "==========================================================================================\n",
       "Layer (type:depth-idx)                   Output Shape              Param #\n",
       "==========================================================================================\n",
       "Model                                    [10, 1]                   --\n",
       "├─Sequential: 1-1                        [10, 1]                   --\n",
       "│    └─Linear: 2-1                       [10, 3]                   18\n",
       "│    └─ReLU: 2-2                         [10, 3]                   --\n",
       "│    └─Linear: 2-3                       [10, 1]                   4\n",
       "│    └─Sigmoid: 2-4                      [10, 1]                   --\n",
       "==========================================================================================\n",
       "Total params: 22\n",
       "Trainable params: 22\n",
       "Non-trainable params: 0\n",
       "Total mult-adds (M): 0.00\n",
       "==========================================================================================\n",
       "Input size (MB): 0.00\n",
       "Forward/backward pass size (MB): 0.00\n",
       "Params size (MB): 0.00\n",
       "Estimated Total Size (MB): 0.00\n",
       "=========================================================================================="
      ]
     },
     "execution_count": 69,
     "metadata": {},
     "output_type": "execute_result"
    }
   ],
   "source": [
    "# Print summary of the multi-layer model\n",
    "summary(model, input_size=(10, 5))"
   ]
  },
  {
   "cell_type": "markdown",
   "metadata": {},
   "source": [
    "---"
   ]
  }
 ],
 "metadata": {
  "colab": {
   "provenance": []
  },
  "kernelspec": {
   "display_name": ".venv",
   "language": "python",
   "name": "python3"
  },
  "language_info": {
   "codemirror_mode": {
    "name": "ipython",
    "version": 3
   },
   "file_extension": ".py",
   "mimetype": "text/x-python",
   "name": "python",
   "nbconvert_exporter": "python",
   "pygments_lexer": "ipython3",
   "version": "3.10.11"
  }
 },
 "nbformat": 4,
 "nbformat_minor": 0
}
