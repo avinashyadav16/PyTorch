{
 "cells": [
  {
   "cell_type": "markdown",
   "id": "f05af379",
   "metadata": {},
   "source": [
    "# **Steps For Training A Model On GPU**"
   ]
  },
  {
   "cell_type": "markdown",
   "id": "ab5e0410",
   "metadata": {},
   "source": [
    "# **1. Check For Availability Of GPU**\n",
    "\n",
    "Before starting, verify if a GPU is available. If yes, select it; otherwise use the CPU."
   ]
  },
  {
   "cell_type": "markdown",
   "id": "a2c6a786",
   "metadata": {},
   "source": [
    "```python\n",
    "\n",
    "# Select device: use GPU if available, else fallback to CPU\n",
    "device = torch.device('cuda' if torch.cuda.is_available() else 'cpu')\n",
    "\n",
    "# Print which device is being used\n",
    "print(f\"Using device: {device}\")"
   ]
  },
  {
   "cell_type": "markdown",
   "id": "e9d50a54",
   "metadata": {},
   "source": [
    "# **2. Move The Model To GPU**\n",
    "\n",
    "Move your model to the selected device(`cuda` for GPU or `cpu`) so that all computations occur on the same device."
   ]
  },
  {
   "cell_type": "markdown",
   "id": "f1d68932",
   "metadata": {},
   "source": [
    "```python\n",
    "\n",
    "# Instantiate your model\n",
    "model = MyModel()\n",
    "\n",
    "# Move the model to the selected device (GPU or CPU)\n",
    "model = model.to(device)"
   ]
  },
  {
   "cell_type": "markdown",
   "id": "9bc81d60",
   "metadata": {},
   "source": [
    "# **3. Modify The Training Loop By Moving Data To GPU**\n",
    "\n",
    "Ensure that each batch of data(features and labels) is moved to the GPU before processing. This ensures that both the model and data are on the same device."
   ]
  },
  {
   "cell_type": "markdown",
   "id": "222ed331",
   "metadata": {},
   "source": [
    "```python\n",
    "\n",
    "for batch_features, batch_labels in train_loader:\n",
    "    # Move batch data to the selected device before processing\n",
    "    batch_features, batch_labels = batch_features.to(device), batch_labels.to(device)\n",
    "    # ...existing code for forward, backward, optimizer steps..."
   ]
  },
  {
   "cell_type": "markdown",
   "id": "d99e3ab4",
   "metadata": {},
   "source": [
    "# **4. Modify The Evaluation Loop By Moving Data To GPU**\n",
    "\n",
    "Similarly, ensure test data is moved to the GPU during evaluation. Disable gradient calculations using `torch.no_grad()` for efficiency."
   ]
  },
  {
   "cell_type": "markdown",
   "id": "73f1f23b",
   "metadata": {},
   "source": [
    "```python\n",
    "\n",
    "with torch.no_grad():\n",
    "    for batch_features, batch_labels in test_loader:\n",
    "        # Move batch data to the selected device before evaluation\n",
    "        batch_features, batch_labels = batch_features.to(device), batch_labels.to(device)\n",
    "        # ...existing code for evaluation..."
   ]
  },
  {
   "cell_type": "markdown",
   "id": "75bb32bc",
   "metadata": {},
   "source": [
    "# **5. Optimize The GPU Usage**\n",
    "\n",
    "To make the best use of GPU resources, apply the following optimizations:"
   ]
  },
  {
   "cell_type": "markdown",
   "id": "e065c3fe",
   "metadata": {},
   "source": [
    "### **A. Use Larger Batch Sizes**\n",
    "\n",
    "Larger batch sizes can better utilize GPU memory and reduce computation time per epoch(if memory allows)."
   ]
  },
  {
   "cell_type": "markdown",
   "id": "d272a8ee",
   "metadata": {},
   "source": [
    "### **B. Enable DataLoader Pinning**\n",
    "\n",
    "Use `pin_memory=True` in `DataLoader` to speed up data transfer from CPU to GPU."
   ]
  },
  {
   "cell_type": "markdown",
   "id": "faa6cf0a",
   "metadata": {},
   "source": [
    "```python\n",
    "\n",
    "train_loader = DataLoader(\n",
    "    train_dataset, \n",
    "    batch_size=128, \n",
    "    shuffle=True, \n",
    "    pin_memory=True\n",
    ")\n",
    "\n",
    "\n",
    "test_loader = DataLoader(\n",
    "    test_dataset, \n",
    "    batch_size=128, \n",
    "    shuffle=False,\n",
    "    pin_memory=True\n",
    ")"
   ]
  },
  {
   "cell_type": "markdown",
   "id": "79571859",
   "metadata": {},
   "source": [
    "---\n",
    "---"
   ]
  }
 ],
 "metadata": {
  "kernelspec": {
   "display_name": ".venv",
   "language": "python",
   "name": "python3"
  },
  "language_info": {
   "name": "python",
   "version": "3.10.11"
  }
 },
 "nbformat": 4,
 "nbformat_minor": 5
}
