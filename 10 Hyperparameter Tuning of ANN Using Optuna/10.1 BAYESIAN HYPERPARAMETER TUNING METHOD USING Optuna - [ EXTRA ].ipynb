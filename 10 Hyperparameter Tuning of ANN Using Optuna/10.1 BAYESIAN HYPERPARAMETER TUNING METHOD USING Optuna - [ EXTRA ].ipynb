{
  "cells": [
    {
      "cell_type": "markdown",
      "metadata": {},
      "source": [
        "# **Hyperparameter Tuning Using Optuna For Classification Task**"
      ]
    },
    {
      "cell_type": "markdown",
      "metadata": {},
      "source": [
        "# **🔧 Install Required Packages**"
      ]
    },
    {
      "cell_type": "code",
      "execution_count": 1,
      "metadata": {
        "id": "pCA2vnO4RwU4"
      },
      "outputs": [],
      "source": [
        "# %pip install optuna\n",
        "# %pip install optuna-integration[xgboost]\n",
        "# %pip install plotly"
      ]
    },
    {
      "cell_type": "markdown",
      "metadata": {},
      "source": [
        "# **📥 Load and Prepare the Pima Indian Diabetes Dataset**"
      ]
    },
    {
      "cell_type": "code",
      "execution_count": 2,
      "metadata": {
        "colab": {
          "base_uri": "https://localhost:8080/",
          "height": 206
        },
        "id": "fT-y3-gHShSh",
        "outputId": "a798b2e6-5190-4f43-a068-22a2894c5804"
      },
      "outputs": [
        {
          "name": "stderr",
          "output_type": "stream",
          "text": [
            "c:\\Users\\avina\\Documents\\GitHub\\PyTorch\\.venv\\lib\\site-packages\\tqdm\\auto.py:21: TqdmWarning: IProgress not found. Please update jupyter and ipywidgets. See https://ipywidgets.readthedocs.io/en/stable/user_install.html\n",
            "  from .autonotebook import tqdm as notebook_tqdm\n"
          ]
        },
        {
          "data": {
            "text/html": [
              "<div>\n",
              "<style scoped>\n",
              "    .dataframe tbody tr th:only-of-type {\n",
              "        vertical-align: middle;\n",
              "    }\n",
              "\n",
              "    .dataframe tbody tr th {\n",
              "        vertical-align: top;\n",
              "    }\n",
              "\n",
              "    .dataframe thead th {\n",
              "        text-align: right;\n",
              "    }\n",
              "</style>\n",
              "<table border=\"1\" class=\"dataframe\">\n",
              "  <thead>\n",
              "    <tr style=\"text-align: right;\">\n",
              "      <th></th>\n",
              "      <th>Pregnancies</th>\n",
              "      <th>Glucose</th>\n",
              "      <th>BloodPressure</th>\n",
              "      <th>SkinThickness</th>\n",
              "      <th>Insulin</th>\n",
              "      <th>BMI</th>\n",
              "      <th>DiabetesPedigreeFunction</th>\n",
              "      <th>Age</th>\n",
              "      <th>Outcome</th>\n",
              "    </tr>\n",
              "  </thead>\n",
              "  <tbody>\n",
              "    <tr>\n",
              "      <th>0</th>\n",
              "      <td>6</td>\n",
              "      <td>148</td>\n",
              "      <td>72</td>\n",
              "      <td>35</td>\n",
              "      <td>0</td>\n",
              "      <td>33.6</td>\n",
              "      <td>0.627</td>\n",
              "      <td>50</td>\n",
              "      <td>1</td>\n",
              "    </tr>\n",
              "    <tr>\n",
              "      <th>1</th>\n",
              "      <td>1</td>\n",
              "      <td>85</td>\n",
              "      <td>66</td>\n",
              "      <td>29</td>\n",
              "      <td>0</td>\n",
              "      <td>26.6</td>\n",
              "      <td>0.351</td>\n",
              "      <td>31</td>\n",
              "      <td>0</td>\n",
              "    </tr>\n",
              "    <tr>\n",
              "      <th>2</th>\n",
              "      <td>8</td>\n",
              "      <td>183</td>\n",
              "      <td>64</td>\n",
              "      <td>0</td>\n",
              "      <td>0</td>\n",
              "      <td>23.3</td>\n",
              "      <td>0.672</td>\n",
              "      <td>32</td>\n",
              "      <td>1</td>\n",
              "    </tr>\n",
              "    <tr>\n",
              "      <th>3</th>\n",
              "      <td>1</td>\n",
              "      <td>89</td>\n",
              "      <td>66</td>\n",
              "      <td>23</td>\n",
              "      <td>94</td>\n",
              "      <td>28.1</td>\n",
              "      <td>0.167</td>\n",
              "      <td>21</td>\n",
              "      <td>0</td>\n",
              "    </tr>\n",
              "    <tr>\n",
              "      <th>4</th>\n",
              "      <td>0</td>\n",
              "      <td>137</td>\n",
              "      <td>40</td>\n",
              "      <td>35</td>\n",
              "      <td>168</td>\n",
              "      <td>43.1</td>\n",
              "      <td>2.288</td>\n",
              "      <td>33</td>\n",
              "      <td>1</td>\n",
              "    </tr>\n",
              "  </tbody>\n",
              "</table>\n",
              "</div>"
            ],
            "text/plain": [
              "   Pregnancies  Glucose  BloodPressure  SkinThickness  Insulin   BMI  \\\n",
              "0            6      148             72             35        0  33.6   \n",
              "1            1       85             66             29        0  26.6   \n",
              "2            8      183             64              0        0  23.3   \n",
              "3            1       89             66             23       94  28.1   \n",
              "4            0      137             40             35      168  43.1   \n",
              "\n",
              "   DiabetesPedigreeFunction  Age  Outcome  \n",
              "0                     0.627   50        1  \n",
              "1                     0.351   31        0  \n",
              "2                     0.672   32        1  \n",
              "3                     0.167   21        0  \n",
              "4                     2.288   33        1  "
            ]
          },
          "execution_count": 2,
          "metadata": {},
          "output_type": "execute_result"
        }
      ],
      "source": [
        "# Import necessary libraries\n",
        "import optuna\n",
        "from sklearn.datasets import load_diabetes\n",
        "from sklearn.model_selection import train_test_split\n",
        "from sklearn.preprocessing import StandardScaler\n",
        "\n",
        "\n",
        "# Load the Pima Indian Diabetes dataset from sklearn\n",
        "# Note: Scikit-learn's built-in 'load_diabetes' is a regression dataset.\n",
        "# We will load the actual diabetes dataset from an external source\n",
        "import pandas as pd\n",
        "\n",
        "\n",
        "# Load the Pima Indian Diabetes dataset (from UCI repository)\n",
        "url = \"https://raw.githubusercontent.com/jbrownlee/Datasets/master/pima-indians-diabetes.data.csv\"\n",
        "\n",
        "\n",
        "columns = [\n",
        "    'Pregnancies',\n",
        "    'Glucose',\n",
        "    'BloodPressure',\n",
        "    'SkinThickness',\n",
        "    'Insulin',\n",
        "    'BMI',\n",
        "    'DiabetesPedigreeFunction',\n",
        "    'Age',\n",
        "    'Outcome'\n",
        "]\n",
        "\n",
        "\n",
        "# Load the dataset\n",
        "df = pd.read_csv(url, names=columns)\n",
        "\n",
        "\n",
        "df.head()"
      ]
    },
    {
      "cell_type": "markdown",
      "metadata": {},
      "source": [
        "# **🧹 Data Cleaning and Imputation**"
      ]
    },
    {
      "cell_type": "code",
      "execution_count": 3,
      "metadata": {
        "colab": {
          "base_uri": "https://localhost:8080/",
          "height": 0
        },
        "id": "tZ_ggrcuTcgI",
        "outputId": "a3e50020-63f4-4cd5-ec20-b51a71d069c5"
      },
      "outputs": [
        {
          "name": "stdout",
          "output_type": "stream",
          "text": [
            "Pregnancies                 0\n",
            "Glucose                     0\n",
            "BloodPressure               0\n",
            "SkinThickness               0\n",
            "Insulin                     0\n",
            "BMI                         0\n",
            "DiabetesPedigreeFunction    0\n",
            "Age                         0\n",
            "Outcome                     0\n",
            "dtype: int64\n"
          ]
        }
      ],
      "source": [
        "import numpy as np\n",
        "\n",
        "\n",
        "# Replace zero values with NaN in columns where zero is not a valid value\n",
        "cols_with_missing_vals = [\n",
        "    'Glucose',\n",
        "    'BloodPressure',\n",
        "    'SkinThickness',\n",
        "    'Insulin',\n",
        "    'BMI'\n",
        "]\n",
        "\n",
        "\n",
        "df[cols_with_missing_vals] = df[cols_with_missing_vals].replace(0, np.nan)\n",
        "\n",
        "\n",
        "# Impute the missing values with the mean of the respective column\n",
        "df.fillna(df.mean(), inplace=True)\n",
        "\n",
        "\n",
        "# Check if there are any remaining missing values\n",
        "print(df.isnull().sum())"
      ]
    },
    {
      "cell_type": "markdown",
      "metadata": {},
      "source": [
        "# **✂️ Split Data into Train and Test Sets & Scale**"
      ]
    },
    {
      "cell_type": "code",
      "execution_count": 4,
      "metadata": {
        "colab": {
          "base_uri": "https://localhost:8080/",
          "height": 0
        },
        "id": "3arW9ktITIHB",
        "outputId": "de4adc2d-cae4-4627-a17f-1c9cdf995bc4"
      },
      "outputs": [
        {
          "name": "stdout",
          "output_type": "stream",
          "text": [
            "Training set shape: (537, 8)\n",
            "Test set shape: (231, 8)\n"
          ]
        }
      ],
      "source": [
        "# Split into features (X) and target (y)\n",
        "X = df.drop('Outcome', axis=1)\n",
        "y = df['Outcome']\n",
        "\n",
        "\n",
        "# Split data into training and test sets (70% train, 30% test)\n",
        "X_train, X_test, y_train, y_test = train_test_split(\n",
        "    X,\n",
        "    y,\n",
        "    test_size=0.3,\n",
        "    random_state=42\n",
        ")\n",
        "\n",
        "\n",
        "# Optional: Scale the data for better model performance\n",
        "scaler = StandardScaler()\n",
        "X_train = scaler.fit_transform(X_train)\n",
        "X_test = scaler.transform(X_test)\n",
        "\n",
        "\n",
        "# Check the shape of the data\n",
        "print(f'Training set shape: {X_train.shape}')\n",
        "print(f'Test set shape: {X_test.shape}')"
      ]
    },
    {
      "cell_type": "markdown",
      "metadata": {},
      "source": [
        "# **🌲 Define Optuna Objective Function for RandomForest**"
      ]
    },
    {
      "cell_type": "code",
      "execution_count": 5,
      "metadata": {
        "id": "vAbA51fJTrb-"
      },
      "outputs": [],
      "source": [
        "from sklearn.ensemble import RandomForestClassifier\n",
        "from sklearn.model_selection import cross_val_score\n",
        "\n",
        "# Define the objective function\n",
        "def objective(trial):\n",
        "    # Suggest values for the hyperparameters\n",
        "    n_estimators = trial.suggest_int('n_estimators', 50, 200)\n",
        "    max_depth = trial.suggest_int('max_depth', 3, 20)\n",
        "\n",
        "    # Create the RandomForestClassifier with suggested hyperparameters\n",
        "    model = RandomForestClassifier(\n",
        "        n_estimators=n_estimators,\n",
        "        max_depth=max_depth,\n",
        "        random_state=42\n",
        "    )\n",
        "\n",
        "    # Perform 3-fold cross-validation and calculate accuracy\n",
        "    score = cross_val_score(\n",
        "        model,\n",
        "        X_train,\n",
        "        y_train,\n",
        "        cv=3,\n",
        "        scoring='accuracy'\n",
        "    ).mean()\n",
        "\n",
        "    return score  # Return the accuracy score for Optuna to maximize"
      ]
    },
    {
      "cell_type": "markdown",
      "metadata": {},
      "source": [
        "# **🔎 Run Optuna Study with TPE Sampler**"
      ]
    },
    {
      "cell_type": "code",
      "execution_count": 6,
      "metadata": {
        "colab": {
          "base_uri": "https://localhost:8080/",
          "height": 0
        },
        "id": "xN9Zi4k4UbBF",
        "outputId": "afb36b3e-0ccb-4cb2-ec88-d7a082c8eef1"
      },
      "outputs": [
        {
          "name": "stderr",
          "output_type": "stream",
          "text": [
            "[I 2025-09-13 03:39:46,582] A new study created in memory with name: no-name-0c4b77de-5ffa-4e75-97a0-c60ea2055ea6\n",
            "[I 2025-09-13 03:39:47,433] Trial 0 finished with value: 0.7746741154562384 and parameters: {'n_estimators': 103, 'max_depth': 17}. Best is trial 0 with value: 0.7746741154562384.\n",
            "[I 2025-09-13 03:39:48,659] Trial 1 finished with value: 0.7802607076350093 and parameters: {'n_estimators': 133, 'max_depth': 16}. Best is trial 1 with value: 0.7802607076350093.\n",
            "[I 2025-09-13 03:39:49,222] Trial 2 finished with value: 0.7653631284916201 and parameters: {'n_estimators': 60, 'max_depth': 19}. Best is trial 1 with value: 0.7802607076350093.\n",
            "[I 2025-09-13 03:39:49,691] Trial 3 finished with value: 0.7597765363128492 and parameters: {'n_estimators': 55, 'max_depth': 12}. Best is trial 1 with value: 0.7802607076350093.\n",
            "[I 2025-09-13 03:39:51,113] Trial 4 finished with value: 0.7597765363128491 and parameters: {'n_estimators': 198, 'max_depth': 3}. Best is trial 1 with value: 0.7802607076350093.\n",
            "[I 2025-09-13 03:39:52,136] Trial 5 finished with value: 0.7765363128491621 and parameters: {'n_estimators': 171, 'max_depth': 20}. Best is trial 1 with value: 0.7802607076350093.\n",
            "[I 2025-09-13 03:39:52,581] Trial 6 finished with value: 0.7616387337057727 and parameters: {'n_estimators': 71, 'max_depth': 6}. Best is trial 1 with value: 0.7802607076350093.\n",
            "[I 2025-09-13 03:39:53,545] Trial 7 finished with value: 0.7746741154562384 and parameters: {'n_estimators': 175, 'max_depth': 14}. Best is trial 1 with value: 0.7802607076350093.\n",
            "[I 2025-09-13 03:39:54,332] Trial 8 finished with value: 0.7709497206703911 and parameters: {'n_estimators': 161, 'max_depth': 20}. Best is trial 1 with value: 0.7802607076350093.\n",
            "[I 2025-09-13 03:39:55,225] Trial 9 finished with value: 0.7728119180633147 and parameters: {'n_estimators': 191, 'max_depth': 17}. Best is trial 1 with value: 0.7802607076350093.\n",
            "[I 2025-09-13 03:39:56,010] Trial 10 finished with value: 0.7616387337057727 and parameters: {'n_estimators': 129, 'max_depth': 9}. Best is trial 1 with value: 0.7802607076350093.\n",
            "[I 2025-09-13 03:39:57,705] Trial 11 finished with value: 0.7728119180633147 and parameters: {'n_estimators': 147, 'max_depth': 16}. Best is trial 1 with value: 0.7802607076350093.\n",
            "[I 2025-09-13 03:39:58,546] Trial 12 finished with value: 0.7746741154562384 and parameters: {'n_estimators': 110, 'max_depth': 20}. Best is trial 1 with value: 0.7802607076350093.\n",
            "[I 2025-09-13 03:39:59,483] Trial 13 finished with value: 0.7672253258845437 and parameters: {'n_estimators': 140, 'max_depth': 14}. Best is trial 1 with value: 0.7802607076350093.\n",
            "[I 2025-09-13 03:40:00,738] Trial 14 finished with value: 0.7672253258845437 and parameters: {'n_estimators': 167, 'max_depth': 15}. Best is trial 1 with value: 0.7802607076350093.\n",
            "[I 2025-09-13 03:40:01,446] Trial 15 finished with value: 0.7672253258845437 and parameters: {'n_estimators': 100, 'max_depth': 11}. Best is trial 1 with value: 0.7802607076350093.\n",
            "[I 2025-09-13 03:40:02,372] Trial 16 finished with value: 0.7728119180633147 and parameters: {'n_estimators': 149, 'max_depth': 18}. Best is trial 1 with value: 0.7802607076350093.\n",
            "[I 2025-09-13 03:40:03,193] Trial 17 finished with value: 0.7746741154562383 and parameters: {'n_estimators': 124, 'max_depth': 12}. Best is trial 1 with value: 0.7802607076350093.\n",
            "[I 2025-09-13 03:40:04,275] Trial 18 finished with value: 0.7709497206703911 and parameters: {'n_estimators': 181, 'max_depth': 18}. Best is trial 1 with value: 0.7802607076350093.\n",
            "[I 2025-09-13 03:40:04,852] Trial 19 finished with value: 0.7635009310986964 and parameters: {'n_estimators': 87, 'max_depth': 9}. Best is trial 1 with value: 0.7802607076350093.\n",
            "[I 2025-09-13 03:40:05,613] Trial 20 finished with value: 0.7746741154562384 and parameters: {'n_estimators': 129, 'max_depth': 15}. Best is trial 1 with value: 0.7802607076350093.\n",
            "[I 2025-09-13 03:40:06,358] Trial 21 finished with value: 0.7728119180633147 and parameters: {'n_estimators': 104, 'max_depth': 17}. Best is trial 1 with value: 0.7802607076350093.\n",
            "[I 2025-09-13 03:40:07,128] Trial 22 finished with value: 0.7765363128491621 and parameters: {'n_estimators': 87, 'max_depth': 19}. Best is trial 1 with value: 0.7802607076350093.\n",
            "[I 2025-09-13 03:40:07,729] Trial 23 finished with value: 0.7653631284916201 and parameters: {'n_estimators': 83, 'max_depth': 20}. Best is trial 1 with value: 0.7802607076350093.\n",
            "[I 2025-09-13 03:40:08,525] Trial 24 finished with value: 0.7802607076350093 and parameters: {'n_estimators': 116, 'max_depth': 19}. Best is trial 1 with value: 0.7802607076350093.\n",
            "[I 2025-09-13 03:40:09,340] Trial 25 finished with value: 0.7765363128491621 and parameters: {'n_estimators': 118, 'max_depth': 18}. Best is trial 1 with value: 0.7802607076350093.\n",
            "[I 2025-09-13 03:40:10,502] Trial 26 finished with value: 0.7746741154562384 and parameters: {'n_estimators': 159, 'max_depth': 16}. Best is trial 1 with value: 0.7802607076350093.\n",
            "[I 2025-09-13 03:40:11,551] Trial 27 finished with value: 0.7728119180633147 and parameters: {'n_estimators': 139, 'max_depth': 19}. Best is trial 1 with value: 0.7802607076350093.\n",
            "[I 2025-09-13 03:40:12,546] Trial 28 finished with value: 0.7709497206703911 and parameters: {'n_estimators': 114, 'max_depth': 13}. Best is trial 1 with value: 0.7802607076350093.\n",
            "[I 2025-09-13 03:40:13,239] Trial 29 finished with value: 0.7672253258845437 and parameters: {'n_estimators': 97, 'max_depth': 16}. Best is trial 1 with value: 0.7802607076350093.\n",
            "[I 2025-09-13 03:40:14,444] Trial 30 finished with value: 0.7746741154562384 and parameters: {'n_estimators': 182, 'max_depth': 17}. Best is trial 1 with value: 0.7802607076350093.\n",
            "[I 2025-09-13 03:40:14,939] Trial 31 finished with value: 0.7597765363128491 and parameters: {'n_estimators': 84, 'max_depth': 19}. Best is trial 1 with value: 0.7802607076350093.\n",
            "[I 2025-09-13 03:40:15,500] Trial 32 finished with value: 0.7783985102420857 and parameters: {'n_estimators': 75, 'max_depth': 20}. Best is trial 1 with value: 0.7802607076350093.\n",
            "[I 2025-09-13 03:40:15,805] Trial 33 finished with value: 0.7709497206703911 and parameters: {'n_estimators': 50, 'max_depth': 20}. Best is trial 1 with value: 0.7802607076350093.\n",
            "[I 2025-09-13 03:40:16,228] Trial 34 finished with value: 0.7783985102420857 and parameters: {'n_estimators': 69, 'max_depth': 18}. Best is trial 1 with value: 0.7802607076350093.\n",
            "[I 2025-09-13 03:40:16,619] Trial 35 finished with value: 0.7709497206703911 and parameters: {'n_estimators': 66, 'max_depth': 18}. Best is trial 1 with value: 0.7802607076350093.\n",
            "[I 2025-09-13 03:40:17,011] Trial 36 finished with value: 0.7690875232774674 and parameters: {'n_estimators': 66, 'max_depth': 17}. Best is trial 1 with value: 0.7802607076350093.\n",
            "[I 2025-09-13 03:40:17,430] Trial 37 finished with value: 0.7541899441340782 and parameters: {'n_estimators': 61, 'max_depth': 3}. Best is trial 1 with value: 0.7802607076350093.\n",
            "[I 2025-09-13 03:40:17,967] Trial 38 finished with value: 0.7709497206703911 and parameters: {'n_estimators': 92, 'max_depth': 19}. Best is trial 1 with value: 0.7802607076350093.\n",
            "[I 2025-09-13 03:40:18,487] Trial 39 finished with value: 0.7672253258845437 and parameters: {'n_estimators': 79, 'max_depth': 15}. Best is trial 1 with value: 0.7802607076350093.\n",
            "[I 2025-09-13 03:40:19,038] Trial 40 finished with value: 0.7839851024208566 and parameters: {'n_estimators': 73, 'max_depth': 18}. Best is trial 40 with value: 0.7839851024208566.\n",
            "[I 2025-09-13 03:40:19,464] Trial 41 finished with value: 0.7839851024208566 and parameters: {'n_estimators': 73, 'max_depth': 18}. Best is trial 40 with value: 0.7839851024208566.\n",
            "[I 2025-09-13 03:40:19,865] Trial 42 finished with value: 0.7783985102420857 and parameters: {'n_estimators': 75, 'max_depth': 19}. Best is trial 40 with value: 0.7839851024208566.\n",
            "[I 2025-09-13 03:40:20,181] Trial 43 finished with value: 0.7690875232774674 and parameters: {'n_estimators': 56, 'max_depth': 20}. Best is trial 40 with value: 0.7839851024208566.\n",
            "[I 2025-09-13 03:40:20,894] Trial 44 finished with value: 0.7746741154562384 and parameters: {'n_estimators': 106, 'max_depth': 17}. Best is trial 40 with value: 0.7839851024208566.\n",
            "[I 2025-09-13 03:40:21,507] Trial 45 finished with value: 0.7690875232774674 and parameters: {'n_estimators': 94, 'max_depth': 16}. Best is trial 40 with value: 0.7839851024208566.\n",
            "[I 2025-09-13 03:40:21,984] Trial 46 finished with value: 0.7690875232774674 and parameters: {'n_estimators': 77, 'max_depth': 14}. Best is trial 40 with value: 0.7839851024208566.\n",
            "[I 2025-09-13 03:40:22,810] Trial 47 finished with value: 0.7746741154562383 and parameters: {'n_estimators': 137, 'max_depth': 18}. Best is trial 40 with value: 0.7839851024208566.\n",
            "[I 2025-09-13 03:40:23,737] Trial 48 finished with value: 0.7672253258845437 and parameters: {'n_estimators': 118, 'max_depth': 10}. Best is trial 40 with value: 0.7839851024208566.\n",
            "[I 2025-09-13 03:40:24,852] Trial 49 finished with value: 0.7709497206703911 and parameters: {'n_estimators': 152, 'max_depth': 20}. Best is trial 40 with value: 0.7839851024208566.\n"
          ]
        }
      ],
      "source": [
        "# Create a study object and optimize the objective function\n",
        "# We aim to maximize accuracy\n",
        "study = optuna.create_study(\n",
        "    direction='maximize',\n",
        "    sampler=optuna.samplers.TPESampler()\n",
        ")\n",
        "\n",
        "\n",
        "# Run 50 trials to find the best hyperparameters\n",
        "study.optimize(objective, n_trials=50)"
      ]
    },
    {
      "cell_type": "markdown",
      "metadata": {},
      "source": [
        "# **🏆 Show Best Hyperparameters from Optuna**"
      ]
    },
    {
      "cell_type": "code",
      "execution_count": 7,
      "metadata": {
        "colab": {
          "base_uri": "https://localhost:8080/",
          "height": 0
        },
        "id": "7UAUdw33fCgH",
        "outputId": "c39f167a-6990-4c2a-9aee-77ad29f61f5e"
      },
      "outputs": [
        {
          "name": "stdout",
          "output_type": "stream",
          "text": [
            "Best trial accuracy: 0.7839851024208566\n",
            "Best hyperparameters: {'n_estimators': 73, 'max_depth': 18}\n"
          ]
        }
      ],
      "source": [
        "# Print the best result\n",
        "print(f'Best trial accuracy: {study.best_trial.value}')\n",
        "print(f'Best hyperparameters: {study.best_trial.params}')"
      ]
    },
    {
      "cell_type": "markdown",
      "metadata": {},
      "source": [
        "# **🧪 Evaluate Best Model on Test Set**"
      ]
    },
    {
      "cell_type": "code",
      "execution_count": 9,
      "metadata": {
        "colab": {
          "base_uri": "https://localhost:8080/",
          "height": 0
        },
        "id": "tb1zm_lAUtnC",
        "outputId": "5e125495-d25f-4af2-e70e-6781e430a328"
      },
      "outputs": [
        {
          "name": "stdout",
          "output_type": "stream",
          "text": [
            "Test Accuracy with best hyperparameters: 0.76\n"
          ]
        }
      ],
      "source": [
        "from sklearn.metrics import accuracy_score\n",
        "\n",
        "\n",
        "# Train a RandomForestClassifier using the best hyperparameters from Optuna\n",
        "best_model = RandomForestClassifier(**study.best_trial.params, random_state=42)\n",
        "\n",
        "\n",
        "# Fit the model to the training data\n",
        "best_model.fit(X_train, y_train)\n",
        "\n",
        "\n",
        "# Make predictions on the test set\n",
        "y_pred = best_model.predict(X_test)\n",
        "\n",
        "\n",
        "# Calculate the accuracy on the test set\n",
        "test_accuracy = accuracy_score(y_test, y_pred)\n",
        "\n",
        "\n",
        "# Print the test accuracy\n",
        "print(f'Test Accuracy with best hyperparameters: {test_accuracy:.2f}')"
      ]
    },
    {
      "cell_type": "markdown",
      "metadata": {},
      "source": [
        "# **🌱 Samplers in Optuna - Random Sampler Example**"
      ]
    },
    {
      "cell_type": "code",
      "execution_count": 9,
      "metadata": {
        "id": "HV7qYl2LzwnJ"
      },
      "outputs": [],
      "source": [
        "from sklearn.ensemble import RandomForestClassifier\n",
        "from sklearn.model_selection import cross_val_score\n",
        "\n",
        "# Define the objective function\n",
        "def objective(trial):\n",
        "    # Suggest values for the hyperparameters\n",
        "    n_estimators = trial.suggest_int('n_estimators', 50, 200)\n",
        "    max_depth = trial.suggest_int('max_depth', 3, 20)\n",
        "\n",
        "\n",
        "    # Create the RandomForestClassifier with suggested hyperparameters\n",
        "    model = RandomForestClassifier(\n",
        "        n_estimators=n_estimators,\n",
        "        max_depth=max_depth,\n",
        "        random_state=42\n",
        "    )\n",
        "\n",
        "\n",
        "    # Perform 3-fold cross-validation and calculate accuracy\n",
        "    score = cross_val_score(\n",
        "        model,\n",
        "        X_train,\n",
        "        y_train,\n",
        "        cv=3,\n",
        "        scoring='accuracy'\n",
        "    ).mean()\n",
        "\n",
        "\n",
        "    return score  # Return the accuracy score for Optuna to maximize"
      ]
    },
    {
      "cell_type": "code",
      "execution_count": 10,
      "metadata": {
        "colab": {
          "base_uri": "https://localhost:8080/",
          "height": 0
        },
        "id": "69ySFwlocrsv",
        "outputId": "39833871-bdd0-417e-8c6d-6a1e6d6e058a"
      },
      "outputs": [
        {
          "name": "stderr",
          "output_type": "stream",
          "text": [
            "[I 2025-09-13 01:27:23,399] A new study created in memory with name: no-name-a85b0402-3a80-4d0b-84ed-bc6b5736f56a\n",
            "[I 2025-09-13 01:27:24,654] Trial 0 finished with value: 0.7709497206703911 and parameters: {'n_estimators': 168, 'max_depth': 18}. Best is trial 0 with value: 0.7709497206703911.\n",
            "[I 2025-09-13 01:27:25,454] Trial 1 finished with value: 0.7672253258845437 and parameters: {'n_estimators': 82, 'max_depth': 15}. Best is trial 0 with value: 0.7709497206703911.\n",
            "[I 2025-09-13 01:27:26,480] Trial 2 finished with value: 0.7690875232774674 and parameters: {'n_estimators': 133, 'max_depth': 5}. Best is trial 0 with value: 0.7709497206703911.\n",
            "[I 2025-09-13 01:27:27,645] Trial 3 finished with value: 0.7746741154562384 and parameters: {'n_estimators': 154, 'max_depth': 16}. Best is trial 3 with value: 0.7746741154562384.\n",
            "[I 2025-09-13 01:27:28,448] Trial 4 finished with value: 0.7728119180633147 and parameters: {'n_estimators': 110, 'max_depth': 12}. Best is trial 3 with value: 0.7746741154562384.\n",
            "[I 2025-09-13 01:27:29,648] Trial 5 finished with value: 0.7653631284916201 and parameters: {'n_estimators': 162, 'max_depth': 9}. Best is trial 3 with value: 0.7746741154562384.\n",
            "[I 2025-09-13 01:27:30,365] Trial 6 finished with value: 0.7672253258845437 and parameters: {'n_estimators': 93, 'max_depth': 14}. Best is trial 3 with value: 0.7746741154562384.\n",
            "[I 2025-09-13 01:27:31,673] Trial 7 finished with value: 0.7653631284916201 and parameters: {'n_estimators': 160, 'max_depth': 10}. Best is trial 3 with value: 0.7746741154562384.\n",
            "[I 2025-09-13 01:27:32,384] Trial 8 finished with value: 0.7690875232774674 and parameters: {'n_estimators': 103, 'max_depth': 7}. Best is trial 3 with value: 0.7746741154562384.\n",
            "[I 2025-09-13 01:27:33,464] Trial 9 finished with value: 0.7728119180633147 and parameters: {'n_estimators': 138, 'max_depth': 16}. Best is trial 3 with value: 0.7746741154562384.\n",
            "[I 2025-09-13 01:27:34,641] Trial 10 finished with value: 0.7690875232774674 and parameters: {'n_estimators': 155, 'max_depth': 17}. Best is trial 3 with value: 0.7746741154562384.\n",
            "[I 2025-09-13 01:27:36,126] Trial 11 finished with value: 0.7690875232774674 and parameters: {'n_estimators': 198, 'max_depth': 7}. Best is trial 3 with value: 0.7746741154562384.\n",
            "[I 2025-09-13 01:27:37,518] Trial 12 finished with value: 0.7709497206703911 and parameters: {'n_estimators': 170, 'max_depth': 18}. Best is trial 3 with value: 0.7746741154562384.\n",
            "[I 2025-09-13 01:27:38,070] Trial 13 finished with value: 0.7616387337057727 and parameters: {'n_estimators': 77, 'max_depth': 6}. Best is trial 3 with value: 0.7746741154562384.\n",
            "[I 2025-09-13 01:27:38,618] Trial 14 finished with value: 0.7728119180633147 and parameters: {'n_estimators': 69, 'max_depth': 7}. Best is trial 3 with value: 0.7746741154562384.\n",
            "[I 2025-09-13 01:27:38,980] Trial 15 finished with value: 0.7597765363128491 and parameters: {'n_estimators': 50, 'max_depth': 4}. Best is trial 3 with value: 0.7746741154562384.\n",
            "[I 2025-09-13 01:27:39,831] Trial 16 finished with value: 0.7783985102420856 and parameters: {'n_estimators': 129, 'max_depth': 18}. Best is trial 16 with value: 0.7783985102420856.\n",
            "[I 2025-09-13 01:27:41,109] Trial 17 finished with value: 0.7765363128491619 and parameters: {'n_estimators': 160, 'max_depth': 7}. Best is trial 16 with value: 0.7783985102420856.\n",
            "[I 2025-09-13 01:27:41,685] Trial 18 finished with value: 0.7541899441340782 and parameters: {'n_estimators': 80, 'max_depth': 3}. Best is trial 16 with value: 0.7783985102420856.\n",
            "[I 2025-09-13 01:27:42,126] Trial 19 finished with value: 0.7635009310986964 and parameters: {'n_estimators': 68, 'max_depth': 6}. Best is trial 16 with value: 0.7783985102420856.\n",
            "[I 2025-09-13 01:27:43,310] Trial 20 finished with value: 0.7635009310986964 and parameters: {'n_estimators': 189, 'max_depth': 8}. Best is trial 16 with value: 0.7783985102420856.\n",
            "[I 2025-09-13 01:27:44,185] Trial 21 finished with value: 0.7746741154562384 and parameters: {'n_estimators': 136, 'max_depth': 12}. Best is trial 16 with value: 0.7783985102420856.\n",
            "[I 2025-09-13 01:27:45,020] Trial 22 finished with value: 0.7635009310986964 and parameters: {'n_estimators': 131, 'max_depth': 11}. Best is trial 16 with value: 0.7783985102420856.\n",
            "[I 2025-09-13 01:27:45,636] Trial 23 finished with value: 0.7690875232774674 and parameters: {'n_estimators': 101, 'max_depth': 8}. Best is trial 16 with value: 0.7783985102420856.\n",
            "[I 2025-09-13 01:27:46,270] Trial 24 finished with value: 0.7728119180633147 and parameters: {'n_estimators': 95, 'max_depth': 18}. Best is trial 16 with value: 0.7783985102420856.\n",
            "[I 2025-09-13 01:27:47,484] Trial 25 finished with value: 0.7597765363128491 and parameters: {'n_estimators': 176, 'max_depth': 4}. Best is trial 16 with value: 0.7783985102420856.\n",
            "[I 2025-09-13 01:27:48,221] Trial 26 finished with value: 0.7560521415270017 and parameters: {'n_estimators': 107, 'max_depth': 3}. Best is trial 16 with value: 0.7783985102420856.\n",
            "[I 2025-09-13 01:27:49,325] Trial 27 finished with value: 0.7709497206703911 and parameters: {'n_estimators': 124, 'max_depth': 8}. Best is trial 16 with value: 0.7783985102420856.\n",
            "[I 2025-09-13 01:27:50,176] Trial 28 finished with value: 0.7783985102420856 and parameters: {'n_estimators': 131, 'max_depth': 19}. Best is trial 16 with value: 0.7783985102420856.\n",
            "[I 2025-09-13 01:27:50,763] Trial 29 finished with value: 0.7672253258845437 and parameters: {'n_estimators': 93, 'max_depth': 14}. Best is trial 16 with value: 0.7783985102420856.\n",
            "[I 2025-09-13 01:27:52,248] Trial 30 finished with value: 0.7672253258845437 and parameters: {'n_estimators': 199, 'max_depth': 7}. Best is trial 16 with value: 0.7783985102420856.\n",
            "[I 2025-09-13 01:27:53,343] Trial 31 finished with value: 0.7672253258845437 and parameters: {'n_estimators': 166, 'max_depth': 5}. Best is trial 16 with value: 0.7783985102420856.\n",
            "[I 2025-09-13 01:27:54,187] Trial 32 finished with value: 0.7653631284916201 and parameters: {'n_estimators': 125, 'max_depth': 9}. Best is trial 16 with value: 0.7783985102420856.\n",
            "[I 2025-09-13 01:27:55,384] Trial 33 finished with value: 0.7672253258845437 and parameters: {'n_estimators': 176, 'max_depth': 18}. Best is trial 16 with value: 0.7783985102420856.\n",
            "[I 2025-09-13 01:27:56,990] Trial 34 finished with value: 0.7690875232774674 and parameters: {'n_estimators': 169, 'max_depth': 18}. Best is trial 16 with value: 0.7783985102420856.\n",
            "[I 2025-09-13 01:27:58,031] Trial 35 finished with value: 0.7783985102420856 and parameters: {'n_estimators': 132, 'max_depth': 12}. Best is trial 16 with value: 0.7783985102420856.\n",
            "[I 2025-09-13 01:27:58,872] Trial 36 finished with value: 0.7746741154562384 and parameters: {'n_estimators': 106, 'max_depth': 20}. Best is trial 16 with value: 0.7783985102420856.\n",
            "[I 2025-09-13 01:28:00,140] Trial 37 finished with value: 0.7672253258845437 and parameters: {'n_estimators': 162, 'max_depth': 5}. Best is trial 16 with value: 0.7783985102420856.\n",
            "[I 2025-09-13 01:28:01,442] Trial 38 finished with value: 0.7728119180633147 and parameters: {'n_estimators': 182, 'max_depth': 19}. Best is trial 16 with value: 0.7783985102420856.\n",
            "[I 2025-09-13 01:28:01,903] Trial 39 finished with value: 0.7746741154562384 and parameters: {'n_estimators': 63, 'max_depth': 17}. Best is trial 16 with value: 0.7783985102420856.\n",
            "[I 2025-09-13 01:28:02,672] Trial 40 finished with value: 0.7616387337057727 and parameters: {'n_estimators': 112, 'max_depth': 3}. Best is trial 16 with value: 0.7783985102420856.\n",
            "[I 2025-09-13 01:28:03,312] Trial 41 finished with value: 0.7653631284916201 and parameters: {'n_estimators': 102, 'max_depth': 11}. Best is trial 16 with value: 0.7783985102420856.\n",
            "[I 2025-09-13 01:28:04,657] Trial 42 finished with value: 0.7765363128491619 and parameters: {'n_estimators': 198, 'max_depth': 18}. Best is trial 16 with value: 0.7783985102420856.\n",
            "[I 2025-09-13 01:28:05,143] Trial 43 finished with value: 0.7690875232774674 and parameters: {'n_estimators': 76, 'max_depth': 7}. Best is trial 16 with value: 0.7783985102420856.\n",
            "[I 2025-09-13 01:28:05,901] Trial 44 finished with value: 0.7616387337057727 and parameters: {'n_estimators': 122, 'max_depth': 13}. Best is trial 16 with value: 0.7783985102420856.\n",
            "[I 2025-09-13 01:28:06,855] Trial 45 finished with value: 0.7728119180633147 and parameters: {'n_estimators': 139, 'max_depth': 20}. Best is trial 16 with value: 0.7783985102420856.\n",
            "[I 2025-09-13 01:28:07,652] Trial 46 finished with value: 0.7690875232774674 and parameters: {'n_estimators': 125, 'max_depth': 6}. Best is trial 16 with value: 0.7783985102420856.\n",
            "[I 2025-09-13 01:28:08,637] Trial 47 finished with value: 0.7672253258845437 and parameters: {'n_estimators': 138, 'max_depth': 14}. Best is trial 16 with value: 0.7783985102420856.\n",
            "[I 2025-09-13 01:28:09,256] Trial 48 finished with value: 0.7728119180633147 and parameters: {'n_estimators': 105, 'max_depth': 16}. Best is trial 16 with value: 0.7783985102420856.\n",
            "[I 2025-09-13 01:28:09,924] Trial 49 finished with value: 0.7802607076350093 and parameters: {'n_estimators': 118, 'max_depth': 16}. Best is trial 49 with value: 0.7802607076350093.\n"
          ]
        }
      ],
      "source": [
        "# We aim to maximize accuracy\n",
        "study = optuna.create_study(\n",
        "    direction='maximize',\n",
        "    sampler=optuna.samplers.RandomSampler()\n",
        ")\n",
        "\n",
        "\n",
        "# Run 50 trials to find the best hyperparameters\n",
        "study.optimize(objective, n_trials=50)"
      ]
    },
    {
      "cell_type": "code",
      "execution_count": 11,
      "metadata": {
        "colab": {
          "base_uri": "https://localhost:8080/",
          "height": 0
        },
        "id": "xsHAu8b1uxK1",
        "outputId": "352a5ac4-f00a-4eb8-8cff-f92177adfd22"
      },
      "outputs": [
        {
          "name": "stdout",
          "output_type": "stream",
          "text": [
            "Best trial accuracy: 0.7802607076350093\n",
            "Best hyperparameters: {'n_estimators': 118, 'max_depth': 16}\n"
          ]
        }
      ],
      "source": [
        "# Print the best result\n",
        "print(f'Best trial accuracy: {study.best_trial.value}')\n",
        "print(f'Best hyperparameters: {study.best_trial.params}')"
      ]
    },
    {
      "cell_type": "code",
      "execution_count": 12,
      "metadata": {
        "colab": {
          "base_uri": "https://localhost:8080/",
          "height": 0
        },
        "id": "KFdBA3pyvAII",
        "outputId": "fb176301-2bbc-42c3-fdea-9832d49a8ff3"
      },
      "outputs": [
        {
          "name": "stdout",
          "output_type": "stream",
          "text": [
            "Test Accuracy with best hyperparameters: 0.74\n"
          ]
        }
      ],
      "source": [
        "from sklearn.metrics import accuracy_score\n",
        "\n",
        "\n",
        "# Train a RandomForestClassifier using the best hyperparameters from Optuna\n",
        "best_model = RandomForestClassifier(**study.best_trial.params, random_state=42)\n",
        "\n",
        "\n",
        "# Fit the model to the training data\n",
        "best_model.fit(X_train, y_train)\n",
        "\n",
        "\n",
        "# Make predictions on the test set\n",
        "y_pred = best_model.predict(X_test)\n",
        "\n",
        "\n",
        "# Calculate the accuracy on the test set\n",
        "test_accuracy = accuracy_score(y_test, y_pred)\n",
        "\n",
        "\n",
        "# Print the test accuracy\n",
        "print(f'Test Accuracy with best hyperparameters: {test_accuracy:.2f}')"
      ]
    },
    {
      "cell_type": "markdown",
      "metadata": {},
      "source": [
        "# **🔲 Grid Sampler Example**"
      ]
    },
    {
      "cell_type": "code",
      "execution_count": 13,
      "metadata": {
        "id": "lcdVExqJvOLC"
      },
      "outputs": [],
      "source": [
        "search_space = {\n",
        "    'n_estimators': [50, 100, 150, 200],\n",
        "    'max_depth': [5, 10, 15, 20]\n",
        "}"
      ]
    },
    {
      "cell_type": "code",
      "execution_count": 14,
      "metadata": {
        "colab": {
          "base_uri": "https://localhost:8080/",
          "height": 0
        },
        "id": "4QKZcma6vYVT",
        "outputId": "cdaf2a80-d667-4673-9d6c-4606a7281be0"
      },
      "outputs": [
        {
          "name": "stderr",
          "output_type": "stream",
          "text": [
            "[I 2025-09-13 01:28:10,314] A new study created in memory with name: no-name-9336acf1-c8b7-4f9d-8694-2c395928677d\n",
            "[I 2025-09-13 01:28:10,929] Trial 0 finished with value: 0.7690875232774674 and parameters: {'n_estimators': 100, 'max_depth': 5}. Best is trial 0 with value: 0.7690875232774674.\n",
            "[I 2025-09-13 01:28:11,819] Trial 1 finished with value: 0.7672253258845437 and parameters: {'n_estimators': 150, 'max_depth': 10}. Best is trial 0 with value: 0.7690875232774674.\n",
            "[I 2025-09-13 01:28:12,141] Trial 2 finished with value: 0.7728119180633147 and parameters: {'n_estimators': 50, 'max_depth': 15}. Best is trial 2 with value: 0.7728119180633147.\n",
            "[I 2025-09-13 01:28:12,772] Trial 3 finished with value: 0.7653631284916201 and parameters: {'n_estimators': 100, 'max_depth': 15}. Best is trial 2 with value: 0.7728119180633147.\n",
            "[I 2025-09-13 01:28:13,384] Trial 4 finished with value: 0.7690875232774674 and parameters: {'n_estimators': 100, 'max_depth': 20}. Best is trial 2 with value: 0.7728119180633147.\n",
            "[I 2025-09-13 01:28:13,699] Trial 5 finished with value: 0.7579143389199254 and parameters: {'n_estimators': 50, 'max_depth': 10}. Best is trial 2 with value: 0.7728119180633147.\n",
            "[I 2025-09-13 01:28:14,558] Trial 6 finished with value: 0.7653631284916201 and parameters: {'n_estimators': 150, 'max_depth': 5}. Best is trial 2 with value: 0.7728119180633147.\n",
            "[I 2025-09-13 01:28:15,612] Trial 7 finished with value: 0.7728119180633147 and parameters: {'n_estimators': 150, 'max_depth': 20}. Best is trial 2 with value: 0.7728119180633147.\n",
            "[I 2025-09-13 01:28:16,563] Trial 8 finished with value: 0.7728119180633147 and parameters: {'n_estimators': 150, 'max_depth': 15}. Best is trial 2 with value: 0.7728119180633147.\n",
            "[I 2025-09-13 01:28:17,867] Trial 9 finished with value: 0.7709497206703911 and parameters: {'n_estimators': 200, 'max_depth': 10}. Best is trial 2 with value: 0.7728119180633147.\n",
            "[I 2025-09-13 01:28:19,250] Trial 10 finished with value: 0.7728119180633147 and parameters: {'n_estimators': 200, 'max_depth': 20}. Best is trial 2 with value: 0.7728119180633147.\n",
            "[I 2025-09-13 01:28:20,487] Trial 11 finished with value: 0.7728119180633147 and parameters: {'n_estimators': 200, 'max_depth': 15}. Best is trial 2 with value: 0.7728119180633147.\n",
            "[I 2025-09-13 01:28:21,647] Trial 12 finished with value: 0.7690875232774674 and parameters: {'n_estimators': 200, 'max_depth': 5}. Best is trial 2 with value: 0.7728119180633147.\n",
            "[I 2025-09-13 01:28:21,989] Trial 13 finished with value: 0.7746741154562384 and parameters: {'n_estimators': 50, 'max_depth': 5}. Best is trial 13 with value: 0.7746741154562384.\n",
            "[I 2025-09-13 01:28:22,691] Trial 14 finished with value: 0.7616387337057727 and parameters: {'n_estimators': 100, 'max_depth': 10}. Best is trial 13 with value: 0.7746741154562384.\n",
            "[I 2025-09-13 01:28:23,100] Trial 15 finished with value: 0.7709497206703911 and parameters: {'n_estimators': 50, 'max_depth': 20}. Best is trial 13 with value: 0.7746741154562384.\n"
          ]
        }
      ],
      "source": [
        "# Create a study and optimize it using GridSampler\n",
        "study = optuna.create_study(\n",
        "    direction='maximize',\n",
        "    sampler=optuna.samplers.GridSampler(search_space)\n",
        ")\n",
        "\n",
        "\n",
        "study.optimize(objective)"
      ]
    },
    {
      "cell_type": "code",
      "execution_count": 15,
      "metadata": {
        "colab": {
          "base_uri": "https://localhost:8080/",
          "height": 0
        },
        "id": "UVQrXK77vojx",
        "outputId": "b34d0cca-8a87-45a8-a991-98c09ecefd1f"
      },
      "outputs": [
        {
          "name": "stdout",
          "output_type": "stream",
          "text": [
            "Best trial accuracy: 0.7746741154562384\n",
            "Best hyperparameters: {'n_estimators': 50, 'max_depth': 5}\n"
          ]
        }
      ],
      "source": [
        "# Print the best result\n",
        "print(f'Best trial accuracy: {study.best_trial.value}')\n",
        "print(f'Best hyperparameters: {study.best_trial.params}')"
      ]
    },
    {
      "cell_type": "code",
      "execution_count": 16,
      "metadata": {
        "colab": {
          "base_uri": "https://localhost:8080/",
          "height": 0
        },
        "id": "oIZKJsSVwaYj",
        "outputId": "c13711e4-cf5d-41bf-d617-1b6aaa1e5ec3"
      },
      "outputs": [
        {
          "name": "stdout",
          "output_type": "stream",
          "text": [
            "Test Accuracy with best hyperparameters: 0.74\n"
          ]
        }
      ],
      "source": [
        "from sklearn.metrics import accuracy_score\n",
        "\n",
        "\n",
        "# Train a RandomForestClassifier using the best hyperparameters from Optuna\n",
        "best_model = RandomForestClassifier(**study.best_trial.params, random_state=42)\n",
        "\n",
        "\n",
        "# Fit the model to the training data\n",
        "best_model.fit(X_train, y_train)\n",
        "\n",
        "\n",
        "# Make predictions on the test set\n",
        "y_pred = best_model.predict(X_test)\n",
        "\n",
        "\n",
        "# Calculate the accuracy on the test set\n",
        "test_accuracy = accuracy_score(y_test, y_pred)\n",
        "\n",
        "\n",
        "# Print the test accuracy\n",
        "print(f'Test Accuracy with best hyperparameters: {test_accuracy:.2f}')"
      ]
    },
    {
      "cell_type": "markdown",
      "metadata": {},
      "source": [
        "# **📊 Visualize Optuna Study Results**"
      ]
    },
    {
      "cell_type": "code",
      "execution_count": 10,
      "metadata": {
        "id": "RxNsmlcR4nZi"
      },
      "outputs": [],
      "source": [
        "# For visualizations\n",
        "from optuna.visualization import plot_optimization_history, plot_parallel_coordinate, plot_slice, plot_contour, plot_param_importances"
      ]
    },
    {
      "cell_type": "markdown",
      "metadata": {},
      "source": [
        "# **📈 Optimization History Plot**"
      ]
    },
    {
      "cell_type": "code",
      "execution_count": 11,
      "metadata": {
        "colab": {
          "base_uri": "https://localhost:8080/",
          "height": 542
        },
        "id": "tL5Gc3uxymq8",
        "outputId": "6ae7d8a4-9678-4d75-f784-d654519f7daf"
      },
      "outputs": [
        {
          "data": {
            "application/vnd.plotly.v1+json": {
              "config": {
                "plotlyServerURL": "https://plot.ly"
              },
              "data": [
                {
                  "mode": "markers",
                  "name": "Objective Value",
                  "type": "scatter",
                  "x": [
                    0,
                    1,
                    2,
                    3,
                    4,
                    5,
                    6,
                    7,
                    8,
                    9,
                    10,
                    11,
                    12,
                    13,
                    14,
                    15,
                    16,
                    17,
                    18,
                    19,
                    20,
                    21,
                    22,
                    23,
                    24,
                    25,
                    26,
                    27,
                    28,
                    29,
                    30,
                    31,
                    32,
                    33,
                    34,
                    35,
                    36,
                    37,
                    38,
                    39,
                    40,
                    41,
                    42,
                    43,
                    44,
                    45,
                    46,
                    47,
                    48,
                    49
                  ],
                  "y": [
                    0.7746741154562384,
                    0.7802607076350093,
                    0.7653631284916201,
                    0.7597765363128492,
                    0.7597765363128491,
                    0.7765363128491621,
                    0.7616387337057727,
                    0.7746741154562384,
                    0.7709497206703911,
                    0.7728119180633147,
                    0.7616387337057727,
                    0.7728119180633147,
                    0.7746741154562384,
                    0.7672253258845437,
                    0.7672253258845437,
                    0.7672253258845437,
                    0.7728119180633147,
                    0.7746741154562383,
                    0.7709497206703911,
                    0.7635009310986964,
                    0.7746741154562384,
                    0.7728119180633147,
                    0.7765363128491621,
                    0.7653631284916201,
                    0.7802607076350093,
                    0.7765363128491621,
                    0.7746741154562384,
                    0.7728119180633147,
                    0.7709497206703911,
                    0.7672253258845437,
                    0.7746741154562384,
                    0.7597765363128491,
                    0.7783985102420857,
                    0.7709497206703911,
                    0.7783985102420857,
                    0.7709497206703911,
                    0.7690875232774674,
                    0.7541899441340782,
                    0.7709497206703911,
                    0.7672253258845437,
                    0.7839851024208566,
                    0.7839851024208566,
                    0.7783985102420857,
                    0.7690875232774674,
                    0.7746741154562384,
                    0.7690875232774674,
                    0.7690875232774674,
                    0.7746741154562383,
                    0.7672253258845437,
                    0.7709497206703911
                  ]
                },
                {
                  "mode": "lines",
                  "name": "Best Value",
                  "type": "scatter",
                  "x": [
                    0,
                    1,
                    2,
                    3,
                    4,
                    5,
                    6,
                    7,
                    8,
                    9,
                    10,
                    11,
                    12,
                    13,
                    14,
                    15,
                    16,
                    17,
                    18,
                    19,
                    20,
                    21,
                    22,
                    23,
                    24,
                    25,
                    26,
                    27,
                    28,
                    29,
                    30,
                    31,
                    32,
                    33,
                    34,
                    35,
                    36,
                    37,
                    38,
                    39,
                    40,
                    41,
                    42,
                    43,
                    44,
                    45,
                    46,
                    47,
                    48,
                    49
                  ],
                  "y": [
                    0.7746741154562384,
                    0.7802607076350093,
                    0.7802607076350093,
                    0.7802607076350093,
                    0.7802607076350093,
                    0.7802607076350093,
                    0.7802607076350093,
                    0.7802607076350093,
                    0.7802607076350093,
                    0.7802607076350093,
                    0.7802607076350093,
                    0.7802607076350093,
                    0.7802607076350093,
                    0.7802607076350093,
                    0.7802607076350093,
                    0.7802607076350093,
                    0.7802607076350093,
                    0.7802607076350093,
                    0.7802607076350093,
                    0.7802607076350093,
                    0.7802607076350093,
                    0.7802607076350093,
                    0.7802607076350093,
                    0.7802607076350093,
                    0.7802607076350093,
                    0.7802607076350093,
                    0.7802607076350093,
                    0.7802607076350093,
                    0.7802607076350093,
                    0.7802607076350093,
                    0.7802607076350093,
                    0.7802607076350093,
                    0.7802607076350093,
                    0.7802607076350093,
                    0.7802607076350093,
                    0.7802607076350093,
                    0.7802607076350093,
                    0.7802607076350093,
                    0.7802607076350093,
                    0.7802607076350093,
                    0.7839851024208566,
                    0.7839851024208566,
                    0.7839851024208566,
                    0.7839851024208566,
                    0.7839851024208566,
                    0.7839851024208566,
                    0.7839851024208566,
                    0.7839851024208566,
                    0.7839851024208566,
                    0.7839851024208566
                  ]
                },
                {
                  "marker": {
                    "color": "#cccccc"
                  },
                  "mode": "markers",
                  "name": "Infeasible Trial",
                  "showlegend": false,
                  "type": "scatter",
                  "x": [],
                  "y": []
                }
              ],
              "layout": {
                "template": {
                  "data": {
                    "bar": [
                      {
                        "error_x": {
                          "color": "#2a3f5f"
                        },
                        "error_y": {
                          "color": "#2a3f5f"
                        },
                        "marker": {
                          "line": {
                            "color": "#E5ECF6",
                            "width": 0.5
                          },
                          "pattern": {
                            "fillmode": "overlay",
                            "size": 10,
                            "solidity": 0.2
                          }
                        },
                        "type": "bar"
                      }
                    ],
                    "barpolar": [
                      {
                        "marker": {
                          "line": {
                            "color": "#E5ECF6",
                            "width": 0.5
                          },
                          "pattern": {
                            "fillmode": "overlay",
                            "size": 10,
                            "solidity": 0.2
                          }
                        },
                        "type": "barpolar"
                      }
                    ],
                    "carpet": [
                      {
                        "aaxis": {
                          "endlinecolor": "#2a3f5f",
                          "gridcolor": "white",
                          "linecolor": "white",
                          "minorgridcolor": "white",
                          "startlinecolor": "#2a3f5f"
                        },
                        "baxis": {
                          "endlinecolor": "#2a3f5f",
                          "gridcolor": "white",
                          "linecolor": "white",
                          "minorgridcolor": "white",
                          "startlinecolor": "#2a3f5f"
                        },
                        "type": "carpet"
                      }
                    ],
                    "choropleth": [
                      {
                        "colorbar": {
                          "outlinewidth": 0,
                          "ticks": ""
                        },
                        "type": "choropleth"
                      }
                    ],
                    "contour": [
                      {
                        "colorbar": {
                          "outlinewidth": 0,
                          "ticks": ""
                        },
                        "colorscale": [
                          [
                            0,
                            "#0d0887"
                          ],
                          [
                            0.1111111111111111,
                            "#46039f"
                          ],
                          [
                            0.2222222222222222,
                            "#7201a8"
                          ],
                          [
                            0.3333333333333333,
                            "#9c179e"
                          ],
                          [
                            0.4444444444444444,
                            "#bd3786"
                          ],
                          [
                            0.5555555555555556,
                            "#d8576b"
                          ],
                          [
                            0.6666666666666666,
                            "#ed7953"
                          ],
                          [
                            0.7777777777777778,
                            "#fb9f3a"
                          ],
                          [
                            0.8888888888888888,
                            "#fdca26"
                          ],
                          [
                            1,
                            "#f0f921"
                          ]
                        ],
                        "type": "contour"
                      }
                    ],
                    "contourcarpet": [
                      {
                        "colorbar": {
                          "outlinewidth": 0,
                          "ticks": ""
                        },
                        "type": "contourcarpet"
                      }
                    ],
                    "heatmap": [
                      {
                        "colorbar": {
                          "outlinewidth": 0,
                          "ticks": ""
                        },
                        "colorscale": [
                          [
                            0,
                            "#0d0887"
                          ],
                          [
                            0.1111111111111111,
                            "#46039f"
                          ],
                          [
                            0.2222222222222222,
                            "#7201a8"
                          ],
                          [
                            0.3333333333333333,
                            "#9c179e"
                          ],
                          [
                            0.4444444444444444,
                            "#bd3786"
                          ],
                          [
                            0.5555555555555556,
                            "#d8576b"
                          ],
                          [
                            0.6666666666666666,
                            "#ed7953"
                          ],
                          [
                            0.7777777777777778,
                            "#fb9f3a"
                          ],
                          [
                            0.8888888888888888,
                            "#fdca26"
                          ],
                          [
                            1,
                            "#f0f921"
                          ]
                        ],
                        "type": "heatmap"
                      }
                    ],
                    "histogram": [
                      {
                        "marker": {
                          "pattern": {
                            "fillmode": "overlay",
                            "size": 10,
                            "solidity": 0.2
                          }
                        },
                        "type": "histogram"
                      }
                    ],
                    "histogram2d": [
                      {
                        "colorbar": {
                          "outlinewidth": 0,
                          "ticks": ""
                        },
                        "colorscale": [
                          [
                            0,
                            "#0d0887"
                          ],
                          [
                            0.1111111111111111,
                            "#46039f"
                          ],
                          [
                            0.2222222222222222,
                            "#7201a8"
                          ],
                          [
                            0.3333333333333333,
                            "#9c179e"
                          ],
                          [
                            0.4444444444444444,
                            "#bd3786"
                          ],
                          [
                            0.5555555555555556,
                            "#d8576b"
                          ],
                          [
                            0.6666666666666666,
                            "#ed7953"
                          ],
                          [
                            0.7777777777777778,
                            "#fb9f3a"
                          ],
                          [
                            0.8888888888888888,
                            "#fdca26"
                          ],
                          [
                            1,
                            "#f0f921"
                          ]
                        ],
                        "type": "histogram2d"
                      }
                    ],
                    "histogram2dcontour": [
                      {
                        "colorbar": {
                          "outlinewidth": 0,
                          "ticks": ""
                        },
                        "colorscale": [
                          [
                            0,
                            "#0d0887"
                          ],
                          [
                            0.1111111111111111,
                            "#46039f"
                          ],
                          [
                            0.2222222222222222,
                            "#7201a8"
                          ],
                          [
                            0.3333333333333333,
                            "#9c179e"
                          ],
                          [
                            0.4444444444444444,
                            "#bd3786"
                          ],
                          [
                            0.5555555555555556,
                            "#d8576b"
                          ],
                          [
                            0.6666666666666666,
                            "#ed7953"
                          ],
                          [
                            0.7777777777777778,
                            "#fb9f3a"
                          ],
                          [
                            0.8888888888888888,
                            "#fdca26"
                          ],
                          [
                            1,
                            "#f0f921"
                          ]
                        ],
                        "type": "histogram2dcontour"
                      }
                    ],
                    "mesh3d": [
                      {
                        "colorbar": {
                          "outlinewidth": 0,
                          "ticks": ""
                        },
                        "type": "mesh3d"
                      }
                    ],
                    "parcoords": [
                      {
                        "line": {
                          "colorbar": {
                            "outlinewidth": 0,
                            "ticks": ""
                          }
                        },
                        "type": "parcoords"
                      }
                    ],
                    "pie": [
                      {
                        "automargin": true,
                        "type": "pie"
                      }
                    ],
                    "scatter": [
                      {
                        "fillpattern": {
                          "fillmode": "overlay",
                          "size": 10,
                          "solidity": 0.2
                        },
                        "type": "scatter"
                      }
                    ],
                    "scatter3d": [
                      {
                        "line": {
                          "colorbar": {
                            "outlinewidth": 0,
                            "ticks": ""
                          }
                        },
                        "marker": {
                          "colorbar": {
                            "outlinewidth": 0,
                            "ticks": ""
                          }
                        },
                        "type": "scatter3d"
                      }
                    ],
                    "scattercarpet": [
                      {
                        "marker": {
                          "colorbar": {
                            "outlinewidth": 0,
                            "ticks": ""
                          }
                        },
                        "type": "scattercarpet"
                      }
                    ],
                    "scattergeo": [
                      {
                        "marker": {
                          "colorbar": {
                            "outlinewidth": 0,
                            "ticks": ""
                          }
                        },
                        "type": "scattergeo"
                      }
                    ],
                    "scattergl": [
                      {
                        "marker": {
                          "colorbar": {
                            "outlinewidth": 0,
                            "ticks": ""
                          }
                        },
                        "type": "scattergl"
                      }
                    ],
                    "scattermap": [
                      {
                        "marker": {
                          "colorbar": {
                            "outlinewidth": 0,
                            "ticks": ""
                          }
                        },
                        "type": "scattermap"
                      }
                    ],
                    "scattermapbox": [
                      {
                        "marker": {
                          "colorbar": {
                            "outlinewidth": 0,
                            "ticks": ""
                          }
                        },
                        "type": "scattermapbox"
                      }
                    ],
                    "scatterpolar": [
                      {
                        "marker": {
                          "colorbar": {
                            "outlinewidth": 0,
                            "ticks": ""
                          }
                        },
                        "type": "scatterpolar"
                      }
                    ],
                    "scatterpolargl": [
                      {
                        "marker": {
                          "colorbar": {
                            "outlinewidth": 0,
                            "ticks": ""
                          }
                        },
                        "type": "scatterpolargl"
                      }
                    ],
                    "scatterternary": [
                      {
                        "marker": {
                          "colorbar": {
                            "outlinewidth": 0,
                            "ticks": ""
                          }
                        },
                        "type": "scatterternary"
                      }
                    ],
                    "surface": [
                      {
                        "colorbar": {
                          "outlinewidth": 0,
                          "ticks": ""
                        },
                        "colorscale": [
                          [
                            0,
                            "#0d0887"
                          ],
                          [
                            0.1111111111111111,
                            "#46039f"
                          ],
                          [
                            0.2222222222222222,
                            "#7201a8"
                          ],
                          [
                            0.3333333333333333,
                            "#9c179e"
                          ],
                          [
                            0.4444444444444444,
                            "#bd3786"
                          ],
                          [
                            0.5555555555555556,
                            "#d8576b"
                          ],
                          [
                            0.6666666666666666,
                            "#ed7953"
                          ],
                          [
                            0.7777777777777778,
                            "#fb9f3a"
                          ],
                          [
                            0.8888888888888888,
                            "#fdca26"
                          ],
                          [
                            1,
                            "#f0f921"
                          ]
                        ],
                        "type": "surface"
                      }
                    ],
                    "table": [
                      {
                        "cells": {
                          "fill": {
                            "color": "#EBF0F8"
                          },
                          "line": {
                            "color": "white"
                          }
                        },
                        "header": {
                          "fill": {
                            "color": "#C8D4E3"
                          },
                          "line": {
                            "color": "white"
                          }
                        },
                        "type": "table"
                      }
                    ]
                  },
                  "layout": {
                    "annotationdefaults": {
                      "arrowcolor": "#2a3f5f",
                      "arrowhead": 0,
                      "arrowwidth": 1
                    },
                    "autotypenumbers": "strict",
                    "coloraxis": {
                      "colorbar": {
                        "outlinewidth": 0,
                        "ticks": ""
                      }
                    },
                    "colorscale": {
                      "diverging": [
                        [
                          0,
                          "#8e0152"
                        ],
                        [
                          0.1,
                          "#c51b7d"
                        ],
                        [
                          0.2,
                          "#de77ae"
                        ],
                        [
                          0.3,
                          "#f1b6da"
                        ],
                        [
                          0.4,
                          "#fde0ef"
                        ],
                        [
                          0.5,
                          "#f7f7f7"
                        ],
                        [
                          0.6,
                          "#e6f5d0"
                        ],
                        [
                          0.7,
                          "#b8e186"
                        ],
                        [
                          0.8,
                          "#7fbc41"
                        ],
                        [
                          0.9,
                          "#4d9221"
                        ],
                        [
                          1,
                          "#276419"
                        ]
                      ],
                      "sequential": [
                        [
                          0,
                          "#0d0887"
                        ],
                        [
                          0.1111111111111111,
                          "#46039f"
                        ],
                        [
                          0.2222222222222222,
                          "#7201a8"
                        ],
                        [
                          0.3333333333333333,
                          "#9c179e"
                        ],
                        [
                          0.4444444444444444,
                          "#bd3786"
                        ],
                        [
                          0.5555555555555556,
                          "#d8576b"
                        ],
                        [
                          0.6666666666666666,
                          "#ed7953"
                        ],
                        [
                          0.7777777777777778,
                          "#fb9f3a"
                        ],
                        [
                          0.8888888888888888,
                          "#fdca26"
                        ],
                        [
                          1,
                          "#f0f921"
                        ]
                      ],
                      "sequentialminus": [
                        [
                          0,
                          "#0d0887"
                        ],
                        [
                          0.1111111111111111,
                          "#46039f"
                        ],
                        [
                          0.2222222222222222,
                          "#7201a8"
                        ],
                        [
                          0.3333333333333333,
                          "#9c179e"
                        ],
                        [
                          0.4444444444444444,
                          "#bd3786"
                        ],
                        [
                          0.5555555555555556,
                          "#d8576b"
                        ],
                        [
                          0.6666666666666666,
                          "#ed7953"
                        ],
                        [
                          0.7777777777777778,
                          "#fb9f3a"
                        ],
                        [
                          0.8888888888888888,
                          "#fdca26"
                        ],
                        [
                          1,
                          "#f0f921"
                        ]
                      ]
                    },
                    "colorway": [
                      "#636efa",
                      "#EF553B",
                      "#00cc96",
                      "#ab63fa",
                      "#FFA15A",
                      "#19d3f3",
                      "#FF6692",
                      "#B6E880",
                      "#FF97FF",
                      "#FECB52"
                    ],
                    "font": {
                      "color": "#2a3f5f"
                    },
                    "geo": {
                      "bgcolor": "white",
                      "lakecolor": "white",
                      "landcolor": "#E5ECF6",
                      "showlakes": true,
                      "showland": true,
                      "subunitcolor": "white"
                    },
                    "hoverlabel": {
                      "align": "left"
                    },
                    "hovermode": "closest",
                    "mapbox": {
                      "style": "light"
                    },
                    "paper_bgcolor": "white",
                    "plot_bgcolor": "#E5ECF6",
                    "polar": {
                      "angularaxis": {
                        "gridcolor": "white",
                        "linecolor": "white",
                        "ticks": ""
                      },
                      "bgcolor": "#E5ECF6",
                      "radialaxis": {
                        "gridcolor": "white",
                        "linecolor": "white",
                        "ticks": ""
                      }
                    },
                    "scene": {
                      "xaxis": {
                        "backgroundcolor": "#E5ECF6",
                        "gridcolor": "white",
                        "gridwidth": 2,
                        "linecolor": "white",
                        "showbackground": true,
                        "ticks": "",
                        "zerolinecolor": "white"
                      },
                      "yaxis": {
                        "backgroundcolor": "#E5ECF6",
                        "gridcolor": "white",
                        "gridwidth": 2,
                        "linecolor": "white",
                        "showbackground": true,
                        "ticks": "",
                        "zerolinecolor": "white"
                      },
                      "zaxis": {
                        "backgroundcolor": "#E5ECF6",
                        "gridcolor": "white",
                        "gridwidth": 2,
                        "linecolor": "white",
                        "showbackground": true,
                        "ticks": "",
                        "zerolinecolor": "white"
                      }
                    },
                    "shapedefaults": {
                      "line": {
                        "color": "#2a3f5f"
                      }
                    },
                    "ternary": {
                      "aaxis": {
                        "gridcolor": "white",
                        "linecolor": "white",
                        "ticks": ""
                      },
                      "baxis": {
                        "gridcolor": "white",
                        "linecolor": "white",
                        "ticks": ""
                      },
                      "bgcolor": "#E5ECF6",
                      "caxis": {
                        "gridcolor": "white",
                        "linecolor": "white",
                        "ticks": ""
                      }
                    },
                    "title": {
                      "x": 0.05
                    },
                    "xaxis": {
                      "automargin": true,
                      "gridcolor": "white",
                      "linecolor": "white",
                      "ticks": "",
                      "title": {
                        "standoff": 15
                      },
                      "zerolinecolor": "white",
                      "zerolinewidth": 2
                    },
                    "yaxis": {
                      "automargin": true,
                      "gridcolor": "white",
                      "linecolor": "white",
                      "ticks": "",
                      "title": {
                        "standoff": 15
                      },
                      "zerolinecolor": "white",
                      "zerolinewidth": 2
                    }
                  }
                },
                "title": {
                  "text": "Optimization History Plot"
                },
                "xaxis": {
                  "title": {
                    "text": "Trial"
                  }
                },
                "yaxis": {
                  "title": {
                    "text": "Objective Value"
                  }
                }
              }
            }
          },
          "metadata": {},
          "output_type": "display_data"
        }
      ],
      "source": [
        "# 1. Optimization History\n",
        "plot_optimization_history(study).show()"
      ]
    },
    {
      "cell_type": "markdown",
      "metadata": {},
      "source": [
        "# **📉 Parallel Coordinates Plot**"
      ]
    },
    {
      "cell_type": "code",
      "execution_count": 12,
      "metadata": {
        "colab": {
          "base_uri": "https://localhost:8080/",
          "height": 542
        },
        "id": "0VPz89RB4yQ7",
        "outputId": "ae525dd7-1a11-473e-ad61-c4e8d959e872"
      },
      "outputs": [
        {
          "data": {
            "application/vnd.plotly.v1+json": {
              "config": {
                "plotlyServerURL": "https://plot.ly"
              },
              "data": [
                {
                  "dimensions": [
                    {
                      "label": "Objective Value",
                      "range": [
                        0.7541899441340782,
                        0.7839851024208566
                      ],
                      "values": [
                        0.7746741154562384,
                        0.7802607076350093,
                        0.7653631284916201,
                        0.7597765363128492,
                        0.7597765363128491,
                        0.7765363128491621,
                        0.7616387337057727,
                        0.7746741154562384,
                        0.7709497206703911,
                        0.7728119180633147,
                        0.7616387337057727,
                        0.7728119180633147,
                        0.7746741154562384,
                        0.7672253258845437,
                        0.7672253258845437,
                        0.7672253258845437,
                        0.7728119180633147,
                        0.7746741154562383,
                        0.7709497206703911,
                        0.7635009310986964,
                        0.7746741154562384,
                        0.7728119180633147,
                        0.7765363128491621,
                        0.7653631284916201,
                        0.7802607076350093,
                        0.7765363128491621,
                        0.7746741154562384,
                        0.7728119180633147,
                        0.7709497206703911,
                        0.7672253258845437,
                        0.7746741154562384,
                        0.7597765363128491,
                        0.7783985102420857,
                        0.7709497206703911,
                        0.7783985102420857,
                        0.7709497206703911,
                        0.7690875232774674,
                        0.7541899441340782,
                        0.7709497206703911,
                        0.7672253258845437,
                        0.7839851024208566,
                        0.7839851024208566,
                        0.7783985102420857,
                        0.7690875232774674,
                        0.7746741154562384,
                        0.7690875232774674,
                        0.7690875232774674,
                        0.7746741154562383,
                        0.7672253258845437,
                        0.7709497206703911
                      ]
                    },
                    {
                      "label": "max_depth",
                      "range": [
                        3,
                        20
                      ],
                      "values": [
                        17,
                        16,
                        19,
                        12,
                        3,
                        20,
                        6,
                        14,
                        20,
                        17,
                        9,
                        16,
                        20,
                        14,
                        15,
                        11,
                        18,
                        12,
                        18,
                        9,
                        15,
                        17,
                        19,
                        20,
                        19,
                        18,
                        16,
                        19,
                        13,
                        16,
                        17,
                        19,
                        20,
                        20,
                        18,
                        18,
                        17,
                        3,
                        19,
                        15,
                        18,
                        18,
                        19,
                        20,
                        17,
                        16,
                        14,
                        18,
                        10,
                        20
                      ]
                    },
                    {
                      "label": "n_estimators",
                      "range": [
                        50,
                        198
                      ],
                      "values": [
                        103,
                        133,
                        60,
                        55,
                        198,
                        171,
                        71,
                        175,
                        161,
                        191,
                        129,
                        147,
                        110,
                        140,
                        167,
                        100,
                        149,
                        124,
                        181,
                        87,
                        129,
                        104,
                        87,
                        83,
                        116,
                        118,
                        159,
                        139,
                        114,
                        97,
                        182,
                        84,
                        75,
                        50,
                        69,
                        66,
                        66,
                        61,
                        92,
                        79,
                        73,
                        73,
                        75,
                        56,
                        106,
                        94,
                        77,
                        137,
                        118,
                        152
                      ]
                    }
                  ],
                  "labelangle": 30,
                  "labelside": "bottom",
                  "line": {
                    "color": [
                      0.7746741154562384,
                      0.7802607076350093,
                      0.7653631284916201,
                      0.7597765363128492,
                      0.7597765363128491,
                      0.7765363128491621,
                      0.7616387337057727,
                      0.7746741154562384,
                      0.7709497206703911,
                      0.7728119180633147,
                      0.7616387337057727,
                      0.7728119180633147,
                      0.7746741154562384,
                      0.7672253258845437,
                      0.7672253258845437,
                      0.7672253258845437,
                      0.7728119180633147,
                      0.7746741154562383,
                      0.7709497206703911,
                      0.7635009310986964,
                      0.7746741154562384,
                      0.7728119180633147,
                      0.7765363128491621,
                      0.7653631284916201,
                      0.7802607076350093,
                      0.7765363128491621,
                      0.7746741154562384,
                      0.7728119180633147,
                      0.7709497206703911,
                      0.7672253258845437,
                      0.7746741154562384,
                      0.7597765363128491,
                      0.7783985102420857,
                      0.7709497206703911,
                      0.7783985102420857,
                      0.7709497206703911,
                      0.7690875232774674,
                      0.7541899441340782,
                      0.7709497206703911,
                      0.7672253258845437,
                      0.7839851024208566,
                      0.7839851024208566,
                      0.7783985102420857,
                      0.7690875232774674,
                      0.7746741154562384,
                      0.7690875232774674,
                      0.7690875232774674,
                      0.7746741154562383,
                      0.7672253258845437,
                      0.7709497206703911
                    ],
                    "colorbar": {
                      "title": {
                        "text": "Objective Value"
                      }
                    },
                    "colorscale": [
                      [
                        0,
                        "rgb(247,251,255)"
                      ],
                      [
                        0.125,
                        "rgb(222,235,247)"
                      ],
                      [
                        0.25,
                        "rgb(198,219,239)"
                      ],
                      [
                        0.375,
                        "rgb(158,202,225)"
                      ],
                      [
                        0.5,
                        "rgb(107,174,214)"
                      ],
                      [
                        0.625,
                        "rgb(66,146,198)"
                      ],
                      [
                        0.75,
                        "rgb(33,113,181)"
                      ],
                      [
                        0.875,
                        "rgb(8,81,156)"
                      ],
                      [
                        1,
                        "rgb(8,48,107)"
                      ]
                    ],
                    "reversescale": false,
                    "showscale": true
                  },
                  "type": "parcoords"
                }
              ],
              "layout": {
                "template": {
                  "data": {
                    "bar": [
                      {
                        "error_x": {
                          "color": "#2a3f5f"
                        },
                        "error_y": {
                          "color": "#2a3f5f"
                        },
                        "marker": {
                          "line": {
                            "color": "#E5ECF6",
                            "width": 0.5
                          },
                          "pattern": {
                            "fillmode": "overlay",
                            "size": 10,
                            "solidity": 0.2
                          }
                        },
                        "type": "bar"
                      }
                    ],
                    "barpolar": [
                      {
                        "marker": {
                          "line": {
                            "color": "#E5ECF6",
                            "width": 0.5
                          },
                          "pattern": {
                            "fillmode": "overlay",
                            "size": 10,
                            "solidity": 0.2
                          }
                        },
                        "type": "barpolar"
                      }
                    ],
                    "carpet": [
                      {
                        "aaxis": {
                          "endlinecolor": "#2a3f5f",
                          "gridcolor": "white",
                          "linecolor": "white",
                          "minorgridcolor": "white",
                          "startlinecolor": "#2a3f5f"
                        },
                        "baxis": {
                          "endlinecolor": "#2a3f5f",
                          "gridcolor": "white",
                          "linecolor": "white",
                          "minorgridcolor": "white",
                          "startlinecolor": "#2a3f5f"
                        },
                        "type": "carpet"
                      }
                    ],
                    "choropleth": [
                      {
                        "colorbar": {
                          "outlinewidth": 0,
                          "ticks": ""
                        },
                        "type": "choropleth"
                      }
                    ],
                    "contour": [
                      {
                        "colorbar": {
                          "outlinewidth": 0,
                          "ticks": ""
                        },
                        "colorscale": [
                          [
                            0,
                            "#0d0887"
                          ],
                          [
                            0.1111111111111111,
                            "#46039f"
                          ],
                          [
                            0.2222222222222222,
                            "#7201a8"
                          ],
                          [
                            0.3333333333333333,
                            "#9c179e"
                          ],
                          [
                            0.4444444444444444,
                            "#bd3786"
                          ],
                          [
                            0.5555555555555556,
                            "#d8576b"
                          ],
                          [
                            0.6666666666666666,
                            "#ed7953"
                          ],
                          [
                            0.7777777777777778,
                            "#fb9f3a"
                          ],
                          [
                            0.8888888888888888,
                            "#fdca26"
                          ],
                          [
                            1,
                            "#f0f921"
                          ]
                        ],
                        "type": "contour"
                      }
                    ],
                    "contourcarpet": [
                      {
                        "colorbar": {
                          "outlinewidth": 0,
                          "ticks": ""
                        },
                        "type": "contourcarpet"
                      }
                    ],
                    "heatmap": [
                      {
                        "colorbar": {
                          "outlinewidth": 0,
                          "ticks": ""
                        },
                        "colorscale": [
                          [
                            0,
                            "#0d0887"
                          ],
                          [
                            0.1111111111111111,
                            "#46039f"
                          ],
                          [
                            0.2222222222222222,
                            "#7201a8"
                          ],
                          [
                            0.3333333333333333,
                            "#9c179e"
                          ],
                          [
                            0.4444444444444444,
                            "#bd3786"
                          ],
                          [
                            0.5555555555555556,
                            "#d8576b"
                          ],
                          [
                            0.6666666666666666,
                            "#ed7953"
                          ],
                          [
                            0.7777777777777778,
                            "#fb9f3a"
                          ],
                          [
                            0.8888888888888888,
                            "#fdca26"
                          ],
                          [
                            1,
                            "#f0f921"
                          ]
                        ],
                        "type": "heatmap"
                      }
                    ],
                    "histogram": [
                      {
                        "marker": {
                          "pattern": {
                            "fillmode": "overlay",
                            "size": 10,
                            "solidity": 0.2
                          }
                        },
                        "type": "histogram"
                      }
                    ],
                    "histogram2d": [
                      {
                        "colorbar": {
                          "outlinewidth": 0,
                          "ticks": ""
                        },
                        "colorscale": [
                          [
                            0,
                            "#0d0887"
                          ],
                          [
                            0.1111111111111111,
                            "#46039f"
                          ],
                          [
                            0.2222222222222222,
                            "#7201a8"
                          ],
                          [
                            0.3333333333333333,
                            "#9c179e"
                          ],
                          [
                            0.4444444444444444,
                            "#bd3786"
                          ],
                          [
                            0.5555555555555556,
                            "#d8576b"
                          ],
                          [
                            0.6666666666666666,
                            "#ed7953"
                          ],
                          [
                            0.7777777777777778,
                            "#fb9f3a"
                          ],
                          [
                            0.8888888888888888,
                            "#fdca26"
                          ],
                          [
                            1,
                            "#f0f921"
                          ]
                        ],
                        "type": "histogram2d"
                      }
                    ],
                    "histogram2dcontour": [
                      {
                        "colorbar": {
                          "outlinewidth": 0,
                          "ticks": ""
                        },
                        "colorscale": [
                          [
                            0,
                            "#0d0887"
                          ],
                          [
                            0.1111111111111111,
                            "#46039f"
                          ],
                          [
                            0.2222222222222222,
                            "#7201a8"
                          ],
                          [
                            0.3333333333333333,
                            "#9c179e"
                          ],
                          [
                            0.4444444444444444,
                            "#bd3786"
                          ],
                          [
                            0.5555555555555556,
                            "#d8576b"
                          ],
                          [
                            0.6666666666666666,
                            "#ed7953"
                          ],
                          [
                            0.7777777777777778,
                            "#fb9f3a"
                          ],
                          [
                            0.8888888888888888,
                            "#fdca26"
                          ],
                          [
                            1,
                            "#f0f921"
                          ]
                        ],
                        "type": "histogram2dcontour"
                      }
                    ],
                    "mesh3d": [
                      {
                        "colorbar": {
                          "outlinewidth": 0,
                          "ticks": ""
                        },
                        "type": "mesh3d"
                      }
                    ],
                    "parcoords": [
                      {
                        "line": {
                          "colorbar": {
                            "outlinewidth": 0,
                            "ticks": ""
                          }
                        },
                        "type": "parcoords"
                      }
                    ],
                    "pie": [
                      {
                        "automargin": true,
                        "type": "pie"
                      }
                    ],
                    "scatter": [
                      {
                        "fillpattern": {
                          "fillmode": "overlay",
                          "size": 10,
                          "solidity": 0.2
                        },
                        "type": "scatter"
                      }
                    ],
                    "scatter3d": [
                      {
                        "line": {
                          "colorbar": {
                            "outlinewidth": 0,
                            "ticks": ""
                          }
                        },
                        "marker": {
                          "colorbar": {
                            "outlinewidth": 0,
                            "ticks": ""
                          }
                        },
                        "type": "scatter3d"
                      }
                    ],
                    "scattercarpet": [
                      {
                        "marker": {
                          "colorbar": {
                            "outlinewidth": 0,
                            "ticks": ""
                          }
                        },
                        "type": "scattercarpet"
                      }
                    ],
                    "scattergeo": [
                      {
                        "marker": {
                          "colorbar": {
                            "outlinewidth": 0,
                            "ticks": ""
                          }
                        },
                        "type": "scattergeo"
                      }
                    ],
                    "scattergl": [
                      {
                        "marker": {
                          "colorbar": {
                            "outlinewidth": 0,
                            "ticks": ""
                          }
                        },
                        "type": "scattergl"
                      }
                    ],
                    "scattermap": [
                      {
                        "marker": {
                          "colorbar": {
                            "outlinewidth": 0,
                            "ticks": ""
                          }
                        },
                        "type": "scattermap"
                      }
                    ],
                    "scattermapbox": [
                      {
                        "marker": {
                          "colorbar": {
                            "outlinewidth": 0,
                            "ticks": ""
                          }
                        },
                        "type": "scattermapbox"
                      }
                    ],
                    "scatterpolar": [
                      {
                        "marker": {
                          "colorbar": {
                            "outlinewidth": 0,
                            "ticks": ""
                          }
                        },
                        "type": "scatterpolar"
                      }
                    ],
                    "scatterpolargl": [
                      {
                        "marker": {
                          "colorbar": {
                            "outlinewidth": 0,
                            "ticks": ""
                          }
                        },
                        "type": "scatterpolargl"
                      }
                    ],
                    "scatterternary": [
                      {
                        "marker": {
                          "colorbar": {
                            "outlinewidth": 0,
                            "ticks": ""
                          }
                        },
                        "type": "scatterternary"
                      }
                    ],
                    "surface": [
                      {
                        "colorbar": {
                          "outlinewidth": 0,
                          "ticks": ""
                        },
                        "colorscale": [
                          [
                            0,
                            "#0d0887"
                          ],
                          [
                            0.1111111111111111,
                            "#46039f"
                          ],
                          [
                            0.2222222222222222,
                            "#7201a8"
                          ],
                          [
                            0.3333333333333333,
                            "#9c179e"
                          ],
                          [
                            0.4444444444444444,
                            "#bd3786"
                          ],
                          [
                            0.5555555555555556,
                            "#d8576b"
                          ],
                          [
                            0.6666666666666666,
                            "#ed7953"
                          ],
                          [
                            0.7777777777777778,
                            "#fb9f3a"
                          ],
                          [
                            0.8888888888888888,
                            "#fdca26"
                          ],
                          [
                            1,
                            "#f0f921"
                          ]
                        ],
                        "type": "surface"
                      }
                    ],
                    "table": [
                      {
                        "cells": {
                          "fill": {
                            "color": "#EBF0F8"
                          },
                          "line": {
                            "color": "white"
                          }
                        },
                        "header": {
                          "fill": {
                            "color": "#C8D4E3"
                          },
                          "line": {
                            "color": "white"
                          }
                        },
                        "type": "table"
                      }
                    ]
                  },
                  "layout": {
                    "annotationdefaults": {
                      "arrowcolor": "#2a3f5f",
                      "arrowhead": 0,
                      "arrowwidth": 1
                    },
                    "autotypenumbers": "strict",
                    "coloraxis": {
                      "colorbar": {
                        "outlinewidth": 0,
                        "ticks": ""
                      }
                    },
                    "colorscale": {
                      "diverging": [
                        [
                          0,
                          "#8e0152"
                        ],
                        [
                          0.1,
                          "#c51b7d"
                        ],
                        [
                          0.2,
                          "#de77ae"
                        ],
                        [
                          0.3,
                          "#f1b6da"
                        ],
                        [
                          0.4,
                          "#fde0ef"
                        ],
                        [
                          0.5,
                          "#f7f7f7"
                        ],
                        [
                          0.6,
                          "#e6f5d0"
                        ],
                        [
                          0.7,
                          "#b8e186"
                        ],
                        [
                          0.8,
                          "#7fbc41"
                        ],
                        [
                          0.9,
                          "#4d9221"
                        ],
                        [
                          1,
                          "#276419"
                        ]
                      ],
                      "sequential": [
                        [
                          0,
                          "#0d0887"
                        ],
                        [
                          0.1111111111111111,
                          "#46039f"
                        ],
                        [
                          0.2222222222222222,
                          "#7201a8"
                        ],
                        [
                          0.3333333333333333,
                          "#9c179e"
                        ],
                        [
                          0.4444444444444444,
                          "#bd3786"
                        ],
                        [
                          0.5555555555555556,
                          "#d8576b"
                        ],
                        [
                          0.6666666666666666,
                          "#ed7953"
                        ],
                        [
                          0.7777777777777778,
                          "#fb9f3a"
                        ],
                        [
                          0.8888888888888888,
                          "#fdca26"
                        ],
                        [
                          1,
                          "#f0f921"
                        ]
                      ],
                      "sequentialminus": [
                        [
                          0,
                          "#0d0887"
                        ],
                        [
                          0.1111111111111111,
                          "#46039f"
                        ],
                        [
                          0.2222222222222222,
                          "#7201a8"
                        ],
                        [
                          0.3333333333333333,
                          "#9c179e"
                        ],
                        [
                          0.4444444444444444,
                          "#bd3786"
                        ],
                        [
                          0.5555555555555556,
                          "#d8576b"
                        ],
                        [
                          0.6666666666666666,
                          "#ed7953"
                        ],
                        [
                          0.7777777777777778,
                          "#fb9f3a"
                        ],
                        [
                          0.8888888888888888,
                          "#fdca26"
                        ],
                        [
                          1,
                          "#f0f921"
                        ]
                      ]
                    },
                    "colorway": [
                      "#636efa",
                      "#EF553B",
                      "#00cc96",
                      "#ab63fa",
                      "#FFA15A",
                      "#19d3f3",
                      "#FF6692",
                      "#B6E880",
                      "#FF97FF",
                      "#FECB52"
                    ],
                    "font": {
                      "color": "#2a3f5f"
                    },
                    "geo": {
                      "bgcolor": "white",
                      "lakecolor": "white",
                      "landcolor": "#E5ECF6",
                      "showlakes": true,
                      "showland": true,
                      "subunitcolor": "white"
                    },
                    "hoverlabel": {
                      "align": "left"
                    },
                    "hovermode": "closest",
                    "mapbox": {
                      "style": "light"
                    },
                    "paper_bgcolor": "white",
                    "plot_bgcolor": "#E5ECF6",
                    "polar": {
                      "angularaxis": {
                        "gridcolor": "white",
                        "linecolor": "white",
                        "ticks": ""
                      },
                      "bgcolor": "#E5ECF6",
                      "radialaxis": {
                        "gridcolor": "white",
                        "linecolor": "white",
                        "ticks": ""
                      }
                    },
                    "scene": {
                      "xaxis": {
                        "backgroundcolor": "#E5ECF6",
                        "gridcolor": "white",
                        "gridwidth": 2,
                        "linecolor": "white",
                        "showbackground": true,
                        "ticks": "",
                        "zerolinecolor": "white"
                      },
                      "yaxis": {
                        "backgroundcolor": "#E5ECF6",
                        "gridcolor": "white",
                        "gridwidth": 2,
                        "linecolor": "white",
                        "showbackground": true,
                        "ticks": "",
                        "zerolinecolor": "white"
                      },
                      "zaxis": {
                        "backgroundcolor": "#E5ECF6",
                        "gridcolor": "white",
                        "gridwidth": 2,
                        "linecolor": "white",
                        "showbackground": true,
                        "ticks": "",
                        "zerolinecolor": "white"
                      }
                    },
                    "shapedefaults": {
                      "line": {
                        "color": "#2a3f5f"
                      }
                    },
                    "ternary": {
                      "aaxis": {
                        "gridcolor": "white",
                        "linecolor": "white",
                        "ticks": ""
                      },
                      "baxis": {
                        "gridcolor": "white",
                        "linecolor": "white",
                        "ticks": ""
                      },
                      "bgcolor": "#E5ECF6",
                      "caxis": {
                        "gridcolor": "white",
                        "linecolor": "white",
                        "ticks": ""
                      }
                    },
                    "title": {
                      "x": 0.05
                    },
                    "xaxis": {
                      "automargin": true,
                      "gridcolor": "white",
                      "linecolor": "white",
                      "ticks": "",
                      "title": {
                        "standoff": 15
                      },
                      "zerolinecolor": "white",
                      "zerolinewidth": 2
                    },
                    "yaxis": {
                      "automargin": true,
                      "gridcolor": "white",
                      "linecolor": "white",
                      "ticks": "",
                      "title": {
                        "standoff": 15
                      },
                      "zerolinecolor": "white",
                      "zerolinewidth": 2
                    }
                  }
                },
                "title": {
                  "text": "Parallel Coordinate Plot"
                }
              }
            }
          },
          "metadata": {},
          "output_type": "display_data"
        }
      ],
      "source": [
        "# 2. Parallel Coordinates Plot\n",
        "plot_parallel_coordinate(study).show()"
      ]
    },
    {
      "cell_type": "markdown",
      "metadata": {},
      "source": [
        "# **📊 Slice Plot**"
      ]
    },
    {
      "cell_type": "code",
      "execution_count": 13,
      "metadata": {
        "colab": {
          "base_uri": "https://localhost:8080/",
          "height": 542
        },
        "id": "JO1GGlRv43tJ",
        "outputId": "0f81cdc7-7e9b-4327-89ea-386c6782beda"
      },
      "outputs": [
        {
          "data": {
            "application/vnd.plotly.v1+json": {
              "config": {
                "plotlyServerURL": "https://plot.ly"
              },
              "data": [
                {
                  "marker": {
                    "color": [
                      0,
                      1,
                      2,
                      3,
                      4,
                      5,
                      6,
                      7,
                      8,
                      9,
                      10,
                      11,
                      12,
                      13,
                      14,
                      15,
                      16,
                      17,
                      18,
                      19,
                      20,
                      21,
                      22,
                      23,
                      24,
                      25,
                      26,
                      27,
                      28,
                      29,
                      30,
                      31,
                      32,
                      33,
                      34,
                      35,
                      36,
                      37,
                      38,
                      39,
                      40,
                      41,
                      42,
                      43,
                      44,
                      45,
                      46,
                      47,
                      48,
                      49
                    ],
                    "colorbar": {
                      "title": {
                        "text": "Trial"
                      },
                      "x": 1,
                      "xpad": 40
                    },
                    "colorscale": [
                      [
                        0,
                        "rgb(247,251,255)"
                      ],
                      [
                        0.125,
                        "rgb(222,235,247)"
                      ],
                      [
                        0.25,
                        "rgb(198,219,239)"
                      ],
                      [
                        0.375,
                        "rgb(158,202,225)"
                      ],
                      [
                        0.5,
                        "rgb(107,174,214)"
                      ],
                      [
                        0.625,
                        "rgb(66,146,198)"
                      ],
                      [
                        0.75,
                        "rgb(33,113,181)"
                      ],
                      [
                        0.875,
                        "rgb(8,81,156)"
                      ],
                      [
                        1,
                        "rgb(8,48,107)"
                      ]
                    ],
                    "line": {
                      "color": "Grey",
                      "width": 0.5
                    },
                    "showscale": true
                  },
                  "mode": "markers",
                  "name": "Feasible Trial",
                  "showlegend": false,
                  "type": "scatter",
                  "x": [
                    17,
                    16,
                    19,
                    12,
                    3,
                    20,
                    6,
                    14,
                    20,
                    17,
                    9,
                    16,
                    20,
                    14,
                    15,
                    11,
                    18,
                    12,
                    18,
                    9,
                    15,
                    17,
                    19,
                    20,
                    19,
                    18,
                    16,
                    19,
                    13,
                    16,
                    17,
                    19,
                    20,
                    20,
                    18,
                    18,
                    17,
                    3,
                    19,
                    15,
                    18,
                    18,
                    19,
                    20,
                    17,
                    16,
                    14,
                    18,
                    10,
                    20
                  ],
                  "xaxis": "x",
                  "y": [
                    0.7746741154562384,
                    0.7802607076350093,
                    0.7653631284916201,
                    0.7597765363128492,
                    0.7597765363128491,
                    0.7765363128491621,
                    0.7616387337057727,
                    0.7746741154562384,
                    0.7709497206703911,
                    0.7728119180633147,
                    0.7616387337057727,
                    0.7728119180633147,
                    0.7746741154562384,
                    0.7672253258845437,
                    0.7672253258845437,
                    0.7672253258845437,
                    0.7728119180633147,
                    0.7746741154562383,
                    0.7709497206703911,
                    0.7635009310986964,
                    0.7746741154562384,
                    0.7728119180633147,
                    0.7765363128491621,
                    0.7653631284916201,
                    0.7802607076350093,
                    0.7765363128491621,
                    0.7746741154562384,
                    0.7728119180633147,
                    0.7709497206703911,
                    0.7672253258845437,
                    0.7746741154562384,
                    0.7597765363128491,
                    0.7783985102420857,
                    0.7709497206703911,
                    0.7783985102420857,
                    0.7709497206703911,
                    0.7690875232774674,
                    0.7541899441340782,
                    0.7709497206703911,
                    0.7672253258845437,
                    0.7839851024208566,
                    0.7839851024208566,
                    0.7783985102420857,
                    0.7690875232774674,
                    0.7746741154562384,
                    0.7690875232774674,
                    0.7690875232774674,
                    0.7746741154562383,
                    0.7672253258845437,
                    0.7709497206703911
                  ],
                  "yaxis": "y"
                },
                {
                  "marker": {
                    "color": [
                      0,
                      1,
                      2,
                      3,
                      4,
                      5,
                      6,
                      7,
                      8,
                      9,
                      10,
                      11,
                      12,
                      13,
                      14,
                      15,
                      16,
                      17,
                      18,
                      19,
                      20,
                      21,
                      22,
                      23,
                      24,
                      25,
                      26,
                      27,
                      28,
                      29,
                      30,
                      31,
                      32,
                      33,
                      34,
                      35,
                      36,
                      37,
                      38,
                      39,
                      40,
                      41,
                      42,
                      43,
                      44,
                      45,
                      46,
                      47,
                      48,
                      49
                    ],
                    "colorbar": {
                      "title": {
                        "text": "Trial"
                      },
                      "x": 1,
                      "xpad": 40
                    },
                    "colorscale": [
                      [
                        0,
                        "rgb(247,251,255)"
                      ],
                      [
                        0.125,
                        "rgb(222,235,247)"
                      ],
                      [
                        0.25,
                        "rgb(198,219,239)"
                      ],
                      [
                        0.375,
                        "rgb(158,202,225)"
                      ],
                      [
                        0.5,
                        "rgb(107,174,214)"
                      ],
                      [
                        0.625,
                        "rgb(66,146,198)"
                      ],
                      [
                        0.75,
                        "rgb(33,113,181)"
                      ],
                      [
                        0.875,
                        "rgb(8,81,156)"
                      ],
                      [
                        1,
                        "rgb(8,48,107)"
                      ]
                    ],
                    "line": {
                      "color": "Grey",
                      "width": 0.5
                    },
                    "showscale": false
                  },
                  "mode": "markers",
                  "name": "Feasible Trial",
                  "showlegend": false,
                  "type": "scatter",
                  "x": [
                    103,
                    133,
                    60,
                    55,
                    198,
                    171,
                    71,
                    175,
                    161,
                    191,
                    129,
                    147,
                    110,
                    140,
                    167,
                    100,
                    149,
                    124,
                    181,
                    87,
                    129,
                    104,
                    87,
                    83,
                    116,
                    118,
                    159,
                    139,
                    114,
                    97,
                    182,
                    84,
                    75,
                    50,
                    69,
                    66,
                    66,
                    61,
                    92,
                    79,
                    73,
                    73,
                    75,
                    56,
                    106,
                    94,
                    77,
                    137,
                    118,
                    152
                  ],
                  "xaxis": "x2",
                  "y": [
                    0.7746741154562384,
                    0.7802607076350093,
                    0.7653631284916201,
                    0.7597765363128492,
                    0.7597765363128491,
                    0.7765363128491621,
                    0.7616387337057727,
                    0.7746741154562384,
                    0.7709497206703911,
                    0.7728119180633147,
                    0.7616387337057727,
                    0.7728119180633147,
                    0.7746741154562384,
                    0.7672253258845437,
                    0.7672253258845437,
                    0.7672253258845437,
                    0.7728119180633147,
                    0.7746741154562383,
                    0.7709497206703911,
                    0.7635009310986964,
                    0.7746741154562384,
                    0.7728119180633147,
                    0.7765363128491621,
                    0.7653631284916201,
                    0.7802607076350093,
                    0.7765363128491621,
                    0.7746741154562384,
                    0.7728119180633147,
                    0.7709497206703911,
                    0.7672253258845437,
                    0.7746741154562384,
                    0.7597765363128491,
                    0.7783985102420857,
                    0.7709497206703911,
                    0.7783985102420857,
                    0.7709497206703911,
                    0.7690875232774674,
                    0.7541899441340782,
                    0.7709497206703911,
                    0.7672253258845437,
                    0.7839851024208566,
                    0.7839851024208566,
                    0.7783985102420857,
                    0.7690875232774674,
                    0.7746741154562384,
                    0.7690875232774674,
                    0.7690875232774674,
                    0.7746741154562383,
                    0.7672253258845437,
                    0.7709497206703911
                  ],
                  "yaxis": "y2"
                }
              ],
              "layout": {
                "template": {
                  "data": {
                    "bar": [
                      {
                        "error_x": {
                          "color": "#2a3f5f"
                        },
                        "error_y": {
                          "color": "#2a3f5f"
                        },
                        "marker": {
                          "line": {
                            "color": "#E5ECF6",
                            "width": 0.5
                          },
                          "pattern": {
                            "fillmode": "overlay",
                            "size": 10,
                            "solidity": 0.2
                          }
                        },
                        "type": "bar"
                      }
                    ],
                    "barpolar": [
                      {
                        "marker": {
                          "line": {
                            "color": "#E5ECF6",
                            "width": 0.5
                          },
                          "pattern": {
                            "fillmode": "overlay",
                            "size": 10,
                            "solidity": 0.2
                          }
                        },
                        "type": "barpolar"
                      }
                    ],
                    "carpet": [
                      {
                        "aaxis": {
                          "endlinecolor": "#2a3f5f",
                          "gridcolor": "white",
                          "linecolor": "white",
                          "minorgridcolor": "white",
                          "startlinecolor": "#2a3f5f"
                        },
                        "baxis": {
                          "endlinecolor": "#2a3f5f",
                          "gridcolor": "white",
                          "linecolor": "white",
                          "minorgridcolor": "white",
                          "startlinecolor": "#2a3f5f"
                        },
                        "type": "carpet"
                      }
                    ],
                    "choropleth": [
                      {
                        "colorbar": {
                          "outlinewidth": 0,
                          "ticks": ""
                        },
                        "type": "choropleth"
                      }
                    ],
                    "contour": [
                      {
                        "colorbar": {
                          "outlinewidth": 0,
                          "ticks": ""
                        },
                        "colorscale": [
                          [
                            0,
                            "#0d0887"
                          ],
                          [
                            0.1111111111111111,
                            "#46039f"
                          ],
                          [
                            0.2222222222222222,
                            "#7201a8"
                          ],
                          [
                            0.3333333333333333,
                            "#9c179e"
                          ],
                          [
                            0.4444444444444444,
                            "#bd3786"
                          ],
                          [
                            0.5555555555555556,
                            "#d8576b"
                          ],
                          [
                            0.6666666666666666,
                            "#ed7953"
                          ],
                          [
                            0.7777777777777778,
                            "#fb9f3a"
                          ],
                          [
                            0.8888888888888888,
                            "#fdca26"
                          ],
                          [
                            1,
                            "#f0f921"
                          ]
                        ],
                        "type": "contour"
                      }
                    ],
                    "contourcarpet": [
                      {
                        "colorbar": {
                          "outlinewidth": 0,
                          "ticks": ""
                        },
                        "type": "contourcarpet"
                      }
                    ],
                    "heatmap": [
                      {
                        "colorbar": {
                          "outlinewidth": 0,
                          "ticks": ""
                        },
                        "colorscale": [
                          [
                            0,
                            "#0d0887"
                          ],
                          [
                            0.1111111111111111,
                            "#46039f"
                          ],
                          [
                            0.2222222222222222,
                            "#7201a8"
                          ],
                          [
                            0.3333333333333333,
                            "#9c179e"
                          ],
                          [
                            0.4444444444444444,
                            "#bd3786"
                          ],
                          [
                            0.5555555555555556,
                            "#d8576b"
                          ],
                          [
                            0.6666666666666666,
                            "#ed7953"
                          ],
                          [
                            0.7777777777777778,
                            "#fb9f3a"
                          ],
                          [
                            0.8888888888888888,
                            "#fdca26"
                          ],
                          [
                            1,
                            "#f0f921"
                          ]
                        ],
                        "type": "heatmap"
                      }
                    ],
                    "histogram": [
                      {
                        "marker": {
                          "pattern": {
                            "fillmode": "overlay",
                            "size": 10,
                            "solidity": 0.2
                          }
                        },
                        "type": "histogram"
                      }
                    ],
                    "histogram2d": [
                      {
                        "colorbar": {
                          "outlinewidth": 0,
                          "ticks": ""
                        },
                        "colorscale": [
                          [
                            0,
                            "#0d0887"
                          ],
                          [
                            0.1111111111111111,
                            "#46039f"
                          ],
                          [
                            0.2222222222222222,
                            "#7201a8"
                          ],
                          [
                            0.3333333333333333,
                            "#9c179e"
                          ],
                          [
                            0.4444444444444444,
                            "#bd3786"
                          ],
                          [
                            0.5555555555555556,
                            "#d8576b"
                          ],
                          [
                            0.6666666666666666,
                            "#ed7953"
                          ],
                          [
                            0.7777777777777778,
                            "#fb9f3a"
                          ],
                          [
                            0.8888888888888888,
                            "#fdca26"
                          ],
                          [
                            1,
                            "#f0f921"
                          ]
                        ],
                        "type": "histogram2d"
                      }
                    ],
                    "histogram2dcontour": [
                      {
                        "colorbar": {
                          "outlinewidth": 0,
                          "ticks": ""
                        },
                        "colorscale": [
                          [
                            0,
                            "#0d0887"
                          ],
                          [
                            0.1111111111111111,
                            "#46039f"
                          ],
                          [
                            0.2222222222222222,
                            "#7201a8"
                          ],
                          [
                            0.3333333333333333,
                            "#9c179e"
                          ],
                          [
                            0.4444444444444444,
                            "#bd3786"
                          ],
                          [
                            0.5555555555555556,
                            "#d8576b"
                          ],
                          [
                            0.6666666666666666,
                            "#ed7953"
                          ],
                          [
                            0.7777777777777778,
                            "#fb9f3a"
                          ],
                          [
                            0.8888888888888888,
                            "#fdca26"
                          ],
                          [
                            1,
                            "#f0f921"
                          ]
                        ],
                        "type": "histogram2dcontour"
                      }
                    ],
                    "mesh3d": [
                      {
                        "colorbar": {
                          "outlinewidth": 0,
                          "ticks": ""
                        },
                        "type": "mesh3d"
                      }
                    ],
                    "parcoords": [
                      {
                        "line": {
                          "colorbar": {
                            "outlinewidth": 0,
                            "ticks": ""
                          }
                        },
                        "type": "parcoords"
                      }
                    ],
                    "pie": [
                      {
                        "automargin": true,
                        "type": "pie"
                      }
                    ],
                    "scatter": [
                      {
                        "fillpattern": {
                          "fillmode": "overlay",
                          "size": 10,
                          "solidity": 0.2
                        },
                        "type": "scatter"
                      }
                    ],
                    "scatter3d": [
                      {
                        "line": {
                          "colorbar": {
                            "outlinewidth": 0,
                            "ticks": ""
                          }
                        },
                        "marker": {
                          "colorbar": {
                            "outlinewidth": 0,
                            "ticks": ""
                          }
                        },
                        "type": "scatter3d"
                      }
                    ],
                    "scattercarpet": [
                      {
                        "marker": {
                          "colorbar": {
                            "outlinewidth": 0,
                            "ticks": ""
                          }
                        },
                        "type": "scattercarpet"
                      }
                    ],
                    "scattergeo": [
                      {
                        "marker": {
                          "colorbar": {
                            "outlinewidth": 0,
                            "ticks": ""
                          }
                        },
                        "type": "scattergeo"
                      }
                    ],
                    "scattergl": [
                      {
                        "marker": {
                          "colorbar": {
                            "outlinewidth": 0,
                            "ticks": ""
                          }
                        },
                        "type": "scattergl"
                      }
                    ],
                    "scattermap": [
                      {
                        "marker": {
                          "colorbar": {
                            "outlinewidth": 0,
                            "ticks": ""
                          }
                        },
                        "type": "scattermap"
                      }
                    ],
                    "scattermapbox": [
                      {
                        "marker": {
                          "colorbar": {
                            "outlinewidth": 0,
                            "ticks": ""
                          }
                        },
                        "type": "scattermapbox"
                      }
                    ],
                    "scatterpolar": [
                      {
                        "marker": {
                          "colorbar": {
                            "outlinewidth": 0,
                            "ticks": ""
                          }
                        },
                        "type": "scatterpolar"
                      }
                    ],
                    "scatterpolargl": [
                      {
                        "marker": {
                          "colorbar": {
                            "outlinewidth": 0,
                            "ticks": ""
                          }
                        },
                        "type": "scatterpolargl"
                      }
                    ],
                    "scatterternary": [
                      {
                        "marker": {
                          "colorbar": {
                            "outlinewidth": 0,
                            "ticks": ""
                          }
                        },
                        "type": "scatterternary"
                      }
                    ],
                    "surface": [
                      {
                        "colorbar": {
                          "outlinewidth": 0,
                          "ticks": ""
                        },
                        "colorscale": [
                          [
                            0,
                            "#0d0887"
                          ],
                          [
                            0.1111111111111111,
                            "#46039f"
                          ],
                          [
                            0.2222222222222222,
                            "#7201a8"
                          ],
                          [
                            0.3333333333333333,
                            "#9c179e"
                          ],
                          [
                            0.4444444444444444,
                            "#bd3786"
                          ],
                          [
                            0.5555555555555556,
                            "#d8576b"
                          ],
                          [
                            0.6666666666666666,
                            "#ed7953"
                          ],
                          [
                            0.7777777777777778,
                            "#fb9f3a"
                          ],
                          [
                            0.8888888888888888,
                            "#fdca26"
                          ],
                          [
                            1,
                            "#f0f921"
                          ]
                        ],
                        "type": "surface"
                      }
                    ],
                    "table": [
                      {
                        "cells": {
                          "fill": {
                            "color": "#EBF0F8"
                          },
                          "line": {
                            "color": "white"
                          }
                        },
                        "header": {
                          "fill": {
                            "color": "#C8D4E3"
                          },
                          "line": {
                            "color": "white"
                          }
                        },
                        "type": "table"
                      }
                    ]
                  },
                  "layout": {
                    "annotationdefaults": {
                      "arrowcolor": "#2a3f5f",
                      "arrowhead": 0,
                      "arrowwidth": 1
                    },
                    "autotypenumbers": "strict",
                    "coloraxis": {
                      "colorbar": {
                        "outlinewidth": 0,
                        "ticks": ""
                      }
                    },
                    "colorscale": {
                      "diverging": [
                        [
                          0,
                          "#8e0152"
                        ],
                        [
                          0.1,
                          "#c51b7d"
                        ],
                        [
                          0.2,
                          "#de77ae"
                        ],
                        [
                          0.3,
                          "#f1b6da"
                        ],
                        [
                          0.4,
                          "#fde0ef"
                        ],
                        [
                          0.5,
                          "#f7f7f7"
                        ],
                        [
                          0.6,
                          "#e6f5d0"
                        ],
                        [
                          0.7,
                          "#b8e186"
                        ],
                        [
                          0.8,
                          "#7fbc41"
                        ],
                        [
                          0.9,
                          "#4d9221"
                        ],
                        [
                          1,
                          "#276419"
                        ]
                      ],
                      "sequential": [
                        [
                          0,
                          "#0d0887"
                        ],
                        [
                          0.1111111111111111,
                          "#46039f"
                        ],
                        [
                          0.2222222222222222,
                          "#7201a8"
                        ],
                        [
                          0.3333333333333333,
                          "#9c179e"
                        ],
                        [
                          0.4444444444444444,
                          "#bd3786"
                        ],
                        [
                          0.5555555555555556,
                          "#d8576b"
                        ],
                        [
                          0.6666666666666666,
                          "#ed7953"
                        ],
                        [
                          0.7777777777777778,
                          "#fb9f3a"
                        ],
                        [
                          0.8888888888888888,
                          "#fdca26"
                        ],
                        [
                          1,
                          "#f0f921"
                        ]
                      ],
                      "sequentialminus": [
                        [
                          0,
                          "#0d0887"
                        ],
                        [
                          0.1111111111111111,
                          "#46039f"
                        ],
                        [
                          0.2222222222222222,
                          "#7201a8"
                        ],
                        [
                          0.3333333333333333,
                          "#9c179e"
                        ],
                        [
                          0.4444444444444444,
                          "#bd3786"
                        ],
                        [
                          0.5555555555555556,
                          "#d8576b"
                        ],
                        [
                          0.6666666666666666,
                          "#ed7953"
                        ],
                        [
                          0.7777777777777778,
                          "#fb9f3a"
                        ],
                        [
                          0.8888888888888888,
                          "#fdca26"
                        ],
                        [
                          1,
                          "#f0f921"
                        ]
                      ]
                    },
                    "colorway": [
                      "#636efa",
                      "#EF553B",
                      "#00cc96",
                      "#ab63fa",
                      "#FFA15A",
                      "#19d3f3",
                      "#FF6692",
                      "#B6E880",
                      "#FF97FF",
                      "#FECB52"
                    ],
                    "font": {
                      "color": "#2a3f5f"
                    },
                    "geo": {
                      "bgcolor": "white",
                      "lakecolor": "white",
                      "landcolor": "#E5ECF6",
                      "showlakes": true,
                      "showland": true,
                      "subunitcolor": "white"
                    },
                    "hoverlabel": {
                      "align": "left"
                    },
                    "hovermode": "closest",
                    "mapbox": {
                      "style": "light"
                    },
                    "paper_bgcolor": "white",
                    "plot_bgcolor": "#E5ECF6",
                    "polar": {
                      "angularaxis": {
                        "gridcolor": "white",
                        "linecolor": "white",
                        "ticks": ""
                      },
                      "bgcolor": "#E5ECF6",
                      "radialaxis": {
                        "gridcolor": "white",
                        "linecolor": "white",
                        "ticks": ""
                      }
                    },
                    "scene": {
                      "xaxis": {
                        "backgroundcolor": "#E5ECF6",
                        "gridcolor": "white",
                        "gridwidth": 2,
                        "linecolor": "white",
                        "showbackground": true,
                        "ticks": "",
                        "zerolinecolor": "white"
                      },
                      "yaxis": {
                        "backgroundcolor": "#E5ECF6",
                        "gridcolor": "white",
                        "gridwidth": 2,
                        "linecolor": "white",
                        "showbackground": true,
                        "ticks": "",
                        "zerolinecolor": "white"
                      },
                      "zaxis": {
                        "backgroundcolor": "#E5ECF6",
                        "gridcolor": "white",
                        "gridwidth": 2,
                        "linecolor": "white",
                        "showbackground": true,
                        "ticks": "",
                        "zerolinecolor": "white"
                      }
                    },
                    "shapedefaults": {
                      "line": {
                        "color": "#2a3f5f"
                      }
                    },
                    "ternary": {
                      "aaxis": {
                        "gridcolor": "white",
                        "linecolor": "white",
                        "ticks": ""
                      },
                      "baxis": {
                        "gridcolor": "white",
                        "linecolor": "white",
                        "ticks": ""
                      },
                      "bgcolor": "#E5ECF6",
                      "caxis": {
                        "gridcolor": "white",
                        "linecolor": "white",
                        "ticks": ""
                      }
                    },
                    "title": {
                      "x": 0.05
                    },
                    "xaxis": {
                      "automargin": true,
                      "gridcolor": "white",
                      "linecolor": "white",
                      "ticks": "",
                      "title": {
                        "standoff": 15
                      },
                      "zerolinecolor": "white",
                      "zerolinewidth": 2
                    },
                    "yaxis": {
                      "automargin": true,
                      "gridcolor": "white",
                      "linecolor": "white",
                      "ticks": "",
                      "title": {
                        "standoff": 15
                      },
                      "zerolinecolor": "white",
                      "zerolinewidth": 2
                    }
                  }
                },
                "title": {
                  "text": "Slice Plot"
                },
                "xaxis": {
                  "anchor": "y",
                  "domain": [
                    0,
                    0.45
                  ],
                  "title": {
                    "text": "max_depth"
                  }
                },
                "xaxis2": {
                  "anchor": "y2",
                  "domain": [
                    0.55,
                    1
                  ],
                  "title": {
                    "text": "n_estimators"
                  }
                },
                "yaxis": {
                  "anchor": "x",
                  "domain": [
                    0,
                    1
                  ],
                  "title": {
                    "text": "Objective Value"
                  }
                },
                "yaxis2": {
                  "anchor": "x2",
                  "domain": [
                    0,
                    1
                  ],
                  "matches": "y",
                  "showticklabels": false
                }
              }
            }
          },
          "metadata": {},
          "output_type": "display_data"
        }
      ],
      "source": [
        "# 3. Slice Plot\n",
        "plot_slice(study).show()"
      ]
    },
    {
      "cell_type": "markdown",
      "metadata": {},
      "source": [
        "# **🗺️ Contour Plot**"
      ]
    },
    {
      "cell_type": "code",
      "execution_count": 14,
      "metadata": {
        "colab": {
          "base_uri": "https://localhost:8080/",
          "height": 542
        },
        "id": "b3u7VrCi5DPB",
        "outputId": "ae4fc6c9-e185-4268-9862-200405983cd6"
      },
      "outputs": [
        {
          "data": {
            "application/vnd.plotly.v1+json": {
              "config": {
                "plotlyServerURL": "https://plot.ly"
              },
              "data": [
                {
                  "colorbar": {
                    "title": {
                      "text": "Objective Value"
                    }
                  },
                  "colorscale": [
                    [
                      0,
                      "rgb(247,251,255)"
                    ],
                    [
                      0.125,
                      "rgb(222,235,247)"
                    ],
                    [
                      0.25,
                      "rgb(198,219,239)"
                    ],
                    [
                      0.375,
                      "rgb(158,202,225)"
                    ],
                    [
                      0.5,
                      "rgb(107,174,214)"
                    ],
                    [
                      0.625,
                      "rgb(66,146,198)"
                    ],
                    [
                      0.75,
                      "rgb(33,113,181)"
                    ],
                    [
                      0.875,
                      "rgb(8,81,156)"
                    ],
                    [
                      1,
                      "rgb(8,48,107)"
                    ]
                  ],
                  "connectgaps": true,
                  "contours": {
                    "coloring": "heatmap"
                  },
                  "hoverinfo": "none",
                  "line": {
                    "smoothing": 1.3
                  },
                  "reversescale": false,
                  "type": "contour",
                  "x": [
                    2.15,
                    3,
                    6,
                    9,
                    10,
                    11,
                    12,
                    13,
                    14,
                    15,
                    16,
                    17,
                    18,
                    19,
                    20,
                    20.85
                  ],
                  "y": [
                    42.6,
                    50,
                    55,
                    56,
                    60,
                    61,
                    66,
                    69,
                    71,
                    73,
                    75,
                    77,
                    79,
                    83,
                    84,
                    87,
                    92,
                    94,
                    97,
                    100,
                    103,
                    104,
                    106,
                    110,
                    114,
                    116,
                    118,
                    124,
                    129,
                    133,
                    137,
                    139,
                    140,
                    147,
                    149,
                    152,
                    159,
                    161,
                    167,
                    171,
                    175,
                    181,
                    182,
                    191,
                    198,
                    205.4
                  ],
                  "z": {
                    "bdata": "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",
                    "dtype": "f8",
                    "shape": "46, 16"
                  }
                },
                {
                  "marker": {
                    "color": "black",
                    "line": {
                      "color": "Gray",
                      "width": 2
                    }
                  },
                  "mode": "markers",
                  "name": "Feasible Trial",
                  "showlegend": false,
                  "type": "scatter",
                  "x": [
                    17,
                    16,
                    19,
                    12,
                    3,
                    20,
                    6,
                    14,
                    20,
                    17,
                    9,
                    16,
                    20,
                    14,
                    15,
                    11,
                    18,
                    12,
                    18,
                    9,
                    15,
                    17,
                    19,
                    20,
                    19,
                    18,
                    16,
                    19,
                    13,
                    16,
                    17,
                    19,
                    20,
                    20,
                    18,
                    18,
                    17,
                    3,
                    19,
                    15,
                    18,
                    18,
                    19,
                    20,
                    17,
                    16,
                    14,
                    18,
                    10,
                    20
                  ],
                  "y": [
                    103,
                    133,
                    60,
                    55,
                    198,
                    171,
                    71,
                    175,
                    161,
                    191,
                    129,
                    147,
                    110,
                    140,
                    167,
                    100,
                    149,
                    124,
                    181,
                    87,
                    129,
                    104,
                    87,
                    83,
                    116,
                    118,
                    159,
                    139,
                    114,
                    97,
                    182,
                    84,
                    75,
                    50,
                    69,
                    66,
                    66,
                    61,
                    92,
                    79,
                    73,
                    73,
                    75,
                    56,
                    106,
                    94,
                    77,
                    137,
                    118,
                    152
                  ]
                },
                {
                  "marker": {
                    "color": "#cccccc",
                    "line": {
                      "color": "Gray",
                      "width": 2
                    }
                  },
                  "mode": "markers",
                  "name": "Infeasible Trial",
                  "showlegend": false,
                  "type": "scatter",
                  "x": [],
                  "y": []
                }
              ],
              "layout": {
                "template": {
                  "data": {
                    "bar": [
                      {
                        "error_x": {
                          "color": "#2a3f5f"
                        },
                        "error_y": {
                          "color": "#2a3f5f"
                        },
                        "marker": {
                          "line": {
                            "color": "#E5ECF6",
                            "width": 0.5
                          },
                          "pattern": {
                            "fillmode": "overlay",
                            "size": 10,
                            "solidity": 0.2
                          }
                        },
                        "type": "bar"
                      }
                    ],
                    "barpolar": [
                      {
                        "marker": {
                          "line": {
                            "color": "#E5ECF6",
                            "width": 0.5
                          },
                          "pattern": {
                            "fillmode": "overlay",
                            "size": 10,
                            "solidity": 0.2
                          }
                        },
                        "type": "barpolar"
                      }
                    ],
                    "carpet": [
                      {
                        "aaxis": {
                          "endlinecolor": "#2a3f5f",
                          "gridcolor": "white",
                          "linecolor": "white",
                          "minorgridcolor": "white",
                          "startlinecolor": "#2a3f5f"
                        },
                        "baxis": {
                          "endlinecolor": "#2a3f5f",
                          "gridcolor": "white",
                          "linecolor": "white",
                          "minorgridcolor": "white",
                          "startlinecolor": "#2a3f5f"
                        },
                        "type": "carpet"
                      }
                    ],
                    "choropleth": [
                      {
                        "colorbar": {
                          "outlinewidth": 0,
                          "ticks": ""
                        },
                        "type": "choropleth"
                      }
                    ],
                    "contour": [
                      {
                        "colorbar": {
                          "outlinewidth": 0,
                          "ticks": ""
                        },
                        "colorscale": [
                          [
                            0,
                            "#0d0887"
                          ],
                          [
                            0.1111111111111111,
                            "#46039f"
                          ],
                          [
                            0.2222222222222222,
                            "#7201a8"
                          ],
                          [
                            0.3333333333333333,
                            "#9c179e"
                          ],
                          [
                            0.4444444444444444,
                            "#bd3786"
                          ],
                          [
                            0.5555555555555556,
                            "#d8576b"
                          ],
                          [
                            0.6666666666666666,
                            "#ed7953"
                          ],
                          [
                            0.7777777777777778,
                            "#fb9f3a"
                          ],
                          [
                            0.8888888888888888,
                            "#fdca26"
                          ],
                          [
                            1,
                            "#f0f921"
                          ]
                        ],
                        "type": "contour"
                      }
                    ],
                    "contourcarpet": [
                      {
                        "colorbar": {
                          "outlinewidth": 0,
                          "ticks": ""
                        },
                        "type": "contourcarpet"
                      }
                    ],
                    "heatmap": [
                      {
                        "colorbar": {
                          "outlinewidth": 0,
                          "ticks": ""
                        },
                        "colorscale": [
                          [
                            0,
                            "#0d0887"
                          ],
                          [
                            0.1111111111111111,
                            "#46039f"
                          ],
                          [
                            0.2222222222222222,
                            "#7201a8"
                          ],
                          [
                            0.3333333333333333,
                            "#9c179e"
                          ],
                          [
                            0.4444444444444444,
                            "#bd3786"
                          ],
                          [
                            0.5555555555555556,
                            "#d8576b"
                          ],
                          [
                            0.6666666666666666,
                            "#ed7953"
                          ],
                          [
                            0.7777777777777778,
                            "#fb9f3a"
                          ],
                          [
                            0.8888888888888888,
                            "#fdca26"
                          ],
                          [
                            1,
                            "#f0f921"
                          ]
                        ],
                        "type": "heatmap"
                      }
                    ],
                    "histogram": [
                      {
                        "marker": {
                          "pattern": {
                            "fillmode": "overlay",
                            "size": 10,
                            "solidity": 0.2
                          }
                        },
                        "type": "histogram"
                      }
                    ],
                    "histogram2d": [
                      {
                        "colorbar": {
                          "outlinewidth": 0,
                          "ticks": ""
                        },
                        "colorscale": [
                          [
                            0,
                            "#0d0887"
                          ],
                          [
                            0.1111111111111111,
                            "#46039f"
                          ],
                          [
                            0.2222222222222222,
                            "#7201a8"
                          ],
                          [
                            0.3333333333333333,
                            "#9c179e"
                          ],
                          [
                            0.4444444444444444,
                            "#bd3786"
                          ],
                          [
                            0.5555555555555556,
                            "#d8576b"
                          ],
                          [
                            0.6666666666666666,
                            "#ed7953"
                          ],
                          [
                            0.7777777777777778,
                            "#fb9f3a"
                          ],
                          [
                            0.8888888888888888,
                            "#fdca26"
                          ],
                          [
                            1,
                            "#f0f921"
                          ]
                        ],
                        "type": "histogram2d"
                      }
                    ],
                    "histogram2dcontour": [
                      {
                        "colorbar": {
                          "outlinewidth": 0,
                          "ticks": ""
                        },
                        "colorscale": [
                          [
                            0,
                            "#0d0887"
                          ],
                          [
                            0.1111111111111111,
                            "#46039f"
                          ],
                          [
                            0.2222222222222222,
                            "#7201a8"
                          ],
                          [
                            0.3333333333333333,
                            "#9c179e"
                          ],
                          [
                            0.4444444444444444,
                            "#bd3786"
                          ],
                          [
                            0.5555555555555556,
                            "#d8576b"
                          ],
                          [
                            0.6666666666666666,
                            "#ed7953"
                          ],
                          [
                            0.7777777777777778,
                            "#fb9f3a"
                          ],
                          [
                            0.8888888888888888,
                            "#fdca26"
                          ],
                          [
                            1,
                            "#f0f921"
                          ]
                        ],
                        "type": "histogram2dcontour"
                      }
                    ],
                    "mesh3d": [
                      {
                        "colorbar": {
                          "outlinewidth": 0,
                          "ticks": ""
                        },
                        "type": "mesh3d"
                      }
                    ],
                    "parcoords": [
                      {
                        "line": {
                          "colorbar": {
                            "outlinewidth": 0,
                            "ticks": ""
                          }
                        },
                        "type": "parcoords"
                      }
                    ],
                    "pie": [
                      {
                        "automargin": true,
                        "type": "pie"
                      }
                    ],
                    "scatter": [
                      {
                        "fillpattern": {
                          "fillmode": "overlay",
                          "size": 10,
                          "solidity": 0.2
                        },
                        "type": "scatter"
                      }
                    ],
                    "scatter3d": [
                      {
                        "line": {
                          "colorbar": {
                            "outlinewidth": 0,
                            "ticks": ""
                          }
                        },
                        "marker": {
                          "colorbar": {
                            "outlinewidth": 0,
                            "ticks": ""
                          }
                        },
                        "type": "scatter3d"
                      }
                    ],
                    "scattercarpet": [
                      {
                        "marker": {
                          "colorbar": {
                            "outlinewidth": 0,
                            "ticks": ""
                          }
                        },
                        "type": "scattercarpet"
                      }
                    ],
                    "scattergeo": [
                      {
                        "marker": {
                          "colorbar": {
                            "outlinewidth": 0,
                            "ticks": ""
                          }
                        },
                        "type": "scattergeo"
                      }
                    ],
                    "scattergl": [
                      {
                        "marker": {
                          "colorbar": {
                            "outlinewidth": 0,
                            "ticks": ""
                          }
                        },
                        "type": "scattergl"
                      }
                    ],
                    "scattermap": [
                      {
                        "marker": {
                          "colorbar": {
                            "outlinewidth": 0,
                            "ticks": ""
                          }
                        },
                        "type": "scattermap"
                      }
                    ],
                    "scattermapbox": [
                      {
                        "marker": {
                          "colorbar": {
                            "outlinewidth": 0,
                            "ticks": ""
                          }
                        },
                        "type": "scattermapbox"
                      }
                    ],
                    "scatterpolar": [
                      {
                        "marker": {
                          "colorbar": {
                            "outlinewidth": 0,
                            "ticks": ""
                          }
                        },
                        "type": "scatterpolar"
                      }
                    ],
                    "scatterpolargl": [
                      {
                        "marker": {
                          "colorbar": {
                            "outlinewidth": 0,
                            "ticks": ""
                          }
                        },
                        "type": "scatterpolargl"
                      }
                    ],
                    "scatterternary": [
                      {
                        "marker": {
                          "colorbar": {
                            "outlinewidth": 0,
                            "ticks": ""
                          }
                        },
                        "type": "scatterternary"
                      }
                    ],
                    "surface": [
                      {
                        "colorbar": {
                          "outlinewidth": 0,
                          "ticks": ""
                        },
                        "colorscale": [
                          [
                            0,
                            "#0d0887"
                          ],
                          [
                            0.1111111111111111,
                            "#46039f"
                          ],
                          [
                            0.2222222222222222,
                            "#7201a8"
                          ],
                          [
                            0.3333333333333333,
                            "#9c179e"
                          ],
                          [
                            0.4444444444444444,
                            "#bd3786"
                          ],
                          [
                            0.5555555555555556,
                            "#d8576b"
                          ],
                          [
                            0.6666666666666666,
                            "#ed7953"
                          ],
                          [
                            0.7777777777777778,
                            "#fb9f3a"
                          ],
                          [
                            0.8888888888888888,
                            "#fdca26"
                          ],
                          [
                            1,
                            "#f0f921"
                          ]
                        ],
                        "type": "surface"
                      }
                    ],
                    "table": [
                      {
                        "cells": {
                          "fill": {
                            "color": "#EBF0F8"
                          },
                          "line": {
                            "color": "white"
                          }
                        },
                        "header": {
                          "fill": {
                            "color": "#C8D4E3"
                          },
                          "line": {
                            "color": "white"
                          }
                        },
                        "type": "table"
                      }
                    ]
                  },
                  "layout": {
                    "annotationdefaults": {
                      "arrowcolor": "#2a3f5f",
                      "arrowhead": 0,
                      "arrowwidth": 1
                    },
                    "autotypenumbers": "strict",
                    "coloraxis": {
                      "colorbar": {
                        "outlinewidth": 0,
                        "ticks": ""
                      }
                    },
                    "colorscale": {
                      "diverging": [
                        [
                          0,
                          "#8e0152"
                        ],
                        [
                          0.1,
                          "#c51b7d"
                        ],
                        [
                          0.2,
                          "#de77ae"
                        ],
                        [
                          0.3,
                          "#f1b6da"
                        ],
                        [
                          0.4,
                          "#fde0ef"
                        ],
                        [
                          0.5,
                          "#f7f7f7"
                        ],
                        [
                          0.6,
                          "#e6f5d0"
                        ],
                        [
                          0.7,
                          "#b8e186"
                        ],
                        [
                          0.8,
                          "#7fbc41"
                        ],
                        [
                          0.9,
                          "#4d9221"
                        ],
                        [
                          1,
                          "#276419"
                        ]
                      ],
                      "sequential": [
                        [
                          0,
                          "#0d0887"
                        ],
                        [
                          0.1111111111111111,
                          "#46039f"
                        ],
                        [
                          0.2222222222222222,
                          "#7201a8"
                        ],
                        [
                          0.3333333333333333,
                          "#9c179e"
                        ],
                        [
                          0.4444444444444444,
                          "#bd3786"
                        ],
                        [
                          0.5555555555555556,
                          "#d8576b"
                        ],
                        [
                          0.6666666666666666,
                          "#ed7953"
                        ],
                        [
                          0.7777777777777778,
                          "#fb9f3a"
                        ],
                        [
                          0.8888888888888888,
                          "#fdca26"
                        ],
                        [
                          1,
                          "#f0f921"
                        ]
                      ],
                      "sequentialminus": [
                        [
                          0,
                          "#0d0887"
                        ],
                        [
                          0.1111111111111111,
                          "#46039f"
                        ],
                        [
                          0.2222222222222222,
                          "#7201a8"
                        ],
                        [
                          0.3333333333333333,
                          "#9c179e"
                        ],
                        [
                          0.4444444444444444,
                          "#bd3786"
                        ],
                        [
                          0.5555555555555556,
                          "#d8576b"
                        ],
                        [
                          0.6666666666666666,
                          "#ed7953"
                        ],
                        [
                          0.7777777777777778,
                          "#fb9f3a"
                        ],
                        [
                          0.8888888888888888,
                          "#fdca26"
                        ],
                        [
                          1,
                          "#f0f921"
                        ]
                      ]
                    },
                    "colorway": [
                      "#636efa",
                      "#EF553B",
                      "#00cc96",
                      "#ab63fa",
                      "#FFA15A",
                      "#19d3f3",
                      "#FF6692",
                      "#B6E880",
                      "#FF97FF",
                      "#FECB52"
                    ],
                    "font": {
                      "color": "#2a3f5f"
                    },
                    "geo": {
                      "bgcolor": "white",
                      "lakecolor": "white",
                      "landcolor": "#E5ECF6",
                      "showlakes": true,
                      "showland": true,
                      "subunitcolor": "white"
                    },
                    "hoverlabel": {
                      "align": "left"
                    },
                    "hovermode": "closest",
                    "mapbox": {
                      "style": "light"
                    },
                    "paper_bgcolor": "white",
                    "plot_bgcolor": "#E5ECF6",
                    "polar": {
                      "angularaxis": {
                        "gridcolor": "white",
                        "linecolor": "white",
                        "ticks": ""
                      },
                      "bgcolor": "#E5ECF6",
                      "radialaxis": {
                        "gridcolor": "white",
                        "linecolor": "white",
                        "ticks": ""
                      }
                    },
                    "scene": {
                      "xaxis": {
                        "backgroundcolor": "#E5ECF6",
                        "gridcolor": "white",
                        "gridwidth": 2,
                        "linecolor": "white",
                        "showbackground": true,
                        "ticks": "",
                        "zerolinecolor": "white"
                      },
                      "yaxis": {
                        "backgroundcolor": "#E5ECF6",
                        "gridcolor": "white",
                        "gridwidth": 2,
                        "linecolor": "white",
                        "showbackground": true,
                        "ticks": "",
                        "zerolinecolor": "white"
                      },
                      "zaxis": {
                        "backgroundcolor": "#E5ECF6",
                        "gridcolor": "white",
                        "gridwidth": 2,
                        "linecolor": "white",
                        "showbackground": true,
                        "ticks": "",
                        "zerolinecolor": "white"
                      }
                    },
                    "shapedefaults": {
                      "line": {
                        "color": "#2a3f5f"
                      }
                    },
                    "ternary": {
                      "aaxis": {
                        "gridcolor": "white",
                        "linecolor": "white",
                        "ticks": ""
                      },
                      "baxis": {
                        "gridcolor": "white",
                        "linecolor": "white",
                        "ticks": ""
                      },
                      "bgcolor": "#E5ECF6",
                      "caxis": {
                        "gridcolor": "white",
                        "linecolor": "white",
                        "ticks": ""
                      }
                    },
                    "title": {
                      "x": 0.05
                    },
                    "xaxis": {
                      "automargin": true,
                      "gridcolor": "white",
                      "linecolor": "white",
                      "ticks": "",
                      "title": {
                        "standoff": 15
                      },
                      "zerolinecolor": "white",
                      "zerolinewidth": 2
                    },
                    "yaxis": {
                      "automargin": true,
                      "gridcolor": "white",
                      "linecolor": "white",
                      "ticks": "",
                      "title": {
                        "standoff": 15
                      },
                      "zerolinecolor": "white",
                      "zerolinewidth": 2
                    }
                  }
                },
                "title": {
                  "text": "Contour Plot"
                },
                "xaxis": {
                  "range": [
                    2.15,
                    20.85
                  ],
                  "title": {
                    "text": "max_depth"
                  }
                },
                "yaxis": {
                  "range": [
                    42.6,
                    205.4
                  ],
                  "title": {
                    "text": "n_estimators"
                  }
                }
              }
            }
          },
          "metadata": {},
          "output_type": "display_data"
        }
      ],
      "source": [
        "# 4. Contour Plot\n",
        "plot_contour(study).show()"
      ]
    },
    {
      "cell_type": "markdown",
      "metadata": {},
      "source": [
        "# **⭐ Hyperparameter Importance Plot**"
      ]
    },
    {
      "cell_type": "code",
      "execution_count": 15,
      "metadata": {
        "colab": {
          "base_uri": "https://localhost:8080/",
          "height": 542
        },
        "id": "Iw7pTZf_5JPp",
        "outputId": "90ac31cb-1e15-400f-adb6-542a0b301f0a"
      },
      "outputs": [
        {
          "data": {
            "application/vnd.plotly.v1+json": {
              "config": {
                "plotlyServerURL": "https://plot.ly"
              },
              "data": [
                {
                  "cliponaxis": false,
                  "hovertemplate": [
                    "n_estimators (IntDistribution): 0.18833939035995959<extra></extra>",
                    "max_depth (IntDistribution): 0.8116606096400404<extra></extra>"
                  ],
                  "name": "Objective Value",
                  "orientation": "h",
                  "text": [
                    "0.19",
                    "0.81"
                  ],
                  "textposition": "outside",
                  "type": "bar",
                  "x": [
                    0.18833939035995959,
                    0.8116606096400404
                  ],
                  "y": [
                    "n_estimators",
                    "max_depth"
                  ]
                }
              ],
              "layout": {
                "template": {
                  "data": {
                    "bar": [
                      {
                        "error_x": {
                          "color": "#2a3f5f"
                        },
                        "error_y": {
                          "color": "#2a3f5f"
                        },
                        "marker": {
                          "line": {
                            "color": "#E5ECF6",
                            "width": 0.5
                          },
                          "pattern": {
                            "fillmode": "overlay",
                            "size": 10,
                            "solidity": 0.2
                          }
                        },
                        "type": "bar"
                      }
                    ],
                    "barpolar": [
                      {
                        "marker": {
                          "line": {
                            "color": "#E5ECF6",
                            "width": 0.5
                          },
                          "pattern": {
                            "fillmode": "overlay",
                            "size": 10,
                            "solidity": 0.2
                          }
                        },
                        "type": "barpolar"
                      }
                    ],
                    "carpet": [
                      {
                        "aaxis": {
                          "endlinecolor": "#2a3f5f",
                          "gridcolor": "white",
                          "linecolor": "white",
                          "minorgridcolor": "white",
                          "startlinecolor": "#2a3f5f"
                        },
                        "baxis": {
                          "endlinecolor": "#2a3f5f",
                          "gridcolor": "white",
                          "linecolor": "white",
                          "minorgridcolor": "white",
                          "startlinecolor": "#2a3f5f"
                        },
                        "type": "carpet"
                      }
                    ],
                    "choropleth": [
                      {
                        "colorbar": {
                          "outlinewidth": 0,
                          "ticks": ""
                        },
                        "type": "choropleth"
                      }
                    ],
                    "contour": [
                      {
                        "colorbar": {
                          "outlinewidth": 0,
                          "ticks": ""
                        },
                        "colorscale": [
                          [
                            0,
                            "#0d0887"
                          ],
                          [
                            0.1111111111111111,
                            "#46039f"
                          ],
                          [
                            0.2222222222222222,
                            "#7201a8"
                          ],
                          [
                            0.3333333333333333,
                            "#9c179e"
                          ],
                          [
                            0.4444444444444444,
                            "#bd3786"
                          ],
                          [
                            0.5555555555555556,
                            "#d8576b"
                          ],
                          [
                            0.6666666666666666,
                            "#ed7953"
                          ],
                          [
                            0.7777777777777778,
                            "#fb9f3a"
                          ],
                          [
                            0.8888888888888888,
                            "#fdca26"
                          ],
                          [
                            1,
                            "#f0f921"
                          ]
                        ],
                        "type": "contour"
                      }
                    ],
                    "contourcarpet": [
                      {
                        "colorbar": {
                          "outlinewidth": 0,
                          "ticks": ""
                        },
                        "type": "contourcarpet"
                      }
                    ],
                    "heatmap": [
                      {
                        "colorbar": {
                          "outlinewidth": 0,
                          "ticks": ""
                        },
                        "colorscale": [
                          [
                            0,
                            "#0d0887"
                          ],
                          [
                            0.1111111111111111,
                            "#46039f"
                          ],
                          [
                            0.2222222222222222,
                            "#7201a8"
                          ],
                          [
                            0.3333333333333333,
                            "#9c179e"
                          ],
                          [
                            0.4444444444444444,
                            "#bd3786"
                          ],
                          [
                            0.5555555555555556,
                            "#d8576b"
                          ],
                          [
                            0.6666666666666666,
                            "#ed7953"
                          ],
                          [
                            0.7777777777777778,
                            "#fb9f3a"
                          ],
                          [
                            0.8888888888888888,
                            "#fdca26"
                          ],
                          [
                            1,
                            "#f0f921"
                          ]
                        ],
                        "type": "heatmap"
                      }
                    ],
                    "histogram": [
                      {
                        "marker": {
                          "pattern": {
                            "fillmode": "overlay",
                            "size": 10,
                            "solidity": 0.2
                          }
                        },
                        "type": "histogram"
                      }
                    ],
                    "histogram2d": [
                      {
                        "colorbar": {
                          "outlinewidth": 0,
                          "ticks": ""
                        },
                        "colorscale": [
                          [
                            0,
                            "#0d0887"
                          ],
                          [
                            0.1111111111111111,
                            "#46039f"
                          ],
                          [
                            0.2222222222222222,
                            "#7201a8"
                          ],
                          [
                            0.3333333333333333,
                            "#9c179e"
                          ],
                          [
                            0.4444444444444444,
                            "#bd3786"
                          ],
                          [
                            0.5555555555555556,
                            "#d8576b"
                          ],
                          [
                            0.6666666666666666,
                            "#ed7953"
                          ],
                          [
                            0.7777777777777778,
                            "#fb9f3a"
                          ],
                          [
                            0.8888888888888888,
                            "#fdca26"
                          ],
                          [
                            1,
                            "#f0f921"
                          ]
                        ],
                        "type": "histogram2d"
                      }
                    ],
                    "histogram2dcontour": [
                      {
                        "colorbar": {
                          "outlinewidth": 0,
                          "ticks": ""
                        },
                        "colorscale": [
                          [
                            0,
                            "#0d0887"
                          ],
                          [
                            0.1111111111111111,
                            "#46039f"
                          ],
                          [
                            0.2222222222222222,
                            "#7201a8"
                          ],
                          [
                            0.3333333333333333,
                            "#9c179e"
                          ],
                          [
                            0.4444444444444444,
                            "#bd3786"
                          ],
                          [
                            0.5555555555555556,
                            "#d8576b"
                          ],
                          [
                            0.6666666666666666,
                            "#ed7953"
                          ],
                          [
                            0.7777777777777778,
                            "#fb9f3a"
                          ],
                          [
                            0.8888888888888888,
                            "#fdca26"
                          ],
                          [
                            1,
                            "#f0f921"
                          ]
                        ],
                        "type": "histogram2dcontour"
                      }
                    ],
                    "mesh3d": [
                      {
                        "colorbar": {
                          "outlinewidth": 0,
                          "ticks": ""
                        },
                        "type": "mesh3d"
                      }
                    ],
                    "parcoords": [
                      {
                        "line": {
                          "colorbar": {
                            "outlinewidth": 0,
                            "ticks": ""
                          }
                        },
                        "type": "parcoords"
                      }
                    ],
                    "pie": [
                      {
                        "automargin": true,
                        "type": "pie"
                      }
                    ],
                    "scatter": [
                      {
                        "fillpattern": {
                          "fillmode": "overlay",
                          "size": 10,
                          "solidity": 0.2
                        },
                        "type": "scatter"
                      }
                    ],
                    "scatter3d": [
                      {
                        "line": {
                          "colorbar": {
                            "outlinewidth": 0,
                            "ticks": ""
                          }
                        },
                        "marker": {
                          "colorbar": {
                            "outlinewidth": 0,
                            "ticks": ""
                          }
                        },
                        "type": "scatter3d"
                      }
                    ],
                    "scattercarpet": [
                      {
                        "marker": {
                          "colorbar": {
                            "outlinewidth": 0,
                            "ticks": ""
                          }
                        },
                        "type": "scattercarpet"
                      }
                    ],
                    "scattergeo": [
                      {
                        "marker": {
                          "colorbar": {
                            "outlinewidth": 0,
                            "ticks": ""
                          }
                        },
                        "type": "scattergeo"
                      }
                    ],
                    "scattergl": [
                      {
                        "marker": {
                          "colorbar": {
                            "outlinewidth": 0,
                            "ticks": ""
                          }
                        },
                        "type": "scattergl"
                      }
                    ],
                    "scattermap": [
                      {
                        "marker": {
                          "colorbar": {
                            "outlinewidth": 0,
                            "ticks": ""
                          }
                        },
                        "type": "scattermap"
                      }
                    ],
                    "scattermapbox": [
                      {
                        "marker": {
                          "colorbar": {
                            "outlinewidth": 0,
                            "ticks": ""
                          }
                        },
                        "type": "scattermapbox"
                      }
                    ],
                    "scatterpolar": [
                      {
                        "marker": {
                          "colorbar": {
                            "outlinewidth": 0,
                            "ticks": ""
                          }
                        },
                        "type": "scatterpolar"
                      }
                    ],
                    "scatterpolargl": [
                      {
                        "marker": {
                          "colorbar": {
                            "outlinewidth": 0,
                            "ticks": ""
                          }
                        },
                        "type": "scatterpolargl"
                      }
                    ],
                    "scatterternary": [
                      {
                        "marker": {
                          "colorbar": {
                            "outlinewidth": 0,
                            "ticks": ""
                          }
                        },
                        "type": "scatterternary"
                      }
                    ],
                    "surface": [
                      {
                        "colorbar": {
                          "outlinewidth": 0,
                          "ticks": ""
                        },
                        "colorscale": [
                          [
                            0,
                            "#0d0887"
                          ],
                          [
                            0.1111111111111111,
                            "#46039f"
                          ],
                          [
                            0.2222222222222222,
                            "#7201a8"
                          ],
                          [
                            0.3333333333333333,
                            "#9c179e"
                          ],
                          [
                            0.4444444444444444,
                            "#bd3786"
                          ],
                          [
                            0.5555555555555556,
                            "#d8576b"
                          ],
                          [
                            0.6666666666666666,
                            "#ed7953"
                          ],
                          [
                            0.7777777777777778,
                            "#fb9f3a"
                          ],
                          [
                            0.8888888888888888,
                            "#fdca26"
                          ],
                          [
                            1,
                            "#f0f921"
                          ]
                        ],
                        "type": "surface"
                      }
                    ],
                    "table": [
                      {
                        "cells": {
                          "fill": {
                            "color": "#EBF0F8"
                          },
                          "line": {
                            "color": "white"
                          }
                        },
                        "header": {
                          "fill": {
                            "color": "#C8D4E3"
                          },
                          "line": {
                            "color": "white"
                          }
                        },
                        "type": "table"
                      }
                    ]
                  },
                  "layout": {
                    "annotationdefaults": {
                      "arrowcolor": "#2a3f5f",
                      "arrowhead": 0,
                      "arrowwidth": 1
                    },
                    "autotypenumbers": "strict",
                    "coloraxis": {
                      "colorbar": {
                        "outlinewidth": 0,
                        "ticks": ""
                      }
                    },
                    "colorscale": {
                      "diverging": [
                        [
                          0,
                          "#8e0152"
                        ],
                        [
                          0.1,
                          "#c51b7d"
                        ],
                        [
                          0.2,
                          "#de77ae"
                        ],
                        [
                          0.3,
                          "#f1b6da"
                        ],
                        [
                          0.4,
                          "#fde0ef"
                        ],
                        [
                          0.5,
                          "#f7f7f7"
                        ],
                        [
                          0.6,
                          "#e6f5d0"
                        ],
                        [
                          0.7,
                          "#b8e186"
                        ],
                        [
                          0.8,
                          "#7fbc41"
                        ],
                        [
                          0.9,
                          "#4d9221"
                        ],
                        [
                          1,
                          "#276419"
                        ]
                      ],
                      "sequential": [
                        [
                          0,
                          "#0d0887"
                        ],
                        [
                          0.1111111111111111,
                          "#46039f"
                        ],
                        [
                          0.2222222222222222,
                          "#7201a8"
                        ],
                        [
                          0.3333333333333333,
                          "#9c179e"
                        ],
                        [
                          0.4444444444444444,
                          "#bd3786"
                        ],
                        [
                          0.5555555555555556,
                          "#d8576b"
                        ],
                        [
                          0.6666666666666666,
                          "#ed7953"
                        ],
                        [
                          0.7777777777777778,
                          "#fb9f3a"
                        ],
                        [
                          0.8888888888888888,
                          "#fdca26"
                        ],
                        [
                          1,
                          "#f0f921"
                        ]
                      ],
                      "sequentialminus": [
                        [
                          0,
                          "#0d0887"
                        ],
                        [
                          0.1111111111111111,
                          "#46039f"
                        ],
                        [
                          0.2222222222222222,
                          "#7201a8"
                        ],
                        [
                          0.3333333333333333,
                          "#9c179e"
                        ],
                        [
                          0.4444444444444444,
                          "#bd3786"
                        ],
                        [
                          0.5555555555555556,
                          "#d8576b"
                        ],
                        [
                          0.6666666666666666,
                          "#ed7953"
                        ],
                        [
                          0.7777777777777778,
                          "#fb9f3a"
                        ],
                        [
                          0.8888888888888888,
                          "#fdca26"
                        ],
                        [
                          1,
                          "#f0f921"
                        ]
                      ]
                    },
                    "colorway": [
                      "#636efa",
                      "#EF553B",
                      "#00cc96",
                      "#ab63fa",
                      "#FFA15A",
                      "#19d3f3",
                      "#FF6692",
                      "#B6E880",
                      "#FF97FF",
                      "#FECB52"
                    ],
                    "font": {
                      "color": "#2a3f5f"
                    },
                    "geo": {
                      "bgcolor": "white",
                      "lakecolor": "white",
                      "landcolor": "#E5ECF6",
                      "showlakes": true,
                      "showland": true,
                      "subunitcolor": "white"
                    },
                    "hoverlabel": {
                      "align": "left"
                    },
                    "hovermode": "closest",
                    "mapbox": {
                      "style": "light"
                    },
                    "paper_bgcolor": "white",
                    "plot_bgcolor": "#E5ECF6",
                    "polar": {
                      "angularaxis": {
                        "gridcolor": "white",
                        "linecolor": "white",
                        "ticks": ""
                      },
                      "bgcolor": "#E5ECF6",
                      "radialaxis": {
                        "gridcolor": "white",
                        "linecolor": "white",
                        "ticks": ""
                      }
                    },
                    "scene": {
                      "xaxis": {
                        "backgroundcolor": "#E5ECF6",
                        "gridcolor": "white",
                        "gridwidth": 2,
                        "linecolor": "white",
                        "showbackground": true,
                        "ticks": "",
                        "zerolinecolor": "white"
                      },
                      "yaxis": {
                        "backgroundcolor": "#E5ECF6",
                        "gridcolor": "white",
                        "gridwidth": 2,
                        "linecolor": "white",
                        "showbackground": true,
                        "ticks": "",
                        "zerolinecolor": "white"
                      },
                      "zaxis": {
                        "backgroundcolor": "#E5ECF6",
                        "gridcolor": "white",
                        "gridwidth": 2,
                        "linecolor": "white",
                        "showbackground": true,
                        "ticks": "",
                        "zerolinecolor": "white"
                      }
                    },
                    "shapedefaults": {
                      "line": {
                        "color": "#2a3f5f"
                      }
                    },
                    "ternary": {
                      "aaxis": {
                        "gridcolor": "white",
                        "linecolor": "white",
                        "ticks": ""
                      },
                      "baxis": {
                        "gridcolor": "white",
                        "linecolor": "white",
                        "ticks": ""
                      },
                      "bgcolor": "#E5ECF6",
                      "caxis": {
                        "gridcolor": "white",
                        "linecolor": "white",
                        "ticks": ""
                      }
                    },
                    "title": {
                      "x": 0.05
                    },
                    "xaxis": {
                      "automargin": true,
                      "gridcolor": "white",
                      "linecolor": "white",
                      "ticks": "",
                      "title": {
                        "standoff": 15
                      },
                      "zerolinecolor": "white",
                      "zerolinewidth": 2
                    },
                    "yaxis": {
                      "automargin": true,
                      "gridcolor": "white",
                      "linecolor": "white",
                      "ticks": "",
                      "title": {
                        "standoff": 15
                      },
                      "zerolinecolor": "white",
                      "zerolinewidth": 2
                    }
                  }
                },
                "title": {
                  "text": "Hyperparameter Importances"
                },
                "xaxis": {
                  "title": {
                    "text": "Hyperparameter Importance"
                  }
                },
                "yaxis": {
                  "title": {
                    "text": "Hyperparameter"
                  }
                }
              }
            }
          },
          "metadata": {},
          "output_type": "display_data"
        }
      ],
      "source": [
        "# 5. Hyperparameter Importance\n",
        "plot_param_importances(study).show()"
      ]
    },
    {
      "cell_type": "markdown",
      "metadata": {},
      "source": [
        "# **🤖 Optimize Multiple Classifiers with Optuna**"
      ]
    },
    {
      "cell_type": "code",
      "execution_count": 23,
      "metadata": {
        "id": "HJ81Ws4uBrD3"
      },
      "outputs": [],
      "source": [
        "# Importing the required libraries\n",
        "from sklearn.ensemble import RandomForestClassifier, GradientBoostingClassifier\n",
        "from sklearn.svm import SVC"
      ]
    },
    {
      "cell_type": "code",
      "execution_count": null,
      "metadata": {
        "id": "bbHIIH8s5O8Z"
      },
      "outputs": [],
      "source": [
        "# Define the objective function for Optuna\n",
        "def objective(trial):\n",
        "    # Choose the algorithm to tune\n",
        "    classifier_name = trial.suggest_categorical(\n",
        "        'classifier',\n",
        "        ['SVM', 'RandomForest', 'GradientBoosting']\n",
        "    )\n",
        "\n",
        "    if classifier_name == 'SVM':\n",
        "        # SVM hyperparameters\n",
        "        c = trial.suggest_float('C', 0.1, 100, log=True)\n",
        "\n",
        "\n",
        "        kernel = trial.suggest_categorical(\n",
        "            'kernel',\n",
        "            ['linear', 'rbf', 'poly', 'sigmoid']\n",
        "        )\n",
        "\n",
        "        gamma = trial.suggest_categorical('gamma', ['scale', 'auto'])\n",
        "\n",
        "        model = SVC(\n",
        "            C=c, \n",
        "            kernel=kernel, \n",
        "            gamma=gamma, \n",
        "            random_state=42\n",
        "        )\n",
        "        \n",
        "\n",
        "    elif classifier_name == 'RandomForest':\n",
        "        # Random Forest hyperparameters\n",
        "        n_estimators = trial.suggest_int('n_estimators', 50, 300)\n",
        "        max_depth = trial.suggest_int('max_depth', 3, 20)\n",
        "        min_samples_split = trial.suggest_int('min_samples_split', 2, 10)\n",
        "        min_samples_leaf = trial.suggest_int('min_samples_leaf', 1, 10)\n",
        "        bootstrap = trial.suggest_categorical('bootstrap', [True, False])\n",
        "\n",
        "        model = RandomForestClassifier(\n",
        "            n_estimators=n_estimators,\n",
        "            max_depth=max_depth,\n",
        "            min_samples_split=min_samples_split,\n",
        "            min_samples_leaf=min_samples_leaf,\n",
        "            bootstrap=bootstrap,\n",
        "            random_state=42\n",
        "        )\n",
        "        \n",
        "\n",
        "    elif classifier_name == 'GradientBoosting':\n",
        "        # Gradient Boosting hyperparameters\n",
        "        n_estimators = trial.suggest_int('n_estimators', 50, 300)\n",
        "        learning_rate = trial.suggest_float('learning_rate', 0.01, 0.3, log=True)\n",
        "        max_depth = trial.suggest_int('max_depth', 3, 20)\n",
        "        min_samples_split = trial.suggest_int('min_samples_split', 2, 10)\n",
        "        min_samples_leaf = trial.suggest_int('min_samples_leaf', 1, 10)\n",
        "\n",
        "        model = GradientBoostingClassifier(\n",
        "            n_estimators=n_estimators,\n",
        "            learning_rate=learning_rate,\n",
        "            max_depth=max_depth,\n",
        "            min_samples_split=min_samples_split,\n",
        "            min_samples_leaf=min_samples_leaf,\n",
        "            random_state=42\n",
        "        )\n",
        "\n",
        "\n",
        "\n",
        "    # Perform cross-validation and return the mean accuracy\n",
        "    score = cross_val_score(\n",
        "        model,\n",
        "        X_train,\n",
        "        y_train,\n",
        "        cv=3,\n",
        "        scoring='accuracy'\n",
        "    ).mean()\n",
        "\n",
        "\n",
        "    return score"
      ]
    },
    {
      "cell_type": "code",
      "execution_count": 25,
      "metadata": {
        "colab": {
          "base_uri": "https://localhost:8080/",
          "height": 0
        },
        "id": "lP_GVCWxBf60",
        "outputId": "057bec39-5049-4c28-c619-226c490ea4b9"
      },
      "outputs": [
        {
          "name": "stderr",
          "output_type": "stream",
          "text": [
            "[I 2025-09-13 01:28:32,122] A new study created in memory with name: no-name-a80fe11e-19ed-478f-aac7-ae2d0e3b0b2d\n",
            "[I 2025-09-13 01:28:35,246] Trial 0 finished with value: 0.7690875232774674 and parameters: {'classifier': 'GradientBoosting', 'n_estimators': 126, 'learning_rate': 0.01886066265895101, 'max_depth': 5, 'min_samples_split': 3, 'min_samples_leaf': 2}. Best is trial 0 with value: 0.7690875232774674.\n",
            "[I 2025-09-13 01:28:37,151] Trial 1 finished with value: 0.7597765363128491 and parameters: {'classifier': 'RandomForest', 'n_estimators': 176, 'max_depth': 19, 'min_samples_split': 3, 'min_samples_leaf': 9, 'bootstrap': True}. Best is trial 0 with value: 0.7690875232774674.\n",
            "[I 2025-09-13 01:28:38,457] Trial 2 finished with value: 0.7783985102420857 and parameters: {'classifier': 'RandomForest', 'n_estimators': 153, 'max_depth': 13, 'min_samples_split': 2, 'min_samples_leaf': 9, 'bootstrap': False}. Best is trial 2 with value: 0.7783985102420857.\n",
            "[I 2025-09-13 01:28:38,529] Trial 3 finished with value: 0.6983240223463687 and parameters: {'classifier': 'SVM', 'C': 18.93880560315681, 'kernel': 'sigmoid', 'gamma': 'scale'}. Best is trial 2 with value: 0.7783985102420857.\n",
            "[I 2025-09-13 01:28:41,717] Trial 4 finished with value: 0.7765363128491621 and parameters: {'classifier': 'GradientBoosting', 'n_estimators': 199, 'learning_rate': 0.013235726827246243, 'max_depth': 7, 'min_samples_split': 10, 'min_samples_leaf': 9}. Best is trial 2 with value: 0.7783985102420857.\n",
            "[I 2025-09-13 01:28:41,779] Trial 5 finished with value: 0.7653631284916201 and parameters: {'classifier': 'SVM', 'C': 0.19958119703569244, 'kernel': 'rbf', 'gamma': 'scale'}. Best is trial 2 with value: 0.7783985102420857.\n",
            "[I 2025-09-13 01:28:43,425] Trial 6 finished with value: 0.7690875232774674 and parameters: {'classifier': 'RandomForest', 'n_estimators': 201, 'max_depth': 8, 'min_samples_split': 4, 'min_samples_leaf': 8, 'bootstrap': False}. Best is trial 2 with value: 0.7783985102420857.\n",
            "[I 2025-09-13 01:28:44,680] Trial 7 finished with value: 0.7579143389199255 and parameters: {'classifier': 'GradientBoosting', 'n_estimators': 149, 'learning_rate': 0.051617252108807805, 'max_depth': 4, 'min_samples_split': 3, 'min_samples_leaf': 8}. Best is trial 2 with value: 0.7783985102420857.\n",
            "[I 2025-09-13 01:28:44,711] Trial 8 finished with value: 0.7001862197392924 and parameters: {'classifier': 'SVM', 'C': 70.51625180782187, 'kernel': 'sigmoid', 'gamma': 'scale'}. Best is trial 2 with value: 0.7783985102420857.\n",
            "[I 2025-09-13 01:28:44,747] Trial 9 finished with value: 0.7281191806331471 and parameters: {'classifier': 'SVM', 'C': 0.3138131313966638, 'kernel': 'poly', 'gamma': 'scale'}. Best is trial 2 with value: 0.7783985102420857.\n",
            "[I 2025-09-13 01:28:46,770] Trial 10 finished with value: 0.7635009310986964 and parameters: {'classifier': 'RandomForest', 'n_estimators': 275, 'max_depth': 15, 'min_samples_split': 7, 'min_samples_leaf': 4, 'bootstrap': False}. Best is trial 2 with value: 0.7783985102420857.\n",
            "[I 2025-09-13 01:28:48,025] Trial 11 finished with value: 0.7355679702048418 and parameters: {'classifier': 'GradientBoosting', 'n_estimators': 64, 'learning_rate': 0.010738642605261422, 'max_depth': 11, 'min_samples_split': 10, 'min_samples_leaf': 10}. Best is trial 2 with value: 0.7783985102420857.\n",
            "[I 2025-09-13 01:28:51,881] Trial 12 finished with value: 0.7411545623836128 and parameters: {'classifier': 'GradientBoosting', 'n_estimators': 235, 'learning_rate': 0.19393275317632097, 'max_depth': 13, 'min_samples_split': 10, 'min_samples_leaf': 6}. Best is trial 2 with value: 0.7783985102420857.\n",
            "[I 2025-09-13 01:28:52,481] Trial 13 finished with value: 0.7746741154562384 and parameters: {'classifier': 'RandomForest', 'n_estimators': 105, 'max_depth': 9, 'min_samples_split': 7, 'min_samples_leaf': 6, 'bootstrap': False}. Best is trial 2 with value: 0.7783985102420857.\n",
            "[I 2025-09-13 01:28:56,208] Trial 14 finished with value: 0.74487895716946 and parameters: {'classifier': 'GradientBoosting', 'n_estimators': 218, 'learning_rate': 0.038440073925765386, 'max_depth': 16, 'min_samples_split': 5, 'min_samples_leaf': 10}. Best is trial 2 with value: 0.7783985102420857.\n",
            "[I 2025-09-13 01:28:57,152] Trial 15 finished with value: 0.7560521415270017 and parameters: {'classifier': 'RandomForest', 'n_estimators': 159, 'max_depth': 7, 'min_samples_split': 8, 'min_samples_leaf': 8, 'bootstrap': True}. Best is trial 2 with value: 0.7783985102420857.\n",
            "[I 2025-09-13 01:28:58,654] Trial 16 finished with value: 0.7690875232774674 and parameters: {'classifier': 'RandomForest', 'n_estimators': 282, 'max_depth': 11, 'min_samples_split': 2, 'min_samples_leaf': 7, 'bootstrap': False}. Best is trial 2 with value: 0.7783985102420857.\n",
            "[I 2025-09-13 01:29:00,815] Trial 17 finished with value: 0.7541899441340782 and parameters: {'classifier': 'GradientBoosting', 'n_estimators': 89, 'learning_rate': 0.2337715971178334, 'max_depth': 20, 'min_samples_split': 9, 'min_samples_leaf': 4}. Best is trial 2 with value: 0.7783985102420857.\n",
            "[I 2025-09-13 01:29:01,754] Trial 18 finished with value: 0.750465549348231 and parameters: {'classifier': 'RandomForest', 'n_estimators': 188, 'max_depth': 3, 'min_samples_split': 6, 'min_samples_leaf': 10, 'bootstrap': False}. Best is trial 2 with value: 0.7783985102420857.\n",
            "[I 2025-09-13 01:29:08,774] Trial 19 finished with value: 0.7039106145251396 and parameters: {'classifier': 'GradientBoosting', 'n_estimators': 246, 'learning_rate': 0.01042781077601645, 'max_depth': 14, 'min_samples_split': 5, 'min_samples_leaf': 1}. Best is trial 2 with value: 0.7783985102420857.\n",
            "[I 2025-09-13 01:29:13,567] Trial 20 finished with value: 0.7374301675977654 and parameters: {'classifier': 'GradientBoosting', 'n_estimators': 135, 'learning_rate': 0.10272973374366656, 'max_depth': 17, 'min_samples_split': 8, 'min_samples_leaf': 4}. Best is trial 2 with value: 0.7783985102420857.\n",
            "[I 2025-09-13 01:29:15,048] Trial 21 finished with value: 0.7765363128491619 and parameters: {'classifier': 'RandomForest', 'n_estimators': 108, 'max_depth': 9, 'min_samples_split': 7, 'min_samples_leaf': 6, 'bootstrap': False}. Best is trial 2 with value: 0.7783985102420857.\n",
            "[I 2025-09-13 01:29:16,112] Trial 22 finished with value: 0.7765363128491621 and parameters: {'classifier': 'RandomForest', 'n_estimators': 105, 'max_depth': 6, 'min_samples_split': 9, 'min_samples_leaf': 7, 'bootstrap': False}. Best is trial 2 with value: 0.7783985102420857.\n",
            "[I 2025-09-13 01:29:16,648] Trial 23 finished with value: 0.7746741154562384 and parameters: {'classifier': 'RandomForest', 'n_estimators': 50, 'max_depth': 6, 'min_samples_split': 9, 'min_samples_leaf': 9, 'bootstrap': False}. Best is trial 2 with value: 0.7783985102420857.\n",
            "[I 2025-09-13 01:29:18,523] Trial 24 finished with value: 0.756052141527002 and parameters: {'classifier': 'RandomForest', 'n_estimators': 168, 'max_depth': 10, 'min_samples_split': 9, 'min_samples_leaf': 7, 'bootstrap': True}. Best is trial 2 with value: 0.7783985102420857.\n",
            "[I 2025-09-13 01:29:20,199] Trial 25 finished with value: 0.7709497206703911 and parameters: {'classifier': 'RandomForest', 'n_estimators': 205, 'max_depth': 13, 'min_samples_split': 10, 'min_samples_leaf': 9, 'bootstrap': False}. Best is trial 2 with value: 0.7783985102420857.\n",
            "[I 2025-09-13 01:29:20,881] Trial 26 finished with value: 0.7765363128491621 and parameters: {'classifier': 'RandomForest', 'n_estimators': 85, 'max_depth': 6, 'min_samples_split': 8, 'min_samples_leaf': 7, 'bootstrap': False}. Best is trial 2 with value: 0.7783985102420857.\n",
            "[I 2025-09-13 01:29:22,700] Trial 27 finished with value: 0.7579143389199254 and parameters: {'classifier': 'RandomForest', 'n_estimators': 136, 'max_depth': 3, 'min_samples_split': 2, 'min_samples_leaf': 8, 'bootstrap': True}. Best is trial 2 with value: 0.7783985102420857.\n",
            "[I 2025-09-13 01:29:22,796] Trial 28 finished with value: 0.7858472998137801 and parameters: {'classifier': 'SVM', 'C': 2.700134833661428, 'kernel': 'linear', 'gamma': 'auto'}. Best is trial 28 with value: 0.7858472998137801.\n",
            "[I 2025-09-13 01:29:22,926] Trial 29 finished with value: 0.7858472998137801 and parameters: {'classifier': 'SVM', 'C': 3.8696916281328826, 'kernel': 'linear', 'gamma': 'auto'}. Best is trial 28 with value: 0.7858472998137801.\n",
            "[I 2025-09-13 01:29:23,041] Trial 30 finished with value: 0.7858472998137801 and parameters: {'classifier': 'SVM', 'C': 3.094483023197159, 'kernel': 'linear', 'gamma': 'auto'}. Best is trial 28 with value: 0.7858472998137801.\n",
            "[I 2025-09-13 01:29:23,149] Trial 31 finished with value: 0.7858472998137801 and parameters: {'classifier': 'SVM', 'C': 3.4752963799962595, 'kernel': 'linear', 'gamma': 'auto'}. Best is trial 28 with value: 0.7858472998137801.\n",
            "[I 2025-09-13 01:29:23,206] Trial 32 finished with value: 0.7858472998137801 and parameters: {'classifier': 'SVM', 'C': 2.9956723405715, 'kernel': 'linear', 'gamma': 'auto'}. Best is trial 28 with value: 0.7858472998137801.\n",
            "[I 2025-09-13 01:29:23,264] Trial 33 finished with value: 0.7858472998137801 and parameters: {'classifier': 'SVM', 'C': 2.9128201586150295, 'kernel': 'linear', 'gamma': 'auto'}. Best is trial 28 with value: 0.7858472998137801.\n",
            "[I 2025-09-13 01:29:23,328] Trial 34 finished with value: 0.7858472998137801 and parameters: {'classifier': 'SVM', 'C': 3.0973923968888006, 'kernel': 'linear', 'gamma': 'auto'}. Best is trial 28 with value: 0.7858472998137801.\n",
            "[I 2025-09-13 01:29:23,390] Trial 35 finished with value: 0.7839851024208566 and parameters: {'classifier': 'SVM', 'C': 1.2229802933812663, 'kernel': 'linear', 'gamma': 'auto'}. Best is trial 28 with value: 0.7858472998137801.\n",
            "[I 2025-09-13 01:29:23,511] Trial 36 finished with value: 0.7858472998137801 and parameters: {'classifier': 'SVM', 'C': 8.406943380748894, 'kernel': 'linear', 'gamma': 'auto'}. Best is trial 28 with value: 0.7858472998137801.\n",
            "[I 2025-09-13 01:29:23,576] Trial 37 finished with value: 0.7839851024208566 and parameters: {'classifier': 'SVM', 'C': 1.0467459469600389, 'kernel': 'linear', 'gamma': 'auto'}. Best is trial 28 with value: 0.7858472998137801.\n",
            "[I 2025-09-13 01:29:23,675] Trial 38 finished with value: 0.7858472998137801 and parameters: {'classifier': 'SVM', 'C': 7.1570630972663, 'kernel': 'linear', 'gamma': 'auto'}. Best is trial 28 with value: 0.7858472998137801.\n",
            "[I 2025-09-13 01:29:23,745] Trial 39 finished with value: 0.7858472998137803 and parameters: {'classifier': 'SVM', 'C': 0.7656602851922112, 'kernel': 'linear', 'gamma': 'auto'}. Best is trial 39 with value: 0.7858472998137803.\n",
            "[I 2025-09-13 01:29:23,809] Trial 40 finished with value: 0.7858472998137803 and parameters: {'classifier': 'SVM', 'C': 0.8279073603286955, 'kernel': 'linear', 'gamma': 'auto'}. Best is trial 39 with value: 0.7858472998137803.\n",
            "[I 2025-09-13 01:29:23,876] Trial 41 finished with value: 0.7858472998137803 and parameters: {'classifier': 'SVM', 'C': 0.7287703937447606, 'kernel': 'linear', 'gamma': 'auto'}. Best is trial 39 with value: 0.7858472998137803.\n",
            "[I 2025-09-13 01:29:23,947] Trial 42 finished with value: 0.7858472998137803 and parameters: {'classifier': 'SVM', 'C': 0.658927809783766, 'kernel': 'linear', 'gamma': 'auto'}. Best is trial 39 with value: 0.7858472998137803.\n",
            "[I 2025-09-13 01:29:24,027] Trial 43 finished with value: 0.7858472998137803 and parameters: {'classifier': 'SVM', 'C': 0.6221988990764676, 'kernel': 'linear', 'gamma': 'auto'}. Best is trial 39 with value: 0.7858472998137803.\n",
            "[I 2025-09-13 01:29:24,112] Trial 44 finished with value: 0.7653631284916201 and parameters: {'classifier': 'SVM', 'C': 0.5429054616871517, 'kernel': 'rbf', 'gamma': 'auto'}. Best is trial 39 with value: 0.7858472998137803.\n",
            "[I 2025-09-13 01:29:24,169] Trial 45 finished with value: 0.7392923649906891 and parameters: {'classifier': 'SVM', 'C': 0.6207375408331867, 'kernel': 'poly', 'gamma': 'auto'}. Best is trial 39 with value: 0.7858472998137803.\n",
            "[I 2025-09-13 01:29:24,221] Trial 46 finished with value: 0.7839851024208566 and parameters: {'classifier': 'SVM', 'C': 0.9612112658520965, 'kernel': 'linear', 'gamma': 'auto'}. Best is trial 39 with value: 0.7858472998137803.\n",
            "[I 2025-09-13 01:29:24,277] Trial 47 finished with value: 0.7858472998137803 and parameters: {'classifier': 'SVM', 'C': 0.3358412106269942, 'kernel': 'linear', 'gamma': 'auto'}. Best is trial 39 with value: 0.7858472998137803.\n",
            "[I 2025-09-13 01:29:24,363] Trial 48 finished with value: 0.7895716945996275 and parameters: {'classifier': 'SVM', 'C': 0.1348000558858413, 'kernel': 'linear', 'gamma': 'auto'}. Best is trial 48 with value: 0.7895716945996275.\n",
            "[I 2025-09-13 01:29:24,463] Trial 49 finished with value: 0.7858472998137803 and parameters: {'classifier': 'SVM', 'C': 0.19222597820651088, 'kernel': 'linear', 'gamma': 'auto'}. Best is trial 48 with value: 0.7895716945996275.\n",
            "[I 2025-09-13 01:29:24,592] Trial 50 finished with value: 0.7877094972067038 and parameters: {'classifier': 'SVM', 'C': 0.10252620744958074, 'kernel': 'linear', 'gamma': 'auto'}. Best is trial 48 with value: 0.7895716945996275.\n",
            "[I 2025-09-13 01:29:24,712] Trial 51 finished with value: 0.7895716945996275 and parameters: {'classifier': 'SVM', 'C': 0.1373847557371436, 'kernel': 'linear', 'gamma': 'auto'}. Best is trial 48 with value: 0.7895716945996275.\n",
            "[I 2025-09-13 01:29:24,779] Trial 52 finished with value: 0.7895716945996275 and parameters: {'classifier': 'SVM', 'C': 0.11552806603134061, 'kernel': 'linear', 'gamma': 'auto'}. Best is trial 48 with value: 0.7895716945996275.\n",
            "[I 2025-09-13 01:29:24,852] Trial 53 finished with value: 0.7895716945996275 and parameters: {'classifier': 'SVM', 'C': 0.12273406701086159, 'kernel': 'linear', 'gamma': 'auto'}. Best is trial 48 with value: 0.7895716945996275.\n",
            "[I 2025-09-13 01:29:24,926] Trial 54 finished with value: 0.707635009310987 and parameters: {'classifier': 'SVM', 'C': 0.10910336586436147, 'kernel': 'poly', 'gamma': 'auto'}. Best is trial 48 with value: 0.7895716945996275.\n",
            "[I 2025-09-13 01:29:25,033] Trial 55 finished with value: 0.7094972067039106 and parameters: {'classifier': 'SVM', 'C': 0.10027755262361972, 'kernel': 'rbf', 'gamma': 'auto'}. Best is trial 48 with value: 0.7895716945996275.\n",
            "[I 2025-09-13 01:29:25,137] Trial 56 finished with value: 0.7709497206703911 and parameters: {'classifier': 'SVM', 'C': 0.16630692689764373, 'kernel': 'sigmoid', 'gamma': 'scale'}. Best is trial 48 with value: 0.7895716945996275.\n",
            "[I 2025-09-13 01:29:25,229] Trial 57 finished with value: 0.7746741154562384 and parameters: {'classifier': 'SVM', 'C': 0.13724167443837273, 'kernel': 'sigmoid', 'gamma': 'auto'}. Best is trial 48 with value: 0.7895716945996275.\n",
            "[I 2025-09-13 01:29:25,303] Trial 58 finished with value: 0.7858472998137803 and parameters: {'classifier': 'SVM', 'C': 0.2862627310570769, 'kernel': 'linear', 'gamma': 'auto'}. Best is trial 48 with value: 0.7895716945996275.\n",
            "[I 2025-09-13 01:29:25,372] Trial 59 finished with value: 0.7858472998137803 and parameters: {'classifier': 'SVM', 'C': 0.2418336879954449, 'kernel': 'linear', 'gamma': 'scale'}. Best is trial 48 with value: 0.7895716945996275.\n",
            "[I 2025-09-13 01:29:35,209] Trial 60 finished with value: 0.7504655493482307 and parameters: {'classifier': 'GradientBoosting', 'n_estimators': 300, 'learning_rate': 0.09992669129393479, 'max_depth': 17, 'min_samples_split': 5, 'min_samples_leaf': 3}. Best is trial 48 with value: 0.7895716945996275.\n",
            "[I 2025-09-13 01:29:35,269] Trial 61 finished with value: 0.7877094972067038 and parameters: {'classifier': 'SVM', 'C': 0.16093419902413547, 'kernel': 'linear', 'gamma': 'auto'}. Best is trial 48 with value: 0.7895716945996275.\n",
            "[I 2025-09-13 01:29:35,344] Trial 62 finished with value: 0.7895716945996275 and parameters: {'classifier': 'SVM', 'C': 0.1522362788352019, 'kernel': 'linear', 'gamma': 'auto'}. Best is trial 48 with value: 0.7895716945996275.\n",
            "[I 2025-09-13 01:29:35,412] Trial 63 finished with value: 0.7895716945996275 and parameters: {'classifier': 'SVM', 'C': 0.14028251541626247, 'kernel': 'linear', 'gamma': 'auto'}. Best is trial 48 with value: 0.7895716945996275.\n",
            "[I 2025-09-13 01:29:35,506] Trial 64 finished with value: 0.7132216014897579 and parameters: {'classifier': 'SVM', 'C': 0.10583976601564397, 'kernel': 'rbf', 'gamma': 'scale'}. Best is trial 48 with value: 0.7895716945996275.\n",
            "[I 2025-09-13 01:29:35,565] Trial 65 finished with value: 0.7839851024208566 and parameters: {'classifier': 'SVM', 'C': 0.35243272408457016, 'kernel': 'linear', 'gamma': 'auto'}. Best is trial 48 with value: 0.7895716945996275.\n",
            "[I 2025-09-13 01:29:35,637] Trial 66 finished with value: 0.7746741154562383 and parameters: {'classifier': 'SVM', 'C': 0.19542540095332833, 'kernel': 'sigmoid', 'gamma': 'auto'}. Best is trial 48 with value: 0.7895716945996275.\n",
            "[I 2025-09-13 01:29:35,691] Trial 67 finished with value: 0.7895716945996275 and parameters: {'classifier': 'SVM', 'C': 0.13650753588742412, 'kernel': 'linear', 'gamma': 'auto'}. Best is trial 48 with value: 0.7895716945996275.\n",
            "[I 2025-09-13 01:29:48,580] Trial 68 finished with value: 0.7057728119180634 and parameters: {'classifier': 'GradientBoosting', 'n_estimators': 264, 'learning_rate': 0.026896098249952143, 'max_depth': 19, 'min_samples_split': 6, 'min_samples_leaf': 1}. Best is trial 48 with value: 0.7895716945996275.\n",
            "[I 2025-09-13 01:29:48,612] Trial 69 finished with value: 0.7132216014897579 and parameters: {'classifier': 'SVM', 'C': 0.14822230954066298, 'kernel': 'poly', 'gamma': 'auto'}. Best is trial 48 with value: 0.7895716945996275.\n",
            "[I 2025-09-13 01:29:49,138] Trial 70 finished with value: 0.7858472998137801 and parameters: {'classifier': 'SVM', 'C': 89.45106043064757, 'kernel': 'linear', 'gamma': 'scale'}. Best is trial 48 with value: 0.7895716945996275.\n",
            "[I 2025-09-13 01:29:49,196] Trial 71 finished with value: 0.7895716945996275 and parameters: {'classifier': 'SVM', 'C': 0.1324169974349912, 'kernel': 'linear', 'gamma': 'auto'}. Best is trial 48 with value: 0.7895716945996275.\n",
            "[I 2025-09-13 01:29:49,257] Trial 72 finished with value: 0.7858472998137803 and parameters: {'classifier': 'SVM', 'C': 0.2312717178812806, 'kernel': 'linear', 'gamma': 'auto'}. Best is trial 48 with value: 0.7895716945996275.\n",
            "[I 2025-09-13 01:29:49,310] Trial 73 finished with value: 0.7895716945996275 and parameters: {'classifier': 'SVM', 'C': 0.14069192427565408, 'kernel': 'linear', 'gamma': 'auto'}. Best is trial 48 with value: 0.7895716945996275.\n",
            "[I 2025-09-13 01:29:49,369] Trial 74 finished with value: 0.7858472998137803 and parameters: {'classifier': 'SVM', 'C': 0.2296378840611921, 'kernel': 'linear', 'gamma': 'auto'}. Best is trial 48 with value: 0.7895716945996275.\n",
            "[I 2025-09-13 01:29:49,608] Trial 75 finished with value: 0.7858472998137801 and parameters: {'classifier': 'SVM', 'C': 31.884047406514316, 'kernel': 'linear', 'gamma': 'auto'}. Best is trial 48 with value: 0.7895716945996275.\n",
            "[I 2025-09-13 01:29:49,651] Trial 76 finished with value: 0.7895716945996275 and parameters: {'classifier': 'SVM', 'C': 0.13995617768954371, 'kernel': 'linear', 'gamma': 'auto'}. Best is trial 48 with value: 0.7895716945996275.\n",
            "[I 2025-09-13 01:29:49,689] Trial 77 finished with value: 0.7839851024208566 and parameters: {'classifier': 'SVM', 'C': 0.3391776888335295, 'kernel': 'linear', 'gamma': 'auto'}. Best is trial 48 with value: 0.7895716945996275.\n",
            "[I 2025-09-13 01:29:57,472] Trial 78 finished with value: 0.7430167597765363 and parameters: {'classifier': 'GradientBoosting', 'n_estimators': 240, 'learning_rate': 0.0942371895967567, 'max_depth': 18, 'min_samples_split': 4, 'min_samples_leaf': 2}. Best is trial 48 with value: 0.7895716945996275.\n",
            "[I 2025-09-13 01:29:57,519] Trial 79 finished with value: 0.7895716945996275 and parameters: {'classifier': 'SVM', 'C': 0.13043640518431562, 'kernel': 'linear', 'gamma': 'auto'}. Best is trial 48 with value: 0.7895716945996275.\n",
            "[I 2025-09-13 01:29:57,574] Trial 80 finished with value: 0.7839851024208566 and parameters: {'classifier': 'SVM', 'C': 0.4337186848429689, 'kernel': 'linear', 'gamma': 'auto'}. Best is trial 48 with value: 0.7895716945996275.\n",
            "[I 2025-09-13 01:29:57,620] Trial 81 finished with value: 0.7877094972067038 and parameters: {'classifier': 'SVM', 'C': 0.18052428517531374, 'kernel': 'linear', 'gamma': 'auto'}. Best is trial 48 with value: 0.7895716945996275.\n",
            "[I 2025-09-13 01:29:57,668] Trial 82 finished with value: 0.7895716945996275 and parameters: {'classifier': 'SVM', 'C': 0.12621840017656422, 'kernel': 'linear', 'gamma': 'auto'}. Best is trial 48 with value: 0.7895716945996275.\n",
            "[I 2025-09-13 01:29:57,711] Trial 83 finished with value: 0.7877094972067038 and parameters: {'classifier': 'SVM', 'C': 0.17286491533387038, 'kernel': 'linear', 'gamma': 'auto'}. Best is trial 48 with value: 0.7895716945996275.\n",
            "[I 2025-09-13 01:29:57,767] Trial 84 finished with value: 0.7858472998137803 and parameters: {'classifier': 'SVM', 'C': 0.26039984154718665, 'kernel': 'linear', 'gamma': 'auto'}. Best is trial 48 with value: 0.7895716945996275.\n",
            "[I 2025-09-13 01:29:57,812] Trial 85 finished with value: 0.7895716945996275 and parameters: {'classifier': 'SVM', 'C': 0.13075763206268443, 'kernel': 'linear', 'gamma': 'auto'}. Best is trial 48 with value: 0.7895716945996275.\n",
            "[I 2025-09-13 01:29:57,858] Trial 86 finished with value: 0.7858472998137801 and parameters: {'classifier': 'SVM', 'C': 2.064929780385493, 'kernel': 'linear', 'gamma': 'auto'}. Best is trial 48 with value: 0.7895716945996275.\n",
            "[I 2025-09-13 01:29:57,899] Trial 87 finished with value: 0.7858472998137803 and parameters: {'classifier': 'SVM', 'C': 0.2047061238894373, 'kernel': 'linear', 'gamma': 'auto'}. Best is trial 48 with value: 0.7895716945996275.\n",
            "[I 2025-09-13 01:29:57,944] Trial 88 finished with value: 0.7895716945996275 and parameters: {'classifier': 'SVM', 'C': 0.1501763744315003, 'kernel': 'linear', 'gamma': 'auto'}. Best is trial 48 with value: 0.7895716945996275.\n",
            "[I 2025-09-13 01:29:57,999] Trial 89 finished with value: 0.739292364990689 and parameters: {'classifier': 'SVM', 'C': 0.11408268794157686, 'kernel': 'rbf', 'gamma': 'auto'}. Best is trial 48 with value: 0.7895716945996275.\n",
            "[I 2025-09-13 01:29:58,548] Trial 90 finished with value: 0.7728119180633147 and parameters: {'classifier': 'RandomForest', 'n_estimators': 69, 'max_depth': 15, 'min_samples_split': 3, 'min_samples_leaf': 5, 'bootstrap': True}. Best is trial 48 with value: 0.7895716945996275.\n",
            "[I 2025-09-13 01:29:58,611] Trial 91 finished with value: 0.7895716945996275 and parameters: {'classifier': 'SVM', 'C': 0.14106871542048613, 'kernel': 'linear', 'gamma': 'auto'}. Best is trial 48 with value: 0.7895716945996275.\n",
            "[I 2025-09-13 01:29:58,667] Trial 92 finished with value: 0.7877094972067038 and parameters: {'classifier': 'SVM', 'C': 0.17839984252055158, 'kernel': 'linear', 'gamma': 'auto'}. Best is trial 48 with value: 0.7895716945996275.\n",
            "[I 2025-09-13 01:29:58,710] Trial 93 finished with value: 0.7895716945996275 and parameters: {'classifier': 'SVM', 'C': 0.12622990414593496, 'kernel': 'linear', 'gamma': 'auto'}. Best is trial 48 with value: 0.7895716945996275.\n",
            "[I 2025-09-13 01:29:58,748] Trial 94 finished with value: 0.7858472998137803 and parameters: {'classifier': 'SVM', 'C': 0.2700548430389234, 'kernel': 'linear', 'gamma': 'auto'}. Best is trial 48 with value: 0.7895716945996275.\n",
            "[I 2025-09-13 01:29:58,790] Trial 95 finished with value: 0.7039106145251397 and parameters: {'classifier': 'SVM', 'C': 0.10040796490509511, 'kernel': 'poly', 'gamma': 'auto'}. Best is trial 48 with value: 0.7895716945996275.\n",
            "[I 2025-09-13 01:29:58,825] Trial 96 finished with value: 0.7858472998137803 and parameters: {'classifier': 'SVM', 'C': 0.21126959536506768, 'kernel': 'linear', 'gamma': 'auto'}. Best is trial 48 with value: 0.7895716945996275.\n",
            "[I 2025-09-13 01:29:58,865] Trial 97 finished with value: 0.7839851024208566 and parameters: {'classifier': 'SVM', 'C': 0.4246533262368329, 'kernel': 'linear', 'gamma': 'auto'}. Best is trial 48 with value: 0.7895716945996275.\n",
            "[I 2025-09-13 01:30:03,560] Trial 98 finished with value: 0.7430167597765363 and parameters: {'classifier': 'GradientBoosting', 'n_estimators': 293, 'learning_rate': 0.16037286960071015, 'max_depth': 20, 'min_samples_split': 4, 'min_samples_leaf': 2}. Best is trial 48 with value: 0.7895716945996275.\n",
            "[I 2025-09-13 01:30:03,600] Trial 99 finished with value: 0.7895716945996275 and parameters: {'classifier': 'SVM', 'C': 0.15061141409401588, 'kernel': 'linear', 'gamma': 'scale'}. Best is trial 48 with value: 0.7895716945996275.\n"
          ]
        }
      ],
      "source": [
        "# Create a study and optimize it using CmaEsSampler\n",
        "study = optuna.create_study(direction='maximize')\n",
        "study.optimize(objective, n_trials=100)"
      ]
    },
    {
      "cell_type": "code",
      "execution_count": 26,
      "metadata": {
        "colab": {
          "base_uri": "https://localhost:8080/",
          "height": 0
        },
        "id": "jLNRO9POBzbW",
        "outputId": "a80fc98e-66e0-4462-8265-60c40dc37761"
      },
      "outputs": [
        {
          "name": "stdout",
          "output_type": "stream",
          "text": [
            "Best trial parameters: {'classifier': 'SVM', 'C': 0.1348000558858413, 'kernel': 'linear', 'gamma': 'auto'}\n",
            "Best trial accuracy: 0.7895716945996275\n"
          ]
        }
      ],
      "source": [
        "# Retrieve the best trial\n",
        "best_trial = study.best_trial\n",
        "print(\"Best trial parameters:\", best_trial.params)\n",
        "print(\"Best trial accuracy:\", best_trial.value)"
      ]
    },
    {
      "cell_type": "code",
      "execution_count": 27,
      "metadata": {
        "colab": {
          "base_uri": "https://localhost:8080/",
          "height": 617
        },
        "id": "QD74lBzvB6Q5",
        "outputId": "5028f099-957c-4612-e495-c6a8043d5a5b"
      },
      "outputs": [
        {
          "data": {
            "text/html": [
              "<div>\n",
              "<style scoped>\n",
              "    .dataframe tbody tr th:only-of-type {\n",
              "        vertical-align: middle;\n",
              "    }\n",
              "\n",
              "    .dataframe tbody tr th {\n",
              "        vertical-align: top;\n",
              "    }\n",
              "\n",
              "    .dataframe thead th {\n",
              "        text-align: right;\n",
              "    }\n",
              "</style>\n",
              "<table border=\"1\" class=\"dataframe\">\n",
              "  <thead>\n",
              "    <tr style=\"text-align: right;\">\n",
              "      <th></th>\n",
              "      <th>number</th>\n",
              "      <th>value</th>\n",
              "      <th>datetime_start</th>\n",
              "      <th>datetime_complete</th>\n",
              "      <th>duration</th>\n",
              "      <th>params_C</th>\n",
              "      <th>params_bootstrap</th>\n",
              "      <th>params_classifier</th>\n",
              "      <th>params_gamma</th>\n",
              "      <th>params_kernel</th>\n",
              "      <th>params_learning_rate</th>\n",
              "      <th>params_max_depth</th>\n",
              "      <th>params_min_samples_leaf</th>\n",
              "      <th>params_min_samples_split</th>\n",
              "      <th>params_n_estimators</th>\n",
              "      <th>state</th>\n",
              "    </tr>\n",
              "  </thead>\n",
              "  <tbody>\n",
              "    <tr>\n",
              "      <th>0</th>\n",
              "      <td>0</td>\n",
              "      <td>0.769088</td>\n",
              "      <td>2025-09-13 01:28:32.126140</td>\n",
              "      <td>2025-09-13 01:28:35.246851</td>\n",
              "      <td>0 days 00:00:03.120711</td>\n",
              "      <td>NaN</td>\n",
              "      <td>NaN</td>\n",
              "      <td>GradientBoosting</td>\n",
              "      <td>NaN</td>\n",
              "      <td>NaN</td>\n",
              "      <td>0.018861</td>\n",
              "      <td>5.0</td>\n",
              "      <td>2.0</td>\n",
              "      <td>3.0</td>\n",
              "      <td>126.0</td>\n",
              "      <td>COMPLETE</td>\n",
              "    </tr>\n",
              "    <tr>\n",
              "      <th>1</th>\n",
              "      <td>1</td>\n",
              "      <td>0.759777</td>\n",
              "      <td>2025-09-13 01:28:35.248231</td>\n",
              "      <td>2025-09-13 01:28:37.151881</td>\n",
              "      <td>0 days 00:00:01.903650</td>\n",
              "      <td>NaN</td>\n",
              "      <td>True</td>\n",
              "      <td>RandomForest</td>\n",
              "      <td>NaN</td>\n",
              "      <td>NaN</td>\n",
              "      <td>NaN</td>\n",
              "      <td>19.0</td>\n",
              "      <td>9.0</td>\n",
              "      <td>3.0</td>\n",
              "      <td>176.0</td>\n",
              "      <td>COMPLETE</td>\n",
              "    </tr>\n",
              "    <tr>\n",
              "      <th>2</th>\n",
              "      <td>2</td>\n",
              "      <td>0.778399</td>\n",
              "      <td>2025-09-13 01:28:37.152882</td>\n",
              "      <td>2025-09-13 01:28:38.457833</td>\n",
              "      <td>0 days 00:00:01.304951</td>\n",
              "      <td>NaN</td>\n",
              "      <td>False</td>\n",
              "      <td>RandomForest</td>\n",
              "      <td>NaN</td>\n",
              "      <td>NaN</td>\n",
              "      <td>NaN</td>\n",
              "      <td>13.0</td>\n",
              "      <td>9.0</td>\n",
              "      <td>2.0</td>\n",
              "      <td>153.0</td>\n",
              "      <td>COMPLETE</td>\n",
              "    </tr>\n",
              "    <tr>\n",
              "      <th>3</th>\n",
              "      <td>3</td>\n",
              "      <td>0.698324</td>\n",
              "      <td>2025-09-13 01:28:38.460749</td>\n",
              "      <td>2025-09-13 01:28:38.529387</td>\n",
              "      <td>0 days 00:00:00.068638</td>\n",
              "      <td>18.938806</td>\n",
              "      <td>NaN</td>\n",
              "      <td>SVM</td>\n",
              "      <td>scale</td>\n",
              "      <td>sigmoid</td>\n",
              "      <td>NaN</td>\n",
              "      <td>NaN</td>\n",
              "      <td>NaN</td>\n",
              "      <td>NaN</td>\n",
              "      <td>NaN</td>\n",
              "      <td>COMPLETE</td>\n",
              "    </tr>\n",
              "    <tr>\n",
              "      <th>4</th>\n",
              "      <td>4</td>\n",
              "      <td>0.776536</td>\n",
              "      <td>2025-09-13 01:28:38.530385</td>\n",
              "      <td>2025-09-13 01:28:41.717049</td>\n",
              "      <td>0 days 00:00:03.186664</td>\n",
              "      <td>NaN</td>\n",
              "      <td>NaN</td>\n",
              "      <td>GradientBoosting</td>\n",
              "      <td>NaN</td>\n",
              "      <td>NaN</td>\n",
              "      <td>0.013236</td>\n",
              "      <td>7.0</td>\n",
              "      <td>9.0</td>\n",
              "      <td>10.0</td>\n",
              "      <td>199.0</td>\n",
              "      <td>COMPLETE</td>\n",
              "    </tr>\n",
              "    <tr>\n",
              "      <th>...</th>\n",
              "      <td>...</td>\n",
              "      <td>...</td>\n",
              "      <td>...</td>\n",
              "      <td>...</td>\n",
              "      <td>...</td>\n",
              "      <td>...</td>\n",
              "      <td>...</td>\n",
              "      <td>...</td>\n",
              "      <td>...</td>\n",
              "      <td>...</td>\n",
              "      <td>...</td>\n",
              "      <td>...</td>\n",
              "      <td>...</td>\n",
              "      <td>...</td>\n",
              "      <td>...</td>\n",
              "      <td>...</td>\n",
              "    </tr>\n",
              "    <tr>\n",
              "      <th>95</th>\n",
              "      <td>95</td>\n",
              "      <td>0.703911</td>\n",
              "      <td>2025-09-13 01:29:58.750007</td>\n",
              "      <td>2025-09-13 01:29:58.790240</td>\n",
              "      <td>0 days 00:00:00.040233</td>\n",
              "      <td>0.100408</td>\n",
              "      <td>NaN</td>\n",
              "      <td>SVM</td>\n",
              "      <td>auto</td>\n",
              "      <td>poly</td>\n",
              "      <td>NaN</td>\n",
              "      <td>NaN</td>\n",
              "      <td>NaN</td>\n",
              "      <td>NaN</td>\n",
              "      <td>NaN</td>\n",
              "      <td>COMPLETE</td>\n",
              "    </tr>\n",
              "    <tr>\n",
              "      <th>96</th>\n",
              "      <td>96</td>\n",
              "      <td>0.785847</td>\n",
              "      <td>2025-09-13 01:29:58.791240</td>\n",
              "      <td>2025-09-13 01:29:58.825933</td>\n",
              "      <td>0 days 00:00:00.034693</td>\n",
              "      <td>0.211270</td>\n",
              "      <td>NaN</td>\n",
              "      <td>SVM</td>\n",
              "      <td>auto</td>\n",
              "      <td>linear</td>\n",
              "      <td>NaN</td>\n",
              "      <td>NaN</td>\n",
              "      <td>NaN</td>\n",
              "      <td>NaN</td>\n",
              "      <td>NaN</td>\n",
              "      <td>COMPLETE</td>\n",
              "    </tr>\n",
              "    <tr>\n",
              "      <th>97</th>\n",
              "      <td>97</td>\n",
              "      <td>0.783985</td>\n",
              "      <td>2025-09-13 01:29:58.826963</td>\n",
              "      <td>2025-09-13 01:29:58.865188</td>\n",
              "      <td>0 days 00:00:00.038225</td>\n",
              "      <td>0.424653</td>\n",
              "      <td>NaN</td>\n",
              "      <td>SVM</td>\n",
              "      <td>auto</td>\n",
              "      <td>linear</td>\n",
              "      <td>NaN</td>\n",
              "      <td>NaN</td>\n",
              "      <td>NaN</td>\n",
              "      <td>NaN</td>\n",
              "      <td>NaN</td>\n",
              "      <td>COMPLETE</td>\n",
              "    </tr>\n",
              "    <tr>\n",
              "      <th>98</th>\n",
              "      <td>98</td>\n",
              "      <td>0.743017</td>\n",
              "      <td>2025-09-13 01:29:58.865188</td>\n",
              "      <td>2025-09-13 01:30:03.560233</td>\n",
              "      <td>0 days 00:00:04.695045</td>\n",
              "      <td>NaN</td>\n",
              "      <td>NaN</td>\n",
              "      <td>GradientBoosting</td>\n",
              "      <td>NaN</td>\n",
              "      <td>NaN</td>\n",
              "      <td>0.160373</td>\n",
              "      <td>20.0</td>\n",
              "      <td>2.0</td>\n",
              "      <td>4.0</td>\n",
              "      <td>293.0</td>\n",
              "      <td>COMPLETE</td>\n",
              "    </tr>\n",
              "    <tr>\n",
              "      <th>99</th>\n",
              "      <td>99</td>\n",
              "      <td>0.789572</td>\n",
              "      <td>2025-09-13 01:30:03.562182</td>\n",
              "      <td>2025-09-13 01:30:03.600004</td>\n",
              "      <td>0 days 00:00:00.037822</td>\n",
              "      <td>0.150611</td>\n",
              "      <td>NaN</td>\n",
              "      <td>SVM</td>\n",
              "      <td>scale</td>\n",
              "      <td>linear</td>\n",
              "      <td>NaN</td>\n",
              "      <td>NaN</td>\n",
              "      <td>NaN</td>\n",
              "      <td>NaN</td>\n",
              "      <td>NaN</td>\n",
              "      <td>COMPLETE</td>\n",
              "    </tr>\n",
              "  </tbody>\n",
              "</table>\n",
              "<p>100 rows × 16 columns</p>\n",
              "</div>"
            ],
            "text/plain": [
              "    number     value             datetime_start          datetime_complete  \\\n",
              "0        0  0.769088 2025-09-13 01:28:32.126140 2025-09-13 01:28:35.246851   \n",
              "1        1  0.759777 2025-09-13 01:28:35.248231 2025-09-13 01:28:37.151881   \n",
              "2        2  0.778399 2025-09-13 01:28:37.152882 2025-09-13 01:28:38.457833   \n",
              "3        3  0.698324 2025-09-13 01:28:38.460749 2025-09-13 01:28:38.529387   \n",
              "4        4  0.776536 2025-09-13 01:28:38.530385 2025-09-13 01:28:41.717049   \n",
              "..     ...       ...                        ...                        ...   \n",
              "95      95  0.703911 2025-09-13 01:29:58.750007 2025-09-13 01:29:58.790240   \n",
              "96      96  0.785847 2025-09-13 01:29:58.791240 2025-09-13 01:29:58.825933   \n",
              "97      97  0.783985 2025-09-13 01:29:58.826963 2025-09-13 01:29:58.865188   \n",
              "98      98  0.743017 2025-09-13 01:29:58.865188 2025-09-13 01:30:03.560233   \n",
              "99      99  0.789572 2025-09-13 01:30:03.562182 2025-09-13 01:30:03.600004   \n",
              "\n",
              "                 duration   params_C params_bootstrap params_classifier  \\\n",
              "0  0 days 00:00:03.120711        NaN              NaN  GradientBoosting   \n",
              "1  0 days 00:00:01.903650        NaN             True      RandomForest   \n",
              "2  0 days 00:00:01.304951        NaN            False      RandomForest   \n",
              "3  0 days 00:00:00.068638  18.938806              NaN               SVM   \n",
              "4  0 days 00:00:03.186664        NaN              NaN  GradientBoosting   \n",
              "..                    ...        ...              ...               ...   \n",
              "95 0 days 00:00:00.040233   0.100408              NaN               SVM   \n",
              "96 0 days 00:00:00.034693   0.211270              NaN               SVM   \n",
              "97 0 days 00:00:00.038225   0.424653              NaN               SVM   \n",
              "98 0 days 00:00:04.695045        NaN              NaN  GradientBoosting   \n",
              "99 0 days 00:00:00.037822   0.150611              NaN               SVM   \n",
              "\n",
              "   params_gamma params_kernel  params_learning_rate  params_max_depth  \\\n",
              "0           NaN           NaN              0.018861               5.0   \n",
              "1           NaN           NaN                   NaN              19.0   \n",
              "2           NaN           NaN                   NaN              13.0   \n",
              "3         scale       sigmoid                   NaN               NaN   \n",
              "4           NaN           NaN              0.013236               7.0   \n",
              "..          ...           ...                   ...               ...   \n",
              "95         auto          poly                   NaN               NaN   \n",
              "96         auto        linear                   NaN               NaN   \n",
              "97         auto        linear                   NaN               NaN   \n",
              "98          NaN           NaN              0.160373              20.0   \n",
              "99        scale        linear                   NaN               NaN   \n",
              "\n",
              "    params_min_samples_leaf  params_min_samples_split  params_n_estimators  \\\n",
              "0                       2.0                       3.0                126.0   \n",
              "1                       9.0                       3.0                176.0   \n",
              "2                       9.0                       2.0                153.0   \n",
              "3                       NaN                       NaN                  NaN   \n",
              "4                       9.0                      10.0                199.0   \n",
              "..                      ...                       ...                  ...   \n",
              "95                      NaN                       NaN                  NaN   \n",
              "96                      NaN                       NaN                  NaN   \n",
              "97                      NaN                       NaN                  NaN   \n",
              "98                      2.0                       4.0                293.0   \n",
              "99                      NaN                       NaN                  NaN   \n",
              "\n",
              "       state  \n",
              "0   COMPLETE  \n",
              "1   COMPLETE  \n",
              "2   COMPLETE  \n",
              "3   COMPLETE  \n",
              "4   COMPLETE  \n",
              "..       ...  \n",
              "95  COMPLETE  \n",
              "96  COMPLETE  \n",
              "97  COMPLETE  \n",
              "98  COMPLETE  \n",
              "99  COMPLETE  \n",
              "\n",
              "[100 rows x 16 columns]"
            ]
          },
          "execution_count": 27,
          "metadata": {},
          "output_type": "execute_result"
        }
      ],
      "source": [
        "study.trials_dataframe()"
      ]
    },
    {
      "cell_type": "code",
      "execution_count": 28,
      "metadata": {
        "colab": {
          "base_uri": "https://localhost:8080/",
          "height": 209
        },
        "id": "FYO7J-SXB9MY",
        "outputId": "72b8853b-f613-4a64-d759-7226cef2c9fa"
      },
      "outputs": [
        {
          "data": {
            "text/plain": [
              "params_classifier\n",
              "SVM                 71\n",
              "RandomForest        16\n",
              "GradientBoosting    13\n",
              "Name: count, dtype: int64"
            ]
          },
          "execution_count": 28,
          "metadata": {},
          "output_type": "execute_result"
        }
      ],
      "source": [
        "study.trials_dataframe()['params_classifier'].value_counts()"
      ]
    },
    {
      "cell_type": "code",
      "execution_count": 29,
      "metadata": {
        "colab": {
          "base_uri": "https://localhost:8080/",
          "height": 209
        },
        "id": "miKGSOCDCIpc",
        "outputId": "66323c12-c4ac-4630-8616-2751d4a7a5d0"
      },
      "outputs": [
        {
          "data": {
            "text/plain": [
              "params_classifier\n",
              "GradientBoosting    0.743303\n",
              "RandomForest        0.767691\n",
              "SVM                 0.775645\n",
              "Name: value, dtype: float64"
            ]
          },
          "execution_count": 29,
          "metadata": {},
          "output_type": "execute_result"
        }
      ],
      "source": [
        "study.trials_dataframe().groupby('params_classifier')['value'].mean()"
      ]
    },
    {
      "cell_type": "code",
      "execution_count": 30,
      "metadata": {
        "colab": {
          "base_uri": "https://localhost:8080/",
          "height": 542
        },
        "id": "a2-8K8--CiJS",
        "outputId": "693e95d9-55cb-4d97-f3ad-9abef3870360"
      },
      "outputs": [
        {
          "data": {
            "application/vnd.plotly.v1+json": {
              "config": {
                "plotlyServerURL": "https://plot.ly"
              },
              "data": [
                {
                  "mode": "markers",
                  "name": "Objective Value",
                  "type": "scatter",
                  "x": [
                    0,
                    1,
                    2,
                    3,
                    4,
                    5,
                    6,
                    7,
                    8,
                    9,
                    10,
                    11,
                    12,
                    13,
                    14,
                    15,
                    16,
                    17,
                    18,
                    19,
                    20,
                    21,
                    22,
                    23,
                    24,
                    25,
                    26,
                    27,
                    28,
                    29,
                    30,
                    31,
                    32,
                    33,
                    34,
                    35,
                    36,
                    37,
                    38,
                    39,
                    40,
                    41,
                    42,
                    43,
                    44,
                    45,
                    46,
                    47,
                    48,
                    49,
                    50,
                    51,
                    52,
                    53,
                    54,
                    55,
                    56,
                    57,
                    58,
                    59,
                    60,
                    61,
                    62,
                    63,
                    64,
                    65,
                    66,
                    67,
                    68,
                    69,
                    70,
                    71,
                    72,
                    73,
                    74,
                    75,
                    76,
                    77,
                    78,
                    79,
                    80,
                    81,
                    82,
                    83,
                    84,
                    85,
                    86,
                    87,
                    88,
                    89,
                    90,
                    91,
                    92,
                    93,
                    94,
                    95,
                    96,
                    97,
                    98,
                    99
                  ],
                  "y": [
                    0.7690875232774674,
                    0.7597765363128491,
                    0.7783985102420857,
                    0.6983240223463687,
                    0.7765363128491621,
                    0.7653631284916201,
                    0.7690875232774674,
                    0.7579143389199255,
                    0.7001862197392924,
                    0.7281191806331471,
                    0.7635009310986964,
                    0.7355679702048418,
                    0.7411545623836128,
                    0.7746741154562384,
                    0.74487895716946,
                    0.7560521415270017,
                    0.7690875232774674,
                    0.7541899441340782,
                    0.750465549348231,
                    0.7039106145251396,
                    0.7374301675977654,
                    0.7765363128491619,
                    0.7765363128491621,
                    0.7746741154562384,
                    0.756052141527002,
                    0.7709497206703911,
                    0.7765363128491621,
                    0.7579143389199254,
                    0.7858472998137801,
                    0.7858472998137801,
                    0.7858472998137801,
                    0.7858472998137801,
                    0.7858472998137801,
                    0.7858472998137801,
                    0.7858472998137801,
                    0.7839851024208566,
                    0.7858472998137801,
                    0.7839851024208566,
                    0.7858472998137801,
                    0.7858472998137803,
                    0.7858472998137803,
                    0.7858472998137803,
                    0.7858472998137803,
                    0.7858472998137803,
                    0.7653631284916201,
                    0.7392923649906891,
                    0.7839851024208566,
                    0.7858472998137803,
                    0.7895716945996275,
                    0.7858472998137803,
                    0.7877094972067038,
                    0.7895716945996275,
                    0.7895716945996275,
                    0.7895716945996275,
                    0.707635009310987,
                    0.7094972067039106,
                    0.7709497206703911,
                    0.7746741154562384,
                    0.7858472998137803,
                    0.7858472998137803,
                    0.7504655493482307,
                    0.7877094972067038,
                    0.7895716945996275,
                    0.7895716945996275,
                    0.7132216014897579,
                    0.7839851024208566,
                    0.7746741154562383,
                    0.7895716945996275,
                    0.7057728119180634,
                    0.7132216014897579,
                    0.7858472998137801,
                    0.7895716945996275,
                    0.7858472998137803,
                    0.7895716945996275,
                    0.7858472998137803,
                    0.7858472998137801,
                    0.7895716945996275,
                    0.7839851024208566,
                    0.7430167597765363,
                    0.7895716945996275,
                    0.7839851024208566,
                    0.7877094972067038,
                    0.7895716945996275,
                    0.7877094972067038,
                    0.7858472998137803,
                    0.7895716945996275,
                    0.7858472998137801,
                    0.7858472998137803,
                    0.7895716945996275,
                    0.739292364990689,
                    0.7728119180633147,
                    0.7895716945996275,
                    0.7877094972067038,
                    0.7895716945996275,
                    0.7858472998137803,
                    0.7039106145251397,
                    0.7858472998137803,
                    0.7839851024208566,
                    0.7430167597765363,
                    0.7895716945996275
                  ]
                },
                {
                  "mode": "lines",
                  "name": "Best Value",
                  "type": "scatter",
                  "x": [
                    0,
                    1,
                    2,
                    3,
                    4,
                    5,
                    6,
                    7,
                    8,
                    9,
                    10,
                    11,
                    12,
                    13,
                    14,
                    15,
                    16,
                    17,
                    18,
                    19,
                    20,
                    21,
                    22,
                    23,
                    24,
                    25,
                    26,
                    27,
                    28,
                    29,
                    30,
                    31,
                    32,
                    33,
                    34,
                    35,
                    36,
                    37,
                    38,
                    39,
                    40,
                    41,
                    42,
                    43,
                    44,
                    45,
                    46,
                    47,
                    48,
                    49,
                    50,
                    51,
                    52,
                    53,
                    54,
                    55,
                    56,
                    57,
                    58,
                    59,
                    60,
                    61,
                    62,
                    63,
                    64,
                    65,
                    66,
                    67,
                    68,
                    69,
                    70,
                    71,
                    72,
                    73,
                    74,
                    75,
                    76,
                    77,
                    78,
                    79,
                    80,
                    81,
                    82,
                    83,
                    84,
                    85,
                    86,
                    87,
                    88,
                    89,
                    90,
                    91,
                    92,
                    93,
                    94,
                    95,
                    96,
                    97,
                    98,
                    99
                  ],
                  "y": [
                    0.7690875232774674,
                    0.7690875232774674,
                    0.7783985102420857,
                    0.7783985102420857,
                    0.7783985102420857,
                    0.7783985102420857,
                    0.7783985102420857,
                    0.7783985102420857,
                    0.7783985102420857,
                    0.7783985102420857,
                    0.7783985102420857,
                    0.7783985102420857,
                    0.7783985102420857,
                    0.7783985102420857,
                    0.7783985102420857,
                    0.7783985102420857,
                    0.7783985102420857,
                    0.7783985102420857,
                    0.7783985102420857,
                    0.7783985102420857,
                    0.7783985102420857,
                    0.7783985102420857,
                    0.7783985102420857,
                    0.7783985102420857,
                    0.7783985102420857,
                    0.7783985102420857,
                    0.7783985102420857,
                    0.7783985102420857,
                    0.7858472998137801,
                    0.7858472998137801,
                    0.7858472998137801,
                    0.7858472998137801,
                    0.7858472998137801,
                    0.7858472998137801,
                    0.7858472998137801,
                    0.7858472998137801,
                    0.7858472998137801,
                    0.7858472998137801,
                    0.7858472998137801,
                    0.7858472998137803,
                    0.7858472998137803,
                    0.7858472998137803,
                    0.7858472998137803,
                    0.7858472998137803,
                    0.7858472998137803,
                    0.7858472998137803,
                    0.7858472998137803,
                    0.7858472998137803,
                    0.7895716945996275,
                    0.7895716945996275,
                    0.7895716945996275,
                    0.7895716945996275,
                    0.7895716945996275,
                    0.7895716945996275,
                    0.7895716945996275,
                    0.7895716945996275,
                    0.7895716945996275,
                    0.7895716945996275,
                    0.7895716945996275,
                    0.7895716945996275,
                    0.7895716945996275,
                    0.7895716945996275,
                    0.7895716945996275,
                    0.7895716945996275,
                    0.7895716945996275,
                    0.7895716945996275,
                    0.7895716945996275,
                    0.7895716945996275,
                    0.7895716945996275,
                    0.7895716945996275,
                    0.7895716945996275,
                    0.7895716945996275,
                    0.7895716945996275,
                    0.7895716945996275,
                    0.7895716945996275,
                    0.7895716945996275,
                    0.7895716945996275,
                    0.7895716945996275,
                    0.7895716945996275,
                    0.7895716945996275,
                    0.7895716945996275,
                    0.7895716945996275,
                    0.7895716945996275,
                    0.7895716945996275,
                    0.7895716945996275,
                    0.7895716945996275,
                    0.7895716945996275,
                    0.7895716945996275,
                    0.7895716945996275,
                    0.7895716945996275,
                    0.7895716945996275,
                    0.7895716945996275,
                    0.7895716945996275,
                    0.7895716945996275,
                    0.7895716945996275,
                    0.7895716945996275,
                    0.7895716945996275,
                    0.7895716945996275,
                    0.7895716945996275,
                    0.7895716945996275
                  ]
                },
                {
                  "marker": {
                    "color": "#cccccc"
                  },
                  "mode": "markers",
                  "name": "Infeasible Trial",
                  "showlegend": false,
                  "type": "scatter",
                  "x": [],
                  "y": []
                }
              ],
              "layout": {
                "template": {
                  "data": {
                    "bar": [
                      {
                        "error_x": {
                          "color": "#2a3f5f"
                        },
                        "error_y": {
                          "color": "#2a3f5f"
                        },
                        "marker": {
                          "line": {
                            "color": "#E5ECF6",
                            "width": 0.5
                          },
                          "pattern": {
                            "fillmode": "overlay",
                            "size": 10,
                            "solidity": 0.2
                          }
                        },
                        "type": "bar"
                      }
                    ],
                    "barpolar": [
                      {
                        "marker": {
                          "line": {
                            "color": "#E5ECF6",
                            "width": 0.5
                          },
                          "pattern": {
                            "fillmode": "overlay",
                            "size": 10,
                            "solidity": 0.2
                          }
                        },
                        "type": "barpolar"
                      }
                    ],
                    "carpet": [
                      {
                        "aaxis": {
                          "endlinecolor": "#2a3f5f",
                          "gridcolor": "white",
                          "linecolor": "white",
                          "minorgridcolor": "white",
                          "startlinecolor": "#2a3f5f"
                        },
                        "baxis": {
                          "endlinecolor": "#2a3f5f",
                          "gridcolor": "white",
                          "linecolor": "white",
                          "minorgridcolor": "white",
                          "startlinecolor": "#2a3f5f"
                        },
                        "type": "carpet"
                      }
                    ],
                    "choropleth": [
                      {
                        "colorbar": {
                          "outlinewidth": 0,
                          "ticks": ""
                        },
                        "type": "choropleth"
                      }
                    ],
                    "contour": [
                      {
                        "colorbar": {
                          "outlinewidth": 0,
                          "ticks": ""
                        },
                        "colorscale": [
                          [
                            0,
                            "#0d0887"
                          ],
                          [
                            0.1111111111111111,
                            "#46039f"
                          ],
                          [
                            0.2222222222222222,
                            "#7201a8"
                          ],
                          [
                            0.3333333333333333,
                            "#9c179e"
                          ],
                          [
                            0.4444444444444444,
                            "#bd3786"
                          ],
                          [
                            0.5555555555555556,
                            "#d8576b"
                          ],
                          [
                            0.6666666666666666,
                            "#ed7953"
                          ],
                          [
                            0.7777777777777778,
                            "#fb9f3a"
                          ],
                          [
                            0.8888888888888888,
                            "#fdca26"
                          ],
                          [
                            1,
                            "#f0f921"
                          ]
                        ],
                        "type": "contour"
                      }
                    ],
                    "contourcarpet": [
                      {
                        "colorbar": {
                          "outlinewidth": 0,
                          "ticks": ""
                        },
                        "type": "contourcarpet"
                      }
                    ],
                    "heatmap": [
                      {
                        "colorbar": {
                          "outlinewidth": 0,
                          "ticks": ""
                        },
                        "colorscale": [
                          [
                            0,
                            "#0d0887"
                          ],
                          [
                            0.1111111111111111,
                            "#46039f"
                          ],
                          [
                            0.2222222222222222,
                            "#7201a8"
                          ],
                          [
                            0.3333333333333333,
                            "#9c179e"
                          ],
                          [
                            0.4444444444444444,
                            "#bd3786"
                          ],
                          [
                            0.5555555555555556,
                            "#d8576b"
                          ],
                          [
                            0.6666666666666666,
                            "#ed7953"
                          ],
                          [
                            0.7777777777777778,
                            "#fb9f3a"
                          ],
                          [
                            0.8888888888888888,
                            "#fdca26"
                          ],
                          [
                            1,
                            "#f0f921"
                          ]
                        ],
                        "type": "heatmap"
                      }
                    ],
                    "histogram": [
                      {
                        "marker": {
                          "pattern": {
                            "fillmode": "overlay",
                            "size": 10,
                            "solidity": 0.2
                          }
                        },
                        "type": "histogram"
                      }
                    ],
                    "histogram2d": [
                      {
                        "colorbar": {
                          "outlinewidth": 0,
                          "ticks": ""
                        },
                        "colorscale": [
                          [
                            0,
                            "#0d0887"
                          ],
                          [
                            0.1111111111111111,
                            "#46039f"
                          ],
                          [
                            0.2222222222222222,
                            "#7201a8"
                          ],
                          [
                            0.3333333333333333,
                            "#9c179e"
                          ],
                          [
                            0.4444444444444444,
                            "#bd3786"
                          ],
                          [
                            0.5555555555555556,
                            "#d8576b"
                          ],
                          [
                            0.6666666666666666,
                            "#ed7953"
                          ],
                          [
                            0.7777777777777778,
                            "#fb9f3a"
                          ],
                          [
                            0.8888888888888888,
                            "#fdca26"
                          ],
                          [
                            1,
                            "#f0f921"
                          ]
                        ],
                        "type": "histogram2d"
                      }
                    ],
                    "histogram2dcontour": [
                      {
                        "colorbar": {
                          "outlinewidth": 0,
                          "ticks": ""
                        },
                        "colorscale": [
                          [
                            0,
                            "#0d0887"
                          ],
                          [
                            0.1111111111111111,
                            "#46039f"
                          ],
                          [
                            0.2222222222222222,
                            "#7201a8"
                          ],
                          [
                            0.3333333333333333,
                            "#9c179e"
                          ],
                          [
                            0.4444444444444444,
                            "#bd3786"
                          ],
                          [
                            0.5555555555555556,
                            "#d8576b"
                          ],
                          [
                            0.6666666666666666,
                            "#ed7953"
                          ],
                          [
                            0.7777777777777778,
                            "#fb9f3a"
                          ],
                          [
                            0.8888888888888888,
                            "#fdca26"
                          ],
                          [
                            1,
                            "#f0f921"
                          ]
                        ],
                        "type": "histogram2dcontour"
                      }
                    ],
                    "mesh3d": [
                      {
                        "colorbar": {
                          "outlinewidth": 0,
                          "ticks": ""
                        },
                        "type": "mesh3d"
                      }
                    ],
                    "parcoords": [
                      {
                        "line": {
                          "colorbar": {
                            "outlinewidth": 0,
                            "ticks": ""
                          }
                        },
                        "type": "parcoords"
                      }
                    ],
                    "pie": [
                      {
                        "automargin": true,
                        "type": "pie"
                      }
                    ],
                    "scatter": [
                      {
                        "fillpattern": {
                          "fillmode": "overlay",
                          "size": 10,
                          "solidity": 0.2
                        },
                        "type": "scatter"
                      }
                    ],
                    "scatter3d": [
                      {
                        "line": {
                          "colorbar": {
                            "outlinewidth": 0,
                            "ticks": ""
                          }
                        },
                        "marker": {
                          "colorbar": {
                            "outlinewidth": 0,
                            "ticks": ""
                          }
                        },
                        "type": "scatter3d"
                      }
                    ],
                    "scattercarpet": [
                      {
                        "marker": {
                          "colorbar": {
                            "outlinewidth": 0,
                            "ticks": ""
                          }
                        },
                        "type": "scattercarpet"
                      }
                    ],
                    "scattergeo": [
                      {
                        "marker": {
                          "colorbar": {
                            "outlinewidth": 0,
                            "ticks": ""
                          }
                        },
                        "type": "scattergeo"
                      }
                    ],
                    "scattergl": [
                      {
                        "marker": {
                          "colorbar": {
                            "outlinewidth": 0,
                            "ticks": ""
                          }
                        },
                        "type": "scattergl"
                      }
                    ],
                    "scattermap": [
                      {
                        "marker": {
                          "colorbar": {
                            "outlinewidth": 0,
                            "ticks": ""
                          }
                        },
                        "type": "scattermap"
                      }
                    ],
                    "scattermapbox": [
                      {
                        "marker": {
                          "colorbar": {
                            "outlinewidth": 0,
                            "ticks": ""
                          }
                        },
                        "type": "scattermapbox"
                      }
                    ],
                    "scatterpolar": [
                      {
                        "marker": {
                          "colorbar": {
                            "outlinewidth": 0,
                            "ticks": ""
                          }
                        },
                        "type": "scatterpolar"
                      }
                    ],
                    "scatterpolargl": [
                      {
                        "marker": {
                          "colorbar": {
                            "outlinewidth": 0,
                            "ticks": ""
                          }
                        },
                        "type": "scatterpolargl"
                      }
                    ],
                    "scatterternary": [
                      {
                        "marker": {
                          "colorbar": {
                            "outlinewidth": 0,
                            "ticks": ""
                          }
                        },
                        "type": "scatterternary"
                      }
                    ],
                    "surface": [
                      {
                        "colorbar": {
                          "outlinewidth": 0,
                          "ticks": ""
                        },
                        "colorscale": [
                          [
                            0,
                            "#0d0887"
                          ],
                          [
                            0.1111111111111111,
                            "#46039f"
                          ],
                          [
                            0.2222222222222222,
                            "#7201a8"
                          ],
                          [
                            0.3333333333333333,
                            "#9c179e"
                          ],
                          [
                            0.4444444444444444,
                            "#bd3786"
                          ],
                          [
                            0.5555555555555556,
                            "#d8576b"
                          ],
                          [
                            0.6666666666666666,
                            "#ed7953"
                          ],
                          [
                            0.7777777777777778,
                            "#fb9f3a"
                          ],
                          [
                            0.8888888888888888,
                            "#fdca26"
                          ],
                          [
                            1,
                            "#f0f921"
                          ]
                        ],
                        "type": "surface"
                      }
                    ],
                    "table": [
                      {
                        "cells": {
                          "fill": {
                            "color": "#EBF0F8"
                          },
                          "line": {
                            "color": "white"
                          }
                        },
                        "header": {
                          "fill": {
                            "color": "#C8D4E3"
                          },
                          "line": {
                            "color": "white"
                          }
                        },
                        "type": "table"
                      }
                    ]
                  },
                  "layout": {
                    "annotationdefaults": {
                      "arrowcolor": "#2a3f5f",
                      "arrowhead": 0,
                      "arrowwidth": 1
                    },
                    "autotypenumbers": "strict",
                    "coloraxis": {
                      "colorbar": {
                        "outlinewidth": 0,
                        "ticks": ""
                      }
                    },
                    "colorscale": {
                      "diverging": [
                        [
                          0,
                          "#8e0152"
                        ],
                        [
                          0.1,
                          "#c51b7d"
                        ],
                        [
                          0.2,
                          "#de77ae"
                        ],
                        [
                          0.3,
                          "#f1b6da"
                        ],
                        [
                          0.4,
                          "#fde0ef"
                        ],
                        [
                          0.5,
                          "#f7f7f7"
                        ],
                        [
                          0.6,
                          "#e6f5d0"
                        ],
                        [
                          0.7,
                          "#b8e186"
                        ],
                        [
                          0.8,
                          "#7fbc41"
                        ],
                        [
                          0.9,
                          "#4d9221"
                        ],
                        [
                          1,
                          "#276419"
                        ]
                      ],
                      "sequential": [
                        [
                          0,
                          "#0d0887"
                        ],
                        [
                          0.1111111111111111,
                          "#46039f"
                        ],
                        [
                          0.2222222222222222,
                          "#7201a8"
                        ],
                        [
                          0.3333333333333333,
                          "#9c179e"
                        ],
                        [
                          0.4444444444444444,
                          "#bd3786"
                        ],
                        [
                          0.5555555555555556,
                          "#d8576b"
                        ],
                        [
                          0.6666666666666666,
                          "#ed7953"
                        ],
                        [
                          0.7777777777777778,
                          "#fb9f3a"
                        ],
                        [
                          0.8888888888888888,
                          "#fdca26"
                        ],
                        [
                          1,
                          "#f0f921"
                        ]
                      ],
                      "sequentialminus": [
                        [
                          0,
                          "#0d0887"
                        ],
                        [
                          0.1111111111111111,
                          "#46039f"
                        ],
                        [
                          0.2222222222222222,
                          "#7201a8"
                        ],
                        [
                          0.3333333333333333,
                          "#9c179e"
                        ],
                        [
                          0.4444444444444444,
                          "#bd3786"
                        ],
                        [
                          0.5555555555555556,
                          "#d8576b"
                        ],
                        [
                          0.6666666666666666,
                          "#ed7953"
                        ],
                        [
                          0.7777777777777778,
                          "#fb9f3a"
                        ],
                        [
                          0.8888888888888888,
                          "#fdca26"
                        ],
                        [
                          1,
                          "#f0f921"
                        ]
                      ]
                    },
                    "colorway": [
                      "#636efa",
                      "#EF553B",
                      "#00cc96",
                      "#ab63fa",
                      "#FFA15A",
                      "#19d3f3",
                      "#FF6692",
                      "#B6E880",
                      "#FF97FF",
                      "#FECB52"
                    ],
                    "font": {
                      "color": "#2a3f5f"
                    },
                    "geo": {
                      "bgcolor": "white",
                      "lakecolor": "white",
                      "landcolor": "#E5ECF6",
                      "showlakes": true,
                      "showland": true,
                      "subunitcolor": "white"
                    },
                    "hoverlabel": {
                      "align": "left"
                    },
                    "hovermode": "closest",
                    "mapbox": {
                      "style": "light"
                    },
                    "paper_bgcolor": "white",
                    "plot_bgcolor": "#E5ECF6",
                    "polar": {
                      "angularaxis": {
                        "gridcolor": "white",
                        "linecolor": "white",
                        "ticks": ""
                      },
                      "bgcolor": "#E5ECF6",
                      "radialaxis": {
                        "gridcolor": "white",
                        "linecolor": "white",
                        "ticks": ""
                      }
                    },
                    "scene": {
                      "xaxis": {
                        "backgroundcolor": "#E5ECF6",
                        "gridcolor": "white",
                        "gridwidth": 2,
                        "linecolor": "white",
                        "showbackground": true,
                        "ticks": "",
                        "zerolinecolor": "white"
                      },
                      "yaxis": {
                        "backgroundcolor": "#E5ECF6",
                        "gridcolor": "white",
                        "gridwidth": 2,
                        "linecolor": "white",
                        "showbackground": true,
                        "ticks": "",
                        "zerolinecolor": "white"
                      },
                      "zaxis": {
                        "backgroundcolor": "#E5ECF6",
                        "gridcolor": "white",
                        "gridwidth": 2,
                        "linecolor": "white",
                        "showbackground": true,
                        "ticks": "",
                        "zerolinecolor": "white"
                      }
                    },
                    "shapedefaults": {
                      "line": {
                        "color": "#2a3f5f"
                      }
                    },
                    "ternary": {
                      "aaxis": {
                        "gridcolor": "white",
                        "linecolor": "white",
                        "ticks": ""
                      },
                      "baxis": {
                        "gridcolor": "white",
                        "linecolor": "white",
                        "ticks": ""
                      },
                      "bgcolor": "#E5ECF6",
                      "caxis": {
                        "gridcolor": "white",
                        "linecolor": "white",
                        "ticks": ""
                      }
                    },
                    "title": {
                      "x": 0.05
                    },
                    "xaxis": {
                      "automargin": true,
                      "gridcolor": "white",
                      "linecolor": "white",
                      "ticks": "",
                      "title": {
                        "standoff": 15
                      },
                      "zerolinecolor": "white",
                      "zerolinewidth": 2
                    },
                    "yaxis": {
                      "automargin": true,
                      "gridcolor": "white",
                      "linecolor": "white",
                      "ticks": "",
                      "title": {
                        "standoff": 15
                      },
                      "zerolinecolor": "white",
                      "zerolinewidth": 2
                    }
                  }
                },
                "title": {
                  "text": "Optimization History Plot"
                },
                "xaxis": {
                  "title": {
                    "text": "Trial"
                  }
                },
                "yaxis": {
                  "title": {
                    "text": "Objective Value"
                  }
                }
              }
            }
          },
          "metadata": {},
          "output_type": "display_data"
        }
      ],
      "source": [
        "# 1. Optimization History\n",
        "plot_optimization_history(study).show()"
      ]
    },
    {
      "cell_type": "code",
      "execution_count": 31,
      "metadata": {
        "colab": {
          "base_uri": "https://localhost:8080/",
          "height": 562
        },
        "id": "0n7zfgCNCx-4",
        "outputId": "859a94ca-1453-40c2-c1ef-0f064e2d178a"
      },
      "outputs": [
        {
          "data": {
            "application/vnd.plotly.v1+json": {
              "config": {
                "plotlyServerURL": "https://plot.ly"
              },
              "data": [
                {
                  "marker": {
                    "color": [
                      3,
                      5,
                      8,
                      9,
                      28,
                      29,
                      30,
                      31,
                      32,
                      33,
                      34,
                      35,
                      36,
                      37,
                      38,
                      39,
                      40,
                      41,
                      42,
                      43,
                      44,
                      45,
                      46,
                      47,
                      48,
                      49,
                      50,
                      51,
                      52,
                      53,
                      54,
                      55,
                      56,
                      57,
                      58,
                      59,
                      61,
                      62,
                      63,
                      64,
                      65,
                      66,
                      67,
                      69,
                      70,
                      71,
                      72,
                      73,
                      74,
                      75,
                      76,
                      77,
                      79,
                      80,
                      81,
                      82,
                      83,
                      84,
                      85,
                      86,
                      87,
                      88,
                      89,
                      91,
                      92,
                      93,
                      94,
                      95,
                      96,
                      97,
                      99
                    ],
                    "colorbar": {
                      "title": {
                        "text": "Trial"
                      },
                      "x": 1,
                      "xpad": 40
                    },
                    "colorscale": [
                      [
                        0,
                        "rgb(247,251,255)"
                      ],
                      [
                        0.125,
                        "rgb(222,235,247)"
                      ],
                      [
                        0.25,
                        "rgb(198,219,239)"
                      ],
                      [
                        0.375,
                        "rgb(158,202,225)"
                      ],
                      [
                        0.5,
                        "rgb(107,174,214)"
                      ],
                      [
                        0.625,
                        "rgb(66,146,198)"
                      ],
                      [
                        0.75,
                        "rgb(33,113,181)"
                      ],
                      [
                        0.875,
                        "rgb(8,81,156)"
                      ],
                      [
                        1,
                        "rgb(8,48,107)"
                      ]
                    ],
                    "line": {
                      "color": "Grey",
                      "width": 0.5
                    },
                    "showscale": true
                  },
                  "mode": "markers",
                  "name": "Feasible Trial",
                  "showlegend": false,
                  "type": "scatter",
                  "x": [
                    18.93880560315681,
                    0.19958119703569244,
                    70.51625180782187,
                    0.3138131313966638,
                    2.700134833661428,
                    3.8696916281328826,
                    3.094483023197159,
                    3.4752963799962595,
                    2.9956723405715,
                    2.9128201586150295,
                    3.0973923968888006,
                    1.2229802933812663,
                    8.406943380748894,
                    1.0467459469600389,
                    7.1570630972663,
                    0.7656602851922112,
                    0.8279073603286955,
                    0.7287703937447606,
                    0.658927809783766,
                    0.6221988990764676,
                    0.5429054616871517,
                    0.6207375408331867,
                    0.9612112658520965,
                    0.3358412106269942,
                    0.1348000558858413,
                    0.19222597820651088,
                    0.10252620744958074,
                    0.1373847557371436,
                    0.11552806603134061,
                    0.12273406701086159,
                    0.10910336586436147,
                    0.10027755262361972,
                    0.16630692689764373,
                    0.13724167443837273,
                    0.2862627310570769,
                    0.2418336879954449,
                    0.16093419902413547,
                    0.1522362788352019,
                    0.14028251541626247,
                    0.10583976601564397,
                    0.35243272408457016,
                    0.19542540095332833,
                    0.13650753588742412,
                    0.14822230954066298,
                    89.45106043064757,
                    0.1324169974349912,
                    0.2312717178812806,
                    0.14069192427565408,
                    0.2296378840611921,
                    31.884047406514316,
                    0.13995617768954371,
                    0.3391776888335295,
                    0.13043640518431562,
                    0.4337186848429689,
                    0.18052428517531374,
                    0.12621840017656422,
                    0.17286491533387038,
                    0.26039984154718665,
                    0.13075763206268443,
                    2.064929780385493,
                    0.2047061238894373,
                    0.1501763744315003,
                    0.11408268794157686,
                    0.14106871542048613,
                    0.17839984252055158,
                    0.12622990414593496,
                    0.2700548430389234,
                    0.10040796490509511,
                    0.21126959536506768,
                    0.4246533262368329,
                    0.15061141409401588
                  ],
                  "xaxis": "x",
                  "y": [
                    0.6983240223463687,
                    0.7653631284916201,
                    0.7001862197392924,
                    0.7281191806331471,
                    0.7858472998137801,
                    0.7858472998137801,
                    0.7858472998137801,
                    0.7858472998137801,
                    0.7858472998137801,
                    0.7858472998137801,
                    0.7858472998137801,
                    0.7839851024208566,
                    0.7858472998137801,
                    0.7839851024208566,
                    0.7858472998137801,
                    0.7858472998137803,
                    0.7858472998137803,
                    0.7858472998137803,
                    0.7858472998137803,
                    0.7858472998137803,
                    0.7653631284916201,
                    0.7392923649906891,
                    0.7839851024208566,
                    0.7858472998137803,
                    0.7895716945996275,
                    0.7858472998137803,
                    0.7877094972067038,
                    0.7895716945996275,
                    0.7895716945996275,
                    0.7895716945996275,
                    0.707635009310987,
                    0.7094972067039106,
                    0.7709497206703911,
                    0.7746741154562384,
                    0.7858472998137803,
                    0.7858472998137803,
                    0.7877094972067038,
                    0.7895716945996275,
                    0.7895716945996275,
                    0.7132216014897579,
                    0.7839851024208566,
                    0.7746741154562383,
                    0.7895716945996275,
                    0.7132216014897579,
                    0.7858472998137801,
                    0.7895716945996275,
                    0.7858472998137803,
                    0.7895716945996275,
                    0.7858472998137803,
                    0.7858472998137801,
                    0.7895716945996275,
                    0.7839851024208566,
                    0.7895716945996275,
                    0.7839851024208566,
                    0.7877094972067038,
                    0.7895716945996275,
                    0.7877094972067038,
                    0.7858472998137803,
                    0.7895716945996275,
                    0.7858472998137801,
                    0.7858472998137803,
                    0.7895716945996275,
                    0.739292364990689,
                    0.7895716945996275,
                    0.7877094972067038,
                    0.7895716945996275,
                    0.7858472998137803,
                    0.7039106145251397,
                    0.7858472998137803,
                    0.7839851024208566,
                    0.7895716945996275
                  ],
                  "yaxis": "y"
                },
                {
                  "marker": {
                    "color": [
                      1,
                      2,
                      6,
                      10,
                      13,
                      15,
                      16,
                      18,
                      21,
                      22,
                      23,
                      24,
                      25,
                      26,
                      27,
                      90
                    ],
                    "colorbar": {
                      "title": {
                        "text": "Trial"
                      },
                      "x": 1,
                      "xpad": 40
                    },
                    "colorscale": [
                      [
                        0,
                        "rgb(247,251,255)"
                      ],
                      [
                        0.125,
                        "rgb(222,235,247)"
                      ],
                      [
                        0.25,
                        "rgb(198,219,239)"
                      ],
                      [
                        0.375,
                        "rgb(158,202,225)"
                      ],
                      [
                        0.5,
                        "rgb(107,174,214)"
                      ],
                      [
                        0.625,
                        "rgb(66,146,198)"
                      ],
                      [
                        0.75,
                        "rgb(33,113,181)"
                      ],
                      [
                        0.875,
                        "rgb(8,81,156)"
                      ],
                      [
                        1,
                        "rgb(8,48,107)"
                      ]
                    ],
                    "line": {
                      "color": "Grey",
                      "width": 0.5
                    },
                    "showscale": false
                  },
                  "mode": "markers",
                  "name": "Feasible Trial",
                  "showlegend": false,
                  "type": "scatter",
                  "x": [
                    true,
                    false,
                    false,
                    false,
                    false,
                    true,
                    false,
                    false,
                    false,
                    false,
                    false,
                    true,
                    false,
                    false,
                    true,
                    true
                  ],
                  "xaxis": "x2",
                  "y": [
                    0.7597765363128491,
                    0.7783985102420857,
                    0.7690875232774674,
                    0.7635009310986964,
                    0.7746741154562384,
                    0.7560521415270017,
                    0.7690875232774674,
                    0.750465549348231,
                    0.7765363128491619,
                    0.7765363128491621,
                    0.7746741154562384,
                    0.756052141527002,
                    0.7709497206703911,
                    0.7765363128491621,
                    0.7579143389199254,
                    0.7728119180633147
                  ],
                  "yaxis": "y2"
                },
                {
                  "marker": {
                    "color": [
                      0,
                      1,
                      2,
                      3,
                      4,
                      5,
                      6,
                      7,
                      8,
                      9,
                      10,
                      11,
                      12,
                      13,
                      14,
                      15,
                      16,
                      17,
                      18,
                      19,
                      20,
                      21,
                      22,
                      23,
                      24,
                      25,
                      26,
                      27,
                      28,
                      29,
                      30,
                      31,
                      32,
                      33,
                      34,
                      35,
                      36,
                      37,
                      38,
                      39,
                      40,
                      41,
                      42,
                      43,
                      44,
                      45,
                      46,
                      47,
                      48,
                      49,
                      50,
                      51,
                      52,
                      53,
                      54,
                      55,
                      56,
                      57,
                      58,
                      59,
                      60,
                      61,
                      62,
                      63,
                      64,
                      65,
                      66,
                      67,
                      68,
                      69,
                      70,
                      71,
                      72,
                      73,
                      74,
                      75,
                      76,
                      77,
                      78,
                      79,
                      80,
                      81,
                      82,
                      83,
                      84,
                      85,
                      86,
                      87,
                      88,
                      89,
                      90,
                      91,
                      92,
                      93,
                      94,
                      95,
                      96,
                      97,
                      98,
                      99
                    ],
                    "colorbar": {
                      "title": {
                        "text": "Trial"
                      },
                      "x": 1,
                      "xpad": 40
                    },
                    "colorscale": [
                      [
                        0,
                        "rgb(247,251,255)"
                      ],
                      [
                        0.125,
                        "rgb(222,235,247)"
                      ],
                      [
                        0.25,
                        "rgb(198,219,239)"
                      ],
                      [
                        0.375,
                        "rgb(158,202,225)"
                      ],
                      [
                        0.5,
                        "rgb(107,174,214)"
                      ],
                      [
                        0.625,
                        "rgb(66,146,198)"
                      ],
                      [
                        0.75,
                        "rgb(33,113,181)"
                      ],
                      [
                        0.875,
                        "rgb(8,81,156)"
                      ],
                      [
                        1,
                        "rgb(8,48,107)"
                      ]
                    ],
                    "line": {
                      "color": "Grey",
                      "width": 0.5
                    },
                    "showscale": false
                  },
                  "mode": "markers",
                  "name": "Feasible Trial",
                  "showlegend": false,
                  "type": "scatter",
                  "x": [
                    "GradientBoosting",
                    "RandomForest",
                    "RandomForest",
                    "SVM",
                    "GradientBoosting",
                    "SVM",
                    "RandomForest",
                    "GradientBoosting",
                    "SVM",
                    "SVM",
                    "RandomForest",
                    "GradientBoosting",
                    "GradientBoosting",
                    "RandomForest",
                    "GradientBoosting",
                    "RandomForest",
                    "RandomForest",
                    "GradientBoosting",
                    "RandomForest",
                    "GradientBoosting",
                    "GradientBoosting",
                    "RandomForest",
                    "RandomForest",
                    "RandomForest",
                    "RandomForest",
                    "RandomForest",
                    "RandomForest",
                    "RandomForest",
                    "SVM",
                    "SVM",
                    "SVM",
                    "SVM",
                    "SVM",
                    "SVM",
                    "SVM",
                    "SVM",
                    "SVM",
                    "SVM",
                    "SVM",
                    "SVM",
                    "SVM",
                    "SVM",
                    "SVM",
                    "SVM",
                    "SVM",
                    "SVM",
                    "SVM",
                    "SVM",
                    "SVM",
                    "SVM",
                    "SVM",
                    "SVM",
                    "SVM",
                    "SVM",
                    "SVM",
                    "SVM",
                    "SVM",
                    "SVM",
                    "SVM",
                    "SVM",
                    "GradientBoosting",
                    "SVM",
                    "SVM",
                    "SVM",
                    "SVM",
                    "SVM",
                    "SVM",
                    "SVM",
                    "GradientBoosting",
                    "SVM",
                    "SVM",
                    "SVM",
                    "SVM",
                    "SVM",
                    "SVM",
                    "SVM",
                    "SVM",
                    "SVM",
                    "GradientBoosting",
                    "SVM",
                    "SVM",
                    "SVM",
                    "SVM",
                    "SVM",
                    "SVM",
                    "SVM",
                    "SVM",
                    "SVM",
                    "SVM",
                    "SVM",
                    "RandomForest",
                    "SVM",
                    "SVM",
                    "SVM",
                    "SVM",
                    "SVM",
                    "SVM",
                    "SVM",
                    "GradientBoosting",
                    "SVM"
                  ],
                  "xaxis": "x3",
                  "y": [
                    0.7690875232774674,
                    0.7597765363128491,
                    0.7783985102420857,
                    0.6983240223463687,
                    0.7765363128491621,
                    0.7653631284916201,
                    0.7690875232774674,
                    0.7579143389199255,
                    0.7001862197392924,
                    0.7281191806331471,
                    0.7635009310986964,
                    0.7355679702048418,
                    0.7411545623836128,
                    0.7746741154562384,
                    0.74487895716946,
                    0.7560521415270017,
                    0.7690875232774674,
                    0.7541899441340782,
                    0.750465549348231,
                    0.7039106145251396,
                    0.7374301675977654,
                    0.7765363128491619,
                    0.7765363128491621,
                    0.7746741154562384,
                    0.756052141527002,
                    0.7709497206703911,
                    0.7765363128491621,
                    0.7579143389199254,
                    0.7858472998137801,
                    0.7858472998137801,
                    0.7858472998137801,
                    0.7858472998137801,
                    0.7858472998137801,
                    0.7858472998137801,
                    0.7858472998137801,
                    0.7839851024208566,
                    0.7858472998137801,
                    0.7839851024208566,
                    0.7858472998137801,
                    0.7858472998137803,
                    0.7858472998137803,
                    0.7858472998137803,
                    0.7858472998137803,
                    0.7858472998137803,
                    0.7653631284916201,
                    0.7392923649906891,
                    0.7839851024208566,
                    0.7858472998137803,
                    0.7895716945996275,
                    0.7858472998137803,
                    0.7877094972067038,
                    0.7895716945996275,
                    0.7895716945996275,
                    0.7895716945996275,
                    0.707635009310987,
                    0.7094972067039106,
                    0.7709497206703911,
                    0.7746741154562384,
                    0.7858472998137803,
                    0.7858472998137803,
                    0.7504655493482307,
                    0.7877094972067038,
                    0.7895716945996275,
                    0.7895716945996275,
                    0.7132216014897579,
                    0.7839851024208566,
                    0.7746741154562383,
                    0.7895716945996275,
                    0.7057728119180634,
                    0.7132216014897579,
                    0.7858472998137801,
                    0.7895716945996275,
                    0.7858472998137803,
                    0.7895716945996275,
                    0.7858472998137803,
                    0.7858472998137801,
                    0.7895716945996275,
                    0.7839851024208566,
                    0.7430167597765363,
                    0.7895716945996275,
                    0.7839851024208566,
                    0.7877094972067038,
                    0.7895716945996275,
                    0.7877094972067038,
                    0.7858472998137803,
                    0.7895716945996275,
                    0.7858472998137801,
                    0.7858472998137803,
                    0.7895716945996275,
                    0.739292364990689,
                    0.7728119180633147,
                    0.7895716945996275,
                    0.7877094972067038,
                    0.7895716945996275,
                    0.7858472998137803,
                    0.7039106145251397,
                    0.7858472998137803,
                    0.7839851024208566,
                    0.7430167597765363,
                    0.7895716945996275
                  ],
                  "yaxis": "y3"
                },
                {
                  "marker": {
                    "color": [
                      3,
                      5,
                      8,
                      9,
                      28,
                      29,
                      30,
                      31,
                      32,
                      33,
                      34,
                      35,
                      36,
                      37,
                      38,
                      39,
                      40,
                      41,
                      42,
                      43,
                      44,
                      45,
                      46,
                      47,
                      48,
                      49,
                      50,
                      51,
                      52,
                      53,
                      54,
                      55,
                      56,
                      57,
                      58,
                      59,
                      61,
                      62,
                      63,
                      64,
                      65,
                      66,
                      67,
                      69,
                      70,
                      71,
                      72,
                      73,
                      74,
                      75,
                      76,
                      77,
                      79,
                      80,
                      81,
                      82,
                      83,
                      84,
                      85,
                      86,
                      87,
                      88,
                      89,
                      91,
                      92,
                      93,
                      94,
                      95,
                      96,
                      97,
                      99
                    ],
                    "colorbar": {
                      "title": {
                        "text": "Trial"
                      },
                      "x": 1,
                      "xpad": 40
                    },
                    "colorscale": [
                      [
                        0,
                        "rgb(247,251,255)"
                      ],
                      [
                        0.125,
                        "rgb(222,235,247)"
                      ],
                      [
                        0.25,
                        "rgb(198,219,239)"
                      ],
                      [
                        0.375,
                        "rgb(158,202,225)"
                      ],
                      [
                        0.5,
                        "rgb(107,174,214)"
                      ],
                      [
                        0.625,
                        "rgb(66,146,198)"
                      ],
                      [
                        0.75,
                        "rgb(33,113,181)"
                      ],
                      [
                        0.875,
                        "rgb(8,81,156)"
                      ],
                      [
                        1,
                        "rgb(8,48,107)"
                      ]
                    ],
                    "line": {
                      "color": "Grey",
                      "width": 0.5
                    },
                    "showscale": false
                  },
                  "mode": "markers",
                  "name": "Feasible Trial",
                  "showlegend": false,
                  "type": "scatter",
                  "x": [
                    "scale",
                    "scale",
                    "scale",
                    "scale",
                    "auto",
                    "auto",
                    "auto",
                    "auto",
                    "auto",
                    "auto",
                    "auto",
                    "auto",
                    "auto",
                    "auto",
                    "auto",
                    "auto",
                    "auto",
                    "auto",
                    "auto",
                    "auto",
                    "auto",
                    "auto",
                    "auto",
                    "auto",
                    "auto",
                    "auto",
                    "auto",
                    "auto",
                    "auto",
                    "auto",
                    "auto",
                    "auto",
                    "scale",
                    "auto",
                    "auto",
                    "scale",
                    "auto",
                    "auto",
                    "auto",
                    "scale",
                    "auto",
                    "auto",
                    "auto",
                    "auto",
                    "scale",
                    "auto",
                    "auto",
                    "auto",
                    "auto",
                    "auto",
                    "auto",
                    "auto",
                    "auto",
                    "auto",
                    "auto",
                    "auto",
                    "auto",
                    "auto",
                    "auto",
                    "auto",
                    "auto",
                    "auto",
                    "auto",
                    "auto",
                    "auto",
                    "auto",
                    "auto",
                    "auto",
                    "auto",
                    "auto",
                    "scale"
                  ],
                  "xaxis": "x4",
                  "y": [
                    0.6983240223463687,
                    0.7653631284916201,
                    0.7001862197392924,
                    0.7281191806331471,
                    0.7858472998137801,
                    0.7858472998137801,
                    0.7858472998137801,
                    0.7858472998137801,
                    0.7858472998137801,
                    0.7858472998137801,
                    0.7858472998137801,
                    0.7839851024208566,
                    0.7858472998137801,
                    0.7839851024208566,
                    0.7858472998137801,
                    0.7858472998137803,
                    0.7858472998137803,
                    0.7858472998137803,
                    0.7858472998137803,
                    0.7858472998137803,
                    0.7653631284916201,
                    0.7392923649906891,
                    0.7839851024208566,
                    0.7858472998137803,
                    0.7895716945996275,
                    0.7858472998137803,
                    0.7877094972067038,
                    0.7895716945996275,
                    0.7895716945996275,
                    0.7895716945996275,
                    0.707635009310987,
                    0.7094972067039106,
                    0.7709497206703911,
                    0.7746741154562384,
                    0.7858472998137803,
                    0.7858472998137803,
                    0.7877094972067038,
                    0.7895716945996275,
                    0.7895716945996275,
                    0.7132216014897579,
                    0.7839851024208566,
                    0.7746741154562383,
                    0.7895716945996275,
                    0.7132216014897579,
                    0.7858472998137801,
                    0.7895716945996275,
                    0.7858472998137803,
                    0.7895716945996275,
                    0.7858472998137803,
                    0.7858472998137801,
                    0.7895716945996275,
                    0.7839851024208566,
                    0.7895716945996275,
                    0.7839851024208566,
                    0.7877094972067038,
                    0.7895716945996275,
                    0.7877094972067038,
                    0.7858472998137803,
                    0.7895716945996275,
                    0.7858472998137801,
                    0.7858472998137803,
                    0.7895716945996275,
                    0.739292364990689,
                    0.7895716945996275,
                    0.7877094972067038,
                    0.7895716945996275,
                    0.7858472998137803,
                    0.7039106145251397,
                    0.7858472998137803,
                    0.7839851024208566,
                    0.7895716945996275
                  ],
                  "yaxis": "y4"
                },
                {
                  "marker": {
                    "color": [
                      3,
                      5,
                      8,
                      9,
                      28,
                      29,
                      30,
                      31,
                      32,
                      33,
                      34,
                      35,
                      36,
                      37,
                      38,
                      39,
                      40,
                      41,
                      42,
                      43,
                      44,
                      45,
                      46,
                      47,
                      48,
                      49,
                      50,
                      51,
                      52,
                      53,
                      54,
                      55,
                      56,
                      57,
                      58,
                      59,
                      61,
                      62,
                      63,
                      64,
                      65,
                      66,
                      67,
                      69,
                      70,
                      71,
                      72,
                      73,
                      74,
                      75,
                      76,
                      77,
                      79,
                      80,
                      81,
                      82,
                      83,
                      84,
                      85,
                      86,
                      87,
                      88,
                      89,
                      91,
                      92,
                      93,
                      94,
                      95,
                      96,
                      97,
                      99
                    ],
                    "colorbar": {
                      "title": {
                        "text": "Trial"
                      },
                      "x": 1,
                      "xpad": 40
                    },
                    "colorscale": [
                      [
                        0,
                        "rgb(247,251,255)"
                      ],
                      [
                        0.125,
                        "rgb(222,235,247)"
                      ],
                      [
                        0.25,
                        "rgb(198,219,239)"
                      ],
                      [
                        0.375,
                        "rgb(158,202,225)"
                      ],
                      [
                        0.5,
                        "rgb(107,174,214)"
                      ],
                      [
                        0.625,
                        "rgb(66,146,198)"
                      ],
                      [
                        0.75,
                        "rgb(33,113,181)"
                      ],
                      [
                        0.875,
                        "rgb(8,81,156)"
                      ],
                      [
                        1,
                        "rgb(8,48,107)"
                      ]
                    ],
                    "line": {
                      "color": "Grey",
                      "width": 0.5
                    },
                    "showscale": false
                  },
                  "mode": "markers",
                  "name": "Feasible Trial",
                  "showlegend": false,
                  "type": "scatter",
                  "x": [
                    "sigmoid",
                    "rbf",
                    "sigmoid",
                    "poly",
                    "linear",
                    "linear",
                    "linear",
                    "linear",
                    "linear",
                    "linear",
                    "linear",
                    "linear",
                    "linear",
                    "linear",
                    "linear",
                    "linear",
                    "linear",
                    "linear",
                    "linear",
                    "linear",
                    "rbf",
                    "poly",
                    "linear",
                    "linear",
                    "linear",
                    "linear",
                    "linear",
                    "linear",
                    "linear",
                    "linear",
                    "poly",
                    "rbf",
                    "sigmoid",
                    "sigmoid",
                    "linear",
                    "linear",
                    "linear",
                    "linear",
                    "linear",
                    "rbf",
                    "linear",
                    "sigmoid",
                    "linear",
                    "poly",
                    "linear",
                    "linear",
                    "linear",
                    "linear",
                    "linear",
                    "linear",
                    "linear",
                    "linear",
                    "linear",
                    "linear",
                    "linear",
                    "linear",
                    "linear",
                    "linear",
                    "linear",
                    "linear",
                    "linear",
                    "linear",
                    "rbf",
                    "linear",
                    "linear",
                    "linear",
                    "linear",
                    "poly",
                    "linear",
                    "linear",
                    "linear"
                  ],
                  "xaxis": "x5",
                  "y": [
                    0.6983240223463687,
                    0.7653631284916201,
                    0.7001862197392924,
                    0.7281191806331471,
                    0.7858472998137801,
                    0.7858472998137801,
                    0.7858472998137801,
                    0.7858472998137801,
                    0.7858472998137801,
                    0.7858472998137801,
                    0.7858472998137801,
                    0.7839851024208566,
                    0.7858472998137801,
                    0.7839851024208566,
                    0.7858472998137801,
                    0.7858472998137803,
                    0.7858472998137803,
                    0.7858472998137803,
                    0.7858472998137803,
                    0.7858472998137803,
                    0.7653631284916201,
                    0.7392923649906891,
                    0.7839851024208566,
                    0.7858472998137803,
                    0.7895716945996275,
                    0.7858472998137803,
                    0.7877094972067038,
                    0.7895716945996275,
                    0.7895716945996275,
                    0.7895716945996275,
                    0.707635009310987,
                    0.7094972067039106,
                    0.7709497206703911,
                    0.7746741154562384,
                    0.7858472998137803,
                    0.7858472998137803,
                    0.7877094972067038,
                    0.7895716945996275,
                    0.7895716945996275,
                    0.7132216014897579,
                    0.7839851024208566,
                    0.7746741154562383,
                    0.7895716945996275,
                    0.7132216014897579,
                    0.7858472998137801,
                    0.7895716945996275,
                    0.7858472998137803,
                    0.7895716945996275,
                    0.7858472998137803,
                    0.7858472998137801,
                    0.7895716945996275,
                    0.7839851024208566,
                    0.7895716945996275,
                    0.7839851024208566,
                    0.7877094972067038,
                    0.7895716945996275,
                    0.7877094972067038,
                    0.7858472998137803,
                    0.7895716945996275,
                    0.7858472998137801,
                    0.7858472998137803,
                    0.7895716945996275,
                    0.739292364990689,
                    0.7895716945996275,
                    0.7877094972067038,
                    0.7895716945996275,
                    0.7858472998137803,
                    0.7039106145251397,
                    0.7858472998137803,
                    0.7839851024208566,
                    0.7895716945996275
                  ],
                  "yaxis": "y5"
                },
                {
                  "marker": {
                    "color": [
                      0,
                      4,
                      7,
                      11,
                      12,
                      14,
                      17,
                      19,
                      20,
                      60,
                      68,
                      78,
                      98
                    ],
                    "colorbar": {
                      "title": {
                        "text": "Trial"
                      },
                      "x": 1,
                      "xpad": 40
                    },
                    "colorscale": [
                      [
                        0,
                        "rgb(247,251,255)"
                      ],
                      [
                        0.125,
                        "rgb(222,235,247)"
                      ],
                      [
                        0.25,
                        "rgb(198,219,239)"
                      ],
                      [
                        0.375,
                        "rgb(158,202,225)"
                      ],
                      [
                        0.5,
                        "rgb(107,174,214)"
                      ],
                      [
                        0.625,
                        "rgb(66,146,198)"
                      ],
                      [
                        0.75,
                        "rgb(33,113,181)"
                      ],
                      [
                        0.875,
                        "rgb(8,81,156)"
                      ],
                      [
                        1,
                        "rgb(8,48,107)"
                      ]
                    ],
                    "line": {
                      "color": "Grey",
                      "width": 0.5
                    },
                    "showscale": false
                  },
                  "mode": "markers",
                  "name": "Feasible Trial",
                  "showlegend": false,
                  "type": "scatter",
                  "x": [
                    0.01886066265895101,
                    0.013235726827246243,
                    0.051617252108807805,
                    0.010738642605261422,
                    0.19393275317632097,
                    0.038440073925765386,
                    0.2337715971178334,
                    0.01042781077601645,
                    0.10272973374366656,
                    0.09992669129393479,
                    0.026896098249952143,
                    0.0942371895967567,
                    0.16037286960071015
                  ],
                  "xaxis": "x6",
                  "y": [
                    0.7690875232774674,
                    0.7765363128491621,
                    0.7579143389199255,
                    0.7355679702048418,
                    0.7411545623836128,
                    0.74487895716946,
                    0.7541899441340782,
                    0.7039106145251396,
                    0.7374301675977654,
                    0.7504655493482307,
                    0.7057728119180634,
                    0.7430167597765363,
                    0.7430167597765363
                  ],
                  "yaxis": "y6"
                },
                {
                  "marker": {
                    "color": [
                      0,
                      1,
                      2,
                      4,
                      6,
                      7,
                      10,
                      11,
                      12,
                      13,
                      14,
                      15,
                      16,
                      17,
                      18,
                      19,
                      20,
                      21,
                      22,
                      23,
                      24,
                      25,
                      26,
                      27,
                      60,
                      68,
                      78,
                      90,
                      98
                    ],
                    "colorbar": {
                      "title": {
                        "text": "Trial"
                      },
                      "x": 1,
                      "xpad": 40
                    },
                    "colorscale": [
                      [
                        0,
                        "rgb(247,251,255)"
                      ],
                      [
                        0.125,
                        "rgb(222,235,247)"
                      ],
                      [
                        0.25,
                        "rgb(198,219,239)"
                      ],
                      [
                        0.375,
                        "rgb(158,202,225)"
                      ],
                      [
                        0.5,
                        "rgb(107,174,214)"
                      ],
                      [
                        0.625,
                        "rgb(66,146,198)"
                      ],
                      [
                        0.75,
                        "rgb(33,113,181)"
                      ],
                      [
                        0.875,
                        "rgb(8,81,156)"
                      ],
                      [
                        1,
                        "rgb(8,48,107)"
                      ]
                    ],
                    "line": {
                      "color": "Grey",
                      "width": 0.5
                    },
                    "showscale": false
                  },
                  "mode": "markers",
                  "name": "Feasible Trial",
                  "showlegend": false,
                  "type": "scatter",
                  "x": [
                    5,
                    19,
                    13,
                    7,
                    8,
                    4,
                    15,
                    11,
                    13,
                    9,
                    16,
                    7,
                    11,
                    20,
                    3,
                    14,
                    17,
                    9,
                    6,
                    6,
                    10,
                    13,
                    6,
                    3,
                    17,
                    19,
                    18,
                    15,
                    20
                  ],
                  "xaxis": "x7",
                  "y": [
                    0.7690875232774674,
                    0.7597765363128491,
                    0.7783985102420857,
                    0.7765363128491621,
                    0.7690875232774674,
                    0.7579143389199255,
                    0.7635009310986964,
                    0.7355679702048418,
                    0.7411545623836128,
                    0.7746741154562384,
                    0.74487895716946,
                    0.7560521415270017,
                    0.7690875232774674,
                    0.7541899441340782,
                    0.750465549348231,
                    0.7039106145251396,
                    0.7374301675977654,
                    0.7765363128491619,
                    0.7765363128491621,
                    0.7746741154562384,
                    0.756052141527002,
                    0.7709497206703911,
                    0.7765363128491621,
                    0.7579143389199254,
                    0.7504655493482307,
                    0.7057728119180634,
                    0.7430167597765363,
                    0.7728119180633147,
                    0.7430167597765363
                  ],
                  "yaxis": "y7"
                },
                {
                  "marker": {
                    "color": [
                      0,
                      1,
                      2,
                      4,
                      6,
                      7,
                      10,
                      11,
                      12,
                      13,
                      14,
                      15,
                      16,
                      17,
                      18,
                      19,
                      20,
                      21,
                      22,
                      23,
                      24,
                      25,
                      26,
                      27,
                      60,
                      68,
                      78,
                      90,
                      98
                    ],
                    "colorbar": {
                      "title": {
                        "text": "Trial"
                      },
                      "x": 1,
                      "xpad": 40
                    },
                    "colorscale": [
                      [
                        0,
                        "rgb(247,251,255)"
                      ],
                      [
                        0.125,
                        "rgb(222,235,247)"
                      ],
                      [
                        0.25,
                        "rgb(198,219,239)"
                      ],
                      [
                        0.375,
                        "rgb(158,202,225)"
                      ],
                      [
                        0.5,
                        "rgb(107,174,214)"
                      ],
                      [
                        0.625,
                        "rgb(66,146,198)"
                      ],
                      [
                        0.75,
                        "rgb(33,113,181)"
                      ],
                      [
                        0.875,
                        "rgb(8,81,156)"
                      ],
                      [
                        1,
                        "rgb(8,48,107)"
                      ]
                    ],
                    "line": {
                      "color": "Grey",
                      "width": 0.5
                    },
                    "showscale": false
                  },
                  "mode": "markers",
                  "name": "Feasible Trial",
                  "showlegend": false,
                  "type": "scatter",
                  "x": [
                    2,
                    9,
                    9,
                    9,
                    8,
                    8,
                    4,
                    10,
                    6,
                    6,
                    10,
                    8,
                    7,
                    4,
                    10,
                    1,
                    4,
                    6,
                    7,
                    9,
                    7,
                    9,
                    7,
                    8,
                    3,
                    1,
                    2,
                    5,
                    2
                  ],
                  "xaxis": "x8",
                  "y": [
                    0.7690875232774674,
                    0.7597765363128491,
                    0.7783985102420857,
                    0.7765363128491621,
                    0.7690875232774674,
                    0.7579143389199255,
                    0.7635009310986964,
                    0.7355679702048418,
                    0.7411545623836128,
                    0.7746741154562384,
                    0.74487895716946,
                    0.7560521415270017,
                    0.7690875232774674,
                    0.7541899441340782,
                    0.750465549348231,
                    0.7039106145251396,
                    0.7374301675977654,
                    0.7765363128491619,
                    0.7765363128491621,
                    0.7746741154562384,
                    0.756052141527002,
                    0.7709497206703911,
                    0.7765363128491621,
                    0.7579143389199254,
                    0.7504655493482307,
                    0.7057728119180634,
                    0.7430167597765363,
                    0.7728119180633147,
                    0.7430167597765363
                  ],
                  "yaxis": "y8"
                },
                {
                  "marker": {
                    "color": [
                      0,
                      1,
                      2,
                      4,
                      6,
                      7,
                      10,
                      11,
                      12,
                      13,
                      14,
                      15,
                      16,
                      17,
                      18,
                      19,
                      20,
                      21,
                      22,
                      23,
                      24,
                      25,
                      26,
                      27,
                      60,
                      68,
                      78,
                      90,
                      98
                    ],
                    "colorbar": {
                      "title": {
                        "text": "Trial"
                      },
                      "x": 1,
                      "xpad": 40
                    },
                    "colorscale": [
                      [
                        0,
                        "rgb(247,251,255)"
                      ],
                      [
                        0.125,
                        "rgb(222,235,247)"
                      ],
                      [
                        0.25,
                        "rgb(198,219,239)"
                      ],
                      [
                        0.375,
                        "rgb(158,202,225)"
                      ],
                      [
                        0.5,
                        "rgb(107,174,214)"
                      ],
                      [
                        0.625,
                        "rgb(66,146,198)"
                      ],
                      [
                        0.75,
                        "rgb(33,113,181)"
                      ],
                      [
                        0.875,
                        "rgb(8,81,156)"
                      ],
                      [
                        1,
                        "rgb(8,48,107)"
                      ]
                    ],
                    "line": {
                      "color": "Grey",
                      "width": 0.5
                    },
                    "showscale": false
                  },
                  "mode": "markers",
                  "name": "Feasible Trial",
                  "showlegend": false,
                  "type": "scatter",
                  "x": [
                    3,
                    3,
                    2,
                    10,
                    4,
                    3,
                    7,
                    10,
                    10,
                    7,
                    5,
                    8,
                    2,
                    9,
                    6,
                    5,
                    8,
                    7,
                    9,
                    9,
                    9,
                    10,
                    8,
                    2,
                    5,
                    6,
                    4,
                    3,
                    4
                  ],
                  "xaxis": "x9",
                  "y": [
                    0.7690875232774674,
                    0.7597765363128491,
                    0.7783985102420857,
                    0.7765363128491621,
                    0.7690875232774674,
                    0.7579143389199255,
                    0.7635009310986964,
                    0.7355679702048418,
                    0.7411545623836128,
                    0.7746741154562384,
                    0.74487895716946,
                    0.7560521415270017,
                    0.7690875232774674,
                    0.7541899441340782,
                    0.750465549348231,
                    0.7039106145251396,
                    0.7374301675977654,
                    0.7765363128491619,
                    0.7765363128491621,
                    0.7746741154562384,
                    0.756052141527002,
                    0.7709497206703911,
                    0.7765363128491621,
                    0.7579143389199254,
                    0.7504655493482307,
                    0.7057728119180634,
                    0.7430167597765363,
                    0.7728119180633147,
                    0.7430167597765363
                  ],
                  "yaxis": "y9"
                },
                {
                  "marker": {
                    "color": [
                      0,
                      1,
                      2,
                      4,
                      6,
                      7,
                      10,
                      11,
                      12,
                      13,
                      14,
                      15,
                      16,
                      17,
                      18,
                      19,
                      20,
                      21,
                      22,
                      23,
                      24,
                      25,
                      26,
                      27,
                      60,
                      68,
                      78,
                      90,
                      98
                    ],
                    "colorbar": {
                      "title": {
                        "text": "Trial"
                      },
                      "x": 1,
                      "xpad": 40
                    },
                    "colorscale": [
                      [
                        0,
                        "rgb(247,251,255)"
                      ],
                      [
                        0.125,
                        "rgb(222,235,247)"
                      ],
                      [
                        0.25,
                        "rgb(198,219,239)"
                      ],
                      [
                        0.375,
                        "rgb(158,202,225)"
                      ],
                      [
                        0.5,
                        "rgb(107,174,214)"
                      ],
                      [
                        0.625,
                        "rgb(66,146,198)"
                      ],
                      [
                        0.75,
                        "rgb(33,113,181)"
                      ],
                      [
                        0.875,
                        "rgb(8,81,156)"
                      ],
                      [
                        1,
                        "rgb(8,48,107)"
                      ]
                    ],
                    "line": {
                      "color": "Grey",
                      "width": 0.5
                    },
                    "showscale": false
                  },
                  "mode": "markers",
                  "name": "Feasible Trial",
                  "showlegend": false,
                  "type": "scatter",
                  "x": [
                    126,
                    176,
                    153,
                    199,
                    201,
                    149,
                    275,
                    64,
                    235,
                    105,
                    218,
                    159,
                    282,
                    89,
                    188,
                    246,
                    135,
                    108,
                    105,
                    50,
                    168,
                    205,
                    85,
                    136,
                    300,
                    264,
                    240,
                    69,
                    293
                  ],
                  "xaxis": "x10",
                  "y": [
                    0.7690875232774674,
                    0.7597765363128491,
                    0.7783985102420857,
                    0.7765363128491621,
                    0.7690875232774674,
                    0.7579143389199255,
                    0.7635009310986964,
                    0.7355679702048418,
                    0.7411545623836128,
                    0.7746741154562384,
                    0.74487895716946,
                    0.7560521415270017,
                    0.7690875232774674,
                    0.7541899441340782,
                    0.750465549348231,
                    0.7039106145251396,
                    0.7374301675977654,
                    0.7765363128491619,
                    0.7765363128491621,
                    0.7746741154562384,
                    0.756052141527002,
                    0.7709497206703911,
                    0.7765363128491621,
                    0.7579143389199254,
                    0.7504655493482307,
                    0.7057728119180634,
                    0.7430167597765363,
                    0.7728119180633147,
                    0.7430167597765363
                  ],
                  "yaxis": "y10"
                }
              ],
              "layout": {
                "template": {
                  "data": {
                    "bar": [
                      {
                        "error_x": {
                          "color": "#2a3f5f"
                        },
                        "error_y": {
                          "color": "#2a3f5f"
                        },
                        "marker": {
                          "line": {
                            "color": "#E5ECF6",
                            "width": 0.5
                          },
                          "pattern": {
                            "fillmode": "overlay",
                            "size": 10,
                            "solidity": 0.2
                          }
                        },
                        "type": "bar"
                      }
                    ],
                    "barpolar": [
                      {
                        "marker": {
                          "line": {
                            "color": "#E5ECF6",
                            "width": 0.5
                          },
                          "pattern": {
                            "fillmode": "overlay",
                            "size": 10,
                            "solidity": 0.2
                          }
                        },
                        "type": "barpolar"
                      }
                    ],
                    "carpet": [
                      {
                        "aaxis": {
                          "endlinecolor": "#2a3f5f",
                          "gridcolor": "white",
                          "linecolor": "white",
                          "minorgridcolor": "white",
                          "startlinecolor": "#2a3f5f"
                        },
                        "baxis": {
                          "endlinecolor": "#2a3f5f",
                          "gridcolor": "white",
                          "linecolor": "white",
                          "minorgridcolor": "white",
                          "startlinecolor": "#2a3f5f"
                        },
                        "type": "carpet"
                      }
                    ],
                    "choropleth": [
                      {
                        "colorbar": {
                          "outlinewidth": 0,
                          "ticks": ""
                        },
                        "type": "choropleth"
                      }
                    ],
                    "contour": [
                      {
                        "colorbar": {
                          "outlinewidth": 0,
                          "ticks": ""
                        },
                        "colorscale": [
                          [
                            0,
                            "#0d0887"
                          ],
                          [
                            0.1111111111111111,
                            "#46039f"
                          ],
                          [
                            0.2222222222222222,
                            "#7201a8"
                          ],
                          [
                            0.3333333333333333,
                            "#9c179e"
                          ],
                          [
                            0.4444444444444444,
                            "#bd3786"
                          ],
                          [
                            0.5555555555555556,
                            "#d8576b"
                          ],
                          [
                            0.6666666666666666,
                            "#ed7953"
                          ],
                          [
                            0.7777777777777778,
                            "#fb9f3a"
                          ],
                          [
                            0.8888888888888888,
                            "#fdca26"
                          ],
                          [
                            1,
                            "#f0f921"
                          ]
                        ],
                        "type": "contour"
                      }
                    ],
                    "contourcarpet": [
                      {
                        "colorbar": {
                          "outlinewidth": 0,
                          "ticks": ""
                        },
                        "type": "contourcarpet"
                      }
                    ],
                    "heatmap": [
                      {
                        "colorbar": {
                          "outlinewidth": 0,
                          "ticks": ""
                        },
                        "colorscale": [
                          [
                            0,
                            "#0d0887"
                          ],
                          [
                            0.1111111111111111,
                            "#46039f"
                          ],
                          [
                            0.2222222222222222,
                            "#7201a8"
                          ],
                          [
                            0.3333333333333333,
                            "#9c179e"
                          ],
                          [
                            0.4444444444444444,
                            "#bd3786"
                          ],
                          [
                            0.5555555555555556,
                            "#d8576b"
                          ],
                          [
                            0.6666666666666666,
                            "#ed7953"
                          ],
                          [
                            0.7777777777777778,
                            "#fb9f3a"
                          ],
                          [
                            0.8888888888888888,
                            "#fdca26"
                          ],
                          [
                            1,
                            "#f0f921"
                          ]
                        ],
                        "type": "heatmap"
                      }
                    ],
                    "histogram": [
                      {
                        "marker": {
                          "pattern": {
                            "fillmode": "overlay",
                            "size": 10,
                            "solidity": 0.2
                          }
                        },
                        "type": "histogram"
                      }
                    ],
                    "histogram2d": [
                      {
                        "colorbar": {
                          "outlinewidth": 0,
                          "ticks": ""
                        },
                        "colorscale": [
                          [
                            0,
                            "#0d0887"
                          ],
                          [
                            0.1111111111111111,
                            "#46039f"
                          ],
                          [
                            0.2222222222222222,
                            "#7201a8"
                          ],
                          [
                            0.3333333333333333,
                            "#9c179e"
                          ],
                          [
                            0.4444444444444444,
                            "#bd3786"
                          ],
                          [
                            0.5555555555555556,
                            "#d8576b"
                          ],
                          [
                            0.6666666666666666,
                            "#ed7953"
                          ],
                          [
                            0.7777777777777778,
                            "#fb9f3a"
                          ],
                          [
                            0.8888888888888888,
                            "#fdca26"
                          ],
                          [
                            1,
                            "#f0f921"
                          ]
                        ],
                        "type": "histogram2d"
                      }
                    ],
                    "histogram2dcontour": [
                      {
                        "colorbar": {
                          "outlinewidth": 0,
                          "ticks": ""
                        },
                        "colorscale": [
                          [
                            0,
                            "#0d0887"
                          ],
                          [
                            0.1111111111111111,
                            "#46039f"
                          ],
                          [
                            0.2222222222222222,
                            "#7201a8"
                          ],
                          [
                            0.3333333333333333,
                            "#9c179e"
                          ],
                          [
                            0.4444444444444444,
                            "#bd3786"
                          ],
                          [
                            0.5555555555555556,
                            "#d8576b"
                          ],
                          [
                            0.6666666666666666,
                            "#ed7953"
                          ],
                          [
                            0.7777777777777778,
                            "#fb9f3a"
                          ],
                          [
                            0.8888888888888888,
                            "#fdca26"
                          ],
                          [
                            1,
                            "#f0f921"
                          ]
                        ],
                        "type": "histogram2dcontour"
                      }
                    ],
                    "mesh3d": [
                      {
                        "colorbar": {
                          "outlinewidth": 0,
                          "ticks": ""
                        },
                        "type": "mesh3d"
                      }
                    ],
                    "parcoords": [
                      {
                        "line": {
                          "colorbar": {
                            "outlinewidth": 0,
                            "ticks": ""
                          }
                        },
                        "type": "parcoords"
                      }
                    ],
                    "pie": [
                      {
                        "automargin": true,
                        "type": "pie"
                      }
                    ],
                    "scatter": [
                      {
                        "fillpattern": {
                          "fillmode": "overlay",
                          "size": 10,
                          "solidity": 0.2
                        },
                        "type": "scatter"
                      }
                    ],
                    "scatter3d": [
                      {
                        "line": {
                          "colorbar": {
                            "outlinewidth": 0,
                            "ticks": ""
                          }
                        },
                        "marker": {
                          "colorbar": {
                            "outlinewidth": 0,
                            "ticks": ""
                          }
                        },
                        "type": "scatter3d"
                      }
                    ],
                    "scattercarpet": [
                      {
                        "marker": {
                          "colorbar": {
                            "outlinewidth": 0,
                            "ticks": ""
                          }
                        },
                        "type": "scattercarpet"
                      }
                    ],
                    "scattergeo": [
                      {
                        "marker": {
                          "colorbar": {
                            "outlinewidth": 0,
                            "ticks": ""
                          }
                        },
                        "type": "scattergeo"
                      }
                    ],
                    "scattergl": [
                      {
                        "marker": {
                          "colorbar": {
                            "outlinewidth": 0,
                            "ticks": ""
                          }
                        },
                        "type": "scattergl"
                      }
                    ],
                    "scattermap": [
                      {
                        "marker": {
                          "colorbar": {
                            "outlinewidth": 0,
                            "ticks": ""
                          }
                        },
                        "type": "scattermap"
                      }
                    ],
                    "scattermapbox": [
                      {
                        "marker": {
                          "colorbar": {
                            "outlinewidth": 0,
                            "ticks": ""
                          }
                        },
                        "type": "scattermapbox"
                      }
                    ],
                    "scatterpolar": [
                      {
                        "marker": {
                          "colorbar": {
                            "outlinewidth": 0,
                            "ticks": ""
                          }
                        },
                        "type": "scatterpolar"
                      }
                    ],
                    "scatterpolargl": [
                      {
                        "marker": {
                          "colorbar": {
                            "outlinewidth": 0,
                            "ticks": ""
                          }
                        },
                        "type": "scatterpolargl"
                      }
                    ],
                    "scatterternary": [
                      {
                        "marker": {
                          "colorbar": {
                            "outlinewidth": 0,
                            "ticks": ""
                          }
                        },
                        "type": "scatterternary"
                      }
                    ],
                    "surface": [
                      {
                        "colorbar": {
                          "outlinewidth": 0,
                          "ticks": ""
                        },
                        "colorscale": [
                          [
                            0,
                            "#0d0887"
                          ],
                          [
                            0.1111111111111111,
                            "#46039f"
                          ],
                          [
                            0.2222222222222222,
                            "#7201a8"
                          ],
                          [
                            0.3333333333333333,
                            "#9c179e"
                          ],
                          [
                            0.4444444444444444,
                            "#bd3786"
                          ],
                          [
                            0.5555555555555556,
                            "#d8576b"
                          ],
                          [
                            0.6666666666666666,
                            "#ed7953"
                          ],
                          [
                            0.7777777777777778,
                            "#fb9f3a"
                          ],
                          [
                            0.8888888888888888,
                            "#fdca26"
                          ],
                          [
                            1,
                            "#f0f921"
                          ]
                        ],
                        "type": "surface"
                      }
                    ],
                    "table": [
                      {
                        "cells": {
                          "fill": {
                            "color": "#EBF0F8"
                          },
                          "line": {
                            "color": "white"
                          }
                        },
                        "header": {
                          "fill": {
                            "color": "#C8D4E3"
                          },
                          "line": {
                            "color": "white"
                          }
                        },
                        "type": "table"
                      }
                    ]
                  },
                  "layout": {
                    "annotationdefaults": {
                      "arrowcolor": "#2a3f5f",
                      "arrowhead": 0,
                      "arrowwidth": 1
                    },
                    "autotypenumbers": "strict",
                    "coloraxis": {
                      "colorbar": {
                        "outlinewidth": 0,
                        "ticks": ""
                      }
                    },
                    "colorscale": {
                      "diverging": [
                        [
                          0,
                          "#8e0152"
                        ],
                        [
                          0.1,
                          "#c51b7d"
                        ],
                        [
                          0.2,
                          "#de77ae"
                        ],
                        [
                          0.3,
                          "#f1b6da"
                        ],
                        [
                          0.4,
                          "#fde0ef"
                        ],
                        [
                          0.5,
                          "#f7f7f7"
                        ],
                        [
                          0.6,
                          "#e6f5d0"
                        ],
                        [
                          0.7,
                          "#b8e186"
                        ],
                        [
                          0.8,
                          "#7fbc41"
                        ],
                        [
                          0.9,
                          "#4d9221"
                        ],
                        [
                          1,
                          "#276419"
                        ]
                      ],
                      "sequential": [
                        [
                          0,
                          "#0d0887"
                        ],
                        [
                          0.1111111111111111,
                          "#46039f"
                        ],
                        [
                          0.2222222222222222,
                          "#7201a8"
                        ],
                        [
                          0.3333333333333333,
                          "#9c179e"
                        ],
                        [
                          0.4444444444444444,
                          "#bd3786"
                        ],
                        [
                          0.5555555555555556,
                          "#d8576b"
                        ],
                        [
                          0.6666666666666666,
                          "#ed7953"
                        ],
                        [
                          0.7777777777777778,
                          "#fb9f3a"
                        ],
                        [
                          0.8888888888888888,
                          "#fdca26"
                        ],
                        [
                          1,
                          "#f0f921"
                        ]
                      ],
                      "sequentialminus": [
                        [
                          0,
                          "#0d0887"
                        ],
                        [
                          0.1111111111111111,
                          "#46039f"
                        ],
                        [
                          0.2222222222222222,
                          "#7201a8"
                        ],
                        [
                          0.3333333333333333,
                          "#9c179e"
                        ],
                        [
                          0.4444444444444444,
                          "#bd3786"
                        ],
                        [
                          0.5555555555555556,
                          "#d8576b"
                        ],
                        [
                          0.6666666666666666,
                          "#ed7953"
                        ],
                        [
                          0.7777777777777778,
                          "#fb9f3a"
                        ],
                        [
                          0.8888888888888888,
                          "#fdca26"
                        ],
                        [
                          1,
                          "#f0f921"
                        ]
                      ]
                    },
                    "colorway": [
                      "#636efa",
                      "#EF553B",
                      "#00cc96",
                      "#ab63fa",
                      "#FFA15A",
                      "#19d3f3",
                      "#FF6692",
                      "#B6E880",
                      "#FF97FF",
                      "#FECB52"
                    ],
                    "font": {
                      "color": "#2a3f5f"
                    },
                    "geo": {
                      "bgcolor": "white",
                      "lakecolor": "white",
                      "landcolor": "#E5ECF6",
                      "showlakes": true,
                      "showland": true,
                      "subunitcolor": "white"
                    },
                    "hoverlabel": {
                      "align": "left"
                    },
                    "hovermode": "closest",
                    "mapbox": {
                      "style": "light"
                    },
                    "paper_bgcolor": "white",
                    "plot_bgcolor": "#E5ECF6",
                    "polar": {
                      "angularaxis": {
                        "gridcolor": "white",
                        "linecolor": "white",
                        "ticks": ""
                      },
                      "bgcolor": "#E5ECF6",
                      "radialaxis": {
                        "gridcolor": "white",
                        "linecolor": "white",
                        "ticks": ""
                      }
                    },
                    "scene": {
                      "xaxis": {
                        "backgroundcolor": "#E5ECF6",
                        "gridcolor": "white",
                        "gridwidth": 2,
                        "linecolor": "white",
                        "showbackground": true,
                        "ticks": "",
                        "zerolinecolor": "white"
                      },
                      "yaxis": {
                        "backgroundcolor": "#E5ECF6",
                        "gridcolor": "white",
                        "gridwidth": 2,
                        "linecolor": "white",
                        "showbackground": true,
                        "ticks": "",
                        "zerolinecolor": "white"
                      },
                      "zaxis": {
                        "backgroundcolor": "#E5ECF6",
                        "gridcolor": "white",
                        "gridwidth": 2,
                        "linecolor": "white",
                        "showbackground": true,
                        "ticks": "",
                        "zerolinecolor": "white"
                      }
                    },
                    "shapedefaults": {
                      "line": {
                        "color": "#2a3f5f"
                      }
                    },
                    "ternary": {
                      "aaxis": {
                        "gridcolor": "white",
                        "linecolor": "white",
                        "ticks": ""
                      },
                      "baxis": {
                        "gridcolor": "white",
                        "linecolor": "white",
                        "ticks": ""
                      },
                      "bgcolor": "#E5ECF6",
                      "caxis": {
                        "gridcolor": "white",
                        "linecolor": "white",
                        "ticks": ""
                      }
                    },
                    "title": {
                      "x": 0.05
                    },
                    "xaxis": {
                      "automargin": true,
                      "gridcolor": "white",
                      "linecolor": "white",
                      "ticks": "",
                      "title": {
                        "standoff": 15
                      },
                      "zerolinecolor": "white",
                      "zerolinewidth": 2
                    },
                    "yaxis": {
                      "automargin": true,
                      "gridcolor": "white",
                      "linecolor": "white",
                      "ticks": "",
                      "title": {
                        "standoff": 15
                      },
                      "zerolinecolor": "white",
                      "zerolinewidth": 2
                    }
                  }
                },
                "title": {
                  "text": "Slice Plot"
                },
                "width": 3000,
                "xaxis": {
                  "anchor": "y",
                  "domain": [
                    0,
                    0.082
                  ],
                  "title": {
                    "text": "C"
                  },
                  "type": "log"
                },
                "xaxis10": {
                  "anchor": "y10",
                  "domain": [
                    0.9179999999999999,
                    0.9999999999999999
                  ],
                  "title": {
                    "text": "n_estimators"
                  }
                },
                "xaxis2": {
                  "anchor": "y2",
                  "categoryarray": [
                    true,
                    false
                  ],
                  "categoryorder": "array",
                  "domain": [
                    0.10200000000000001,
                    0.184
                  ],
                  "title": {
                    "text": "bootstrap"
                  },
                  "type": "category"
                },
                "xaxis3": {
                  "anchor": "y3",
                  "categoryarray": [
                    "SVM",
                    "RandomForest",
                    "GradientBoosting"
                  ],
                  "categoryorder": "array",
                  "domain": [
                    0.20400000000000001,
                    0.28600000000000003
                  ],
                  "title": {
                    "text": "classifier"
                  },
                  "type": "category"
                },
                "xaxis4": {
                  "anchor": "y4",
                  "categoryarray": [
                    "scale",
                    "auto"
                  ],
                  "categoryorder": "array",
                  "domain": [
                    0.306,
                    0.388
                  ],
                  "title": {
                    "text": "gamma"
                  },
                  "type": "category"
                },
                "xaxis5": {
                  "anchor": "y5",
                  "categoryarray": [
                    "linear",
                    "rbf",
                    "poly",
                    "sigmoid"
                  ],
                  "categoryorder": "array",
                  "domain": [
                    0.40800000000000003,
                    0.49000000000000005
                  ],
                  "title": {
                    "text": "kernel"
                  },
                  "type": "category"
                },
                "xaxis6": {
                  "anchor": "y6",
                  "domain": [
                    0.51,
                    0.592
                  ],
                  "title": {
                    "text": "learning_rate"
                  },
                  "type": "log"
                },
                "xaxis7": {
                  "anchor": "y7",
                  "domain": [
                    0.6120000000000001,
                    0.6940000000000001
                  ],
                  "title": {
                    "text": "max_depth"
                  }
                },
                "xaxis8": {
                  "anchor": "y8",
                  "domain": [
                    0.7140000000000001,
                    0.796
                  ],
                  "title": {
                    "text": "min_samples_leaf"
                  }
                },
                "xaxis9": {
                  "anchor": "y9",
                  "domain": [
                    0.8160000000000001,
                    0.898
                  ],
                  "title": {
                    "text": "min_samples_split"
                  }
                },
                "yaxis": {
                  "anchor": "x",
                  "domain": [
                    0,
                    1
                  ],
                  "title": {
                    "text": "Objective Value"
                  }
                },
                "yaxis10": {
                  "anchor": "x10",
                  "domain": [
                    0,
                    1
                  ],
                  "matches": "y",
                  "showticklabels": false
                },
                "yaxis2": {
                  "anchor": "x2",
                  "domain": [
                    0,
                    1
                  ],
                  "matches": "y",
                  "showticklabels": false
                },
                "yaxis3": {
                  "anchor": "x3",
                  "domain": [
                    0,
                    1
                  ],
                  "matches": "y",
                  "showticklabels": false
                },
                "yaxis4": {
                  "anchor": "x4",
                  "domain": [
                    0,
                    1
                  ],
                  "matches": "y",
                  "showticklabels": false
                },
                "yaxis5": {
                  "anchor": "x5",
                  "domain": [
                    0,
                    1
                  ],
                  "matches": "y",
                  "showticklabels": false
                },
                "yaxis6": {
                  "anchor": "x6",
                  "domain": [
                    0,
                    1
                  ],
                  "matches": "y",
                  "showticklabels": false
                },
                "yaxis7": {
                  "anchor": "x7",
                  "domain": [
                    0,
                    1
                  ],
                  "matches": "y",
                  "showticklabels": false
                },
                "yaxis8": {
                  "anchor": "x8",
                  "domain": [
                    0,
                    1
                  ],
                  "matches": "y",
                  "showticklabels": false
                },
                "yaxis9": {
                  "anchor": "x9",
                  "domain": [
                    0,
                    1
                  ],
                  "matches": "y",
                  "showticklabels": false
                }
              }
            }
          },
          "metadata": {},
          "output_type": "display_data"
        }
      ],
      "source": [
        "# 3. Slice Plot\n",
        "plot_slice(study).show()"
      ]
    },
    {
      "cell_type": "code",
      "execution_count": 32,
      "metadata": {
        "colab": {
          "base_uri": "https://localhost:8080/",
          "height": 542
        },
        "id": "rUhujoemC4hI",
        "outputId": "6fce31a5-69be-4e4a-b594-108b5257d3bf"
      },
      "outputs": [
        {
          "data": {
            "application/vnd.plotly.v1+json": {
              "config": {
                "plotlyServerURL": "https://plot.ly"
              },
              "data": [
                {
                  "cliponaxis": false,
                  "hovertemplate": [
                    "classifier (CategoricalDistribution): 1.0<extra></extra>"
                  ],
                  "name": "Objective Value",
                  "orientation": "h",
                  "text": [
                    "1.00"
                  ],
                  "textposition": "outside",
                  "type": "bar",
                  "x": [
                    1
                  ],
                  "y": [
                    "classifier"
                  ]
                }
              ],
              "layout": {
                "template": {
                  "data": {
                    "bar": [
                      {
                        "error_x": {
                          "color": "#2a3f5f"
                        },
                        "error_y": {
                          "color": "#2a3f5f"
                        },
                        "marker": {
                          "line": {
                            "color": "#E5ECF6",
                            "width": 0.5
                          },
                          "pattern": {
                            "fillmode": "overlay",
                            "size": 10,
                            "solidity": 0.2
                          }
                        },
                        "type": "bar"
                      }
                    ],
                    "barpolar": [
                      {
                        "marker": {
                          "line": {
                            "color": "#E5ECF6",
                            "width": 0.5
                          },
                          "pattern": {
                            "fillmode": "overlay",
                            "size": 10,
                            "solidity": 0.2
                          }
                        },
                        "type": "barpolar"
                      }
                    ],
                    "carpet": [
                      {
                        "aaxis": {
                          "endlinecolor": "#2a3f5f",
                          "gridcolor": "white",
                          "linecolor": "white",
                          "minorgridcolor": "white",
                          "startlinecolor": "#2a3f5f"
                        },
                        "baxis": {
                          "endlinecolor": "#2a3f5f",
                          "gridcolor": "white",
                          "linecolor": "white",
                          "minorgridcolor": "white",
                          "startlinecolor": "#2a3f5f"
                        },
                        "type": "carpet"
                      }
                    ],
                    "choropleth": [
                      {
                        "colorbar": {
                          "outlinewidth": 0,
                          "ticks": ""
                        },
                        "type": "choropleth"
                      }
                    ],
                    "contour": [
                      {
                        "colorbar": {
                          "outlinewidth": 0,
                          "ticks": ""
                        },
                        "colorscale": [
                          [
                            0,
                            "#0d0887"
                          ],
                          [
                            0.1111111111111111,
                            "#46039f"
                          ],
                          [
                            0.2222222222222222,
                            "#7201a8"
                          ],
                          [
                            0.3333333333333333,
                            "#9c179e"
                          ],
                          [
                            0.4444444444444444,
                            "#bd3786"
                          ],
                          [
                            0.5555555555555556,
                            "#d8576b"
                          ],
                          [
                            0.6666666666666666,
                            "#ed7953"
                          ],
                          [
                            0.7777777777777778,
                            "#fb9f3a"
                          ],
                          [
                            0.8888888888888888,
                            "#fdca26"
                          ],
                          [
                            1,
                            "#f0f921"
                          ]
                        ],
                        "type": "contour"
                      }
                    ],
                    "contourcarpet": [
                      {
                        "colorbar": {
                          "outlinewidth": 0,
                          "ticks": ""
                        },
                        "type": "contourcarpet"
                      }
                    ],
                    "heatmap": [
                      {
                        "colorbar": {
                          "outlinewidth": 0,
                          "ticks": ""
                        },
                        "colorscale": [
                          [
                            0,
                            "#0d0887"
                          ],
                          [
                            0.1111111111111111,
                            "#46039f"
                          ],
                          [
                            0.2222222222222222,
                            "#7201a8"
                          ],
                          [
                            0.3333333333333333,
                            "#9c179e"
                          ],
                          [
                            0.4444444444444444,
                            "#bd3786"
                          ],
                          [
                            0.5555555555555556,
                            "#d8576b"
                          ],
                          [
                            0.6666666666666666,
                            "#ed7953"
                          ],
                          [
                            0.7777777777777778,
                            "#fb9f3a"
                          ],
                          [
                            0.8888888888888888,
                            "#fdca26"
                          ],
                          [
                            1,
                            "#f0f921"
                          ]
                        ],
                        "type": "heatmap"
                      }
                    ],
                    "histogram": [
                      {
                        "marker": {
                          "pattern": {
                            "fillmode": "overlay",
                            "size": 10,
                            "solidity": 0.2
                          }
                        },
                        "type": "histogram"
                      }
                    ],
                    "histogram2d": [
                      {
                        "colorbar": {
                          "outlinewidth": 0,
                          "ticks": ""
                        },
                        "colorscale": [
                          [
                            0,
                            "#0d0887"
                          ],
                          [
                            0.1111111111111111,
                            "#46039f"
                          ],
                          [
                            0.2222222222222222,
                            "#7201a8"
                          ],
                          [
                            0.3333333333333333,
                            "#9c179e"
                          ],
                          [
                            0.4444444444444444,
                            "#bd3786"
                          ],
                          [
                            0.5555555555555556,
                            "#d8576b"
                          ],
                          [
                            0.6666666666666666,
                            "#ed7953"
                          ],
                          [
                            0.7777777777777778,
                            "#fb9f3a"
                          ],
                          [
                            0.8888888888888888,
                            "#fdca26"
                          ],
                          [
                            1,
                            "#f0f921"
                          ]
                        ],
                        "type": "histogram2d"
                      }
                    ],
                    "histogram2dcontour": [
                      {
                        "colorbar": {
                          "outlinewidth": 0,
                          "ticks": ""
                        },
                        "colorscale": [
                          [
                            0,
                            "#0d0887"
                          ],
                          [
                            0.1111111111111111,
                            "#46039f"
                          ],
                          [
                            0.2222222222222222,
                            "#7201a8"
                          ],
                          [
                            0.3333333333333333,
                            "#9c179e"
                          ],
                          [
                            0.4444444444444444,
                            "#bd3786"
                          ],
                          [
                            0.5555555555555556,
                            "#d8576b"
                          ],
                          [
                            0.6666666666666666,
                            "#ed7953"
                          ],
                          [
                            0.7777777777777778,
                            "#fb9f3a"
                          ],
                          [
                            0.8888888888888888,
                            "#fdca26"
                          ],
                          [
                            1,
                            "#f0f921"
                          ]
                        ],
                        "type": "histogram2dcontour"
                      }
                    ],
                    "mesh3d": [
                      {
                        "colorbar": {
                          "outlinewidth": 0,
                          "ticks": ""
                        },
                        "type": "mesh3d"
                      }
                    ],
                    "parcoords": [
                      {
                        "line": {
                          "colorbar": {
                            "outlinewidth": 0,
                            "ticks": ""
                          }
                        },
                        "type": "parcoords"
                      }
                    ],
                    "pie": [
                      {
                        "automargin": true,
                        "type": "pie"
                      }
                    ],
                    "scatter": [
                      {
                        "fillpattern": {
                          "fillmode": "overlay",
                          "size": 10,
                          "solidity": 0.2
                        },
                        "type": "scatter"
                      }
                    ],
                    "scatter3d": [
                      {
                        "line": {
                          "colorbar": {
                            "outlinewidth": 0,
                            "ticks": ""
                          }
                        },
                        "marker": {
                          "colorbar": {
                            "outlinewidth": 0,
                            "ticks": ""
                          }
                        },
                        "type": "scatter3d"
                      }
                    ],
                    "scattercarpet": [
                      {
                        "marker": {
                          "colorbar": {
                            "outlinewidth": 0,
                            "ticks": ""
                          }
                        },
                        "type": "scattercarpet"
                      }
                    ],
                    "scattergeo": [
                      {
                        "marker": {
                          "colorbar": {
                            "outlinewidth": 0,
                            "ticks": ""
                          }
                        },
                        "type": "scattergeo"
                      }
                    ],
                    "scattergl": [
                      {
                        "marker": {
                          "colorbar": {
                            "outlinewidth": 0,
                            "ticks": ""
                          }
                        },
                        "type": "scattergl"
                      }
                    ],
                    "scattermap": [
                      {
                        "marker": {
                          "colorbar": {
                            "outlinewidth": 0,
                            "ticks": ""
                          }
                        },
                        "type": "scattermap"
                      }
                    ],
                    "scattermapbox": [
                      {
                        "marker": {
                          "colorbar": {
                            "outlinewidth": 0,
                            "ticks": ""
                          }
                        },
                        "type": "scattermapbox"
                      }
                    ],
                    "scatterpolar": [
                      {
                        "marker": {
                          "colorbar": {
                            "outlinewidth": 0,
                            "ticks": ""
                          }
                        },
                        "type": "scatterpolar"
                      }
                    ],
                    "scatterpolargl": [
                      {
                        "marker": {
                          "colorbar": {
                            "outlinewidth": 0,
                            "ticks": ""
                          }
                        },
                        "type": "scatterpolargl"
                      }
                    ],
                    "scatterternary": [
                      {
                        "marker": {
                          "colorbar": {
                            "outlinewidth": 0,
                            "ticks": ""
                          }
                        },
                        "type": "scatterternary"
                      }
                    ],
                    "surface": [
                      {
                        "colorbar": {
                          "outlinewidth": 0,
                          "ticks": ""
                        },
                        "colorscale": [
                          [
                            0,
                            "#0d0887"
                          ],
                          [
                            0.1111111111111111,
                            "#46039f"
                          ],
                          [
                            0.2222222222222222,
                            "#7201a8"
                          ],
                          [
                            0.3333333333333333,
                            "#9c179e"
                          ],
                          [
                            0.4444444444444444,
                            "#bd3786"
                          ],
                          [
                            0.5555555555555556,
                            "#d8576b"
                          ],
                          [
                            0.6666666666666666,
                            "#ed7953"
                          ],
                          [
                            0.7777777777777778,
                            "#fb9f3a"
                          ],
                          [
                            0.8888888888888888,
                            "#fdca26"
                          ],
                          [
                            1,
                            "#f0f921"
                          ]
                        ],
                        "type": "surface"
                      }
                    ],
                    "table": [
                      {
                        "cells": {
                          "fill": {
                            "color": "#EBF0F8"
                          },
                          "line": {
                            "color": "white"
                          }
                        },
                        "header": {
                          "fill": {
                            "color": "#C8D4E3"
                          },
                          "line": {
                            "color": "white"
                          }
                        },
                        "type": "table"
                      }
                    ]
                  },
                  "layout": {
                    "annotationdefaults": {
                      "arrowcolor": "#2a3f5f",
                      "arrowhead": 0,
                      "arrowwidth": 1
                    },
                    "autotypenumbers": "strict",
                    "coloraxis": {
                      "colorbar": {
                        "outlinewidth": 0,
                        "ticks": ""
                      }
                    },
                    "colorscale": {
                      "diverging": [
                        [
                          0,
                          "#8e0152"
                        ],
                        [
                          0.1,
                          "#c51b7d"
                        ],
                        [
                          0.2,
                          "#de77ae"
                        ],
                        [
                          0.3,
                          "#f1b6da"
                        ],
                        [
                          0.4,
                          "#fde0ef"
                        ],
                        [
                          0.5,
                          "#f7f7f7"
                        ],
                        [
                          0.6,
                          "#e6f5d0"
                        ],
                        [
                          0.7,
                          "#b8e186"
                        ],
                        [
                          0.8,
                          "#7fbc41"
                        ],
                        [
                          0.9,
                          "#4d9221"
                        ],
                        [
                          1,
                          "#276419"
                        ]
                      ],
                      "sequential": [
                        [
                          0,
                          "#0d0887"
                        ],
                        [
                          0.1111111111111111,
                          "#46039f"
                        ],
                        [
                          0.2222222222222222,
                          "#7201a8"
                        ],
                        [
                          0.3333333333333333,
                          "#9c179e"
                        ],
                        [
                          0.4444444444444444,
                          "#bd3786"
                        ],
                        [
                          0.5555555555555556,
                          "#d8576b"
                        ],
                        [
                          0.6666666666666666,
                          "#ed7953"
                        ],
                        [
                          0.7777777777777778,
                          "#fb9f3a"
                        ],
                        [
                          0.8888888888888888,
                          "#fdca26"
                        ],
                        [
                          1,
                          "#f0f921"
                        ]
                      ],
                      "sequentialminus": [
                        [
                          0,
                          "#0d0887"
                        ],
                        [
                          0.1111111111111111,
                          "#46039f"
                        ],
                        [
                          0.2222222222222222,
                          "#7201a8"
                        ],
                        [
                          0.3333333333333333,
                          "#9c179e"
                        ],
                        [
                          0.4444444444444444,
                          "#bd3786"
                        ],
                        [
                          0.5555555555555556,
                          "#d8576b"
                        ],
                        [
                          0.6666666666666666,
                          "#ed7953"
                        ],
                        [
                          0.7777777777777778,
                          "#fb9f3a"
                        ],
                        [
                          0.8888888888888888,
                          "#fdca26"
                        ],
                        [
                          1,
                          "#f0f921"
                        ]
                      ]
                    },
                    "colorway": [
                      "#636efa",
                      "#EF553B",
                      "#00cc96",
                      "#ab63fa",
                      "#FFA15A",
                      "#19d3f3",
                      "#FF6692",
                      "#B6E880",
                      "#FF97FF",
                      "#FECB52"
                    ],
                    "font": {
                      "color": "#2a3f5f"
                    },
                    "geo": {
                      "bgcolor": "white",
                      "lakecolor": "white",
                      "landcolor": "#E5ECF6",
                      "showlakes": true,
                      "showland": true,
                      "subunitcolor": "white"
                    },
                    "hoverlabel": {
                      "align": "left"
                    },
                    "hovermode": "closest",
                    "mapbox": {
                      "style": "light"
                    },
                    "paper_bgcolor": "white",
                    "plot_bgcolor": "#E5ECF6",
                    "polar": {
                      "angularaxis": {
                        "gridcolor": "white",
                        "linecolor": "white",
                        "ticks": ""
                      },
                      "bgcolor": "#E5ECF6",
                      "radialaxis": {
                        "gridcolor": "white",
                        "linecolor": "white",
                        "ticks": ""
                      }
                    },
                    "scene": {
                      "xaxis": {
                        "backgroundcolor": "#E5ECF6",
                        "gridcolor": "white",
                        "gridwidth": 2,
                        "linecolor": "white",
                        "showbackground": true,
                        "ticks": "",
                        "zerolinecolor": "white"
                      },
                      "yaxis": {
                        "backgroundcolor": "#E5ECF6",
                        "gridcolor": "white",
                        "gridwidth": 2,
                        "linecolor": "white",
                        "showbackground": true,
                        "ticks": "",
                        "zerolinecolor": "white"
                      },
                      "zaxis": {
                        "backgroundcolor": "#E5ECF6",
                        "gridcolor": "white",
                        "gridwidth": 2,
                        "linecolor": "white",
                        "showbackground": true,
                        "ticks": "",
                        "zerolinecolor": "white"
                      }
                    },
                    "shapedefaults": {
                      "line": {
                        "color": "#2a3f5f"
                      }
                    },
                    "ternary": {
                      "aaxis": {
                        "gridcolor": "white",
                        "linecolor": "white",
                        "ticks": ""
                      },
                      "baxis": {
                        "gridcolor": "white",
                        "linecolor": "white",
                        "ticks": ""
                      },
                      "bgcolor": "#E5ECF6",
                      "caxis": {
                        "gridcolor": "white",
                        "linecolor": "white",
                        "ticks": ""
                      }
                    },
                    "title": {
                      "x": 0.05
                    },
                    "xaxis": {
                      "automargin": true,
                      "gridcolor": "white",
                      "linecolor": "white",
                      "ticks": "",
                      "title": {
                        "standoff": 15
                      },
                      "zerolinecolor": "white",
                      "zerolinewidth": 2
                    },
                    "yaxis": {
                      "automargin": true,
                      "gridcolor": "white",
                      "linecolor": "white",
                      "ticks": "",
                      "title": {
                        "standoff": 15
                      },
                      "zerolinecolor": "white",
                      "zerolinewidth": 2
                    }
                  }
                },
                "title": {
                  "text": "Hyperparameter Importances"
                },
                "xaxis": {
                  "title": {
                    "text": "Hyperparameter Importance"
                  }
                },
                "yaxis": {
                  "title": {
                    "text": "Hyperparameter"
                  }
                }
              }
            }
          },
          "metadata": {},
          "output_type": "display_data"
        }
      ],
      "source": [
        "# 5. Hyperparameter Importance\n",
        "plot_param_importances(study).show()"
      ]
    },
    {
      "cell_type": "markdown",
      "metadata": {},
      "source": [
        "# **🌸 XGBoost Hyperparameter Tuning with Optuna and Pruning**"
      ]
    },
    {
      "cell_type": "code",
      "execution_count": 33,
      "metadata": {
        "colab": {
          "base_uri": "https://localhost:8080/",
          "height": 0
        },
        "id": "APAwYNxkIwMf",
        "outputId": "b4e43cbf-7fab-44b8-b3b0-e3d85938406b"
      },
      "outputs": [
        {
          "name": "stderr",
          "output_type": "stream",
          "text": [
            "[I 2025-09-13 01:30:10,853] A new study created in memory with name: no-name-3b225230-a86d-4df0-b0a0-c0c784635255\n"
          ]
        },
        {
          "name": "stdout",
          "output_type": "stream",
          "text": [
            "[0]\ttrain-mlogloss:0.99671\teval-mlogloss:0.99266\n",
            "[1]\ttrain-mlogloss:0.94909\teval-mlogloss:0.95156\n",
            "[2]\ttrain-mlogloss:0.89149\teval-mlogloss:0.90085\n",
            "[3]\ttrain-mlogloss:0.80654\teval-mlogloss:0.80904\n",
            "[4]\ttrain-mlogloss:0.77578\teval-mlogloss:0.78480\n",
            "[5]\ttrain-mlogloss:0.72967\teval-mlogloss:0.74295\n",
            "[6]\ttrain-mlogloss:0.66522\teval-mlogloss:0.67011\n",
            "[7]\ttrain-mlogloss:0.60242\teval-mlogloss:0.60111\n",
            "[8]\ttrain-mlogloss:0.57803\teval-mlogloss:0.58014\n",
            "[9]\ttrain-mlogloss:0.52533\teval-mlogloss:0.52216\n",
            "[10]\ttrain-mlogloss:0.48820\teval-mlogloss:0.48207\n",
            "[11]\ttrain-mlogloss:0.47444\teval-mlogloss:0.47361\n",
            "[12]\ttrain-mlogloss:0.44098\teval-mlogloss:0.43821\n",
            "[13]\ttrain-mlogloss:0.41538\teval-mlogloss:0.41041\n",
            "[14]\ttrain-mlogloss:0.38255\teval-mlogloss:0.37097\n",
            "[15]\ttrain-mlogloss:0.36603\teval-mlogloss:0.35588\n",
            "[16]\ttrain-mlogloss:0.35436\teval-mlogloss:0.34303\n",
            "[17]\ttrain-mlogloss:0.33395\teval-mlogloss:0.32338\n",
            "[18]\ttrain-mlogloss:0.31543\teval-mlogloss:0.30317\n",
            "[19]\ttrain-mlogloss:0.31127\teval-mlogloss:0.30062\n",
            "[20]\ttrain-mlogloss:0.30655\teval-mlogloss:0.29738\n",
            "[21]\ttrain-mlogloss:0.29143\teval-mlogloss:0.28195\n",
            "[22]\ttrain-mlogloss:0.27273\teval-mlogloss:0.25779\n",
            "[23]\ttrain-mlogloss:0.25440\teval-mlogloss:0.23707\n",
            "[24]\ttrain-mlogloss:0.24222\teval-mlogloss:0.22277\n",
            "[25]\ttrain-mlogloss:0.22823\teval-mlogloss:0.20539\n",
            "[26]\ttrain-mlogloss:0.22583\teval-mlogloss:0.20353\n",
            "[27]\ttrain-mlogloss:0.21600\teval-mlogloss:0.19087\n",
            "[28]\ttrain-mlogloss:0.21098\teval-mlogloss:0.18599\n",
            "[29]\ttrain-mlogloss:0.20691\teval-mlogloss:0.18090\n",
            "[30]\ttrain-mlogloss:0.20394\teval-mlogloss:0.17845\n",
            "[31]\ttrain-mlogloss:0.19617\teval-mlogloss:0.16839\n",
            "[32]\ttrain-mlogloss:0.18743\teval-mlogloss:0.15862\n",
            "[33]\ttrain-mlogloss:0.18654\teval-mlogloss:0.15759\n",
            "[34]\ttrain-mlogloss:0.18110\teval-mlogloss:0.15193\n",
            "[35]\ttrain-mlogloss:0.17669\teval-mlogloss:0.14602\n",
            "[36]\ttrain-mlogloss:0.17359\teval-mlogloss:0.14268\n",
            "[37]\ttrain-mlogloss:0.16647\teval-mlogloss:0.13269\n",
            "[38]\ttrain-mlogloss:0.16305\teval-mlogloss:0.12936\n",
            "[39]\ttrain-mlogloss:0.15991\teval-mlogloss:0.12651\n",
            "[40]\ttrain-mlogloss:0.15705\teval-mlogloss:0.12393\n",
            "[41]\ttrain-mlogloss:0.15486\teval-mlogloss:0.12048\n",
            "[42]\ttrain-mlogloss:0.15210\teval-mlogloss:0.11540\n",
            "[43]\ttrain-mlogloss:0.14941\teval-mlogloss:0.11249\n",
            "[44]\ttrain-mlogloss:0.14768\teval-mlogloss:0.11012\n",
            "[45]\ttrain-mlogloss:0.14569\teval-mlogloss:0.10698\n",
            "[46]\ttrain-mlogloss:0.14507\teval-mlogloss:0.10817\n",
            "[47]\ttrain-mlogloss:0.14445\teval-mlogloss:0.10733\n",
            "[48]\ttrain-mlogloss:0.14318\teval-mlogloss:0.10658\n",
            "[49]\ttrain-mlogloss:0.14204\teval-mlogloss:0.10479\n",
            "[50]\ttrain-mlogloss:0.14076\teval-mlogloss:0.10269\n",
            "[51]\ttrain-mlogloss:0.13781\teval-mlogloss:0.09830\n",
            "[52]\ttrain-mlogloss:0.13616\teval-mlogloss:0.09545\n",
            "[53]\ttrain-mlogloss:0.13492\teval-mlogloss:0.09340\n",
            "[54]\ttrain-mlogloss:0.13460\teval-mlogloss:0.09333\n",
            "[55]\ttrain-mlogloss:0.13426\teval-mlogloss:0.09386\n",
            "[56]\ttrain-mlogloss:0.13404\teval-mlogloss:0.09363\n",
            "[57]\ttrain-mlogloss:0.13355\teval-mlogloss:0.09377\n",
            "[58]\ttrain-mlogloss:0.13227\teval-mlogloss:0.09209\n",
            "[59]\ttrain-mlogloss:0.13089\teval-mlogloss:0.08937\n",
            "[60]\ttrain-mlogloss:0.13062\teval-mlogloss:0.08897\n",
            "[61]\ttrain-mlogloss:0.12993\teval-mlogloss:0.08863\n",
            "[62]\ttrain-mlogloss:0.12875\teval-mlogloss:0.08703\n",
            "[63]\ttrain-mlogloss:0.12843\teval-mlogloss:0.08711\n",
            "[64]\ttrain-mlogloss:0.12789\teval-mlogloss:0.08685\n",
            "[65]\ttrain-mlogloss:0.12739\teval-mlogloss:0.08599\n",
            "[66]\ttrain-mlogloss:0.12663\teval-mlogloss:0.08433\n",
            "[67]\ttrain-mlogloss:0.12542\teval-mlogloss:0.08278\n",
            "[68]\ttrain-mlogloss:0.12417\teval-mlogloss:0.08051\n",
            "[69]\ttrain-mlogloss:0.12372\teval-mlogloss:0.08068\n",
            "[70]\ttrain-mlogloss:0.12351\teval-mlogloss:0.08042\n",
            "[71]\ttrain-mlogloss:0.12263\teval-mlogloss:0.07863\n",
            "[72]\ttrain-mlogloss:0.12242\teval-mlogloss:0.07929\n",
            "[73]\ttrain-mlogloss:0.12211\teval-mlogloss:0.07947\n",
            "[74]\ttrain-mlogloss:0.12141\teval-mlogloss:0.07852\n",
            "[75]\ttrain-mlogloss:0.12142\teval-mlogloss:0.07814\n",
            "[76]\ttrain-mlogloss:0.12140\teval-mlogloss:0.07800\n",
            "[77]\ttrain-mlogloss:0.12081\teval-mlogloss:0.07704\n",
            "[78]\ttrain-mlogloss:0.12070\teval-mlogloss:0.07664\n",
            "[79]\ttrain-mlogloss:0.12001\teval-mlogloss:0.07532\n",
            "[80]\ttrain-mlogloss:0.11969\teval-mlogloss:0.07550\n",
            "[81]\ttrain-mlogloss:0.11948\teval-mlogloss:0.07536\n",
            "[82]\ttrain-mlogloss:0.11912\teval-mlogloss:0.07605\n",
            "[83]\ttrain-mlogloss:0.11905\teval-mlogloss:0.07636\n",
            "[84]\ttrain-mlogloss:0.11824\teval-mlogloss:0.07541\n",
            "[85]\ttrain-mlogloss:0.11817\teval-mlogloss:0.07563\n",
            "[86]\ttrain-mlogloss:0.11740\teval-mlogloss:0.07457\n",
            "[87]\ttrain-mlogloss:0.11719\teval-mlogloss:0.07411\n",
            "[88]\ttrain-mlogloss:0.11726\teval-mlogloss:0.07394\n",
            "[89]\ttrain-mlogloss:0.11691\teval-mlogloss:0.07392\n",
            "[90]\ttrain-mlogloss:0.11667\teval-mlogloss:0.07359\n",
            "[91]\ttrain-mlogloss:0.11661\teval-mlogloss:0.07369\n",
            "[92]\ttrain-mlogloss:0.11629\teval-mlogloss:0.07312\n",
            "[93]\ttrain-mlogloss:0.11620\teval-mlogloss:0.07300\n",
            "[94]\ttrain-mlogloss:0.11611\teval-mlogloss:0.07276\n",
            "[95]\ttrain-mlogloss:0.11618\teval-mlogloss:0.07281\n",
            "[96]\ttrain-mlogloss:0.11603\teval-mlogloss:0.07254\n",
            "[97]\ttrain-mlogloss:0.11582\teval-mlogloss:0.07256\n",
            "[98]\ttrain-mlogloss:0.11585\teval-mlogloss:0.07262\n",
            "[99]\ttrain-mlogloss:0.11579\teval-mlogloss:0.07248\n",
            "[100]\ttrain-mlogloss:0.11569\teval-mlogloss:0.07302\n",
            "[101]\ttrain-mlogloss:0.11535\teval-mlogloss:0.07311\n",
            "[102]\ttrain-mlogloss:0.11516\teval-mlogloss:0.07319\n",
            "[103]\ttrain-mlogloss:0.11448\teval-mlogloss:0.07189\n",
            "[104]\ttrain-mlogloss:0.11422\teval-mlogloss:0.07102\n",
            "[105]\ttrain-mlogloss:0.11375\teval-mlogloss:0.07013\n",
            "[106]\ttrain-mlogloss:0.11373\teval-mlogloss:0.07010\n",
            "[107]\ttrain-mlogloss:0.11347\teval-mlogloss:0.06985\n",
            "[108]\ttrain-mlogloss:0.11337\teval-mlogloss:0.06944\n",
            "[109]\ttrain-mlogloss:0.11333\teval-mlogloss:0.06940\n",
            "[110]\ttrain-mlogloss:0.11316\teval-mlogloss:0.06898\n",
            "[111]\ttrain-mlogloss:0.11313\teval-mlogloss:0.06888\n",
            "[112]\ttrain-mlogloss:0.11269\teval-mlogloss:0.06790\n",
            "[113]\ttrain-mlogloss:0.11268\teval-mlogloss:0.06778\n",
            "[114]\ttrain-mlogloss:0.11216\teval-mlogloss:0.06612\n",
            "[115]\ttrain-mlogloss:0.11158\teval-mlogloss:0.06495\n",
            "[116]\ttrain-mlogloss:0.11155\teval-mlogloss:0.06522\n",
            "[117]\ttrain-mlogloss:0.11148\teval-mlogloss:0.06497\n",
            "[118]\ttrain-mlogloss:0.11134\teval-mlogloss:0.06564\n",
            "[119]\ttrain-mlogloss:0.11056\teval-mlogloss:0.06475\n",
            "[120]\ttrain-mlogloss:0.11057\teval-mlogloss:0.06475\n",
            "[121]\ttrain-mlogloss:0.11055\teval-mlogloss:0.06478\n",
            "[122]\ttrain-mlogloss:0.11058\teval-mlogloss:0.06462\n",
            "[123]\ttrain-mlogloss:0.11043\teval-mlogloss:0.06490\n",
            "[124]\ttrain-mlogloss:0.11004\teval-mlogloss:0.06405\n",
            "[125]\ttrain-mlogloss:0.10982\teval-mlogloss:0.06407\n",
            "[126]\ttrain-mlogloss:0.10948\teval-mlogloss:0.06367\n",
            "[127]\ttrain-mlogloss:0.10948\teval-mlogloss:0.06370\n",
            "[128]\ttrain-mlogloss:0.10947\teval-mlogloss:0.06376\n",
            "[129]\ttrain-mlogloss:0.10911\teval-mlogloss:0.06304\n",
            "[130]\ttrain-mlogloss:0.10914\teval-mlogloss:0.06307\n",
            "[131]\ttrain-mlogloss:0.10913\teval-mlogloss:0.06316\n",
            "[132]\ttrain-mlogloss:0.10904\teval-mlogloss:0.06300\n",
            "[133]\ttrain-mlogloss:0.10885\teval-mlogloss:0.06325\n",
            "[134]\ttrain-mlogloss:0.10888\teval-mlogloss:0.06329\n",
            "[135]\ttrain-mlogloss:0.10870\teval-mlogloss:0.06305\n",
            "[136]\ttrain-mlogloss:0.10859\teval-mlogloss:0.06293\n",
            "[137]\ttrain-mlogloss:0.10857\teval-mlogloss:0.06256\n",
            "[138]\ttrain-mlogloss:0.10853\teval-mlogloss:0.06240\n",
            "[139]\ttrain-mlogloss:0.10845\teval-mlogloss:0.06226\n",
            "[140]\ttrain-mlogloss:0.10832\teval-mlogloss:0.06215\n",
            "[141]\ttrain-mlogloss:0.10827\teval-mlogloss:0.06191\n",
            "[142]\ttrain-mlogloss:0.10828\teval-mlogloss:0.06186\n",
            "[143]\ttrain-mlogloss:0.10818\teval-mlogloss:0.06208\n",
            "[144]\ttrain-mlogloss:0.10818\teval-mlogloss:0.06183\n",
            "[145]\ttrain-mlogloss:0.10810\teval-mlogloss:0.06165\n",
            "[146]\ttrain-mlogloss:0.10804\teval-mlogloss:0.06154\n",
            "[147]\ttrain-mlogloss:0.10778\teval-mlogloss:0.06109\n",
            "[148]\ttrain-mlogloss:0.10773\teval-mlogloss:0.06107\n",
            "[149]\ttrain-mlogloss:0.10755\teval-mlogloss:0.06084\n",
            "[150]\ttrain-mlogloss:0.10751\teval-mlogloss:0.06075\n",
            "[151]\ttrain-mlogloss:0.10749\teval-mlogloss:0.06065\n",
            "[152]\ttrain-mlogloss:0.10757\teval-mlogloss:0.06067\n",
            "[153]\ttrain-mlogloss:0.10701\teval-mlogloss:0.05992\n",
            "[154]\ttrain-mlogloss:0.10683\teval-mlogloss:0.05951\n",
            "[155]\ttrain-mlogloss:0.10680\teval-mlogloss:0.05960\n",
            "[156]\ttrain-mlogloss:0.10682\teval-mlogloss:0.05960\n",
            "[157]\ttrain-mlogloss:0.10668\teval-mlogloss:0.05915\n",
            "[158]\ttrain-mlogloss:0.10668\teval-mlogloss:0.05910\n",
            "[159]\ttrain-mlogloss:0.10651\teval-mlogloss:0.05897\n",
            "[160]\ttrain-mlogloss:0.10631\teval-mlogloss:0.05885\n",
            "[161]\ttrain-mlogloss:0.10628\teval-mlogloss:0.05863\n",
            "[162]\ttrain-mlogloss:0.10614\teval-mlogloss:0.05850\n",
            "[163]\ttrain-mlogloss:0.10604\teval-mlogloss:0.05842\n",
            "[164]\ttrain-mlogloss:0.10608\teval-mlogloss:0.05843\n",
            "[165]\ttrain-mlogloss:0.10599\teval-mlogloss:0.05828\n",
            "[166]\ttrain-mlogloss:0.10599\teval-mlogloss:0.05831\n",
            "[167]\ttrain-mlogloss:0.10580\teval-mlogloss:0.05805\n",
            "[168]\ttrain-mlogloss:0.10579\teval-mlogloss:0.05806\n",
            "[169]\ttrain-mlogloss:0.10571\teval-mlogloss:0.05793\n",
            "[170]\ttrain-mlogloss:0.10566\teval-mlogloss:0.05793\n",
            "[171]\ttrain-mlogloss:0.10563\teval-mlogloss:0.05795\n",
            "[172]\ttrain-mlogloss:0.10562\teval-mlogloss:0.05797\n",
            "[173]\ttrain-mlogloss:0.10551\teval-mlogloss:0.05786\n",
            "[174]\ttrain-mlogloss:0.10552\teval-mlogloss:0.05797\n",
            "[175]\ttrain-mlogloss:0.10552\teval-mlogloss:0.05791\n",
            "[176]\ttrain-mlogloss:0.10532\teval-mlogloss:0.05799\n",
            "[177]\ttrain-mlogloss:0.10530\teval-mlogloss:0.05797\n",
            "[178]\ttrain-mlogloss:0.10525\teval-mlogloss:0.05785\n",
            "[179]\ttrain-mlogloss:0.10524\teval-mlogloss:0.05785\n",
            "[180]\ttrain-mlogloss:0.10528\teval-mlogloss:0.05790\n",
            "[181]\ttrain-mlogloss:0.10522\teval-mlogloss:0.05801\n",
            "[182]\ttrain-mlogloss:0.10512\teval-mlogloss:0.05784\n",
            "[183]\ttrain-mlogloss:0.10509\teval-mlogloss:0.05783\n",
            "[184]\ttrain-mlogloss:0.10505\teval-mlogloss:0.05789\n",
            "[185]\ttrain-mlogloss:0.10504\teval-mlogloss:0.05794\n",
            "[186]\ttrain-mlogloss:0.10484\teval-mlogloss:0.05811\n",
            "[187]\ttrain-mlogloss:0.10482\teval-mlogloss:0.05808\n",
            "[188]\ttrain-mlogloss:0.10481\teval-mlogloss:0.05776\n",
            "[189]\ttrain-mlogloss:0.10480\teval-mlogloss:0.05780\n",
            "[190]\ttrain-mlogloss:0.10478\teval-mlogloss:0.05792\n",
            "[191]\ttrain-mlogloss:0.10477\teval-mlogloss:0.05783\n",
            "[192]\ttrain-mlogloss:0.10472\teval-mlogloss:0.05798\n",
            "[193]\ttrain-mlogloss:0.10471\teval-mlogloss:0.05796\n",
            "[194]\ttrain-mlogloss:0.10471\teval-mlogloss:0.05812\n",
            "[195]\ttrain-mlogloss:0.10470\teval-mlogloss:0.05815\n",
            "[196]\ttrain-mlogloss:0.10470\teval-mlogloss:0.05818\n",
            "[197]\ttrain-mlogloss:0.10470\teval-mlogloss:0.05809\n",
            "[198]\ttrain-mlogloss:0.10466\teval-mlogloss:0.05791\n",
            "[199]\ttrain-mlogloss:0.10460\teval-mlogloss:0.05771\n",
            "[200]\ttrain-mlogloss:0.10458\teval-mlogloss:0.05762\n",
            "[201]\ttrain-mlogloss:0.10463\teval-mlogloss:0.05763\n",
            "[202]\ttrain-mlogloss:0.10462\teval-mlogloss:0.05787\n",
            "[203]\ttrain-mlogloss:0.10457\teval-mlogloss:0.05798\n",
            "[204]\ttrain-mlogloss:0.10444\teval-mlogloss:0.05785\n",
            "[205]\ttrain-mlogloss:0.10429\teval-mlogloss:0.05747\n",
            "[206]\ttrain-mlogloss:0.10429\teval-mlogloss:0.05761\n",
            "[207]\ttrain-mlogloss:0.10422\teval-mlogloss:0.05757\n",
            "[208]\ttrain-mlogloss:0.10420\teval-mlogloss:0.05766\n",
            "[209]\ttrain-mlogloss:0.10418\teval-mlogloss:0.05760\n",
            "[210]\ttrain-mlogloss:0.10415\teval-mlogloss:0.05759\n",
            "[211]\ttrain-mlogloss:0.10413\teval-mlogloss:0.05756\n",
            "[212]\ttrain-mlogloss:0.10405\teval-mlogloss:0.05741\n",
            "[213]\ttrain-mlogloss:0.10405\teval-mlogloss:0.05738\n",
            "[214]\ttrain-mlogloss:0.10405\teval-mlogloss:0.05739\n",
            "[215]\ttrain-mlogloss:0.10403\teval-mlogloss:0.05753\n",
            "[216]\ttrain-mlogloss:0.10402\teval-mlogloss:0.05757\n",
            "[217]\ttrain-mlogloss:0.10401\teval-mlogloss:0.05717\n",
            "[218]\ttrain-mlogloss:0.10368\teval-mlogloss:0.05631\n",
            "[219]\ttrain-mlogloss:0.10368\teval-mlogloss:0.05627\n",
            "[220]\ttrain-mlogloss:0.10366\teval-mlogloss:0.05644\n",
            "[221]\ttrain-mlogloss:0.10365\teval-mlogloss:0.05660\n",
            "[222]\ttrain-mlogloss:0.10365\teval-mlogloss:0.05658\n",
            "[223]\ttrain-mlogloss:0.10366\teval-mlogloss:0.05671\n",
            "[224]\ttrain-mlogloss:0.10340\teval-mlogloss:0.05596\n",
            "[225]\ttrain-mlogloss:0.10340\teval-mlogloss:0.05597\n",
            "[226]\ttrain-mlogloss:0.10320\teval-mlogloss:0.05631\n",
            "[227]\ttrain-mlogloss:0.10308\teval-mlogloss:0.05619\n",
            "[228]\ttrain-mlogloss:0.10309\teval-mlogloss:0.05618\n",
            "[229]\ttrain-mlogloss:0.10300\teval-mlogloss:0.05607\n",
            "[230]\ttrain-mlogloss:0.10296\teval-mlogloss:0.05592\n",
            "[231]\ttrain-mlogloss:0.10296\teval-mlogloss:0.05581\n",
            "[232]\ttrain-mlogloss:0.10294\teval-mlogloss:0.05572\n",
            "[233]\ttrain-mlogloss:0.10294\teval-mlogloss:0.05576\n",
            "[234]\ttrain-mlogloss:0.10288\teval-mlogloss:0.05554\n",
            "[235]\ttrain-mlogloss:0.10285\teval-mlogloss:0.05541\n",
            "[236]\ttrain-mlogloss:0.10286\teval-mlogloss:0.05544\n",
            "[237]\ttrain-mlogloss:0.10286\teval-mlogloss:0.05549\n",
            "[238]\ttrain-mlogloss:0.10277\teval-mlogloss:0.05546\n",
            "[239]\ttrain-mlogloss:0.10277\teval-mlogloss:0.05536\n",
            "[240]\ttrain-mlogloss:0.10280\teval-mlogloss:0.05539\n",
            "[241]\ttrain-mlogloss:0.10280\teval-mlogloss:0.05554\n",
            "[242]\ttrain-mlogloss:0.10276\teval-mlogloss:0.05566\n",
            "[243]\ttrain-mlogloss:0.10277\teval-mlogloss:0.05549\n",
            "[244]\ttrain-mlogloss:0.10277\teval-mlogloss:0.05554\n",
            "[245]\ttrain-mlogloss:0.10277\teval-mlogloss:0.05548\n",
            "[246]\ttrain-mlogloss:0.10279\teval-mlogloss:0.05578\n",
            "[247]\ttrain-mlogloss:0.10275\teval-mlogloss:0.05572\n",
            "[248]\ttrain-mlogloss:0.10275\teval-mlogloss:0.05569\n",
            "[249]\ttrain-mlogloss:0.10271\teval-mlogloss:0.05551\n",
            "[250]\ttrain-mlogloss:0.10270\teval-mlogloss:0.05523\n",
            "[251]\ttrain-mlogloss:0.10266\teval-mlogloss:0.05525\n",
            "[252]\ttrain-mlogloss:0.10267\teval-mlogloss:0.05531\n",
            "[253]\ttrain-mlogloss:0.10267\teval-mlogloss:0.05514\n",
            "[254]\ttrain-mlogloss:0.10265\teval-mlogloss:0.05517\n",
            "[255]\ttrain-mlogloss:0.10265\teval-mlogloss:0.05514\n",
            "[256]\ttrain-mlogloss:0.10249\teval-mlogloss:0.05505\n",
            "[257]\ttrain-mlogloss:0.10250\teval-mlogloss:0.05504\n",
            "[258]\ttrain-mlogloss:0.10250\teval-mlogloss:0.05498\n",
            "[259]\ttrain-mlogloss:0.10249\teval-mlogloss:0.05487\n",
            "[260]\ttrain-mlogloss:0.10248\teval-mlogloss:0.05493\n",
            "[261]\ttrain-mlogloss:0.10249\teval-mlogloss:0.05494\n",
            "[262]\ttrain-mlogloss:0.10235\teval-mlogloss:0.05512\n",
            "[263]\ttrain-mlogloss:0.10234\teval-mlogloss:0.05505\n",
            "[264]\ttrain-mlogloss:0.10234\teval-mlogloss:0.05500\n",
            "[265]\ttrain-mlogloss:0.10235\teval-mlogloss:0.05500\n",
            "[266]\ttrain-mlogloss:0.10230\teval-mlogloss:0.05504\n",
            "[267]\ttrain-mlogloss:0.10224\teval-mlogloss:0.05501\n",
            "[268]\ttrain-mlogloss:0.10220\teval-mlogloss:0.05489\n",
            "[269]\ttrain-mlogloss:0.10208\teval-mlogloss:0.05472\n",
            "[270]\ttrain-mlogloss:0.10208\teval-mlogloss:0.05477\n",
            "[271]\ttrain-mlogloss:0.10207\teval-mlogloss:0.05477\n",
            "[272]\ttrain-mlogloss:0.10207\teval-mlogloss:0.05486\n",
            "[273]\ttrain-mlogloss:0.10205\teval-mlogloss:0.05477\n",
            "[274]\ttrain-mlogloss:0.10205\teval-mlogloss:0.05467\n",
            "[275]\ttrain-mlogloss:0.10206\teval-mlogloss:0.05465\n",
            "[276]\ttrain-mlogloss:0.10206\teval-mlogloss:0.05468\n",
            "[277]\ttrain-mlogloss:0.10203\teval-mlogloss:0.05474\n",
            "[278]\ttrain-mlogloss:0.10197\teval-mlogloss:0.05523\n",
            "[279]\ttrain-mlogloss:0.10193\teval-mlogloss:0.05515\n",
            "[280]\ttrain-mlogloss:0.10194\teval-mlogloss:0.05512\n",
            "[281]\ttrain-mlogloss:0.10184\teval-mlogloss:0.05509\n",
            "[282]\ttrain-mlogloss:0.10183\teval-mlogloss:0.05511\n",
            "[283]\ttrain-mlogloss:0.10180\teval-mlogloss:0.05510\n",
            "[284]\ttrain-mlogloss:0.10184\teval-mlogloss:0.05513\n",
            "[285]\ttrain-mlogloss:0.10174\teval-mlogloss:0.05543\n",
            "[286]\ttrain-mlogloss:0.10172\teval-mlogloss:0.05549\n",
            "[287]\ttrain-mlogloss:0.10168\teval-mlogloss:0.05576\n",
            "[288]\ttrain-mlogloss:0.10169\teval-mlogloss:0.05576\n",
            "[289]\ttrain-mlogloss:0.10166\teval-mlogloss:0.05567\n",
            "[290]\ttrain-mlogloss:0.10164\teval-mlogloss:0.05566\n",
            "[291]\ttrain-mlogloss:0.10162\teval-mlogloss:0.05571\n",
            "[292]\ttrain-mlogloss:0.10159\teval-mlogloss:0.05575\n",
            "[293]\ttrain-mlogloss:0.10158\teval-mlogloss:0.05583\n",
            "[294]\ttrain-mlogloss:0.10159\teval-mlogloss:0.05586\n",
            "[295]\ttrain-mlogloss:0.10152\teval-mlogloss:0.05579\n",
            "[296]\ttrain-mlogloss:0.10135\teval-mlogloss:0.05605\n",
            "[297]\ttrain-mlogloss:0.10138\teval-mlogloss:0.05622\n",
            "[298]\ttrain-mlogloss:0.10132\teval-mlogloss:0.05629\n",
            "[299]\ttrain-mlogloss:0.10126\teval-mlogloss:0.05632\n"
          ]
        },
        {
          "name": "stderr",
          "output_type": "stream",
          "text": [
            "[I 2025-09-13 01:30:12,426] Trial 0 finished with value: 1.0 and parameters: {'lambda': 8.361707558495242e-05, 'alpha': 0.06196160979897864, 'eta': 0.10291141872374487, 'gamma': 1.513565094933609e-05, 'max_depth': 4, 'min_child_weight': 4, 'subsample': 0.8013333139575807, 'colsample_bytree': 0.4242714468857873}. Best is trial 0 with value: 1.0.\n"
          ]
        },
        {
          "name": "stdout",
          "output_type": "stream",
          "text": [
            "[0]\ttrain-mlogloss:0.98798\teval-mlogloss:0.98292\n",
            "[1]\ttrain-mlogloss:0.93161\teval-mlogloss:0.92798\n",
            "[2]\ttrain-mlogloss:0.85044\teval-mlogloss:0.84298\n",
            "[3]\ttrain-mlogloss:0.77249\teval-mlogloss:0.76314\n",
            "[4]\ttrain-mlogloss:0.70536\teval-mlogloss:0.69193\n",
            "[5]\ttrain-mlogloss:0.64524\teval-mlogloss:0.62783\n",
            "[6]\ttrain-mlogloss:0.59361\teval-mlogloss:0.57214\n",
            "[7]\ttrain-mlogloss:0.54652\teval-mlogloss:0.52266\n",
            "[8]\ttrain-mlogloss:0.50495\teval-mlogloss:0.47747\n",
            "[9]\ttrain-mlogloss:0.46714\teval-mlogloss:0.43695\n",
            "[10]\ttrain-mlogloss:0.43649\teval-mlogloss:0.40691\n",
            "[11]\ttrain-mlogloss:0.40504\teval-mlogloss:0.37401\n",
            "[12]\ttrain-mlogloss:0.38069\teval-mlogloss:0.34833\n",
            "[13]\ttrain-mlogloss:0.35497\teval-mlogloss:0.32054\n",
            "[14]\ttrain-mlogloss:0.33219\teval-mlogloss:0.29439\n",
            "[15]\ttrain-mlogloss:0.31515\teval-mlogloss:0.27753\n",
            "[16]\ttrain-mlogloss:0.29806\teval-mlogloss:0.26067\n",
            "[17]\ttrain-mlogloss:0.28006\teval-mlogloss:0.24182\n",
            "[18]\ttrain-mlogloss:0.26700\teval-mlogloss:0.22804\n",
            "[19]\ttrain-mlogloss:0.25308\teval-mlogloss:0.21484\n",
            "[20]\ttrain-mlogloss:0.24252\teval-mlogloss:0.20435\n",
            "[21]\ttrain-mlogloss:0.23248\teval-mlogloss:0.19317\n",
            "[22]\ttrain-mlogloss:0.22091\teval-mlogloss:0.17941\n",
            "[23]\ttrain-mlogloss:0.20964\teval-mlogloss:0.16722\n",
            "[24]\ttrain-mlogloss:0.19990\teval-mlogloss:0.15649\n",
            "[25]\ttrain-mlogloss:0.19071\teval-mlogloss:0.14639\n",
            "[26]\ttrain-mlogloss:0.18382\teval-mlogloss:0.13752\n",
            "[27]\ttrain-mlogloss:0.17722\teval-mlogloss:0.12966\n",
            "[28]\ttrain-mlogloss:0.17052\teval-mlogloss:0.12324\n",
            "[29]\ttrain-mlogloss:0.16542\teval-mlogloss:0.11763\n",
            "[30]\ttrain-mlogloss:0.16169\teval-mlogloss:0.11502\n",
            "[31]\ttrain-mlogloss:0.15674\teval-mlogloss:0.10894\n",
            "[32]\ttrain-mlogloss:0.15235\teval-mlogloss:0.10497\n",
            "[33]\ttrain-mlogloss:0.14749\teval-mlogloss:0.09873\n",
            "[34]\ttrain-mlogloss:0.14561\teval-mlogloss:0.09717\n",
            "[35]\ttrain-mlogloss:0.14250\teval-mlogloss:0.09298\n",
            "[36]\ttrain-mlogloss:0.14036\teval-mlogloss:0.08940\n",
            "[37]\ttrain-mlogloss:0.13880\teval-mlogloss:0.08731\n",
            "[38]\ttrain-mlogloss:0.13756\teval-mlogloss:0.08527\n",
            "[39]\ttrain-mlogloss:0.13529\teval-mlogloss:0.08289\n",
            "[40]\ttrain-mlogloss:0.13434\teval-mlogloss:0.08256\n",
            "[41]\ttrain-mlogloss:0.13284\teval-mlogloss:0.08036\n",
            "[42]\ttrain-mlogloss:0.13186\teval-mlogloss:0.07864\n",
            "[43]\ttrain-mlogloss:0.13084\teval-mlogloss:0.07799\n",
            "[44]\ttrain-mlogloss:0.12998\teval-mlogloss:0.07655\n",
            "[45]\ttrain-mlogloss:0.12938\teval-mlogloss:0.07568\n",
            "[46]\ttrain-mlogloss:0.12855\teval-mlogloss:0.07400\n",
            "[47]\ttrain-mlogloss:0.12778\teval-mlogloss:0.07343\n",
            "[48]\ttrain-mlogloss:0.12721\teval-mlogloss:0.07353\n",
            "[49]\ttrain-mlogloss:0.12626\teval-mlogloss:0.07231\n",
            "[50]\ttrain-mlogloss:0.12582\teval-mlogloss:0.07153\n",
            "[51]\ttrain-mlogloss:0.12485\teval-mlogloss:0.06959\n",
            "[52]\ttrain-mlogloss:0.12404\teval-mlogloss:0.06837\n",
            "[53]\ttrain-mlogloss:0.12372\teval-mlogloss:0.06776\n",
            "[54]\ttrain-mlogloss:0.12343\teval-mlogloss:0.06784\n",
            "[55]\ttrain-mlogloss:0.12305\teval-mlogloss:0.06788\n",
            "[56]\ttrain-mlogloss:0.12239\teval-mlogloss:0.06793\n",
            "[57]\ttrain-mlogloss:0.12203\teval-mlogloss:0.06814\n",
            "[58]\ttrain-mlogloss:0.12154\teval-mlogloss:0.06707\n",
            "[59]\ttrain-mlogloss:0.12069\teval-mlogloss:0.06575\n",
            "[60]\ttrain-mlogloss:0.12039\teval-mlogloss:0.06539\n",
            "[61]\ttrain-mlogloss:0.11986\teval-mlogloss:0.06485\n",
            "[62]\ttrain-mlogloss:0.11919\teval-mlogloss:0.06418\n",
            "[63]\ttrain-mlogloss:0.11873\teval-mlogloss:0.06419\n",
            "[64]\ttrain-mlogloss:0.11838\teval-mlogloss:0.06440\n",
            "[65]\ttrain-mlogloss:0.11790\teval-mlogloss:0.06391\n",
            "[66]\ttrain-mlogloss:0.11785\teval-mlogloss:0.06366\n",
            "[67]\ttrain-mlogloss:0.11709\teval-mlogloss:0.06271\n",
            "[68]\ttrain-mlogloss:0.11653\teval-mlogloss:0.06298\n",
            "[69]\ttrain-mlogloss:0.11616\teval-mlogloss:0.06273\n",
            "[70]\ttrain-mlogloss:0.11567\teval-mlogloss:0.06220\n",
            "[71]\ttrain-mlogloss:0.11509\teval-mlogloss:0.06114\n",
            "[72]\ttrain-mlogloss:0.11488\teval-mlogloss:0.06133\n",
            "[73]\ttrain-mlogloss:0.11462\teval-mlogloss:0.06173\n",
            "[74]\ttrain-mlogloss:0.11418\teval-mlogloss:0.06128\n",
            "[75]\ttrain-mlogloss:0.11325\teval-mlogloss:0.05957\n",
            "[76]\ttrain-mlogloss:0.11311\teval-mlogloss:0.05942\n",
            "[77]\ttrain-mlogloss:0.11298\teval-mlogloss:0.05932\n",
            "[78]\ttrain-mlogloss:0.11301\teval-mlogloss:0.05890\n",
            "[79]\ttrain-mlogloss:0.11263\teval-mlogloss:0.05822\n",
            "[80]\ttrain-mlogloss:0.11256\teval-mlogloss:0.05820\n",
            "[81]\ttrain-mlogloss:0.11249\teval-mlogloss:0.05779\n",
            "[82]\ttrain-mlogloss:0.11204\teval-mlogloss:0.05832\n",
            "[83]\ttrain-mlogloss:0.11203\teval-mlogloss:0.05836\n",
            "[84]\ttrain-mlogloss:0.11158\teval-mlogloss:0.05794\n",
            "[85]\ttrain-mlogloss:0.11138\teval-mlogloss:0.05781\n",
            "[86]\ttrain-mlogloss:0.11141\teval-mlogloss:0.05792\n",
            "[87]\ttrain-mlogloss:0.11119\teval-mlogloss:0.05768\n",
            "[88]\ttrain-mlogloss:0.11109\teval-mlogloss:0.05756\n",
            "[89]\ttrain-mlogloss:0.11080\teval-mlogloss:0.05680\n",
            "[90]\ttrain-mlogloss:0.11014\teval-mlogloss:0.05614\n",
            "[91]\ttrain-mlogloss:0.11014\teval-mlogloss:0.05617\n",
            "[92]\ttrain-mlogloss:0.10994\teval-mlogloss:0.05590\n",
            "[93]\ttrain-mlogloss:0.10984\teval-mlogloss:0.05594\n",
            "[94]\ttrain-mlogloss:0.10982\teval-mlogloss:0.05587\n",
            "[95]\ttrain-mlogloss:0.10970\teval-mlogloss:0.05583\n",
            "[96]\ttrain-mlogloss:0.10965\teval-mlogloss:0.05572\n",
            "[97]\ttrain-mlogloss:0.10946\teval-mlogloss:0.05559\n",
            "[98]\ttrain-mlogloss:0.10930\teval-mlogloss:0.05555\n",
            "[99]\ttrain-mlogloss:0.10896\teval-mlogloss:0.05513\n",
            "[100]\ttrain-mlogloss:0.10898\teval-mlogloss:0.05536\n",
            "[101]\ttrain-mlogloss:0.10862\teval-mlogloss:0.05557\n",
            "[102]\ttrain-mlogloss:0.10833\teval-mlogloss:0.05521\n",
            "[103]\ttrain-mlogloss:0.10798\teval-mlogloss:0.05475\n",
            "[104]\ttrain-mlogloss:0.10797\teval-mlogloss:0.05459\n",
            "[105]\ttrain-mlogloss:0.10762\teval-mlogloss:0.05386\n",
            "[106]\ttrain-mlogloss:0.10754\teval-mlogloss:0.05384\n",
            "[107]\ttrain-mlogloss:0.10740\teval-mlogloss:0.05384\n",
            "[108]\ttrain-mlogloss:0.10742\teval-mlogloss:0.05409\n",
            "[109]\ttrain-mlogloss:0.10730\teval-mlogloss:0.05401\n",
            "[110]\ttrain-mlogloss:0.10724\teval-mlogloss:0.05420\n",
            "[111]\ttrain-mlogloss:0.10717\teval-mlogloss:0.05419\n",
            "[112]\ttrain-mlogloss:0.10696\teval-mlogloss:0.05442\n",
            "[113]\ttrain-mlogloss:0.10683\teval-mlogloss:0.05419\n",
            "[114]\ttrain-mlogloss:0.10665\teval-mlogloss:0.05386\n",
            "[115]\ttrain-mlogloss:0.10658\teval-mlogloss:0.05387\n",
            "[116]\ttrain-mlogloss:0.10655\teval-mlogloss:0.05404\n",
            "[117]\ttrain-mlogloss:0.10648\teval-mlogloss:0.05406\n",
            "[118]\ttrain-mlogloss:0.10647\teval-mlogloss:0.05437\n",
            "[119]\ttrain-mlogloss:0.10636\teval-mlogloss:0.05430\n",
            "[120]\ttrain-mlogloss:0.10629\teval-mlogloss:0.05405\n",
            "[121]\ttrain-mlogloss:0.10626\teval-mlogloss:0.05410\n",
            "[122]\ttrain-mlogloss:0.10626\teval-mlogloss:0.05391\n",
            "[123]\ttrain-mlogloss:0.10606\teval-mlogloss:0.05420\n",
            "[124]\ttrain-mlogloss:0.10584\teval-mlogloss:0.05358\n",
            "[125]\ttrain-mlogloss:0.10578\teval-mlogloss:0.05357\n",
            "[126]\ttrain-mlogloss:0.10554\teval-mlogloss:0.05337\n",
            "[127]\ttrain-mlogloss:0.10553\teval-mlogloss:0.05327\n",
            "[128]\ttrain-mlogloss:0.10552\teval-mlogloss:0.05336\n",
            "[129]\ttrain-mlogloss:0.10521\teval-mlogloss:0.05276\n",
            "[130]\ttrain-mlogloss:0.10513\teval-mlogloss:0.05279\n",
            "[131]\ttrain-mlogloss:0.10510\teval-mlogloss:0.05286\n",
            "[132]\ttrain-mlogloss:0.10494\teval-mlogloss:0.05259\n",
            "[133]\ttrain-mlogloss:0.10482\teval-mlogloss:0.05260\n",
            "[134]\ttrain-mlogloss:0.10484\teval-mlogloss:0.05271\n",
            "[135]\ttrain-mlogloss:0.10475\teval-mlogloss:0.05266\n",
            "[136]\ttrain-mlogloss:0.10461\teval-mlogloss:0.05240\n",
            "[137]\ttrain-mlogloss:0.10456\teval-mlogloss:0.05226\n",
            "[138]\ttrain-mlogloss:0.10445\teval-mlogloss:0.05206\n",
            "[139]\ttrain-mlogloss:0.10441\teval-mlogloss:0.05203\n",
            "[140]\ttrain-mlogloss:0.10435\teval-mlogloss:0.05201\n",
            "[141]\ttrain-mlogloss:0.10427\teval-mlogloss:0.05187\n",
            "[142]\ttrain-mlogloss:0.10429\teval-mlogloss:0.05191\n",
            "[143]\ttrain-mlogloss:0.10424\teval-mlogloss:0.05191\n",
            "[144]\ttrain-mlogloss:0.10425\teval-mlogloss:0.05173\n",
            "[145]\ttrain-mlogloss:0.10423\teval-mlogloss:0.05172\n",
            "[146]\ttrain-mlogloss:0.10416\teval-mlogloss:0.05165\n",
            "[147]\ttrain-mlogloss:0.10402\teval-mlogloss:0.05162\n",
            "[148]\ttrain-mlogloss:0.10399\teval-mlogloss:0.05154\n",
            "[149]\ttrain-mlogloss:0.10389\teval-mlogloss:0.05158\n",
            "[150]\ttrain-mlogloss:0.10380\teval-mlogloss:0.05149\n",
            "[151]\ttrain-mlogloss:0.10377\teval-mlogloss:0.05140\n",
            "[152]\ttrain-mlogloss:0.10377\teval-mlogloss:0.05148\n",
            "[153]\ttrain-mlogloss:0.10376\teval-mlogloss:0.05147\n",
            "[154]\ttrain-mlogloss:0.10363\teval-mlogloss:0.05113\n",
            "[155]\ttrain-mlogloss:0.10333\teval-mlogloss:0.05133\n",
            "[156]\ttrain-mlogloss:0.10335\teval-mlogloss:0.05138\n",
            "[157]\ttrain-mlogloss:0.10334\teval-mlogloss:0.05142\n",
            "[158]\ttrain-mlogloss:0.10331\teval-mlogloss:0.05139\n",
            "[159]\ttrain-mlogloss:0.10322\teval-mlogloss:0.05140\n",
            "[160]\ttrain-mlogloss:0.10311\teval-mlogloss:0.05143\n",
            "[161]\ttrain-mlogloss:0.10303\teval-mlogloss:0.05123\n",
            "[162]\ttrain-mlogloss:0.10286\teval-mlogloss:0.05102\n",
            "[163]\ttrain-mlogloss:0.10278\teval-mlogloss:0.05102\n",
            "[164]\ttrain-mlogloss:0.10276\teval-mlogloss:0.05094\n",
            "[165]\ttrain-mlogloss:0.10246\teval-mlogloss:0.05124\n",
            "[166]\ttrain-mlogloss:0.10233\teval-mlogloss:0.05134\n",
            "[167]\ttrain-mlogloss:0.10215\teval-mlogloss:0.05157\n",
            "[168]\ttrain-mlogloss:0.10200\teval-mlogloss:0.05238\n",
            "[169]\ttrain-mlogloss:0.10180\teval-mlogloss:0.05205\n",
            "[170]\ttrain-mlogloss:0.10176\teval-mlogloss:0.05198\n",
            "[171]\ttrain-mlogloss:0.10147\teval-mlogloss:0.05120\n",
            "[172]\ttrain-mlogloss:0.10145\teval-mlogloss:0.05117\n",
            "[173]\ttrain-mlogloss:0.10138\teval-mlogloss:0.05118\n",
            "[174]\ttrain-mlogloss:0.10139\teval-mlogloss:0.05130\n",
            "[175]\ttrain-mlogloss:0.10139\teval-mlogloss:0.05125\n",
            "[176]\ttrain-mlogloss:0.10135\teval-mlogloss:0.05120\n",
            "[177]\ttrain-mlogloss:0.10125\teval-mlogloss:0.05107\n",
            "[178]\ttrain-mlogloss:0.10123\teval-mlogloss:0.05106\n",
            "[179]\ttrain-mlogloss:0.10123\teval-mlogloss:0.05097\n",
            "[180]\ttrain-mlogloss:0.10120\teval-mlogloss:0.05047\n",
            "[181]\ttrain-mlogloss:0.10120\teval-mlogloss:0.05049\n",
            "[182]\ttrain-mlogloss:0.10115\teval-mlogloss:0.05046\n",
            "[183]\ttrain-mlogloss:0.10113\teval-mlogloss:0.05047\n",
            "[184]\ttrain-mlogloss:0.10103\teval-mlogloss:0.05037\n",
            "[185]\ttrain-mlogloss:0.10099\teval-mlogloss:0.05031\n",
            "[186]\ttrain-mlogloss:0.10087\teval-mlogloss:0.05011\n",
            "[187]\ttrain-mlogloss:0.10083\teval-mlogloss:0.05009\n",
            "[188]\ttrain-mlogloss:0.10081\teval-mlogloss:0.04969\n",
            "[189]\ttrain-mlogloss:0.10082\teval-mlogloss:0.05005\n",
            "[190]\ttrain-mlogloss:0.10079\teval-mlogloss:0.05009\n",
            "[191]\ttrain-mlogloss:0.10077\teval-mlogloss:0.05013\n",
            "[192]\ttrain-mlogloss:0.10075\teval-mlogloss:0.05013\n",
            "[193]\ttrain-mlogloss:0.10075\teval-mlogloss:0.04989\n",
            "[194]\ttrain-mlogloss:0.10068\teval-mlogloss:0.04988\n",
            "[195]\ttrain-mlogloss:0.10050\teval-mlogloss:0.05006\n",
            "[196]\ttrain-mlogloss:0.10049\teval-mlogloss:0.05010\n",
            "[197]\ttrain-mlogloss:0.10048\teval-mlogloss:0.05009\n",
            "[198]\ttrain-mlogloss:0.10045\teval-mlogloss:0.05007\n",
            "[199]\ttrain-mlogloss:0.10036\teval-mlogloss:0.04990\n",
            "[200]\ttrain-mlogloss:0.10035\teval-mlogloss:0.04976\n",
            "[201]\ttrain-mlogloss:0.10025\teval-mlogloss:0.04949\n",
            "[202]\ttrain-mlogloss:0.10025\teval-mlogloss:0.04952\n",
            "[203]\ttrain-mlogloss:0.10021\teval-mlogloss:0.04926\n",
            "[204]\ttrain-mlogloss:0.10015\teval-mlogloss:0.04926\n",
            "[205]\ttrain-mlogloss:0.10009\teval-mlogloss:0.04922\n",
            "[206]\ttrain-mlogloss:0.10006\teval-mlogloss:0.04925\n",
            "[207]\ttrain-mlogloss:0.10002\teval-mlogloss:0.04925\n",
            "[208]\ttrain-mlogloss:0.10001\teval-mlogloss:0.04937\n",
            "[209]\ttrain-mlogloss:0.09974\teval-mlogloss:0.04979\n",
            "[210]\ttrain-mlogloss:0.09966\teval-mlogloss:0.04963\n",
            "[211]\ttrain-mlogloss:0.09964\teval-mlogloss:0.04960\n",
            "[212]\ttrain-mlogloss:0.09962\teval-mlogloss:0.04960\n",
            "[213]\ttrain-mlogloss:0.09961\teval-mlogloss:0.04955\n",
            "[214]\ttrain-mlogloss:0.09961\teval-mlogloss:0.04957\n",
            "[215]\ttrain-mlogloss:0.09960\teval-mlogloss:0.04968\n",
            "[216]\ttrain-mlogloss:0.09957\teval-mlogloss:0.04965\n",
            "[217]\ttrain-mlogloss:0.09956\teval-mlogloss:0.04925\n",
            "[218]\ttrain-mlogloss:0.09939\teval-mlogloss:0.04862\n",
            "[219]\ttrain-mlogloss:0.09939\teval-mlogloss:0.04861\n",
            "[220]\ttrain-mlogloss:0.09939\teval-mlogloss:0.04871\n",
            "[221]\ttrain-mlogloss:0.09930\teval-mlogloss:0.04873\n",
            "[222]\ttrain-mlogloss:0.09928\teval-mlogloss:0.04873\n",
            "[223]\ttrain-mlogloss:0.09928\teval-mlogloss:0.04867\n",
            "[224]\ttrain-mlogloss:0.09912\teval-mlogloss:0.04794\n",
            "[225]\ttrain-mlogloss:0.09912\teval-mlogloss:0.04798\n",
            "[226]\ttrain-mlogloss:0.09891\teval-mlogloss:0.04827\n",
            "[227]\ttrain-mlogloss:0.09875\teval-mlogloss:0.04788\n",
            "[228]\ttrain-mlogloss:0.09862\teval-mlogloss:0.04756\n",
            "[229]\ttrain-mlogloss:0.09858\teval-mlogloss:0.04759\n",
            "[230]\ttrain-mlogloss:0.09855\teval-mlogloss:0.04749\n",
            "[231]\ttrain-mlogloss:0.09852\teval-mlogloss:0.04740\n",
            "[232]\ttrain-mlogloss:0.09853\teval-mlogloss:0.04735\n",
            "[233]\ttrain-mlogloss:0.09846\teval-mlogloss:0.04734\n",
            "[234]\ttrain-mlogloss:0.09842\teval-mlogloss:0.04730\n",
            "[235]\ttrain-mlogloss:0.09840\teval-mlogloss:0.04720\n",
            "[236]\ttrain-mlogloss:0.09841\teval-mlogloss:0.04726\n",
            "[237]\ttrain-mlogloss:0.09834\teval-mlogloss:0.04714\n",
            "[238]\ttrain-mlogloss:0.09831\teval-mlogloss:0.04713\n",
            "[239]\ttrain-mlogloss:0.09832\teval-mlogloss:0.04736\n",
            "[240]\ttrain-mlogloss:0.09831\teval-mlogloss:0.04718\n",
            "[241]\ttrain-mlogloss:0.09829\teval-mlogloss:0.04715\n",
            "[242]\ttrain-mlogloss:0.09828\teval-mlogloss:0.04712\n",
            "[243]\ttrain-mlogloss:0.09825\teval-mlogloss:0.04697\n",
            "[244]\ttrain-mlogloss:0.09825\teval-mlogloss:0.04701\n",
            "[245]\ttrain-mlogloss:0.09820\teval-mlogloss:0.04691\n",
            "[246]\ttrain-mlogloss:0.09821\teval-mlogloss:0.04718\n",
            "[247]\ttrain-mlogloss:0.09818\teval-mlogloss:0.04718\n",
            "[248]\ttrain-mlogloss:0.09817\teval-mlogloss:0.04712\n",
            "[249]\ttrain-mlogloss:0.09817\teval-mlogloss:0.04711\n",
            "[250]\ttrain-mlogloss:0.09818\teval-mlogloss:0.04700\n",
            "[251]\ttrain-mlogloss:0.09817\teval-mlogloss:0.04713\n",
            "[252]\ttrain-mlogloss:0.09817\teval-mlogloss:0.04706\n",
            "[253]\ttrain-mlogloss:0.09816\teval-mlogloss:0.04693\n",
            "[254]\ttrain-mlogloss:0.09814\teval-mlogloss:0.04703\n",
            "[255]\ttrain-mlogloss:0.09810\teval-mlogloss:0.04699\n",
            "[256]\ttrain-mlogloss:0.09802\teval-mlogloss:0.04699\n",
            "[257]\ttrain-mlogloss:0.09803\teval-mlogloss:0.04707\n",
            "[258]\ttrain-mlogloss:0.09801\teval-mlogloss:0.04697\n",
            "[259]\ttrain-mlogloss:0.09802\teval-mlogloss:0.04694\n",
            "[260]\ttrain-mlogloss:0.09793\teval-mlogloss:0.04697\n",
            "[261]\ttrain-mlogloss:0.09794\teval-mlogloss:0.04701\n",
            "[262]\ttrain-mlogloss:0.09790\teval-mlogloss:0.04705\n",
            "[263]\ttrain-mlogloss:0.09788\teval-mlogloss:0.04691\n",
            "[264]\ttrain-mlogloss:0.09780\teval-mlogloss:0.04675\n",
            "[265]\ttrain-mlogloss:0.09781\teval-mlogloss:0.04677\n",
            "[266]\ttrain-mlogloss:0.09779\teval-mlogloss:0.04684\n",
            "[267]\ttrain-mlogloss:0.09779\teval-mlogloss:0.04694\n",
            "[268]\ttrain-mlogloss:0.09780\teval-mlogloss:0.04723\n",
            "[269]\ttrain-mlogloss:0.09770\teval-mlogloss:0.04704\n",
            "[270]\ttrain-mlogloss:0.09770\teval-mlogloss:0.04706\n",
            "[271]\ttrain-mlogloss:0.09771\teval-mlogloss:0.04706\n",
            "[272]\ttrain-mlogloss:0.09771\teval-mlogloss:0.04700\n",
            "[273]\ttrain-mlogloss:0.09768\teval-mlogloss:0.04689\n",
            "[274]\ttrain-mlogloss:0.09767\teval-mlogloss:0.04675\n",
            "[275]\ttrain-mlogloss:0.09767\teval-mlogloss:0.04678\n",
            "[276]\ttrain-mlogloss:0.09766\teval-mlogloss:0.04681\n",
            "[277]\ttrain-mlogloss:0.09765\teval-mlogloss:0.04687\n",
            "[278]\ttrain-mlogloss:0.09766\teval-mlogloss:0.04709\n",
            "[279]\ttrain-mlogloss:0.09761\teval-mlogloss:0.04713\n",
            "[280]\ttrain-mlogloss:0.09758\teval-mlogloss:0.04710\n",
            "[281]\ttrain-mlogloss:0.09751\teval-mlogloss:0.04713\n",
            "[282]\ttrain-mlogloss:0.09750\teval-mlogloss:0.04714\n",
            "[283]\ttrain-mlogloss:0.09751\teval-mlogloss:0.04717\n",
            "[284]\ttrain-mlogloss:0.09749\teval-mlogloss:0.04690\n",
            "[285]\ttrain-mlogloss:0.09733\teval-mlogloss:0.04716\n",
            "[286]\ttrain-mlogloss:0.09732\teval-mlogloss:0.04720\n",
            "[287]\ttrain-mlogloss:0.09733\teval-mlogloss:0.04733\n",
            "[288]\ttrain-mlogloss:0.09734\teval-mlogloss:0.04739\n",
            "[289]\ttrain-mlogloss:0.09735\teval-mlogloss:0.04753\n",
            "[290]\ttrain-mlogloss:0.09733\teval-mlogloss:0.04752\n",
            "[291]\ttrain-mlogloss:0.09732\teval-mlogloss:0.04745\n",
            "[292]\ttrain-mlogloss:0.09731\teval-mlogloss:0.04725\n",
            "[293]\ttrain-mlogloss:0.09730\teval-mlogloss:0.04730\n",
            "[294]\ttrain-mlogloss:0.09726\teval-mlogloss:0.04731\n",
            "[295]\ttrain-mlogloss:0.09722\teval-mlogloss:0.04729\n",
            "[296]\ttrain-mlogloss:0.09703\teval-mlogloss:0.04762\n",
            "[297]\ttrain-mlogloss:0.09702\teval-mlogloss:0.04765\n",
            "[298]\ttrain-mlogloss:0.09697\teval-mlogloss:0.04769\n",
            "[299]\ttrain-mlogloss:0.09691\teval-mlogloss:0.04755\n"
          ]
        },
        {
          "name": "stderr",
          "output_type": "stream",
          "text": [
            "[I 2025-09-13 01:30:13,838] Trial 1 finished with value: 1.0 and parameters: {'lambda': 5.107038482748965e-08, 'alpha': 1.003238074601496e-05, 'eta': 0.08648103657018406, 'gamma': 1.5152022940686848e-06, 'max_depth': 3, 'min_child_weight': 4, 'subsample': 0.8136426215577014, 'colsample_bytree': 0.5565756914270521}. Best is trial 0 with value: 1.0.\n"
          ]
        },
        {
          "name": "stdout",
          "output_type": "stream",
          "text": [
            "[0]\ttrain-mlogloss:0.99923\teval-mlogloss:0.99392\n",
            "[1]\ttrain-mlogloss:0.94981\teval-mlogloss:0.94138\n",
            "[2]\ttrain-mlogloss:0.87451\teval-mlogloss:0.86149\n",
            "[3]\ttrain-mlogloss:0.79983\teval-mlogloss:0.78488\n",
            "[4]\ttrain-mlogloss:0.73617\teval-mlogloss:0.71850\n",
            "[5]\ttrain-mlogloss:0.67840\teval-mlogloss:0.65798\n",
            "[6]\ttrain-mlogloss:0.62778\teval-mlogloss:0.60408\n",
            "[7]\ttrain-mlogloss:0.58226\teval-mlogloss:0.55631\n",
            "[8]\ttrain-mlogloss:0.54112\teval-mlogloss:0.51292\n",
            "[9]\ttrain-mlogloss:0.50335\teval-mlogloss:0.47315\n",
            "[10]\ttrain-mlogloss:0.47346\teval-mlogloss:0.44259\n",
            "[11]\ttrain-mlogloss:0.44182\teval-mlogloss:0.40951\n",
            "[12]\ttrain-mlogloss:0.41767\teval-mlogloss:0.38332\n",
            "[13]\ttrain-mlogloss:0.39117\teval-mlogloss:0.35523\n",
            "[14]\ttrain-mlogloss:0.36761\teval-mlogloss:0.32867\n",
            "[15]\ttrain-mlogloss:0.34959\teval-mlogloss:0.31024\n",
            "[16]\ttrain-mlogloss:0.33172\teval-mlogloss:0.29115\n",
            "[17]\ttrain-mlogloss:0.31308\teval-mlogloss:0.27171\n",
            "[18]\ttrain-mlogloss:0.29885\teval-mlogloss:0.25676\n",
            "[19]\ttrain-mlogloss:0.28401\teval-mlogloss:0.24214\n",
            "[20]\ttrain-mlogloss:0.27171\teval-mlogloss:0.22997\n",
            "[21]\ttrain-mlogloss:0.26036\teval-mlogloss:0.21766\n",
            "[22]\ttrain-mlogloss:0.24802\teval-mlogloss:0.20326\n",
            "[23]\ttrain-mlogloss:0.23552\teval-mlogloss:0.18965\n",
            "[24]\ttrain-mlogloss:0.22395\teval-mlogloss:0.17730\n",
            "[25]\ttrain-mlogloss:0.21399\teval-mlogloss:0.16642\n",
            "[26]\ttrain-mlogloss:0.20638\teval-mlogloss:0.15740\n",
            "[27]\ttrain-mlogloss:0.19888\teval-mlogloss:0.14861\n",
            "[28]\ttrain-mlogloss:0.19170\teval-mlogloss:0.14130\n",
            "[29]\ttrain-mlogloss:0.18635\teval-mlogloss:0.13526\n",
            "[30]\ttrain-mlogloss:0.18245\teval-mlogloss:0.13264\n",
            "[31]\ttrain-mlogloss:0.17655\teval-mlogloss:0.12586\n",
            "[32]\ttrain-mlogloss:0.17120\teval-mlogloss:0.12172\n",
            "[33]\ttrain-mlogloss:0.16475\teval-mlogloss:0.11393\n",
            "[34]\ttrain-mlogloss:0.16037\teval-mlogloss:0.10979\n",
            "[35]\ttrain-mlogloss:0.15672\teval-mlogloss:0.10469\n",
            "[36]\ttrain-mlogloss:0.15346\teval-mlogloss:0.10020\n",
            "[37]\ttrain-mlogloss:0.15110\teval-mlogloss:0.09762\n",
            "[38]\ttrain-mlogloss:0.14820\teval-mlogloss:0.09456\n",
            "[39]\ttrain-mlogloss:0.14587\teval-mlogloss:0.09157\n",
            "[40]\ttrain-mlogloss:0.14493\teval-mlogloss:0.09121\n",
            "[41]\ttrain-mlogloss:0.14331\teval-mlogloss:0.08854\n",
            "[42]\ttrain-mlogloss:0.14207\teval-mlogloss:0.08662\n",
            "[43]\ttrain-mlogloss:0.13971\teval-mlogloss:0.08414\n",
            "[44]\ttrain-mlogloss:0.13860\teval-mlogloss:0.08242\n",
            "[45]\ttrain-mlogloss:0.13759\teval-mlogloss:0.08122\n",
            "[46]\ttrain-mlogloss:0.13625\teval-mlogloss:0.07905\n",
            "[47]\ttrain-mlogloss:0.13517\teval-mlogloss:0.07760\n",
            "[48]\ttrain-mlogloss:0.13425\teval-mlogloss:0.07607\n",
            "[49]\ttrain-mlogloss:0.13322\teval-mlogloss:0.07478\n",
            "[50]\ttrain-mlogloss:0.13261\teval-mlogloss:0.07389\n",
            "[51]\ttrain-mlogloss:0.13161\teval-mlogloss:0.07208\n",
            "[52]\ttrain-mlogloss:0.13082\teval-mlogloss:0.07097\n",
            "[53]\ttrain-mlogloss:0.13056\teval-mlogloss:0.07052\n",
            "[54]\ttrain-mlogloss:0.13011\teval-mlogloss:0.07067\n",
            "[55]\ttrain-mlogloss:0.12978\teval-mlogloss:0.07109\n",
            "[56]\ttrain-mlogloss:0.12933\teval-mlogloss:0.07053\n",
            "[57]\ttrain-mlogloss:0.12889\teval-mlogloss:0.07073\n",
            "[58]\ttrain-mlogloss:0.12813\teval-mlogloss:0.06993\n",
            "[59]\ttrain-mlogloss:0.12726\teval-mlogloss:0.06910\n",
            "[60]\ttrain-mlogloss:0.12689\teval-mlogloss:0.06863\n",
            "[61]\ttrain-mlogloss:0.12638\teval-mlogloss:0.06796\n",
            "[62]\ttrain-mlogloss:0.12573\teval-mlogloss:0.06728\n",
            "[63]\ttrain-mlogloss:0.12530\teval-mlogloss:0.06728\n",
            "[64]\ttrain-mlogloss:0.12496\teval-mlogloss:0.06736\n",
            "[65]\ttrain-mlogloss:0.12422\teval-mlogloss:0.06652\n",
            "[66]\ttrain-mlogloss:0.12412\teval-mlogloss:0.06626\n",
            "[67]\ttrain-mlogloss:0.12352\teval-mlogloss:0.06554\n",
            "[68]\ttrain-mlogloss:0.12287\teval-mlogloss:0.06498\n",
            "[69]\ttrain-mlogloss:0.12250\teval-mlogloss:0.06488\n",
            "[70]\ttrain-mlogloss:0.12233\teval-mlogloss:0.06480\n",
            "[71]\ttrain-mlogloss:0.12157\teval-mlogloss:0.06356\n",
            "[72]\ttrain-mlogloss:0.12127\teval-mlogloss:0.06375\n",
            "[73]\ttrain-mlogloss:0.12078\teval-mlogloss:0.06388\n",
            "[74]\ttrain-mlogloss:0.12046\teval-mlogloss:0.06365\n",
            "[75]\ttrain-mlogloss:0.11950\teval-mlogloss:0.06214\n",
            "[76]\ttrain-mlogloss:0.11941\teval-mlogloss:0.06208\n",
            "[77]\ttrain-mlogloss:0.11925\teval-mlogloss:0.06199\n",
            "[78]\ttrain-mlogloss:0.11933\teval-mlogloss:0.06209\n",
            "[79]\ttrain-mlogloss:0.11922\teval-mlogloss:0.06210\n",
            "[80]\ttrain-mlogloss:0.11896\teval-mlogloss:0.06239\n",
            "[81]\ttrain-mlogloss:0.11847\teval-mlogloss:0.06127\n",
            "[82]\ttrain-mlogloss:0.11801\teval-mlogloss:0.06170\n",
            "[83]\ttrain-mlogloss:0.11787\teval-mlogloss:0.06196\n",
            "[84]\ttrain-mlogloss:0.11748\teval-mlogloss:0.06159\n",
            "[85]\ttrain-mlogloss:0.11729\teval-mlogloss:0.06150\n",
            "[86]\ttrain-mlogloss:0.11734\teval-mlogloss:0.06161\n",
            "[87]\ttrain-mlogloss:0.11712\teval-mlogloss:0.06139\n",
            "[88]\ttrain-mlogloss:0.11700\teval-mlogloss:0.06127\n",
            "[89]\ttrain-mlogloss:0.11624\teval-mlogloss:0.06015\n",
            "[90]\ttrain-mlogloss:0.11615\teval-mlogloss:0.06011\n",
            "[91]\ttrain-mlogloss:0.11592\teval-mlogloss:0.05956\n",
            "[92]\ttrain-mlogloss:0.11573\teval-mlogloss:0.05919\n",
            "[93]\ttrain-mlogloss:0.11563\teval-mlogloss:0.05928\n",
            "[94]\ttrain-mlogloss:0.11567\teval-mlogloss:0.05928\n",
            "[95]\ttrain-mlogloss:0.11559\teval-mlogloss:0.05924\n",
            "[96]\ttrain-mlogloss:0.11561\teval-mlogloss:0.05917\n",
            "[97]\ttrain-mlogloss:0.11557\teval-mlogloss:0.05921\n",
            "[98]\ttrain-mlogloss:0.11545\teval-mlogloss:0.05917\n",
            "[99]\ttrain-mlogloss:0.11534\teval-mlogloss:0.05900\n",
            "[100]\ttrain-mlogloss:0.11527\teval-mlogloss:0.05884\n",
            "[101]\ttrain-mlogloss:0.11499\teval-mlogloss:0.05865\n",
            "[102]\ttrain-mlogloss:0.11467\teval-mlogloss:0.05823\n",
            "[103]\ttrain-mlogloss:0.11428\teval-mlogloss:0.05762\n",
            "[104]\ttrain-mlogloss:0.11427\teval-mlogloss:0.05748\n",
            "[105]\ttrain-mlogloss:0.11415\teval-mlogloss:0.05740\n",
            "[106]\ttrain-mlogloss:0.11406\teval-mlogloss:0.05732\n",
            "[107]\ttrain-mlogloss:0.11399\teval-mlogloss:0.05737\n",
            "[108]\ttrain-mlogloss:0.11392\teval-mlogloss:0.05719\n",
            "[109]\ttrain-mlogloss:0.11384\teval-mlogloss:0.05707\n",
            "[110]\ttrain-mlogloss:0.11383\teval-mlogloss:0.05712\n",
            "[111]\ttrain-mlogloss:0.11378\teval-mlogloss:0.05712\n",
            "[112]\ttrain-mlogloss:0.11366\teval-mlogloss:0.05727\n",
            "[113]\ttrain-mlogloss:0.11369\teval-mlogloss:0.05729\n",
            "[114]\ttrain-mlogloss:0.11327\teval-mlogloss:0.05611\n",
            "[115]\ttrain-mlogloss:0.11325\teval-mlogloss:0.05611\n",
            "[116]\ttrain-mlogloss:0.11323\teval-mlogloss:0.05614\n",
            "[117]\ttrain-mlogloss:0.11312\teval-mlogloss:0.05586\n",
            "[118]\ttrain-mlogloss:0.11313\teval-mlogloss:0.05594\n",
            "[119]\ttrain-mlogloss:0.11255\teval-mlogloss:0.05538\n",
            "[120]\ttrain-mlogloss:0.11248\teval-mlogloss:0.05515\n",
            "[121]\ttrain-mlogloss:0.11247\teval-mlogloss:0.05513\n",
            "[122]\ttrain-mlogloss:0.11249\teval-mlogloss:0.05505\n",
            "[123]\ttrain-mlogloss:0.11239\teval-mlogloss:0.05495\n",
            "[124]\ttrain-mlogloss:0.11213\teval-mlogloss:0.05466\n",
            "[125]\ttrain-mlogloss:0.11206\teval-mlogloss:0.05465\n",
            "[126]\ttrain-mlogloss:0.11180\teval-mlogloss:0.05441\n",
            "[127]\ttrain-mlogloss:0.11186\teval-mlogloss:0.05446\n",
            "[128]\ttrain-mlogloss:0.11187\teval-mlogloss:0.05453\n",
            "[129]\ttrain-mlogloss:0.11154\teval-mlogloss:0.05403\n",
            "[130]\ttrain-mlogloss:0.11148\teval-mlogloss:0.05404\n",
            "[131]\ttrain-mlogloss:0.11144\teval-mlogloss:0.05409\n",
            "[132]\ttrain-mlogloss:0.11112\teval-mlogloss:0.05343\n",
            "[133]\ttrain-mlogloss:0.11103\teval-mlogloss:0.05339\n",
            "[134]\ttrain-mlogloss:0.11103\teval-mlogloss:0.05345\n",
            "[135]\ttrain-mlogloss:0.11095\teval-mlogloss:0.05341\n",
            "[136]\ttrain-mlogloss:0.11097\teval-mlogloss:0.05343\n",
            "[137]\ttrain-mlogloss:0.11092\teval-mlogloss:0.05330\n",
            "[138]\ttrain-mlogloss:0.11083\teval-mlogloss:0.05310\n",
            "[139]\ttrain-mlogloss:0.11078\teval-mlogloss:0.05306\n",
            "[140]\ttrain-mlogloss:0.11070\teval-mlogloss:0.05299\n",
            "[141]\ttrain-mlogloss:0.11071\teval-mlogloss:0.05287\n",
            "[142]\ttrain-mlogloss:0.11074\teval-mlogloss:0.05302\n",
            "[143]\ttrain-mlogloss:0.11066\teval-mlogloss:0.05299\n",
            "[144]\ttrain-mlogloss:0.11067\teval-mlogloss:0.05284\n",
            "[145]\ttrain-mlogloss:0.11063\teval-mlogloss:0.05283\n",
            "[146]\ttrain-mlogloss:0.11058\teval-mlogloss:0.05279\n",
            "[147]\ttrain-mlogloss:0.11033\teval-mlogloss:0.05241\n",
            "[148]\ttrain-mlogloss:0.11030\teval-mlogloss:0.05238\n",
            "[149]\ttrain-mlogloss:0.11033\teval-mlogloss:0.05246\n",
            "[150]\ttrain-mlogloss:0.11028\teval-mlogloss:0.05241\n",
            "[151]\ttrain-mlogloss:0.11027\teval-mlogloss:0.05229\n",
            "[152]\ttrain-mlogloss:0.11018\teval-mlogloss:0.05228\n",
            "[153]\ttrain-mlogloss:0.11018\teval-mlogloss:0.05218\n",
            "[154]\ttrain-mlogloss:0.11009\teval-mlogloss:0.05191\n",
            "[155]\ttrain-mlogloss:0.11006\teval-mlogloss:0.05186\n",
            "[156]\ttrain-mlogloss:0.11008\teval-mlogloss:0.05187\n",
            "[157]\ttrain-mlogloss:0.11006\teval-mlogloss:0.05191\n",
            "[158]\ttrain-mlogloss:0.10998\teval-mlogloss:0.05191\n",
            "[159]\ttrain-mlogloss:0.10985\teval-mlogloss:0.05189\n",
            "[160]\ttrain-mlogloss:0.10967\teval-mlogloss:0.05185\n",
            "[161]\ttrain-mlogloss:0.10960\teval-mlogloss:0.05166\n",
            "[162]\ttrain-mlogloss:0.10959\teval-mlogloss:0.05171\n",
            "[163]\ttrain-mlogloss:0.10951\teval-mlogloss:0.05166\n",
            "[164]\ttrain-mlogloss:0.10950\teval-mlogloss:0.05162\n",
            "[165]\ttrain-mlogloss:0.10949\teval-mlogloss:0.05167\n",
            "[166]\ttrain-mlogloss:0.10929\teval-mlogloss:0.05173\n",
            "[167]\ttrain-mlogloss:0.10924\teval-mlogloss:0.05162\n",
            "[168]\ttrain-mlogloss:0.10894\teval-mlogloss:0.05191\n",
            "[169]\ttrain-mlogloss:0.10889\teval-mlogloss:0.05189\n",
            "[170]\ttrain-mlogloss:0.10887\teval-mlogloss:0.05178\n",
            "[171]\ttrain-mlogloss:0.10863\teval-mlogloss:0.05122\n",
            "[172]\ttrain-mlogloss:0.10862\teval-mlogloss:0.05119\n",
            "[173]\ttrain-mlogloss:0.10851\teval-mlogloss:0.05116\n",
            "[174]\ttrain-mlogloss:0.10852\teval-mlogloss:0.05126\n",
            "[175]\ttrain-mlogloss:0.10853\teval-mlogloss:0.05122\n",
            "[176]\ttrain-mlogloss:0.10851\teval-mlogloss:0.05121\n",
            "[177]\ttrain-mlogloss:0.10844\teval-mlogloss:0.05109\n",
            "[178]\ttrain-mlogloss:0.10841\teval-mlogloss:0.05102\n",
            "[179]\ttrain-mlogloss:0.10841\teval-mlogloss:0.05099\n",
            "[180]\ttrain-mlogloss:0.10840\teval-mlogloss:0.05055\n",
            "[181]\ttrain-mlogloss:0.10840\teval-mlogloss:0.05055\n",
            "[182]\ttrain-mlogloss:0.10839\teval-mlogloss:0.05050\n",
            "[183]\ttrain-mlogloss:0.10836\teval-mlogloss:0.05063\n",
            "[184]\ttrain-mlogloss:0.10829\teval-mlogloss:0.05059\n",
            "[185]\ttrain-mlogloss:0.10830\teval-mlogloss:0.05071\n",
            "[186]\ttrain-mlogloss:0.10820\teval-mlogloss:0.05057\n",
            "[187]\ttrain-mlogloss:0.10809\teval-mlogloss:0.05058\n",
            "[188]\ttrain-mlogloss:0.10808\teval-mlogloss:0.05031\n",
            "[189]\ttrain-mlogloss:0.10809\teval-mlogloss:0.05062\n",
            "[190]\ttrain-mlogloss:0.10805\teval-mlogloss:0.05068\n",
            "[191]\ttrain-mlogloss:0.10801\teval-mlogloss:0.05070\n",
            "[192]\ttrain-mlogloss:0.10795\teval-mlogloss:0.05066\n",
            "[193]\ttrain-mlogloss:0.10793\teval-mlogloss:0.05045\n",
            "[194]\ttrain-mlogloss:0.10785\teval-mlogloss:0.05045\n",
            "[195]\ttrain-mlogloss:0.10780\teval-mlogloss:0.05043\n",
            "[196]\ttrain-mlogloss:0.10779\teval-mlogloss:0.05049\n",
            "[197]\ttrain-mlogloss:0.10780\teval-mlogloss:0.05043\n",
            "[198]\ttrain-mlogloss:0.10789\teval-mlogloss:0.05040\n",
            "[199]\ttrain-mlogloss:0.10780\teval-mlogloss:0.05027\n",
            "[200]\ttrain-mlogloss:0.10775\teval-mlogloss:0.05019\n",
            "[201]\ttrain-mlogloss:0.10768\teval-mlogloss:0.04994\n",
            "[202]\ttrain-mlogloss:0.10768\teval-mlogloss:0.04998\n",
            "[203]\ttrain-mlogloss:0.10764\teval-mlogloss:0.04978\n",
            "[204]\ttrain-mlogloss:0.10758\teval-mlogloss:0.04977\n",
            "[205]\ttrain-mlogloss:0.10750\teval-mlogloss:0.04959\n",
            "[206]\ttrain-mlogloss:0.10748\teval-mlogloss:0.04965\n",
            "[207]\ttrain-mlogloss:0.10749\teval-mlogloss:0.04971\n",
            "[208]\ttrain-mlogloss:0.10746\teval-mlogloss:0.04983\n",
            "[209]\ttrain-mlogloss:0.10712\teval-mlogloss:0.05018\n",
            "[210]\ttrain-mlogloss:0.10702\teval-mlogloss:0.05002\n",
            "[211]\ttrain-mlogloss:0.10701\teval-mlogloss:0.05006\n",
            "[212]\ttrain-mlogloss:0.10698\teval-mlogloss:0.05005\n",
            "[213]\ttrain-mlogloss:0.10700\teval-mlogloss:0.05004\n",
            "[214]\ttrain-mlogloss:0.10698\teval-mlogloss:0.05005\n",
            "[215]\ttrain-mlogloss:0.10690\teval-mlogloss:0.05001\n",
            "[216]\ttrain-mlogloss:0.10681\teval-mlogloss:0.04990\n",
            "[217]\ttrain-mlogloss:0.10679\teval-mlogloss:0.04941\n",
            "[218]\ttrain-mlogloss:0.10660\teval-mlogloss:0.04899\n",
            "[219]\ttrain-mlogloss:0.10661\teval-mlogloss:0.04895\n",
            "[220]\ttrain-mlogloss:0.10661\teval-mlogloss:0.04891\n",
            "[221]\ttrain-mlogloss:0.10661\teval-mlogloss:0.04892\n",
            "[222]\ttrain-mlogloss:0.10660\teval-mlogloss:0.04894\n",
            "[223]\ttrain-mlogloss:0.10655\teval-mlogloss:0.04887\n",
            "[224]\ttrain-mlogloss:0.10639\teval-mlogloss:0.04815\n",
            "[225]\ttrain-mlogloss:0.10639\teval-mlogloss:0.04818\n",
            "[226]\ttrain-mlogloss:0.10613\teval-mlogloss:0.04844\n",
            "[227]\ttrain-mlogloss:0.10613\teval-mlogloss:0.04847\n",
            "[228]\ttrain-mlogloss:0.10614\teval-mlogloss:0.04845\n",
            "[229]\ttrain-mlogloss:0.10611\teval-mlogloss:0.04864\n",
            "[230]\ttrain-mlogloss:0.10609\teval-mlogloss:0.04855\n",
            "[231]\ttrain-mlogloss:0.10607\teval-mlogloss:0.04845\n",
            "[232]\ttrain-mlogloss:0.10607\teval-mlogloss:0.04852\n",
            "[233]\ttrain-mlogloss:0.10599\teval-mlogloss:0.04848\n",
            "[234]\ttrain-mlogloss:0.10601\teval-mlogloss:0.04867\n",
            "[235]\ttrain-mlogloss:0.10598\teval-mlogloss:0.04858\n",
            "[236]\ttrain-mlogloss:0.10600\teval-mlogloss:0.04865\n",
            "[237]\ttrain-mlogloss:0.10600\teval-mlogloss:0.04839\n",
            "[238]\ttrain-mlogloss:0.10590\teval-mlogloss:0.04837\n",
            "[239]\ttrain-mlogloss:0.10590\teval-mlogloss:0.04837\n",
            "[240]\ttrain-mlogloss:0.10593\teval-mlogloss:0.04847\n",
            "[241]\ttrain-mlogloss:0.10590\teval-mlogloss:0.04844\n",
            "[242]\ttrain-mlogloss:0.10590\teval-mlogloss:0.04846\n",
            "[243]\ttrain-mlogloss:0.10588\teval-mlogloss:0.04839\n",
            "[244]\ttrain-mlogloss:0.10561\teval-mlogloss:0.04793\n",
            "[245]\ttrain-mlogloss:0.10561\teval-mlogloss:0.04780\n",
            "[246]\ttrain-mlogloss:0.10558\teval-mlogloss:0.04799\n",
            "[247]\ttrain-mlogloss:0.10558\teval-mlogloss:0.04799\n",
            "[248]\ttrain-mlogloss:0.10557\teval-mlogloss:0.04800\n",
            "[249]\ttrain-mlogloss:0.10554\teval-mlogloss:0.04786\n",
            "[250]\ttrain-mlogloss:0.10555\teval-mlogloss:0.04765\n",
            "[251]\ttrain-mlogloss:0.10556\teval-mlogloss:0.04772\n",
            "[252]\ttrain-mlogloss:0.10557\teval-mlogloss:0.04757\n",
            "[253]\ttrain-mlogloss:0.10559\teval-mlogloss:0.04757\n",
            "[254]\ttrain-mlogloss:0.10555\teval-mlogloss:0.04763\n",
            "[255]\ttrain-mlogloss:0.10548\teval-mlogloss:0.04757\n",
            "[256]\ttrain-mlogloss:0.10546\teval-mlogloss:0.04758\n",
            "[257]\ttrain-mlogloss:0.10547\teval-mlogloss:0.04759\n",
            "[258]\ttrain-mlogloss:0.10545\teval-mlogloss:0.04754\n",
            "[259]\ttrain-mlogloss:0.10545\teval-mlogloss:0.04752\n",
            "[260]\ttrain-mlogloss:0.10535\teval-mlogloss:0.04746\n",
            "[261]\ttrain-mlogloss:0.10535\teval-mlogloss:0.04749\n",
            "[262]\ttrain-mlogloss:0.10514\teval-mlogloss:0.04718\n",
            "[263]\ttrain-mlogloss:0.10516\teval-mlogloss:0.04712\n",
            "[264]\ttrain-mlogloss:0.10517\teval-mlogloss:0.04703\n",
            "[265]\ttrain-mlogloss:0.10519\teval-mlogloss:0.04706\n",
            "[266]\ttrain-mlogloss:0.10517\teval-mlogloss:0.04714\n",
            "[267]\ttrain-mlogloss:0.10517\teval-mlogloss:0.04723\n",
            "[268]\ttrain-mlogloss:0.10514\teval-mlogloss:0.04748\n",
            "[269]\ttrain-mlogloss:0.10504\teval-mlogloss:0.04749\n",
            "[270]\ttrain-mlogloss:0.10504\teval-mlogloss:0.04754\n",
            "[271]\ttrain-mlogloss:0.10505\teval-mlogloss:0.04756\n",
            "[272]\ttrain-mlogloss:0.10505\teval-mlogloss:0.04763\n",
            "[273]\ttrain-mlogloss:0.10506\teval-mlogloss:0.04756\n",
            "[274]\ttrain-mlogloss:0.10507\teval-mlogloss:0.04750\n",
            "[275]\ttrain-mlogloss:0.10507\teval-mlogloss:0.04756\n",
            "[276]\ttrain-mlogloss:0.10505\teval-mlogloss:0.04758\n",
            "[277]\ttrain-mlogloss:0.10505\teval-mlogloss:0.04761\n",
            "[278]\ttrain-mlogloss:0.10505\teval-mlogloss:0.04784\n",
            "[279]\ttrain-mlogloss:0.10500\teval-mlogloss:0.04784\n",
            "[280]\ttrain-mlogloss:0.10500\teval-mlogloss:0.04771\n",
            "[281]\ttrain-mlogloss:0.10494\teval-mlogloss:0.04772\n",
            "[282]\ttrain-mlogloss:0.10493\teval-mlogloss:0.04764\n",
            "[283]\ttrain-mlogloss:0.10490\teval-mlogloss:0.04764\n",
            "[284]\ttrain-mlogloss:0.10490\teval-mlogloss:0.04750\n",
            "[285]\ttrain-mlogloss:0.10491\teval-mlogloss:0.04747\n",
            "[286]\ttrain-mlogloss:0.10488\teval-mlogloss:0.04753\n",
            "[287]\ttrain-mlogloss:0.10472\teval-mlogloss:0.04766\n",
            "[288]\ttrain-mlogloss:0.10472\teval-mlogloss:0.04767\n",
            "[289]\ttrain-mlogloss:0.10449\teval-mlogloss:0.04787\n",
            "[290]\ttrain-mlogloss:0.10447\teval-mlogloss:0.04788\n",
            "[291]\ttrain-mlogloss:0.10446\teval-mlogloss:0.04782\n",
            "[292]\ttrain-mlogloss:0.10446\teval-mlogloss:0.04775\n",
            "[293]\ttrain-mlogloss:0.10444\teval-mlogloss:0.04780\n",
            "[294]\ttrain-mlogloss:0.10441\teval-mlogloss:0.04781\n"
          ]
        },
        {
          "name": "stderr",
          "output_type": "stream",
          "text": [
            "[I 2025-09-13 01:30:15,350] Trial 2 finished with value: 1.0 and parameters: {'lambda': 0.003301267289498218, 'alpha': 5.835833994006441e-05, 'eta': 0.07821545807341469, 'gamma': 1.8729896260316026e-07, 'max_depth': 8, 'min_child_weight': 4, 'subsample': 0.7487926979840194, 'colsample_bytree': 0.6257903830844787}. Best is trial 0 with value: 1.0.\n"
          ]
        },
        {
          "name": "stdout",
          "output_type": "stream",
          "text": [
            "[0]\ttrain-mlogloss:1.06429\teval-mlogloss:1.06388\n",
            "[1]\ttrain-mlogloss:1.03204\teval-mlogloss:1.02940\n",
            "[2]\ttrain-mlogloss:0.99975\teval-mlogloss:0.99559\n",
            "[3]\ttrain-mlogloss:0.96936\teval-mlogloss:0.96480\n",
            "[4]\ttrain-mlogloss:0.94075\teval-mlogloss:0.93478\n",
            "[5]\ttrain-mlogloss:0.91283\teval-mlogloss:0.90458\n",
            "[6]\ttrain-mlogloss:0.88695\teval-mlogloss:0.87689\n",
            "[7]\ttrain-mlogloss:0.86148\teval-mlogloss:0.85009\n",
            "[8]\ttrain-mlogloss:0.83755\teval-mlogloss:0.82450\n",
            "[9]\ttrain-mlogloss:0.81414\teval-mlogloss:0.80030\n",
            "[10]\ttrain-mlogloss:0.79155\teval-mlogloss:0.77727\n",
            "[11]\ttrain-mlogloss:0.76972\teval-mlogloss:0.75474\n",
            "[12]\ttrain-mlogloss:0.74918\teval-mlogloss:0.73370\n",
            "[13]\ttrain-mlogloss:0.72876\teval-mlogloss:0.71270\n",
            "[14]\ttrain-mlogloss:0.70947\teval-mlogloss:0.69205\n",
            "[15]\ttrain-mlogloss:0.69106\teval-mlogloss:0.67261\n",
            "[16]\ttrain-mlogloss:0.67290\teval-mlogloss:0.65342\n",
            "[17]\ttrain-mlogloss:0.65536\teval-mlogloss:0.63519\n",
            "[18]\ttrain-mlogloss:0.63887\teval-mlogloss:0.61815\n",
            "[19]\ttrain-mlogloss:0.62260\teval-mlogloss:0.60142\n",
            "[20]\ttrain-mlogloss:0.60714\teval-mlogloss:0.58473\n",
            "[21]\ttrain-mlogloss:0.59168\teval-mlogloss:0.56840\n",
            "[22]\ttrain-mlogloss:0.57717\teval-mlogloss:0.55289\n",
            "[23]\ttrain-mlogloss:0.56276\teval-mlogloss:0.53782\n",
            "[24]\ttrain-mlogloss:0.54901\teval-mlogloss:0.52324\n",
            "[25]\ttrain-mlogloss:0.53581\teval-mlogloss:0.50922\n",
            "[26]\ttrain-mlogloss:0.52306\teval-mlogloss:0.49545\n",
            "[27]\ttrain-mlogloss:0.51051\teval-mlogloss:0.48250\n",
            "[28]\ttrain-mlogloss:0.49839\teval-mlogloss:0.47057\n",
            "[29]\ttrain-mlogloss:0.48701\teval-mlogloss:0.45812\n",
            "[30]\ttrain-mlogloss:0.47590\teval-mlogloss:0.44612\n",
            "[31]\ttrain-mlogloss:0.46494\teval-mlogloss:0.43426\n",
            "[32]\ttrain-mlogloss:0.45430\teval-mlogloss:0.42301\n",
            "[33]\ttrain-mlogloss:0.44369\teval-mlogloss:0.41175\n",
            "[34]\ttrain-mlogloss:0.43386\teval-mlogloss:0.40173\n",
            "[35]\ttrain-mlogloss:0.42447\teval-mlogloss:0.39168\n",
            "[36]\ttrain-mlogloss:0.41513\teval-mlogloss:0.38182\n",
            "[37]\ttrain-mlogloss:0.40589\teval-mlogloss:0.37237\n",
            "[38]\ttrain-mlogloss:0.39732\teval-mlogloss:0.36333\n",
            "[39]\ttrain-mlogloss:0.38867\teval-mlogloss:0.35428\n",
            "[40]\ttrain-mlogloss:0.38034\teval-mlogloss:0.34565\n",
            "[41]\ttrain-mlogloss:0.37232\teval-mlogloss:0.33692\n",
            "[42]\ttrain-mlogloss:0.36442\teval-mlogloss:0.32842\n",
            "[43]\ttrain-mlogloss:0.35684\teval-mlogloss:0.32055\n",
            "[44]\ttrain-mlogloss:0.34921\teval-mlogloss:0.31258\n",
            "[45]\ttrain-mlogloss:0.34193\teval-mlogloss:0.30493\n",
            "[46]\ttrain-mlogloss:0.33470\teval-mlogloss:0.29775\n",
            "[47]\ttrain-mlogloss:0.32805\teval-mlogloss:0.29072\n",
            "[48]\ttrain-mlogloss:0.32154\teval-mlogloss:0.28413\n",
            "[49]\ttrain-mlogloss:0.31505\teval-mlogloss:0.27739\n",
            "[50]\ttrain-mlogloss:0.30868\teval-mlogloss:0.27067\n",
            "[51]\ttrain-mlogloss:0.30225\teval-mlogloss:0.26491\n",
            "[52]\ttrain-mlogloss:0.29636\teval-mlogloss:0.25877\n",
            "[53]\ttrain-mlogloss:0.29077\teval-mlogloss:0.25282\n",
            "[54]\ttrain-mlogloss:0.28521\teval-mlogloss:0.24683\n",
            "[55]\ttrain-mlogloss:0.27971\teval-mlogloss:0.24123\n",
            "[56]\ttrain-mlogloss:0.27457\teval-mlogloss:0.23587\n",
            "[57]\ttrain-mlogloss:0.26958\teval-mlogloss:0.23090\n",
            "[58]\ttrain-mlogloss:0.26446\teval-mlogloss:0.22598\n",
            "[59]\ttrain-mlogloss:0.25966\teval-mlogloss:0.22082\n",
            "[60]\ttrain-mlogloss:0.25486\teval-mlogloss:0.21603\n",
            "[61]\ttrain-mlogloss:0.25038\teval-mlogloss:0.21093\n",
            "[62]\ttrain-mlogloss:0.24592\teval-mlogloss:0.20644\n",
            "[63]\ttrain-mlogloss:0.24166\teval-mlogloss:0.20244\n",
            "[64]\ttrain-mlogloss:0.23753\teval-mlogloss:0.19791\n",
            "[65]\ttrain-mlogloss:0.23343\teval-mlogloss:0.19358\n",
            "[66]\ttrain-mlogloss:0.22936\teval-mlogloss:0.18903\n",
            "[67]\ttrain-mlogloss:0.22536\teval-mlogloss:0.18499\n",
            "[68]\ttrain-mlogloss:0.22155\teval-mlogloss:0.18092\n",
            "[69]\ttrain-mlogloss:0.21792\teval-mlogloss:0.17734\n",
            "[70]\ttrain-mlogloss:0.21420\teval-mlogloss:0.17345\n",
            "[71]\ttrain-mlogloss:0.21071\teval-mlogloss:0.16931\n",
            "[72]\ttrain-mlogloss:0.20741\teval-mlogloss:0.16578\n",
            "[73]\ttrain-mlogloss:0.20399\teval-mlogloss:0.16288\n",
            "[74]\ttrain-mlogloss:0.20124\teval-mlogloss:0.16021\n",
            "[75]\ttrain-mlogloss:0.19810\teval-mlogloss:0.15706\n",
            "[76]\ttrain-mlogloss:0.19516\teval-mlogloss:0.15420\n",
            "[77]\ttrain-mlogloss:0.19226\teval-mlogloss:0.15101\n",
            "[78]\ttrain-mlogloss:0.18946\teval-mlogloss:0.14749\n",
            "[79]\ttrain-mlogloss:0.18673\teval-mlogloss:0.14453\n",
            "[80]\ttrain-mlogloss:0.18428\teval-mlogloss:0.14175\n",
            "[81]\ttrain-mlogloss:0.18180\teval-mlogloss:0.13912\n",
            "[82]\ttrain-mlogloss:0.17929\teval-mlogloss:0.13679\n",
            "[83]\ttrain-mlogloss:0.17708\teval-mlogloss:0.13420\n",
            "[84]\ttrain-mlogloss:0.17471\teval-mlogloss:0.13187\n",
            "[85]\ttrain-mlogloss:0.17249\teval-mlogloss:0.12952\n",
            "[86]\ttrain-mlogloss:0.17028\teval-mlogloss:0.12700\n",
            "[87]\ttrain-mlogloss:0.16812\teval-mlogloss:0.12450\n",
            "[88]\ttrain-mlogloss:0.16587\teval-mlogloss:0.12198\n",
            "[89]\ttrain-mlogloss:0.16382\teval-mlogloss:0.11990\n",
            "[90]\ttrain-mlogloss:0.16183\teval-mlogloss:0.11782\n",
            "[91]\ttrain-mlogloss:0.15968\teval-mlogloss:0.11589\n",
            "[92]\ttrain-mlogloss:0.15781\teval-mlogloss:0.11404\n",
            "[93]\ttrain-mlogloss:0.15598\teval-mlogloss:0.11171\n",
            "[94]\ttrain-mlogloss:0.15414\teval-mlogloss:0.10968\n",
            "[95]\ttrain-mlogloss:0.15270\teval-mlogloss:0.10820\n",
            "[96]\ttrain-mlogloss:0.15114\teval-mlogloss:0.10620\n",
            "[97]\ttrain-mlogloss:0.14949\teval-mlogloss:0.10424\n",
            "[98]\ttrain-mlogloss:0.14755\teval-mlogloss:0.10262\n",
            "[99]\ttrain-mlogloss:0.14606\teval-mlogloss:0.10146\n",
            "[100]\ttrain-mlogloss:0.14477\teval-mlogloss:0.09997\n",
            "[101]\ttrain-mlogloss:0.14331\teval-mlogloss:0.09829\n",
            "[102]\ttrain-mlogloss:0.14216\teval-mlogloss:0.09684\n",
            "[103]\ttrain-mlogloss:0.14072\teval-mlogloss:0.09512\n",
            "[104]\ttrain-mlogloss:0.13922\teval-mlogloss:0.09388\n",
            "[105]\ttrain-mlogloss:0.13780\teval-mlogloss:0.09217\n",
            "[106]\ttrain-mlogloss:0.13616\teval-mlogloss:0.09087\n",
            "[107]\ttrain-mlogloss:0.13502\teval-mlogloss:0.08934\n",
            "[108]\ttrain-mlogloss:0.13383\teval-mlogloss:0.08766\n",
            "[109]\ttrain-mlogloss:0.13280\teval-mlogloss:0.08639\n",
            "[110]\ttrain-mlogloss:0.13234\teval-mlogloss:0.08581\n",
            "[111]\ttrain-mlogloss:0.13131\teval-mlogloss:0.08442\n",
            "[112]\ttrain-mlogloss:0.13092\teval-mlogloss:0.08408\n",
            "[113]\ttrain-mlogloss:0.13052\teval-mlogloss:0.08343\n",
            "[114]\ttrain-mlogloss:0.13006\teval-mlogloss:0.08272\n",
            "[115]\ttrain-mlogloss:0.12963\teval-mlogloss:0.08205\n",
            "[116]\ttrain-mlogloss:0.12904\teval-mlogloss:0.08126\n",
            "[117]\ttrain-mlogloss:0.12849\teval-mlogloss:0.08029\n",
            "[118]\ttrain-mlogloss:0.12812\teval-mlogloss:0.07973\n",
            "[119]\ttrain-mlogloss:0.12732\teval-mlogloss:0.07908\n",
            "[120]\ttrain-mlogloss:0.12693\teval-mlogloss:0.07841\n",
            "[121]\ttrain-mlogloss:0.12657\teval-mlogloss:0.07777\n",
            "[122]\ttrain-mlogloss:0.12617\teval-mlogloss:0.07708\n",
            "[123]\ttrain-mlogloss:0.12594\teval-mlogloss:0.07667\n",
            "[124]\ttrain-mlogloss:0.12564\teval-mlogloss:0.07632\n",
            "[125]\ttrain-mlogloss:0.12539\teval-mlogloss:0.07588\n",
            "[126]\ttrain-mlogloss:0.12491\teval-mlogloss:0.07536\n",
            "[127]\ttrain-mlogloss:0.12462\teval-mlogloss:0.07479\n",
            "[128]\ttrain-mlogloss:0.12426\teval-mlogloss:0.07415\n",
            "[129]\ttrain-mlogloss:0.12396\teval-mlogloss:0.07388\n",
            "[130]\ttrain-mlogloss:0.12372\teval-mlogloss:0.07361\n",
            "[131]\ttrain-mlogloss:0.12334\teval-mlogloss:0.07305\n",
            "[132]\ttrain-mlogloss:0.12312\teval-mlogloss:0.07270\n",
            "[133]\ttrain-mlogloss:0.12285\teval-mlogloss:0.07242\n",
            "[134]\ttrain-mlogloss:0.12257\teval-mlogloss:0.07195\n",
            "[135]\ttrain-mlogloss:0.12220\teval-mlogloss:0.07163\n",
            "[136]\ttrain-mlogloss:0.12196\teval-mlogloss:0.07126\n",
            "[137]\ttrain-mlogloss:0.12176\teval-mlogloss:0.07089\n",
            "[138]\ttrain-mlogloss:0.12153\teval-mlogloss:0.07108\n",
            "[139]\ttrain-mlogloss:0.12118\teval-mlogloss:0.07074\n",
            "[140]\ttrain-mlogloss:0.12087\teval-mlogloss:0.07022\n",
            "[141]\ttrain-mlogloss:0.12065\teval-mlogloss:0.07023\n",
            "[142]\ttrain-mlogloss:0.12037\teval-mlogloss:0.06990\n",
            "[143]\ttrain-mlogloss:0.12015\teval-mlogloss:0.06955\n",
            "[144]\ttrain-mlogloss:0.11988\teval-mlogloss:0.06930\n",
            "[145]\ttrain-mlogloss:0.11969\teval-mlogloss:0.06935\n",
            "[146]\ttrain-mlogloss:0.11938\teval-mlogloss:0.06897\n",
            "[147]\ttrain-mlogloss:0.11904\teval-mlogloss:0.06854\n",
            "[148]\ttrain-mlogloss:0.11879\teval-mlogloss:0.06811\n",
            "[149]\ttrain-mlogloss:0.11853\teval-mlogloss:0.06790\n",
            "[150]\ttrain-mlogloss:0.11834\teval-mlogloss:0.06799\n",
            "[151]\ttrain-mlogloss:0.11814\teval-mlogloss:0.06799\n",
            "[152]\ttrain-mlogloss:0.11786\teval-mlogloss:0.06755\n",
            "[153]\ttrain-mlogloss:0.11757\teval-mlogloss:0.06724\n",
            "[154]\ttrain-mlogloss:0.11724\teval-mlogloss:0.06679\n",
            "[155]\ttrain-mlogloss:0.11705\teval-mlogloss:0.06644\n",
            "[156]\ttrain-mlogloss:0.11684\teval-mlogloss:0.06621\n",
            "[157]\ttrain-mlogloss:0.11662\teval-mlogloss:0.06583\n",
            "[158]\ttrain-mlogloss:0.11646\teval-mlogloss:0.06586\n",
            "[159]\ttrain-mlogloss:0.11618\teval-mlogloss:0.06544\n",
            "[160]\ttrain-mlogloss:0.11596\teval-mlogloss:0.06550\n",
            "[161]\ttrain-mlogloss:0.11583\teval-mlogloss:0.06530\n",
            "[162]\ttrain-mlogloss:0.11562\teval-mlogloss:0.06497\n",
            "[163]\ttrain-mlogloss:0.11545\teval-mlogloss:0.06477\n",
            "[164]\ttrain-mlogloss:0.11527\teval-mlogloss:0.06467\n",
            "[165]\ttrain-mlogloss:0.11512\teval-mlogloss:0.06468\n",
            "[166]\ttrain-mlogloss:0.11490\teval-mlogloss:0.06433\n",
            "[167]\ttrain-mlogloss:0.11470\teval-mlogloss:0.06409\n",
            "[168]\ttrain-mlogloss:0.11455\teval-mlogloss:0.06410\n",
            "[169]\ttrain-mlogloss:0.11431\teval-mlogloss:0.06387\n",
            "[170]\ttrain-mlogloss:0.11408\teval-mlogloss:0.06344\n",
            "[171]\ttrain-mlogloss:0.11386\teval-mlogloss:0.06303\n",
            "[172]\ttrain-mlogloss:0.11373\teval-mlogloss:0.06285\n",
            "[173]\ttrain-mlogloss:0.11352\teval-mlogloss:0.06269\n",
            "[174]\ttrain-mlogloss:0.11341\teval-mlogloss:0.06274\n",
            "[175]\ttrain-mlogloss:0.11328\teval-mlogloss:0.06280\n",
            "[176]\ttrain-mlogloss:0.11316\teval-mlogloss:0.06256\n",
            "[177]\ttrain-mlogloss:0.11301\teval-mlogloss:0.06223\n",
            "[178]\ttrain-mlogloss:0.11282\teval-mlogloss:0.06203\n",
            "[179]\ttrain-mlogloss:0.11263\teval-mlogloss:0.06169\n",
            "[180]\ttrain-mlogloss:0.11252\teval-mlogloss:0.06148\n",
            "[181]\ttrain-mlogloss:0.11248\teval-mlogloss:0.06145\n",
            "[182]\ttrain-mlogloss:0.11228\teval-mlogloss:0.06114\n",
            "[183]\ttrain-mlogloss:0.11215\teval-mlogloss:0.06100\n",
            "[184]\ttrain-mlogloss:0.11202\teval-mlogloss:0.06106\n",
            "[185]\ttrain-mlogloss:0.11184\teval-mlogloss:0.06072\n",
            "[186]\ttrain-mlogloss:0.11171\teval-mlogloss:0.06077\n",
            "[187]\ttrain-mlogloss:0.11167\teval-mlogloss:0.06074\n",
            "[188]\ttrain-mlogloss:0.11155\teval-mlogloss:0.06076\n",
            "[189]\ttrain-mlogloss:0.11136\teval-mlogloss:0.06054\n",
            "[190]\ttrain-mlogloss:0.11112\teval-mlogloss:0.06031\n",
            "[191]\ttrain-mlogloss:0.11104\teval-mlogloss:0.06012\n",
            "[192]\ttrain-mlogloss:0.11082\teval-mlogloss:0.05991\n",
            "[193]\ttrain-mlogloss:0.11068\teval-mlogloss:0.05965\n",
            "[194]\ttrain-mlogloss:0.11052\teval-mlogloss:0.05938\n",
            "[195]\ttrain-mlogloss:0.11035\teval-mlogloss:0.05913\n",
            "[196]\ttrain-mlogloss:0.11019\teval-mlogloss:0.05917\n",
            "[197]\ttrain-mlogloss:0.11007\teval-mlogloss:0.05903\n",
            "[198]\ttrain-mlogloss:0.10995\teval-mlogloss:0.05883\n",
            "[199]\ttrain-mlogloss:0.10980\teval-mlogloss:0.05867\n",
            "[200]\ttrain-mlogloss:0.10973\teval-mlogloss:0.05850\n",
            "[201]\ttrain-mlogloss:0.10972\teval-mlogloss:0.05830\n",
            "[202]\ttrain-mlogloss:0.10972\teval-mlogloss:0.05831\n",
            "[203]\ttrain-mlogloss:0.10961\teval-mlogloss:0.05811\n",
            "[204]\ttrain-mlogloss:0.10951\teval-mlogloss:0.05814\n",
            "[205]\ttrain-mlogloss:0.10933\teval-mlogloss:0.05795\n",
            "[206]\ttrain-mlogloss:0.10920\teval-mlogloss:0.05772\n",
            "[207]\ttrain-mlogloss:0.10905\teval-mlogloss:0.05778\n",
            "[208]\ttrain-mlogloss:0.10896\teval-mlogloss:0.05784\n",
            "[209]\ttrain-mlogloss:0.10880\teval-mlogloss:0.05784\n",
            "[210]\ttrain-mlogloss:0.10872\teval-mlogloss:0.05784\n",
            "[211]\ttrain-mlogloss:0.10864\teval-mlogloss:0.05764\n",
            "[212]\ttrain-mlogloss:0.10849\teval-mlogloss:0.05735\n",
            "[213]\ttrain-mlogloss:0.10840\teval-mlogloss:0.05719\n",
            "[214]\ttrain-mlogloss:0.10828\teval-mlogloss:0.05712\n",
            "[215]\ttrain-mlogloss:0.10820\teval-mlogloss:0.05720\n",
            "[216]\ttrain-mlogloss:0.10809\teval-mlogloss:0.05694\n",
            "[217]\ttrain-mlogloss:0.10809\teval-mlogloss:0.05685\n",
            "[218]\ttrain-mlogloss:0.10793\teval-mlogloss:0.05690\n",
            "[219]\ttrain-mlogloss:0.10789\teval-mlogloss:0.05688\n",
            "[220]\ttrain-mlogloss:0.10779\teval-mlogloss:0.05691\n",
            "[221]\ttrain-mlogloss:0.10765\teval-mlogloss:0.05697\n",
            "[222]\ttrain-mlogloss:0.10751\teval-mlogloss:0.05675\n",
            "[223]\ttrain-mlogloss:0.10748\teval-mlogloss:0.05671\n",
            "[224]\ttrain-mlogloss:0.10732\teval-mlogloss:0.05641\n",
            "[225]\ttrain-mlogloss:0.10727\teval-mlogloss:0.05631\n",
            "[226]\ttrain-mlogloss:0.10710\teval-mlogloss:0.05613\n",
            "[227]\ttrain-mlogloss:0.10694\teval-mlogloss:0.05601\n",
            "[228]\ttrain-mlogloss:0.10682\teval-mlogloss:0.05583\n",
            "[229]\ttrain-mlogloss:0.10669\teval-mlogloss:0.05569\n",
            "[230]\ttrain-mlogloss:0.10654\teval-mlogloss:0.05540\n",
            "[231]\ttrain-mlogloss:0.10646\teval-mlogloss:0.05529\n",
            "[232]\ttrain-mlogloss:0.10645\teval-mlogloss:0.05531\n",
            "[233]\ttrain-mlogloss:0.10629\teval-mlogloss:0.05539\n",
            "[234]\ttrain-mlogloss:0.10617\teval-mlogloss:0.05544\n",
            "[235]\ttrain-mlogloss:0.10614\teval-mlogloss:0.05542\n",
            "[236]\ttrain-mlogloss:0.10602\teval-mlogloss:0.05528\n",
            "[237]\ttrain-mlogloss:0.10591\teval-mlogloss:0.05506\n",
            "[238]\ttrain-mlogloss:0.10587\teval-mlogloss:0.05504\n",
            "[239]\ttrain-mlogloss:0.10578\teval-mlogloss:0.05506\n",
            "[240]\ttrain-mlogloss:0.10573\teval-mlogloss:0.05506\n",
            "[241]\ttrain-mlogloss:0.10567\teval-mlogloss:0.05513\n",
            "[242]\ttrain-mlogloss:0.10553\teval-mlogloss:0.05521\n",
            "[243]\ttrain-mlogloss:0.10552\teval-mlogloss:0.05516\n",
            "[244]\ttrain-mlogloss:0.10538\teval-mlogloss:0.05524\n",
            "[245]\ttrain-mlogloss:0.10536\teval-mlogloss:0.05521\n",
            "[246]\ttrain-mlogloss:0.10534\teval-mlogloss:0.05513\n",
            "[247]\ttrain-mlogloss:0.10522\teval-mlogloss:0.05504\n",
            "[248]\ttrain-mlogloss:0.10510\teval-mlogloss:0.05480\n",
            "[249]\ttrain-mlogloss:0.10497\teval-mlogloss:0.05452\n",
            "[250]\ttrain-mlogloss:0.10483\teval-mlogloss:0.05428\n",
            "[251]\ttrain-mlogloss:0.10481\teval-mlogloss:0.05422\n",
            "[252]\ttrain-mlogloss:0.10473\teval-mlogloss:0.05431\n",
            "[253]\ttrain-mlogloss:0.10473\teval-mlogloss:0.05427\n",
            "[254]\ttrain-mlogloss:0.10463\teval-mlogloss:0.05418\n",
            "[255]\ttrain-mlogloss:0.10453\teval-mlogloss:0.05424\n",
            "[256]\ttrain-mlogloss:0.10441\teval-mlogloss:0.05407\n",
            "[257]\ttrain-mlogloss:0.10429\teval-mlogloss:0.05387\n",
            "[258]\ttrain-mlogloss:0.10414\teval-mlogloss:0.05372\n",
            "[259]\ttrain-mlogloss:0.10413\teval-mlogloss:0.05373\n",
            "[260]\ttrain-mlogloss:0.10408\teval-mlogloss:0.05369\n",
            "[261]\ttrain-mlogloss:0.10394\teval-mlogloss:0.05357\n",
            "[262]\ttrain-mlogloss:0.10382\teval-mlogloss:0.05340\n",
            "[263]\ttrain-mlogloss:0.10380\teval-mlogloss:0.05334\n",
            "[264]\ttrain-mlogloss:0.10371\teval-mlogloss:0.05320\n",
            "[265]\ttrain-mlogloss:0.10371\teval-mlogloss:0.05320\n",
            "[266]\ttrain-mlogloss:0.10370\teval-mlogloss:0.05314\n",
            "[267]\ttrain-mlogloss:0.10355\teval-mlogloss:0.05303\n",
            "[268]\ttrain-mlogloss:0.10352\teval-mlogloss:0.05291\n",
            "[269]\ttrain-mlogloss:0.10339\teval-mlogloss:0.05277\n",
            "[270]\ttrain-mlogloss:0.10330\teval-mlogloss:0.05259\n",
            "[271]\ttrain-mlogloss:0.10317\teval-mlogloss:0.05248\n",
            "[272]\ttrain-mlogloss:0.10314\teval-mlogloss:0.05247\n",
            "[273]\ttrain-mlogloss:0.10311\teval-mlogloss:0.05244\n",
            "[274]\ttrain-mlogloss:0.10311\teval-mlogloss:0.05238\n",
            "[275]\ttrain-mlogloss:0.10297\teval-mlogloss:0.05227\n",
            "[276]\ttrain-mlogloss:0.10289\teval-mlogloss:0.05236\n",
            "[277]\ttrain-mlogloss:0.10289\teval-mlogloss:0.05239\n",
            "[278]\ttrain-mlogloss:0.10283\teval-mlogloss:0.05253\n",
            "[279]\ttrain-mlogloss:0.10274\teval-mlogloss:0.05258\n",
            "[280]\ttrain-mlogloss:0.10274\teval-mlogloss:0.05257\n",
            "[281]\ttrain-mlogloss:0.10263\teval-mlogloss:0.05264\n",
            "[282]\ttrain-mlogloss:0.10260\teval-mlogloss:0.05263\n",
            "[283]\ttrain-mlogloss:0.10259\teval-mlogloss:0.05263\n",
            "[284]\ttrain-mlogloss:0.10258\teval-mlogloss:0.05254\n",
            "[285]\ttrain-mlogloss:0.10251\teval-mlogloss:0.05263\n",
            "[286]\ttrain-mlogloss:0.10248\teval-mlogloss:0.05263\n",
            "[287]\ttrain-mlogloss:0.10239\teval-mlogloss:0.05255\n",
            "[288]\ttrain-mlogloss:0.10239\teval-mlogloss:0.05257\n",
            "[289]\ttrain-mlogloss:0.10230\teval-mlogloss:0.05262\n",
            "[290]\ttrain-mlogloss:0.10219\teval-mlogloss:0.05236\n",
            "[291]\ttrain-mlogloss:0.10208\teval-mlogloss:0.05214\n",
            "[292]\ttrain-mlogloss:0.10204\teval-mlogloss:0.05209\n",
            "[293]\ttrain-mlogloss:0.10196\teval-mlogloss:0.05203\n",
            "[294]\ttrain-mlogloss:0.10188\teval-mlogloss:0.05192\n",
            "[295]\ttrain-mlogloss:0.10184\teval-mlogloss:0.05189\n",
            "[296]\ttrain-mlogloss:0.10171\teval-mlogloss:0.05196\n",
            "[297]\ttrain-mlogloss:0.10169\teval-mlogloss:0.05198\n",
            "[298]\ttrain-mlogloss:0.10168\teval-mlogloss:0.05200\n",
            "[299]\ttrain-mlogloss:0.10167\teval-mlogloss:0.05201\n"
          ]
        },
        {
          "name": "stderr",
          "output_type": "stream",
          "text": [
            "[I 2025-09-13 01:30:21,916] Trial 3 finished with value: 1.0 and parameters: {'lambda': 0.0002576304177058164, 'alpha': 0.022663686359115906, 'eta': 0.02623200820896058, 'gamma': 0.00905777360395464, 'max_depth': 6, 'min_child_weight': 4, 'subsample': 0.8350924045979027, 'colsample_bytree': 0.9281068402410201}. Best is trial 0 with value: 1.0.\n"
          ]
        },
        {
          "name": "stdout",
          "output_type": "stream",
          "text": [
            "[0]\ttrain-mlogloss:1.02668\teval-mlogloss:1.02504\n",
            "[1]\ttrain-mlogloss:0.98019\teval-mlogloss:0.98991\n"
          ]
        },
        {
          "name": "stderr",
          "output_type": "stream",
          "text": [
            "[I 2025-09-13 01:30:22,022] Trial 4 pruned. Trial was pruned at iteration 2.\n"
          ]
        },
        {
          "name": "stdout",
          "output_type": "stream",
          "text": [
            "[0]\ttrain-mlogloss:0.78864\teval-mlogloss:0.77107\n",
            "[1]\ttrain-mlogloss:0.66994\teval-mlogloss:0.65578\n",
            "[2]\ttrain-mlogloss:0.52488\teval-mlogloss:0.49937\n"
          ]
        },
        {
          "name": "stderr",
          "output_type": "stream",
          "text": [
            "[I 2025-09-13 01:30:22,155] Trial 5 pruned. Trial was pruned at iteration 2.\n"
          ]
        },
        {
          "name": "stdout",
          "output_type": "stream",
          "text": [
            "[0]\ttrain-mlogloss:1.01736\teval-mlogloss:1.01312\n",
            "[1]\ttrain-mlogloss:0.97784\teval-mlogloss:0.97259\n",
            "[2]\ttrain-mlogloss:0.92822\teval-mlogloss:0.92867\n"
          ]
        },
        {
          "name": "stderr",
          "output_type": "stream",
          "text": [
            "[I 2025-09-13 01:30:22,235] Trial 6 pruned. Trial was pruned at iteration 2.\n"
          ]
        },
        {
          "name": "stdout",
          "output_type": "stream",
          "text": [
            "[0]\ttrain-mlogloss:0.93632\teval-mlogloss:0.93018\n",
            "[1]\ttrain-mlogloss:0.86298\teval-mlogloss:0.85121\n",
            "[2]\ttrain-mlogloss:0.75789\teval-mlogloss:0.74069\n"
          ]
        },
        {
          "name": "stderr",
          "output_type": "stream",
          "text": [
            "[I 2025-09-13 01:30:22,399] Trial 7 pruned. Trial was pruned at iteration 2.\n"
          ]
        },
        {
          "name": "stdout",
          "output_type": "stream",
          "text": [
            "[0]\ttrain-mlogloss:0.79560\teval-mlogloss:0.79938\n",
            "[1]\ttrain-mlogloss:0.59559\teval-mlogloss:0.57949\n",
            "[2]\ttrain-mlogloss:0.47000\teval-mlogloss:0.44830\n"
          ]
        },
        {
          "name": "stderr",
          "output_type": "stream",
          "text": [
            "[I 2025-09-13 01:30:22,430] Trial 8 pruned. Trial was pruned at iteration 2.\n"
          ]
        },
        {
          "name": "stdout",
          "output_type": "stream",
          "text": [
            "[0]\ttrain-mlogloss:1.03466\teval-mlogloss:1.03462\n",
            "[1]\ttrain-mlogloss:1.00554\teval-mlogloss:1.00448\n",
            "[2]\ttrain-mlogloss:0.96668\teval-mlogloss:0.97046\n",
            "[3]\ttrain-mlogloss:0.90650\teval-mlogloss:0.90450\n",
            "[4]\ttrain-mlogloss:0.88127\teval-mlogloss:0.88270\n",
            "[5]\ttrain-mlogloss:0.84363\teval-mlogloss:0.84479\n",
            "[6]\ttrain-mlogloss:0.79298\teval-mlogloss:0.78891\n",
            "[7]\ttrain-mlogloss:0.74319\teval-mlogloss:0.73497\n"
          ]
        },
        {
          "name": "stderr",
          "output_type": "stream",
          "text": [
            "[I 2025-09-13 01:30:22,715] Trial 9 pruned. Trial was pruned at iteration 8.\n"
          ]
        },
        {
          "name": "stdout",
          "output_type": "stream",
          "text": [
            "[0]\ttrain-mlogloss:0.86231\teval-mlogloss:0.85903\n",
            "[1]\ttrain-mlogloss:0.69580\teval-mlogloss:0.67900\n",
            "[2]\ttrain-mlogloss:0.57103\teval-mlogloss:0.54922\n"
          ]
        },
        {
          "name": "stderr",
          "output_type": "stream",
          "text": [
            "[I 2025-09-13 01:30:22,840] Trial 10 pruned. Trial was pruned at iteration 2.\n"
          ]
        },
        {
          "name": "stdout",
          "output_type": "stream",
          "text": [
            "[0]\ttrain-mlogloss:0.93450\teval-mlogloss:0.92826\n",
            "[1]\ttrain-mlogloss:0.87162\teval-mlogloss:0.85216\n"
          ]
        },
        {
          "name": "stderr",
          "output_type": "stream",
          "text": [
            "[I 2025-09-13 01:30:23,182] Trial 11 pruned. Trial was pruned at iteration 2.\n"
          ]
        },
        {
          "name": "stdout",
          "output_type": "stream",
          "text": [
            "[0]\ttrain-mlogloss:0.90009\teval-mlogloss:0.88994\n",
            "[1]\ttrain-mlogloss:0.80699\teval-mlogloss:0.80576\n"
          ]
        },
        {
          "name": "stderr",
          "output_type": "stream",
          "text": [
            "[I 2025-09-13 01:30:23,370] Trial 12 pruned. Trial was pruned at iteration 2.\n"
          ]
        },
        {
          "name": "stdout",
          "output_type": "stream",
          "text": [
            "[0]\ttrain-mlogloss:1.08223\teval-mlogloss:1.08154\n",
            "[1]\ttrain-mlogloss:1.07309\teval-mlogloss:1.07243\n",
            "[2]\ttrain-mlogloss:1.05888\teval-mlogloss:1.05788\n",
            "[3]\ttrain-mlogloss:1.04305\teval-mlogloss:1.04183\n",
            "[4]\ttrain-mlogloss:1.02774\teval-mlogloss:1.02625\n",
            "[5]\ttrain-mlogloss:1.01273\teval-mlogloss:1.01053\n",
            "[6]\ttrain-mlogloss:0.99837\teval-mlogloss:0.99510\n",
            "[7]\ttrain-mlogloss:0.98412\teval-mlogloss:0.98011\n",
            "[8]\ttrain-mlogloss:0.97040\teval-mlogloss:0.96545\n",
            "[9]\ttrain-mlogloss:0.95679\teval-mlogloss:0.95130\n",
            "[10]\ttrain-mlogloss:0.94474\teval-mlogloss:0.93890\n",
            "[11]\ttrain-mlogloss:0.93150\teval-mlogloss:0.92535\n",
            "[12]\ttrain-mlogloss:0.92044\teval-mlogloss:0.91362\n",
            "[13]\ttrain-mlogloss:0.90768\teval-mlogloss:0.90024\n",
            "[14]\ttrain-mlogloss:0.89532\teval-mlogloss:0.88683\n",
            "[15]\ttrain-mlogloss:0.88515\teval-mlogloss:0.87631\n",
            "[16]\ttrain-mlogloss:0.87498\teval-mlogloss:0.86593\n",
            "[17]\ttrain-mlogloss:0.86312\teval-mlogloss:0.85355\n",
            "[18]\ttrain-mlogloss:0.85345\teval-mlogloss:0.84366\n",
            "[19]\ttrain-mlogloss:0.84309\teval-mlogloss:0.83344\n",
            "[20]\ttrain-mlogloss:0.83393\teval-mlogloss:0.82398\n",
            "[21]\ttrain-mlogloss:0.82453\teval-mlogloss:0.81423\n",
            "[22]\ttrain-mlogloss:0.81368\teval-mlogloss:0.80239\n",
            "[23]\ttrain-mlogloss:0.80300\teval-mlogloss:0.79125\n",
            "[24]\ttrain-mlogloss:0.79251\teval-mlogloss:0.78005\n",
            "[25]\ttrain-mlogloss:0.78217\teval-mlogloss:0.76918\n",
            "[26]\ttrain-mlogloss:0.77301\teval-mlogloss:0.75930\n",
            "[27]\ttrain-mlogloss:0.76306\teval-mlogloss:0.74874\n",
            "[28]\ttrain-mlogloss:0.75349\teval-mlogloss:0.73868\n",
            "[29]\ttrain-mlogloss:0.74549\teval-mlogloss:0.73021\n",
            "[30]\ttrain-mlogloss:0.73958\teval-mlogloss:0.72421\n",
            "[31]\ttrain-mlogloss:0.73217\teval-mlogloss:0.71658\n",
            "[32]\ttrain-mlogloss:0.72291\teval-mlogloss:0.70687\n",
            "[33]\ttrain-mlogloss:0.71365\teval-mlogloss:0.69699\n",
            "[34]\ttrain-mlogloss:0.70676\teval-mlogloss:0.69031\n",
            "[35]\ttrain-mlogloss:0.69809\teval-mlogloss:0.68088\n",
            "[36]\ttrain-mlogloss:0.69034\teval-mlogloss:0.67293\n",
            "[37]\ttrain-mlogloss:0.68169\teval-mlogloss:0.66400\n",
            "[38]\ttrain-mlogloss:0.67355\teval-mlogloss:0.65514\n",
            "[39]\ttrain-mlogloss:0.66536\teval-mlogloss:0.64694\n",
            "[40]\ttrain-mlogloss:0.65869\teval-mlogloss:0.64012\n",
            "[41]\ttrain-mlogloss:0.65067\teval-mlogloss:0.63142\n",
            "[42]\ttrain-mlogloss:0.64291\teval-mlogloss:0.62303\n",
            "[43]\ttrain-mlogloss:0.63511\teval-mlogloss:0.61495\n",
            "[44]\ttrain-mlogloss:0.62935\teval-mlogloss:0.60871\n",
            "[45]\ttrain-mlogloss:0.62180\teval-mlogloss:0.60076\n",
            "[46]\ttrain-mlogloss:0.61447\teval-mlogloss:0.59322\n",
            "[47]\ttrain-mlogloss:0.60790\teval-mlogloss:0.58650\n",
            "[48]\ttrain-mlogloss:0.60083\teval-mlogloss:0.57929\n",
            "[49]\ttrain-mlogloss:0.59369\teval-mlogloss:0.57166\n",
            "[50]\ttrain-mlogloss:0.58681\teval-mlogloss:0.56414\n",
            "[51]\ttrain-mlogloss:0.58068\teval-mlogloss:0.55767\n",
            "[52]\ttrain-mlogloss:0.57621\teval-mlogloss:0.55333\n",
            "[53]\ttrain-mlogloss:0.56970\teval-mlogloss:0.54642\n",
            "[54]\ttrain-mlogloss:0.56478\teval-mlogloss:0.54123\n",
            "[55]\ttrain-mlogloss:0.55933\teval-mlogloss:0.53584\n",
            "[56]\ttrain-mlogloss:0.55410\teval-mlogloss:0.53018\n",
            "[57]\ttrain-mlogloss:0.54897\teval-mlogloss:0.52487\n",
            "[58]\ttrain-mlogloss:0.54420\teval-mlogloss:0.51998\n",
            "[59]\ttrain-mlogloss:0.53797\teval-mlogloss:0.51341\n",
            "[60]\ttrain-mlogloss:0.53199\teval-mlogloss:0.50722\n",
            "[61]\ttrain-mlogloss:0.52703\teval-mlogloss:0.50201\n",
            "[62]\ttrain-mlogloss:0.52120\teval-mlogloss:0.49581\n",
            "[63]\ttrain-mlogloss:0.51548\teval-mlogloss:0.48963\n",
            "[64]\ttrain-mlogloss:0.50978\teval-mlogloss:0.48358\n",
            "[65]\ttrain-mlogloss:0.50418\teval-mlogloss:0.47784\n",
            "[66]\ttrain-mlogloss:0.49858\teval-mlogloss:0.47174\n",
            "[67]\ttrain-mlogloss:0.49440\teval-mlogloss:0.46743\n",
            "[68]\ttrain-mlogloss:0.49029\teval-mlogloss:0.46328\n",
            "[69]\ttrain-mlogloss:0.48567\teval-mlogloss:0.45862\n",
            "[70]\ttrain-mlogloss:0.48105\teval-mlogloss:0.45380\n",
            "[71]\ttrain-mlogloss:0.47575\teval-mlogloss:0.44794\n",
            "[72]\ttrain-mlogloss:0.47253\teval-mlogloss:0.44462\n",
            "[73]\ttrain-mlogloss:0.46744\teval-mlogloss:0.43950\n",
            "[74]\ttrain-mlogloss:0.46253\teval-mlogloss:0.43423\n",
            "[75]\ttrain-mlogloss:0.45748\teval-mlogloss:0.42885\n",
            "[76]\ttrain-mlogloss:0.45447\teval-mlogloss:0.42586\n",
            "[77]\ttrain-mlogloss:0.44964\teval-mlogloss:0.42098\n",
            "[78]\ttrain-mlogloss:0.44563\teval-mlogloss:0.41669\n",
            "[79]\ttrain-mlogloss:0.44094\teval-mlogloss:0.41152\n",
            "[80]\ttrain-mlogloss:0.43694\teval-mlogloss:0.40703\n",
            "[81]\ttrain-mlogloss:0.43228\teval-mlogloss:0.40229\n",
            "[82]\ttrain-mlogloss:0.42793\teval-mlogloss:0.39777\n",
            "[83]\ttrain-mlogloss:0.42354\teval-mlogloss:0.39290\n",
            "[84]\ttrain-mlogloss:0.41921\teval-mlogloss:0.38832\n",
            "[85]\ttrain-mlogloss:0.41635\teval-mlogloss:0.38544\n",
            "[86]\ttrain-mlogloss:0.41202\teval-mlogloss:0.38056\n",
            "[87]\ttrain-mlogloss:0.40887\teval-mlogloss:0.37734\n",
            "[88]\ttrain-mlogloss:0.40513\teval-mlogloss:0.37337\n",
            "[89]\ttrain-mlogloss:0.40105\teval-mlogloss:0.36896\n",
            "[90]\ttrain-mlogloss:0.39715\teval-mlogloss:0.36489\n",
            "[91]\ttrain-mlogloss:0.39381\teval-mlogloss:0.36117\n",
            "[92]\ttrain-mlogloss:0.39033\teval-mlogloss:0.35745\n",
            "[93]\ttrain-mlogloss:0.38634\teval-mlogloss:0.35319\n",
            "[94]\ttrain-mlogloss:0.38243\teval-mlogloss:0.34914\n",
            "[95]\ttrain-mlogloss:0.37951\teval-mlogloss:0.34589\n",
            "[96]\ttrain-mlogloss:0.37576\teval-mlogloss:0.34165\n",
            "[97]\ttrain-mlogloss:0.37201\teval-mlogloss:0.33773\n",
            "[98]\ttrain-mlogloss:0.36843\teval-mlogloss:0.33391\n",
            "[99]\ttrain-mlogloss:0.36478\teval-mlogloss:0.32997\n",
            "[100]\ttrain-mlogloss:0.36188\teval-mlogloss:0.32693\n",
            "[101]\ttrain-mlogloss:0.35841\teval-mlogloss:0.32333\n",
            "[102]\ttrain-mlogloss:0.35490\teval-mlogloss:0.31972\n",
            "[103]\ttrain-mlogloss:0.35240\teval-mlogloss:0.31712\n",
            "[104]\ttrain-mlogloss:0.34986\teval-mlogloss:0.31453\n",
            "[105]\ttrain-mlogloss:0.34723\teval-mlogloss:0.31143\n",
            "[106]\ttrain-mlogloss:0.34393\teval-mlogloss:0.30809\n",
            "[107]\ttrain-mlogloss:0.34082\teval-mlogloss:0.30466\n",
            "[108]\ttrain-mlogloss:0.33759\teval-mlogloss:0.30117\n",
            "[109]\ttrain-mlogloss:0.33524\teval-mlogloss:0.29857\n",
            "[110]\ttrain-mlogloss:0.33209\teval-mlogloss:0.29499\n",
            "[111]\ttrain-mlogloss:0.32933\teval-mlogloss:0.29182\n",
            "[112]\ttrain-mlogloss:0.32718\teval-mlogloss:0.28944\n",
            "[113]\ttrain-mlogloss:0.32496\teval-mlogloss:0.28681\n",
            "[114]\ttrain-mlogloss:0.32220\teval-mlogloss:0.28370\n",
            "[115]\ttrain-mlogloss:0.31949\teval-mlogloss:0.28050\n",
            "[116]\ttrain-mlogloss:0.31742\teval-mlogloss:0.27836\n",
            "[117]\ttrain-mlogloss:0.31497\teval-mlogloss:0.27550\n",
            "[118]\ttrain-mlogloss:0.31245\teval-mlogloss:0.27262\n",
            "[119]\ttrain-mlogloss:0.31040\teval-mlogloss:0.27052\n",
            "[120]\ttrain-mlogloss:0.30841\teval-mlogloss:0.26835\n",
            "[121]\ttrain-mlogloss:0.30571\teval-mlogloss:0.26532\n",
            "[122]\ttrain-mlogloss:0.30347\teval-mlogloss:0.26283\n",
            "[123]\ttrain-mlogloss:0.30162\teval-mlogloss:0.26081\n",
            "[124]\ttrain-mlogloss:0.29966\teval-mlogloss:0.25874\n",
            "[125]\ttrain-mlogloss:0.29778\teval-mlogloss:0.25669\n",
            "[126]\ttrain-mlogloss:0.29584\teval-mlogloss:0.25466\n",
            "[127]\ttrain-mlogloss:0.29402\teval-mlogloss:0.25259\n",
            "[128]\ttrain-mlogloss:0.29161\teval-mlogloss:0.24979\n",
            "[129]\ttrain-mlogloss:0.28937\teval-mlogloss:0.24732\n",
            "[130]\ttrain-mlogloss:0.28709\teval-mlogloss:0.24481\n",
            "[131]\ttrain-mlogloss:0.28529\teval-mlogloss:0.24282\n",
            "[132]\ttrain-mlogloss:0.28321\teval-mlogloss:0.24036\n",
            "[133]\ttrain-mlogloss:0.28174\teval-mlogloss:0.23893\n",
            "[134]\ttrain-mlogloss:0.28001\teval-mlogloss:0.23691\n",
            "[135]\ttrain-mlogloss:0.27832\teval-mlogloss:0.23522\n",
            "[136]\ttrain-mlogloss:0.27630\teval-mlogloss:0.23284\n",
            "[137]\ttrain-mlogloss:0.27420\teval-mlogloss:0.23050\n",
            "[138]\ttrain-mlogloss:0.27261\teval-mlogloss:0.22862\n",
            "[139]\ttrain-mlogloss:0.27097\teval-mlogloss:0.22690\n",
            "[140]\ttrain-mlogloss:0.26933\teval-mlogloss:0.22482\n",
            "[141]\ttrain-mlogloss:0.26731\teval-mlogloss:0.22253\n",
            "[142]\ttrain-mlogloss:0.26552\teval-mlogloss:0.22054\n",
            "[143]\ttrain-mlogloss:0.26369\teval-mlogloss:0.21831\n",
            "[144]\ttrain-mlogloss:0.26191\teval-mlogloss:0.21619\n",
            "[145]\ttrain-mlogloss:0.26007\teval-mlogloss:0.21410\n",
            "[146]\ttrain-mlogloss:0.25826\teval-mlogloss:0.21202\n",
            "[147]\ttrain-mlogloss:0.25639\teval-mlogloss:0.20991\n",
            "[148]\ttrain-mlogloss:0.25469\teval-mlogloss:0.20787\n",
            "[149]\ttrain-mlogloss:0.25308\teval-mlogloss:0.20594\n",
            "[150]\ttrain-mlogloss:0.25186\teval-mlogloss:0.20447\n",
            "[151]\ttrain-mlogloss:0.25066\teval-mlogloss:0.20310\n",
            "[152]\ttrain-mlogloss:0.24890\teval-mlogloss:0.20111\n",
            "[153]\ttrain-mlogloss:0.24737\teval-mlogloss:0.19937\n",
            "[154]\ttrain-mlogloss:0.24572\teval-mlogloss:0.19751\n",
            "[155]\ttrain-mlogloss:0.24434\teval-mlogloss:0.19618\n",
            "[156]\ttrain-mlogloss:0.24308\teval-mlogloss:0.19473\n",
            "[157]\ttrain-mlogloss:0.24144\teval-mlogloss:0.19283\n",
            "[158]\ttrain-mlogloss:0.23994\teval-mlogloss:0.19107\n",
            "[159]\ttrain-mlogloss:0.23865\teval-mlogloss:0.18955\n",
            "[160]\ttrain-mlogloss:0.23721\teval-mlogloss:0.18779\n",
            "[161]\ttrain-mlogloss:0.23601\teval-mlogloss:0.18645\n",
            "[162]\ttrain-mlogloss:0.23459\teval-mlogloss:0.18474\n",
            "[163]\ttrain-mlogloss:0.23338\teval-mlogloss:0.18355\n",
            "[164]\ttrain-mlogloss:0.23196\teval-mlogloss:0.18181\n",
            "[165]\ttrain-mlogloss:0.23059\teval-mlogloss:0.18032\n",
            "[166]\ttrain-mlogloss:0.22975\teval-mlogloss:0.17942\n",
            "[167]\ttrain-mlogloss:0.22874\teval-mlogloss:0.17830\n",
            "[168]\ttrain-mlogloss:0.22783\teval-mlogloss:0.17728\n",
            "[169]\ttrain-mlogloss:0.22647\teval-mlogloss:0.17560\n",
            "[170]\ttrain-mlogloss:0.22522\teval-mlogloss:0.17418\n",
            "[171]\ttrain-mlogloss:0.22396\teval-mlogloss:0.17271\n",
            "[172]\ttrain-mlogloss:0.22295\teval-mlogloss:0.17152\n",
            "[173]\ttrain-mlogloss:0.22201\teval-mlogloss:0.17041\n",
            "[174]\ttrain-mlogloss:0.22122\teval-mlogloss:0.16945\n",
            "[175]\ttrain-mlogloss:0.22045\teval-mlogloss:0.16864\n",
            "[176]\ttrain-mlogloss:0.21974\teval-mlogloss:0.16782\n",
            "[177]\ttrain-mlogloss:0.21898\teval-mlogloss:0.16700\n",
            "[178]\ttrain-mlogloss:0.21793\teval-mlogloss:0.16583\n",
            "[179]\ttrain-mlogloss:0.21690\teval-mlogloss:0.16475\n",
            "[180]\ttrain-mlogloss:0.21585\teval-mlogloss:0.16346\n",
            "[181]\ttrain-mlogloss:0.21480\teval-mlogloss:0.16237\n",
            "[182]\ttrain-mlogloss:0.21385\teval-mlogloss:0.16136\n",
            "[183]\ttrain-mlogloss:0.21314\teval-mlogloss:0.16052\n",
            "[184]\ttrain-mlogloss:0.21239\teval-mlogloss:0.15984\n",
            "[185]\ttrain-mlogloss:0.21223\teval-mlogloss:0.15964\n",
            "[186]\ttrain-mlogloss:0.21153\teval-mlogloss:0.15899\n",
            "[187]\ttrain-mlogloss:0.21094\teval-mlogloss:0.15834\n",
            "[188]\ttrain-mlogloss:0.21045\teval-mlogloss:0.15779\n",
            "[189]\ttrain-mlogloss:0.21000\teval-mlogloss:0.15719\n",
            "[190]\ttrain-mlogloss:0.20947\teval-mlogloss:0.15660\n",
            "[191]\ttrain-mlogloss:0.20903\teval-mlogloss:0.15593\n",
            "[192]\ttrain-mlogloss:0.20801\teval-mlogloss:0.15486\n",
            "[193]\ttrain-mlogloss:0.20761\teval-mlogloss:0.15445\n",
            "[194]\ttrain-mlogloss:0.20702\teval-mlogloss:0.15380\n",
            "[195]\ttrain-mlogloss:0.20637\teval-mlogloss:0.15303\n",
            "[196]\ttrain-mlogloss:0.20582\teval-mlogloss:0.15226\n",
            "[197]\ttrain-mlogloss:0.20543\teval-mlogloss:0.15181\n",
            "[198]\ttrain-mlogloss:0.20495\teval-mlogloss:0.15124\n",
            "[199]\ttrain-mlogloss:0.20455\teval-mlogloss:0.15078\n",
            "[200]\ttrain-mlogloss:0.20414\teval-mlogloss:0.15015\n",
            "[201]\ttrain-mlogloss:0.20372\teval-mlogloss:0.14955\n",
            "[202]\ttrain-mlogloss:0.20275\teval-mlogloss:0.14841\n",
            "[203]\ttrain-mlogloss:0.20242\teval-mlogloss:0.14787\n",
            "[204]\ttrain-mlogloss:0.20200\teval-mlogloss:0.14737\n",
            "[205]\ttrain-mlogloss:0.20159\teval-mlogloss:0.14689\n",
            "[206]\ttrain-mlogloss:0.20079\teval-mlogloss:0.14603\n",
            "[207]\ttrain-mlogloss:0.20017\teval-mlogloss:0.14519\n",
            "[208]\ttrain-mlogloss:0.20000\teval-mlogloss:0.14500\n",
            "[209]\ttrain-mlogloss:0.19961\teval-mlogloss:0.14457\n",
            "[210]\ttrain-mlogloss:0.19918\teval-mlogloss:0.14401\n",
            "[211]\ttrain-mlogloss:0.19904\teval-mlogloss:0.14397\n",
            "[212]\ttrain-mlogloss:0.19862\teval-mlogloss:0.14337\n",
            "[213]\ttrain-mlogloss:0.19824\teval-mlogloss:0.14294\n",
            "[214]\ttrain-mlogloss:0.19785\teval-mlogloss:0.14248\n",
            "[215]\ttrain-mlogloss:0.19748\teval-mlogloss:0.14204\n",
            "[216]\ttrain-mlogloss:0.19709\teval-mlogloss:0.14161\n",
            "[217]\ttrain-mlogloss:0.19687\teval-mlogloss:0.14124\n",
            "[218]\ttrain-mlogloss:0.19650\teval-mlogloss:0.14083\n",
            "[219]\ttrain-mlogloss:0.19642\teval-mlogloss:0.14073\n",
            "[220]\ttrain-mlogloss:0.19602\teval-mlogloss:0.14015\n",
            "[221]\ttrain-mlogloss:0.19590\teval-mlogloss:0.14016\n",
            "[222]\ttrain-mlogloss:0.19555\teval-mlogloss:0.13967\n",
            "[223]\ttrain-mlogloss:0.19546\teval-mlogloss:0.13950\n",
            "[224]\ttrain-mlogloss:0.19513\teval-mlogloss:0.13897\n",
            "[225]\ttrain-mlogloss:0.19472\teval-mlogloss:0.13838\n",
            "[226]\ttrain-mlogloss:0.19436\teval-mlogloss:0.13801\n",
            "[227]\ttrain-mlogloss:0.19401\teval-mlogloss:0.13765\n",
            "[228]\ttrain-mlogloss:0.19366\teval-mlogloss:0.13726\n",
            "[229]\ttrain-mlogloss:0.19353\teval-mlogloss:0.13709\n",
            "[230]\ttrain-mlogloss:0.19323\teval-mlogloss:0.13674\n",
            "[231]\ttrain-mlogloss:0.19291\teval-mlogloss:0.13627\n",
            "[232]\ttrain-mlogloss:0.19268\teval-mlogloss:0.13596\n",
            "[233]\ttrain-mlogloss:0.19233\teval-mlogloss:0.13549\n",
            "[234]\ttrain-mlogloss:0.19201\teval-mlogloss:0.13505\n",
            "[235]\ttrain-mlogloss:0.19176\teval-mlogloss:0.13475\n",
            "[236]\ttrain-mlogloss:0.19146\teval-mlogloss:0.13432\n",
            "[237]\ttrain-mlogloss:0.19117\teval-mlogloss:0.13391\n",
            "[238]\ttrain-mlogloss:0.19086\teval-mlogloss:0.13350\n",
            "[239]\ttrain-mlogloss:0.19057\teval-mlogloss:0.13307\n",
            "[240]\ttrain-mlogloss:0.19030\teval-mlogloss:0.13263\n",
            "[241]\ttrain-mlogloss:0.19021\teval-mlogloss:0.13264\n",
            "[242]\ttrain-mlogloss:0.18991\teval-mlogloss:0.13221\n",
            "[243]\ttrain-mlogloss:0.18966\teval-mlogloss:0.13187\n",
            "[244]\ttrain-mlogloss:0.18937\teval-mlogloss:0.13148\n",
            "[245]\ttrain-mlogloss:0.18916\teval-mlogloss:0.13118\n",
            "[246]\ttrain-mlogloss:0.18896\teval-mlogloss:0.13090\n",
            "[247]\ttrain-mlogloss:0.18868\teval-mlogloss:0.13055\n",
            "[248]\ttrain-mlogloss:0.18838\teval-mlogloss:0.13022\n",
            "[249]\ttrain-mlogloss:0.18804\teval-mlogloss:0.12975\n",
            "[250]\ttrain-mlogloss:0.18777\teval-mlogloss:0.12935\n",
            "[251]\ttrain-mlogloss:0.18766\teval-mlogloss:0.12920\n",
            "[252]\ttrain-mlogloss:0.18743\teval-mlogloss:0.12889\n",
            "[253]\ttrain-mlogloss:0.18731\teval-mlogloss:0.12894\n",
            "[254]\ttrain-mlogloss:0.18705\teval-mlogloss:0.12865\n",
            "[255]\ttrain-mlogloss:0.18684\teval-mlogloss:0.12836\n",
            "[256]\ttrain-mlogloss:0.18654\teval-mlogloss:0.12795\n",
            "[257]\ttrain-mlogloss:0.18632\teval-mlogloss:0.12765\n",
            "[258]\ttrain-mlogloss:0.18599\teval-mlogloss:0.12728\n",
            "[259]\ttrain-mlogloss:0.18576\teval-mlogloss:0.12695\n",
            "[260]\ttrain-mlogloss:0.18557\teval-mlogloss:0.12671\n",
            "[261]\ttrain-mlogloss:0.18531\teval-mlogloss:0.12633\n",
            "[262]\ttrain-mlogloss:0.18510\teval-mlogloss:0.12605\n",
            "[263]\ttrain-mlogloss:0.18485\teval-mlogloss:0.12569\n",
            "[264]\ttrain-mlogloss:0.18466\teval-mlogloss:0.12535\n",
            "[265]\ttrain-mlogloss:0.18463\teval-mlogloss:0.12533\n",
            "[266]\ttrain-mlogloss:0.18456\teval-mlogloss:0.12526\n",
            "[267]\ttrain-mlogloss:0.18434\teval-mlogloss:0.12492\n",
            "[268]\ttrain-mlogloss:0.18428\teval-mlogloss:0.12482\n",
            "[269]\ttrain-mlogloss:0.18404\teval-mlogloss:0.12446\n",
            "[270]\ttrain-mlogloss:0.18380\teval-mlogloss:0.12408\n",
            "[271]\ttrain-mlogloss:0.18365\teval-mlogloss:0.12389\n",
            "[272]\ttrain-mlogloss:0.18346\teval-mlogloss:0.12361\n",
            "[273]\ttrain-mlogloss:0.18324\teval-mlogloss:0.12329\n",
            "[274]\ttrain-mlogloss:0.18302\teval-mlogloss:0.12297\n",
            "[275]\ttrain-mlogloss:0.18281\teval-mlogloss:0.12263\n",
            "[276]\ttrain-mlogloss:0.18263\teval-mlogloss:0.12240\n",
            "[277]\ttrain-mlogloss:0.18245\teval-mlogloss:0.12212\n",
            "[278]\ttrain-mlogloss:0.18236\teval-mlogloss:0.12213\n",
            "[279]\ttrain-mlogloss:0.18209\teval-mlogloss:0.12178\n",
            "[280]\ttrain-mlogloss:0.18182\teval-mlogloss:0.12138\n",
            "[281]\ttrain-mlogloss:0.18162\teval-mlogloss:0.12112\n",
            "[282]\ttrain-mlogloss:0.18157\teval-mlogloss:0.12108\n",
            "[283]\ttrain-mlogloss:0.18138\teval-mlogloss:0.12081\n",
            "[284]\ttrain-mlogloss:0.18136\teval-mlogloss:0.12072\n",
            "[285]\ttrain-mlogloss:0.18113\teval-mlogloss:0.12037\n",
            "[286]\ttrain-mlogloss:0.18109\teval-mlogloss:0.12034\n",
            "[287]\ttrain-mlogloss:0.18085\teval-mlogloss:0.12005\n",
            "[288]\ttrain-mlogloss:0.18064\teval-mlogloss:0.11972\n",
            "[289]\ttrain-mlogloss:0.18044\teval-mlogloss:0.11947\n",
            "[290]\ttrain-mlogloss:0.18039\teval-mlogloss:0.11941\n",
            "[291]\ttrain-mlogloss:0.18039\teval-mlogloss:0.11940\n",
            "[292]\ttrain-mlogloss:0.18038\teval-mlogloss:0.11940\n",
            "[293]\ttrain-mlogloss:0.18030\teval-mlogloss:0.11928\n",
            "[294]\ttrain-mlogloss:0.18024\teval-mlogloss:0.11925\n",
            "[295]\ttrain-mlogloss:0.18019\teval-mlogloss:0.11920\n",
            "[296]\ttrain-mlogloss:0.18004\teval-mlogloss:0.11921\n",
            "[297]\ttrain-mlogloss:0.18003\teval-mlogloss:0.11920\n",
            "[298]\ttrain-mlogloss:0.18000\teval-mlogloss:0.11915\n",
            "[299]\ttrain-mlogloss:0.17999\teval-mlogloss:0.11915\n"
          ]
        },
        {
          "name": "stderr",
          "output_type": "stream",
          "text": [
            "[I 2025-09-13 01:30:26,524] Trial 13 finished with value: 1.0 and parameters: {'lambda': 9.496699467836683e-07, 'alpha': 0.0020320276466250643, 'eta': 0.012539262917807673, 'gamma': 4.018928958457906e-06, 'max_depth': 4, 'min_child_weight': 7, 'subsample': 0.8393573154988786, 'colsample_bytree': 0.5149221678333407}. Best is trial 0 with value: 1.0.\n"
          ]
        },
        {
          "name": "stdout",
          "output_type": "stream",
          "text": [
            "[0]\ttrain-mlogloss:0.98743\teval-mlogloss:0.98483\n",
            "[1]\ttrain-mlogloss:0.93445\teval-mlogloss:0.94228\n",
            "[2]\ttrain-mlogloss:0.87448\teval-mlogloss:0.88612\n"
          ]
        },
        {
          "name": "stderr",
          "output_type": "stream",
          "text": [
            "[I 2025-09-13 01:30:26,596] Trial 14 pruned. Trial was pruned at iteration 2.\n"
          ]
        },
        {
          "name": "stdout",
          "output_type": "stream",
          "text": [
            "[0]\ttrain-mlogloss:0.88238\teval-mlogloss:0.87260\n",
            "[1]\ttrain-mlogloss:0.78825\teval-mlogloss:0.78131\n"
          ]
        },
        {
          "name": "stderr",
          "output_type": "stream",
          "text": [
            "[I 2025-09-13 01:30:26,655] Trial 15 pruned. Trial was pruned at iteration 2.\n"
          ]
        },
        {
          "name": "stdout",
          "output_type": "stream",
          "text": [
            "[0]\ttrain-mlogloss:0.82461\teval-mlogloss:0.81037\n",
            "[1]\ttrain-mlogloss:0.70262\teval-mlogloss:0.70857\n",
            "[2]\ttrain-mlogloss:0.56506\teval-mlogloss:0.56679\n"
          ]
        },
        {
          "name": "stderr",
          "output_type": "stream",
          "text": [
            "[I 2025-09-13 01:30:26,757] Trial 16 pruned. Trial was pruned at iteration 2.\n"
          ]
        },
        {
          "name": "stdout",
          "output_type": "stream",
          "text": [
            "[0]\ttrain-mlogloss:0.99598\teval-mlogloss:0.99078\n",
            "[1]\ttrain-mlogloss:0.94877\teval-mlogloss:0.93674\n",
            "[2]\ttrain-mlogloss:0.89207\teval-mlogloss:0.88573\n"
          ]
        },
        {
          "name": "stderr",
          "output_type": "stream",
          "text": [
            "[I 2025-09-13 01:30:26,915] Trial 17 pruned. Trial was pruned at iteration 2.\n"
          ]
        },
        {
          "name": "stdout",
          "output_type": "stream",
          "text": [
            "[0]\ttrain-mlogloss:1.03584\teval-mlogloss:1.03449\n",
            "[1]\ttrain-mlogloss:0.97898\teval-mlogloss:0.97335\n"
          ]
        },
        {
          "name": "stderr",
          "output_type": "stream",
          "text": [
            "[I 2025-09-13 01:30:26,987] Trial 18 pruned. Trial was pruned at iteration 2.\n"
          ]
        },
        {
          "name": "stdout",
          "output_type": "stream",
          "text": [
            "[0]\ttrain-mlogloss:0.95167\teval-mlogloss:0.95388\n",
            "[1]\ttrain-mlogloss:0.87387\teval-mlogloss:0.88096\n"
          ]
        },
        {
          "name": "stderr",
          "output_type": "stream",
          "text": [
            "[I 2025-09-13 01:30:27,061] Trial 19 pruned. Trial was pruned at iteration 2.\n"
          ]
        },
        {
          "name": "stdout",
          "output_type": "stream",
          "text": [
            "[0]\ttrain-mlogloss:0.91261\teval-mlogloss:0.90504\n",
            "[1]\ttrain-mlogloss:0.82813\teval-mlogloss:0.81291\n",
            "[2]\ttrain-mlogloss:0.71545\teval-mlogloss:0.69144\n"
          ]
        },
        {
          "name": "stderr",
          "output_type": "stream",
          "text": [
            "[I 2025-09-13 01:30:27,124] Trial 20 pruned. Trial was pruned at iteration 2.\n"
          ]
        },
        {
          "name": "stdout",
          "output_type": "stream",
          "text": [
            "[0]\ttrain-mlogloss:0.99231\teval-mlogloss:0.98659\n",
            "[1]\ttrain-mlogloss:0.93943\teval-mlogloss:0.93138\n",
            "[2]\ttrain-mlogloss:0.86037\teval-mlogloss:0.84734\n"
          ]
        },
        {
          "name": "stderr",
          "output_type": "stream",
          "text": [
            "[I 2025-09-13 01:30:27,184] Trial 21 pruned. Trial was pruned at iteration 2.\n"
          ]
        },
        {
          "name": "stdout",
          "output_type": "stream",
          "text": [
            "[0]\ttrain-mlogloss:1.02342\teval-mlogloss:1.02008\n",
            "[1]\ttrain-mlogloss:0.98230\teval-mlogloss:0.98000\n"
          ]
        },
        {
          "name": "stderr",
          "output_type": "stream",
          "text": [
            "[I 2025-09-13 01:30:27,266] Trial 22 pruned. Trial was pruned at iteration 2.\n"
          ]
        },
        {
          "name": "stdout",
          "output_type": "stream",
          "text": [
            "[0]\ttrain-mlogloss:0.98088\teval-mlogloss:0.97580\n",
            "[1]\ttrain-mlogloss:0.91851\teval-mlogloss:0.91908\n",
            "[2]\ttrain-mlogloss:0.83426\teval-mlogloss:0.83025\n"
          ]
        },
        {
          "name": "stderr",
          "output_type": "stream",
          "text": [
            "[I 2025-09-13 01:30:27,378] Trial 23 pruned. Trial was pruned at iteration 2.\n"
          ]
        },
        {
          "name": "stdout",
          "output_type": "stream",
          "text": [
            "[0]\ttrain-mlogloss:1.04421\teval-mlogloss:1.04146\n",
            "[1]\ttrain-mlogloss:1.01133\teval-mlogloss:1.01022\n",
            "[2]\ttrain-mlogloss:0.96531\teval-mlogloss:0.96095\n",
            "[3]\ttrain-mlogloss:0.91782\teval-mlogloss:0.91142\n",
            "[4]\ttrain-mlogloss:0.87532\teval-mlogloss:0.86701\n",
            "[5]\ttrain-mlogloss:0.83480\teval-mlogloss:0.82510\n",
            "[6]\ttrain-mlogloss:0.79741\teval-mlogloss:0.78677\n",
            "[7]\ttrain-mlogloss:0.76345\teval-mlogloss:0.75037\n",
            "[8]\ttrain-mlogloss:0.73043\teval-mlogloss:0.71619\n"
          ]
        },
        {
          "name": "stderr",
          "output_type": "stream",
          "text": [
            "[I 2025-09-13 01:30:27,550] Trial 24 pruned. Trial was pruned at iteration 8.\n"
          ]
        },
        {
          "name": "stdout",
          "output_type": "stream",
          "text": [
            "[0]\ttrain-mlogloss:0.97509\teval-mlogloss:0.97215\n",
            "[1]\ttrain-mlogloss:0.91767\teval-mlogloss:0.91887\n",
            "[2]\ttrain-mlogloss:0.84851\teval-mlogloss:0.86174\n"
          ]
        },
        {
          "name": "stderr",
          "output_type": "stream",
          "text": [
            "[I 2025-09-13 01:30:27,621] Trial 25 pruned. Trial was pruned at iteration 2.\n"
          ]
        },
        {
          "name": "stdout",
          "output_type": "stream",
          "text": [
            "[0]\ttrain-mlogloss:1.01183\teval-mlogloss:1.00712\n",
            "[1]\ttrain-mlogloss:0.96980\teval-mlogloss:0.96042\n",
            "[2]\ttrain-mlogloss:0.91863\teval-mlogloss:0.91471\n"
          ]
        },
        {
          "name": "stderr",
          "output_type": "stream",
          "text": [
            "[I 2025-09-13 01:30:27,748] Trial 26 pruned. Trial was pruned at iteration 2.\n"
          ]
        },
        {
          "name": "stdout",
          "output_type": "stream",
          "text": [
            "[0]\ttrain-mlogloss:1.00080\teval-mlogloss:0.99852\n",
            "[1]\ttrain-mlogloss:0.91703\teval-mlogloss:0.90801\n",
            "[2]\ttrain-mlogloss:0.84078\teval-mlogloss:0.82673\n"
          ]
        },
        {
          "name": "stderr",
          "output_type": "stream",
          "text": [
            "[I 2025-09-13 01:30:27,832] Trial 27 pruned. Trial was pruned at iteration 2.\n"
          ]
        },
        {
          "name": "stdout",
          "output_type": "stream",
          "text": [
            "[0]\ttrain-mlogloss:0.90919\teval-mlogloss:0.90091\n",
            "[1]\ttrain-mlogloss:0.82036\teval-mlogloss:0.81635\n"
          ]
        },
        {
          "name": "stderr",
          "output_type": "stream",
          "text": [
            "[I 2025-09-13 01:30:27,997] Trial 28 pruned. Trial was pruned at iteration 2.\n"
          ]
        },
        {
          "name": "stdout",
          "output_type": "stream",
          "text": [
            "[0]\ttrain-mlogloss:1.06849\teval-mlogloss:1.06724\n",
            "[1]\ttrain-mlogloss:1.05279\teval-mlogloss:1.05322\n",
            "[2]\ttrain-mlogloss:1.03308\teval-mlogloss:1.03604\n",
            "[3]\ttrain-mlogloss:1.00208\teval-mlogloss:1.00287\n",
            "[4]\ttrain-mlogloss:0.98926\teval-mlogloss:0.99132\n",
            "[5]\ttrain-mlogloss:0.96946\teval-mlogloss:0.97347\n",
            "[6]\ttrain-mlogloss:0.94121\teval-mlogloss:0.94260\n",
            "[7]\ttrain-mlogloss:0.91139\teval-mlogloss:0.91051\n",
            "[8]\ttrain-mlogloss:0.89760\teval-mlogloss:0.89904\n"
          ]
        },
        {
          "name": "stderr",
          "output_type": "stream",
          "text": [
            "[I 2025-09-13 01:30:28,147] Trial 29 pruned. Trial was pruned at iteration 8.\n"
          ]
        },
        {
          "name": "stdout",
          "output_type": "stream",
          "text": [
            "[0]\ttrain-mlogloss:1.00928\teval-mlogloss:1.00821\n",
            "[1]\ttrain-mlogloss:0.93117\teval-mlogloss:0.92495\n",
            "[2]\ttrain-mlogloss:0.86026\teval-mlogloss:0.85134\n"
          ]
        },
        {
          "name": "stderr",
          "output_type": "stream",
          "text": [
            "[I 2025-09-13 01:30:28,244] Trial 30 pruned. Trial was pruned at iteration 2.\n"
          ]
        },
        {
          "name": "stdout",
          "output_type": "stream",
          "text": [
            "[0]\ttrain-mlogloss:1.08245\teval-mlogloss:1.08192\n",
            "[1]\ttrain-mlogloss:1.06688\teval-mlogloss:1.06556\n",
            "[2]\ttrain-mlogloss:1.05096\teval-mlogloss:1.04901\n",
            "[3]\ttrain-mlogloss:1.03552\teval-mlogloss:1.03300\n",
            "[4]\ttrain-mlogloss:1.02058\teval-mlogloss:1.01747\n",
            "[5]\ttrain-mlogloss:1.00586\teval-mlogloss:1.00196\n",
            "[6]\ttrain-mlogloss:0.99172\teval-mlogloss:0.98716\n",
            "[7]\ttrain-mlogloss:0.97765\teval-mlogloss:0.97253\n",
            "[8]\ttrain-mlogloss:0.96418\teval-mlogloss:0.95792\n",
            "[9]\ttrain-mlogloss:0.95070\teval-mlogloss:0.94389\n",
            "[10]\ttrain-mlogloss:0.93741\teval-mlogloss:0.93006\n",
            "[11]\ttrain-mlogloss:0.92448\teval-mlogloss:0.91660\n",
            "[12]\ttrain-mlogloss:0.91196\teval-mlogloss:0.90383\n",
            "[13]\ttrain-mlogloss:0.89915\teval-mlogloss:0.89045\n",
            "[14]\ttrain-mlogloss:0.88725\teval-mlogloss:0.87754\n",
            "[15]\ttrain-mlogloss:0.87533\teval-mlogloss:0.86499\n",
            "[16]\ttrain-mlogloss:0.86374\teval-mlogloss:0.85282\n",
            "[17]\ttrain-mlogloss:0.85207\teval-mlogloss:0.84094\n",
            "[18]\ttrain-mlogloss:0.84086\teval-mlogloss:0.82967\n",
            "[19]\ttrain-mlogloss:0.82967\teval-mlogloss:0.81793\n",
            "[20]\ttrain-mlogloss:0.81894\teval-mlogloss:0.80649\n",
            "[21]\ttrain-mlogloss:0.80881\teval-mlogloss:0.79648\n",
            "[22]\ttrain-mlogloss:0.79826\teval-mlogloss:0.78532\n",
            "[23]\ttrain-mlogloss:0.78757\teval-mlogloss:0.77402\n",
            "[24]\ttrain-mlogloss:0.77752\teval-mlogloss:0.76327\n",
            "[25]\ttrain-mlogloss:0.76757\teval-mlogloss:0.75297\n",
            "[26]\ttrain-mlogloss:0.75782\teval-mlogloss:0.74258\n",
            "[27]\ttrain-mlogloss:0.74818\teval-mlogloss:0.73254\n",
            "[28]\ttrain-mlogloss:0.73892\teval-mlogloss:0.72283\n",
            "[29]\ttrain-mlogloss:0.72960\teval-mlogloss:0.71320\n",
            "[30]\ttrain-mlogloss:0.72041\teval-mlogloss:0.70375\n",
            "[31]\ttrain-mlogloss:0.71127\teval-mlogloss:0.69410\n"
          ]
        },
        {
          "name": "stderr",
          "output_type": "stream",
          "text": [
            "[I 2025-09-13 01:30:28,570] Trial 31 pruned. Trial was pruned at iteration 32.\n"
          ]
        },
        {
          "name": "stdout",
          "output_type": "stream",
          "text": [
            "[0]\ttrain-mlogloss:1.05472\teval-mlogloss:1.05246\n",
            "[1]\ttrain-mlogloss:1.03168\teval-mlogloss:1.02851\n",
            "[2]\ttrain-mlogloss:0.99522\teval-mlogloss:0.99043\n",
            "[3]\ttrain-mlogloss:0.95562\teval-mlogloss:0.94980\n",
            "[4]\ttrain-mlogloss:0.91955\teval-mlogloss:0.91239\n",
            "[5]\ttrain-mlogloss:0.88463\teval-mlogloss:0.87526\n",
            "[6]\ttrain-mlogloss:0.85305\teval-mlogloss:0.84113\n",
            "[7]\ttrain-mlogloss:0.82280\teval-mlogloss:0.80901\n"
          ]
        },
        {
          "name": "stderr",
          "output_type": "stream",
          "text": [
            "[I 2025-09-13 01:30:28,700] Trial 32 pruned. Trial was pruned at iteration 8.\n"
          ]
        },
        {
          "name": "stdout",
          "output_type": "stream",
          "text": [
            "[0]\ttrain-mlogloss:1.02357\teval-mlogloss:1.02094\n",
            "[1]\ttrain-mlogloss:0.95518\teval-mlogloss:0.94799\n",
            "[2]\ttrain-mlogloss:0.89301\teval-mlogloss:0.88213\n"
          ]
        },
        {
          "name": "stderr",
          "output_type": "stream",
          "text": [
            "[I 2025-09-13 01:30:28,806] Trial 33 pruned. Trial was pruned at iteration 2.\n"
          ]
        },
        {
          "name": "stdout",
          "output_type": "stream",
          "text": [
            "[0]\ttrain-mlogloss:1.06000\teval-mlogloss:1.05914\n",
            "[1]\ttrain-mlogloss:1.03434\teval-mlogloss:1.03853\n",
            "[2]\ttrain-mlogloss:1.00000\teval-mlogloss:1.00252\n",
            "[3]\ttrain-mlogloss:0.96486\teval-mlogloss:0.96610\n",
            "[4]\ttrain-mlogloss:0.93176\teval-mlogloss:0.93246\n",
            "[5]\ttrain-mlogloss:0.90026\teval-mlogloss:0.89904\n",
            "[6]\ttrain-mlogloss:0.86978\teval-mlogloss:0.86871\n",
            "[7]\ttrain-mlogloss:0.84215\teval-mlogloss:0.83884\n"
          ]
        },
        {
          "name": "stderr",
          "output_type": "stream",
          "text": [
            "[I 2025-09-13 01:30:28,942] Trial 34 pruned. Trial was pruned at iteration 8.\n"
          ]
        },
        {
          "name": "stdout",
          "output_type": "stream",
          "text": [
            "[0]\ttrain-mlogloss:0.97941\teval-mlogloss:0.97357\n",
            "[1]\ttrain-mlogloss:0.91752\teval-mlogloss:0.91410\n",
            "[2]\ttrain-mlogloss:0.83230\teval-mlogloss:0.82332\n"
          ]
        },
        {
          "name": "stderr",
          "output_type": "stream",
          "text": [
            "[I 2025-09-13 01:30:29,017] Trial 35 pruned. Trial was pruned at iteration 2.\n"
          ]
        },
        {
          "name": "stdout",
          "output_type": "stream",
          "text": [
            "[0]\ttrain-mlogloss:1.03623\teval-mlogloss:1.03240\n",
            "[1]\ttrain-mlogloss:0.99771\teval-mlogloss:1.00135\n",
            "[2]\ttrain-mlogloss:0.94570\teval-mlogloss:0.94673\n",
            "[3]\ttrain-mlogloss:0.89303\teval-mlogloss:0.89047\n",
            "[4]\ttrain-mlogloss:0.84615\teval-mlogloss:0.84086\n",
            "[5]\ttrain-mlogloss:0.80225\teval-mlogloss:0.79458\n",
            "[6]\ttrain-mlogloss:0.76253\teval-mlogloss:0.75290\n",
            "[7]\ttrain-mlogloss:0.72488\teval-mlogloss:0.71284\n"
          ]
        },
        {
          "name": "stderr",
          "output_type": "stream",
          "text": [
            "[I 2025-09-13 01:30:29,221] Trial 36 pruned. Trial was pruned at iteration 8.\n"
          ]
        },
        {
          "name": "stdout",
          "output_type": "stream",
          "text": [
            "[0]\ttrain-mlogloss:1.00881\teval-mlogloss:1.00987\n",
            "[1]\ttrain-mlogloss:0.92659\teval-mlogloss:0.92160\n",
            "[2]\ttrain-mlogloss:0.85474\teval-mlogloss:0.84733\n"
          ]
        },
        {
          "name": "stderr",
          "output_type": "stream",
          "text": [
            "[I 2025-09-13 01:30:29,317] Trial 37 pruned. Trial was pruned at iteration 2.\n"
          ]
        },
        {
          "name": "stdout",
          "output_type": "stream",
          "text": [
            "[0]\ttrain-mlogloss:0.93485\teval-mlogloss:0.93026\n",
            "[1]\ttrain-mlogloss:0.80795\teval-mlogloss:0.79280\n"
          ]
        },
        {
          "name": "stderr",
          "output_type": "stream",
          "text": [
            "[I 2025-09-13 01:30:29,392] Trial 38 pruned. Trial was pruned at iteration 2.\n"
          ]
        },
        {
          "name": "stdout",
          "output_type": "stream",
          "text": [
            "[0]\ttrain-mlogloss:0.99121\teval-mlogloss:0.98881\n",
            "[1]\ttrain-mlogloss:0.94027\teval-mlogloss:0.94752\n",
            "[2]\ttrain-mlogloss:0.88143\teval-mlogloss:0.89230\n"
          ]
        },
        {
          "name": "stderr",
          "output_type": "stream",
          "text": [
            "[I 2025-09-13 01:30:29,471] Trial 39 pruned. Trial was pruned at iteration 2.\n"
          ]
        },
        {
          "name": "stdout",
          "output_type": "stream",
          "text": [
            "[0]\ttrain-mlogloss:0.76849\teval-mlogloss:0.75044\n",
            "[1]\ttrain-mlogloss:0.65557\teval-mlogloss:0.62945\n"
          ]
        },
        {
          "name": "stderr",
          "output_type": "stream",
          "text": [
            "[I 2025-09-13 01:30:29,583] Trial 40 pruned. Trial was pruned at iteration 2.\n"
          ]
        },
        {
          "name": "stdout",
          "output_type": "stream",
          "text": [
            "[0]\ttrain-mlogloss:1.08507\teval-mlogloss:1.08450\n",
            "[1]\ttrain-mlogloss:1.07748\teval-mlogloss:1.07694\n",
            "[2]\ttrain-mlogloss:1.06555\teval-mlogloss:1.06489\n",
            "[3]\ttrain-mlogloss:1.05234\teval-mlogloss:1.05151\n",
            "[4]\ttrain-mlogloss:1.03954\teval-mlogloss:1.03847\n",
            "[5]\ttrain-mlogloss:1.02693\teval-mlogloss:1.02526\n",
            "[6]\ttrain-mlogloss:1.01480\teval-mlogloss:1.01226\n",
            "[7]\ttrain-mlogloss:1.00274\teval-mlogloss:0.99957\n",
            "[8]\ttrain-mlogloss:0.99104\teval-mlogloss:0.98704\n",
            "[9]\ttrain-mlogloss:0.97945\teval-mlogloss:0.97499\n",
            "[10]\ttrain-mlogloss:0.96916\teval-mlogloss:0.96441\n",
            "[11]\ttrain-mlogloss:0.95781\teval-mlogloss:0.95280\n",
            "[12]\ttrain-mlogloss:0.94829\teval-mlogloss:0.94270\n",
            "[13]\ttrain-mlogloss:0.93729\teval-mlogloss:0.93117\n",
            "[14]\ttrain-mlogloss:0.92659\teval-mlogloss:0.91957\n",
            "[15]\ttrain-mlogloss:0.91776\teval-mlogloss:0.91045\n",
            "[16]\ttrain-mlogloss:0.90893\teval-mlogloss:0.90146\n",
            "[17]\ttrain-mlogloss:0.89852\teval-mlogloss:0.89065\n",
            "[18]\ttrain-mlogloss:0.89006\teval-mlogloss:0.88200\n",
            "[19]\ttrain-mlogloss:0.88097\teval-mlogloss:0.87305\n",
            "[20]\ttrain-mlogloss:0.87286\teval-mlogloss:0.86468\n",
            "[21]\ttrain-mlogloss:0.86458\teval-mlogloss:0.85611\n",
            "[22]\ttrain-mlogloss:0.85500\teval-mlogloss:0.84567\n",
            "[23]\ttrain-mlogloss:0.84545\teval-mlogloss:0.83577\n",
            "[24]\ttrain-mlogloss:0.83621\teval-mlogloss:0.82583\n",
            "[25]\ttrain-mlogloss:0.82701\teval-mlogloss:0.81617\n",
            "[26]\ttrain-mlogloss:0.81883\teval-mlogloss:0.80738\n",
            "[27]\ttrain-mlogloss:0.80992\teval-mlogloss:0.79795\n",
            "[28]\ttrain-mlogloss:0.80122\teval-mlogloss:0.78879\n",
            "[29]\ttrain-mlogloss:0.79400\teval-mlogloss:0.78115\n",
            "[30]\ttrain-mlogloss:0.78868\teval-mlogloss:0.77581\n",
            "[31]\ttrain-mlogloss:0.78198\teval-mlogloss:0.76891\n",
            "[32]\ttrain-mlogloss:0.77360\teval-mlogloss:0.76014\n",
            "[33]\ttrain-mlogloss:0.76533\teval-mlogloss:0.75135\n",
            "[34]\ttrain-mlogloss:0.75895\teval-mlogloss:0.74520\n",
            "[35]\ttrain-mlogloss:0.75105\teval-mlogloss:0.73663\n",
            "[36]\ttrain-mlogloss:0.74400\teval-mlogloss:0.72942\n",
            "[37]\ttrain-mlogloss:0.73609\teval-mlogloss:0.72130\n",
            "[38]\ttrain-mlogloss:0.72861\teval-mlogloss:0.71317\n",
            "[39]\ttrain-mlogloss:0.72103\teval-mlogloss:0.70556\n",
            "[40]\ttrain-mlogloss:0.71484\teval-mlogloss:0.69925\n",
            "[41]\ttrain-mlogloss:0.70734\teval-mlogloss:0.69136\n",
            "[42]\ttrain-mlogloss:0.70015\teval-mlogloss:0.68360\n",
            "[43]\ttrain-mlogloss:0.69291\teval-mlogloss:0.67611\n",
            "[44]\ttrain-mlogloss:0.68752\teval-mlogloss:0.67028\n",
            "[45]\ttrain-mlogloss:0.68048\teval-mlogloss:0.66289\n",
            "[46]\ttrain-mlogloss:0.67364\teval-mlogloss:0.65586\n",
            "[47]\ttrain-mlogloss:0.66750\teval-mlogloss:0.64960\n",
            "[48]\ttrain-mlogloss:0.66086\teval-mlogloss:0.64283\n",
            "[49]\ttrain-mlogloss:0.65416\teval-mlogloss:0.63570\n",
            "[50]\ttrain-mlogloss:0.64766\teval-mlogloss:0.62862\n",
            "[51]\ttrain-mlogloss:0.64186\teval-mlogloss:0.62253\n",
            "[52]\ttrain-mlogloss:0.63759\teval-mlogloss:0.61819\n",
            "[53]\ttrain-mlogloss:0.63140\teval-mlogloss:0.61163\n",
            "[54]\ttrain-mlogloss:0.62670\teval-mlogloss:0.60672\n",
            "[55]\ttrain-mlogloss:0.62154\teval-mlogloss:0.60142\n",
            "[56]\ttrain-mlogloss:0.61650\teval-mlogloss:0.59598\n",
            "[57]\ttrain-mlogloss:0.61155\teval-mlogloss:0.59086\n",
            "[58]\ttrain-mlogloss:0.60696\teval-mlogloss:0.58630\n",
            "[59]\ttrain-mlogloss:0.60099\teval-mlogloss:0.58001\n",
            "[60]\ttrain-mlogloss:0.59531\teval-mlogloss:0.57399\n",
            "[61]\ttrain-mlogloss:0.59053\teval-mlogloss:0.56895\n",
            "[62]\ttrain-mlogloss:0.58488\teval-mlogloss:0.56297\n",
            "[63]\ttrain-mlogloss:0.57940\teval-mlogloss:0.55709\n",
            "[64]\ttrain-mlogloss:0.57386\teval-mlogloss:0.55123\n",
            "[65]\ttrain-mlogloss:0.56844\teval-mlogloss:0.54567\n",
            "[66]\ttrain-mlogloss:0.56298\teval-mlogloss:0.53988\n",
            "[67]\ttrain-mlogloss:0.55888\teval-mlogloss:0.53574\n",
            "[68]\ttrain-mlogloss:0.55479\teval-mlogloss:0.53158\n",
            "[69]\ttrain-mlogloss:0.55020\teval-mlogloss:0.52705\n",
            "[70]\ttrain-mlogloss:0.54566\teval-mlogloss:0.52216\n",
            "[71]\ttrain-mlogloss:0.54047\teval-mlogloss:0.51646\n",
            "[72]\ttrain-mlogloss:0.53723\teval-mlogloss:0.51319\n",
            "[73]\ttrain-mlogloss:0.53224\teval-mlogloss:0.50814\n",
            "[74]\ttrain-mlogloss:0.52739\teval-mlogloss:0.50296\n",
            "[75]\ttrain-mlogloss:0.52245\teval-mlogloss:0.49768\n",
            "[76]\ttrain-mlogloss:0.51929\teval-mlogloss:0.49471\n",
            "[77]\ttrain-mlogloss:0.51449\teval-mlogloss:0.48987\n",
            "[78]\ttrain-mlogloss:0.51048\teval-mlogloss:0.48561\n",
            "[79]\ttrain-mlogloss:0.50579\teval-mlogloss:0.48042\n",
            "[80]\ttrain-mlogloss:0.50176\teval-mlogloss:0.47595\n",
            "[81]\ttrain-mlogloss:0.49713\teval-mlogloss:0.47122\n",
            "[82]\ttrain-mlogloss:0.49274\teval-mlogloss:0.46669\n",
            "[83]\ttrain-mlogloss:0.48838\teval-mlogloss:0.46201\n",
            "[84]\ttrain-mlogloss:0.48404\teval-mlogloss:0.45726\n",
            "[85]\ttrain-mlogloss:0.48109\teval-mlogloss:0.45426\n",
            "[86]\ttrain-mlogloss:0.47674\teval-mlogloss:0.44940\n",
            "[87]\ttrain-mlogloss:0.47353\teval-mlogloss:0.44614\n",
            "[88]\ttrain-mlogloss:0.46974\teval-mlogloss:0.44212\n",
            "[89]\ttrain-mlogloss:0.46559\teval-mlogloss:0.43760\n",
            "[90]\ttrain-mlogloss:0.46150\teval-mlogloss:0.43343\n",
            "[91]\ttrain-mlogloss:0.45807\teval-mlogloss:0.42966\n",
            "[92]\ttrain-mlogloss:0.45452\teval-mlogloss:0.42582\n",
            "[93]\ttrain-mlogloss:0.45048\teval-mlogloss:0.42160\n",
            "[94]\ttrain-mlogloss:0.44649\teval-mlogloss:0.41748\n",
            "[95]\ttrain-mlogloss:0.44309\teval-mlogloss:0.41390\n",
            "[96]\ttrain-mlogloss:0.43928\teval-mlogloss:0.40965\n",
            "[97]\ttrain-mlogloss:0.43543\teval-mlogloss:0.40563\n",
            "[98]\ttrain-mlogloss:0.43174\teval-mlogloss:0.40169\n",
            "[99]\ttrain-mlogloss:0.42797\teval-mlogloss:0.39766\n",
            "[100]\ttrain-mlogloss:0.42506\teval-mlogloss:0.39452\n",
            "[101]\ttrain-mlogloss:0.42136\teval-mlogloss:0.39062\n",
            "[102]\ttrain-mlogloss:0.41772\teval-mlogloss:0.38686\n",
            "[103]\ttrain-mlogloss:0.41501\teval-mlogloss:0.38418\n",
            "[104]\ttrain-mlogloss:0.41234\teval-mlogloss:0.38143\n",
            "[105]\ttrain-mlogloss:0.40928\teval-mlogloss:0.37795\n",
            "[106]\ttrain-mlogloss:0.40580\teval-mlogloss:0.37451\n",
            "[107]\ttrain-mlogloss:0.40244\teval-mlogloss:0.37095\n",
            "[108]\ttrain-mlogloss:0.39902\teval-mlogloss:0.36735\n",
            "[109]\ttrain-mlogloss:0.39645\teval-mlogloss:0.36483\n",
            "[110]\ttrain-mlogloss:0.39313\teval-mlogloss:0.36112\n",
            "[111]\ttrain-mlogloss:0.38989\teval-mlogloss:0.35755\n",
            "[112]\ttrain-mlogloss:0.38758\teval-mlogloss:0.35502\n",
            "[113]\ttrain-mlogloss:0.38496\teval-mlogloss:0.35220\n",
            "[114]\ttrain-mlogloss:0.38180\teval-mlogloss:0.34876\n",
            "[115]\ttrain-mlogloss:0.37873\teval-mlogloss:0.34525\n",
            "[116]\ttrain-mlogloss:0.37630\teval-mlogloss:0.34282\n",
            "[117]\ttrain-mlogloss:0.37352\teval-mlogloss:0.33981\n",
            "[118]\ttrain-mlogloss:0.37059\teval-mlogloss:0.33665\n",
            "[119]\ttrain-mlogloss:0.36836\teval-mlogloss:0.33428\n",
            "[120]\ttrain-mlogloss:0.36585\teval-mlogloss:0.33182\n",
            "[121]\ttrain-mlogloss:0.36289\teval-mlogloss:0.32861\n",
            "[122]\ttrain-mlogloss:0.35997\teval-mlogloss:0.32543\n",
            "[123]\ttrain-mlogloss:0.35793\teval-mlogloss:0.32309\n",
            "[124]\ttrain-mlogloss:0.35574\teval-mlogloss:0.32095\n",
            "[125]\ttrain-mlogloss:0.35359\teval-mlogloss:0.31862\n",
            "[126]\ttrain-mlogloss:0.35155\teval-mlogloss:0.31652\n",
            "[127]\ttrain-mlogloss:0.34933\teval-mlogloss:0.31419\n",
            "[128]\ttrain-mlogloss:0.34666\teval-mlogloss:0.31108\n",
            "[129]\ttrain-mlogloss:0.34403\teval-mlogloss:0.30817\n",
            "[130]\ttrain-mlogloss:0.34145\teval-mlogloss:0.30550\n",
            "[131]\ttrain-mlogloss:0.33945\teval-mlogloss:0.30325\n",
            "[132]\ttrain-mlogloss:0.33689\teval-mlogloss:0.30049\n",
            "[133]\ttrain-mlogloss:0.33525\teval-mlogloss:0.29896\n",
            "[134]\ttrain-mlogloss:0.33292\teval-mlogloss:0.29636\n",
            "[135]\ttrain-mlogloss:0.33103\teval-mlogloss:0.29437\n",
            "[136]\ttrain-mlogloss:0.32874\teval-mlogloss:0.29181\n",
            "[137]\ttrain-mlogloss:0.32632\teval-mlogloss:0.28920\n",
            "[138]\ttrain-mlogloss:0.32438\teval-mlogloss:0.28707\n",
            "[139]\ttrain-mlogloss:0.32254\teval-mlogloss:0.28513\n",
            "[140]\ttrain-mlogloss:0.32060\teval-mlogloss:0.28283\n",
            "[141]\ttrain-mlogloss:0.31822\teval-mlogloss:0.28019\n",
            "[142]\ttrain-mlogloss:0.31608\teval-mlogloss:0.27774\n",
            "[143]\ttrain-mlogloss:0.31399\teval-mlogloss:0.27522\n",
            "[144]\ttrain-mlogloss:0.31190\teval-mlogloss:0.27278\n",
            "[145]\ttrain-mlogloss:0.30972\teval-mlogloss:0.27037\n",
            "[146]\ttrain-mlogloss:0.30764\teval-mlogloss:0.26807\n",
            "[147]\ttrain-mlogloss:0.30550\teval-mlogloss:0.26565\n",
            "[148]\ttrain-mlogloss:0.30358\teval-mlogloss:0.26333\n",
            "[149]\ttrain-mlogloss:0.30166\teval-mlogloss:0.26114\n",
            "[150]\ttrain-mlogloss:0.30022\teval-mlogloss:0.25940\n",
            "[151]\ttrain-mlogloss:0.29835\teval-mlogloss:0.25720\n",
            "[152]\ttrain-mlogloss:0.29633\teval-mlogloss:0.25490\n",
            "[153]\ttrain-mlogloss:0.29446\teval-mlogloss:0.25263\n",
            "[154]\ttrain-mlogloss:0.29242\teval-mlogloss:0.25045\n",
            "[155]\ttrain-mlogloss:0.29073\teval-mlogloss:0.24853\n",
            "[156]\ttrain-mlogloss:0.28903\teval-mlogloss:0.24652\n",
            "[157]\ttrain-mlogloss:0.28708\teval-mlogloss:0.24434\n",
            "[158]\ttrain-mlogloss:0.28521\teval-mlogloss:0.24224\n",
            "[159]\ttrain-mlogloss:0.28374\teval-mlogloss:0.24060\n",
            "[160]\ttrain-mlogloss:0.28199\teval-mlogloss:0.23845\n",
            "[161]\ttrain-mlogloss:0.28057\teval-mlogloss:0.23686\n",
            "[162]\ttrain-mlogloss:0.27880\teval-mlogloss:0.23485\n",
            "[163]\ttrain-mlogloss:0.27740\teval-mlogloss:0.23341\n",
            "[164]\ttrain-mlogloss:0.27574\teval-mlogloss:0.23135\n",
            "[165]\ttrain-mlogloss:0.27402\teval-mlogloss:0.22935\n",
            "[166]\ttrain-mlogloss:0.27283\teval-mlogloss:0.22793\n",
            "[167]\ttrain-mlogloss:0.27157\teval-mlogloss:0.22650\n",
            "[168]\ttrain-mlogloss:0.27029\teval-mlogloss:0.22499\n",
            "[169]\ttrain-mlogloss:0.26867\teval-mlogloss:0.22302\n",
            "[170]\ttrain-mlogloss:0.26710\teval-mlogloss:0.22116\n",
            "[171]\ttrain-mlogloss:0.26561\teval-mlogloss:0.21953\n",
            "[172]\ttrain-mlogloss:0.26446\teval-mlogloss:0.21822\n",
            "[173]\ttrain-mlogloss:0.26317\teval-mlogloss:0.21668\n",
            "[174]\ttrain-mlogloss:0.26203\teval-mlogloss:0.21525\n",
            "[175]\ttrain-mlogloss:0.26080\teval-mlogloss:0.21380\n",
            "[176]\ttrain-mlogloss:0.25995\teval-mlogloss:0.21292\n",
            "[177]\ttrain-mlogloss:0.25898\teval-mlogloss:0.21192\n",
            "[178]\ttrain-mlogloss:0.25750\teval-mlogloss:0.21030\n",
            "[179]\ttrain-mlogloss:0.25605\teval-mlogloss:0.20870\n",
            "[180]\ttrain-mlogloss:0.25469\teval-mlogloss:0.20702\n",
            "[181]\ttrain-mlogloss:0.25324\teval-mlogloss:0.20546\n",
            "[182]\ttrain-mlogloss:0.25208\teval-mlogloss:0.20426\n",
            "[183]\ttrain-mlogloss:0.25109\teval-mlogloss:0.20312\n",
            "[184]\ttrain-mlogloss:0.25003\teval-mlogloss:0.20197\n",
            "[185]\ttrain-mlogloss:0.24908\teval-mlogloss:0.20087\n",
            "[186]\ttrain-mlogloss:0.24833\teval-mlogloss:0.20012\n",
            "[187]\ttrain-mlogloss:0.24757\teval-mlogloss:0.19930\n",
            "[188]\ttrain-mlogloss:0.24642\teval-mlogloss:0.19808\n",
            "[189]\ttrain-mlogloss:0.24533\teval-mlogloss:0.19681\n",
            "[190]\ttrain-mlogloss:0.24402\teval-mlogloss:0.19537\n",
            "[191]\ttrain-mlogloss:0.24294\teval-mlogloss:0.19415\n",
            "[192]\ttrain-mlogloss:0.24158\teval-mlogloss:0.19257\n",
            "[193]\ttrain-mlogloss:0.24091\teval-mlogloss:0.19197\n",
            "[194]\ttrain-mlogloss:0.24010\teval-mlogloss:0.19106\n",
            "[195]\ttrain-mlogloss:0.23917\teval-mlogloss:0.18992\n",
            "[196]\ttrain-mlogloss:0.23799\teval-mlogloss:0.18856\n",
            "[197]\ttrain-mlogloss:0.23679\teval-mlogloss:0.18721\n",
            "[198]\ttrain-mlogloss:0.23555\teval-mlogloss:0.18588\n",
            "[199]\ttrain-mlogloss:0.23469\teval-mlogloss:0.18492\n",
            "[200]\ttrain-mlogloss:0.23367\teval-mlogloss:0.18371\n",
            "[201]\ttrain-mlogloss:0.23266\teval-mlogloss:0.18254\n",
            "[202]\ttrain-mlogloss:0.23144\teval-mlogloss:0.18111\n",
            "[203]\ttrain-mlogloss:0.23037\teval-mlogloss:0.17984\n",
            "[204]\ttrain-mlogloss:0.22927\teval-mlogloss:0.17870\n",
            "[205]\ttrain-mlogloss:0.22821\teval-mlogloss:0.17757\n",
            "[206]\ttrain-mlogloss:0.22717\teval-mlogloss:0.17644\n",
            "[207]\ttrain-mlogloss:0.22618\teval-mlogloss:0.17528\n",
            "[208]\ttrain-mlogloss:0.22541\teval-mlogloss:0.17440\n",
            "[209]\ttrain-mlogloss:0.22450\teval-mlogloss:0.17346\n",
            "[210]\ttrain-mlogloss:0.22351\teval-mlogloss:0.17243\n",
            "[211]\ttrain-mlogloss:0.22276\teval-mlogloss:0.17155\n",
            "[212]\ttrain-mlogloss:0.22180\teval-mlogloss:0.17042\n",
            "[213]\ttrain-mlogloss:0.22089\teval-mlogloss:0.16930\n",
            "[214]\ttrain-mlogloss:0.21998\teval-mlogloss:0.16832\n",
            "[215]\ttrain-mlogloss:0.21919\teval-mlogloss:0.16742\n",
            "[216]\ttrain-mlogloss:0.21828\teval-mlogloss:0.16644\n",
            "[217]\ttrain-mlogloss:0.21727\teval-mlogloss:0.16525\n",
            "[218]\ttrain-mlogloss:0.21638\teval-mlogloss:0.16426\n",
            "[219]\ttrain-mlogloss:0.21580\teval-mlogloss:0.16361\n",
            "[220]\ttrain-mlogloss:0.21491\teval-mlogloss:0.16253\n",
            "[221]\ttrain-mlogloss:0.21454\teval-mlogloss:0.16216\n",
            "[222]\ttrain-mlogloss:0.21363\teval-mlogloss:0.16110\n",
            "[223]\ttrain-mlogloss:0.21348\teval-mlogloss:0.16090\n",
            "[224]\ttrain-mlogloss:0.21270\teval-mlogloss:0.16006\n",
            "[225]\ttrain-mlogloss:0.21224\teval-mlogloss:0.15942\n",
            "[226]\ttrain-mlogloss:0.21138\teval-mlogloss:0.15853\n",
            "[227]\ttrain-mlogloss:0.21053\teval-mlogloss:0.15761\n",
            "[228]\ttrain-mlogloss:0.21009\teval-mlogloss:0.15711\n",
            "[229]\ttrain-mlogloss:0.20960\teval-mlogloss:0.15657\n",
            "[230]\ttrain-mlogloss:0.20867\teval-mlogloss:0.15550\n",
            "[231]\ttrain-mlogloss:0.20809\teval-mlogloss:0.15474\n",
            "[232]\ttrain-mlogloss:0.20772\teval-mlogloss:0.15423\n",
            "[233]\ttrain-mlogloss:0.20709\teval-mlogloss:0.15354\n",
            "[234]\ttrain-mlogloss:0.20632\teval-mlogloss:0.15260\n",
            "[235]\ttrain-mlogloss:0.20573\teval-mlogloss:0.15193\n",
            "[236]\ttrain-mlogloss:0.20514\teval-mlogloss:0.15121\n",
            "[237]\ttrain-mlogloss:0.20447\teval-mlogloss:0.15041\n",
            "[238]\ttrain-mlogloss:0.20405\teval-mlogloss:0.14991\n",
            "[239]\ttrain-mlogloss:0.20350\teval-mlogloss:0.14925\n",
            "[240]\ttrain-mlogloss:0.20297\teval-mlogloss:0.14870\n",
            "[241]\ttrain-mlogloss:0.20288\teval-mlogloss:0.14857\n",
            "[242]\ttrain-mlogloss:0.20250\teval-mlogloss:0.14813\n",
            "[243]\ttrain-mlogloss:0.20188\teval-mlogloss:0.14734\n",
            "[244]\ttrain-mlogloss:0.20157\teval-mlogloss:0.14692\n",
            "[245]\ttrain-mlogloss:0.20091\teval-mlogloss:0.14616\n",
            "[246]\ttrain-mlogloss:0.20058\teval-mlogloss:0.14571\n",
            "[247]\ttrain-mlogloss:0.20026\teval-mlogloss:0.14536\n",
            "[248]\ttrain-mlogloss:0.19992\teval-mlogloss:0.14499\n",
            "[249]\ttrain-mlogloss:0.19955\teval-mlogloss:0.14449\n",
            "[250]\ttrain-mlogloss:0.19881\teval-mlogloss:0.14361\n",
            "[251]\ttrain-mlogloss:0.19870\teval-mlogloss:0.14347\n",
            "[252]\ttrain-mlogloss:0.19839\teval-mlogloss:0.14306\n",
            "[253]\ttrain-mlogloss:0.19830\teval-mlogloss:0.14310\n",
            "[254]\ttrain-mlogloss:0.19757\teval-mlogloss:0.14234\n",
            "[255]\ttrain-mlogloss:0.19730\teval-mlogloss:0.14197\n",
            "[256]\ttrain-mlogloss:0.19701\teval-mlogloss:0.14157\n",
            "[257]\ttrain-mlogloss:0.19671\teval-mlogloss:0.14117\n",
            "[258]\ttrain-mlogloss:0.19636\teval-mlogloss:0.14069\n",
            "[259]\ttrain-mlogloss:0.19602\teval-mlogloss:0.14026\n",
            "[260]\ttrain-mlogloss:0.19573\teval-mlogloss:0.13997\n",
            "[261]\ttrain-mlogloss:0.19542\teval-mlogloss:0.13961\n",
            "[262]\ttrain-mlogloss:0.19515\teval-mlogloss:0.13925\n",
            "[263]\ttrain-mlogloss:0.19483\teval-mlogloss:0.13888\n",
            "[264]\ttrain-mlogloss:0.19461\teval-mlogloss:0.13859\n",
            "[265]\ttrain-mlogloss:0.19425\teval-mlogloss:0.13813\n",
            "[266]\ttrain-mlogloss:0.19403\teval-mlogloss:0.13780\n",
            "[267]\ttrain-mlogloss:0.19378\teval-mlogloss:0.13751\n",
            "[268]\ttrain-mlogloss:0.19347\teval-mlogloss:0.13711\n",
            "[269]\ttrain-mlogloss:0.19317\teval-mlogloss:0.13676\n",
            "[270]\ttrain-mlogloss:0.19291\teval-mlogloss:0.13638\n",
            "[271]\ttrain-mlogloss:0.19262\teval-mlogloss:0.13597\n",
            "[272]\ttrain-mlogloss:0.19240\teval-mlogloss:0.13567\n",
            "[273]\ttrain-mlogloss:0.19215\teval-mlogloss:0.13537\n",
            "[274]\ttrain-mlogloss:0.19188\teval-mlogloss:0.13508\n",
            "[275]\ttrain-mlogloss:0.19161\teval-mlogloss:0.13476\n",
            "[276]\ttrain-mlogloss:0.19137\teval-mlogloss:0.13444\n",
            "[277]\ttrain-mlogloss:0.19111\teval-mlogloss:0.13413\n",
            "[278]\ttrain-mlogloss:0.19102\teval-mlogloss:0.13413\n",
            "[279]\ttrain-mlogloss:0.19073\teval-mlogloss:0.13379\n",
            "[280]\ttrain-mlogloss:0.19047\teval-mlogloss:0.13343\n",
            "[281]\ttrain-mlogloss:0.19027\teval-mlogloss:0.13317\n",
            "[282]\ttrain-mlogloss:0.19020\teval-mlogloss:0.13318\n",
            "[283]\ttrain-mlogloss:0.18994\teval-mlogloss:0.13282\n",
            "[284]\ttrain-mlogloss:0.18973\teval-mlogloss:0.13252\n",
            "[285]\ttrain-mlogloss:0.18950\teval-mlogloss:0.13219\n",
            "[286]\ttrain-mlogloss:0.18930\teval-mlogloss:0.13193\n",
            "[287]\ttrain-mlogloss:0.18905\teval-mlogloss:0.13166\n",
            "[288]\ttrain-mlogloss:0.18882\teval-mlogloss:0.13132\n",
            "[289]\ttrain-mlogloss:0.18858\teval-mlogloss:0.13101\n",
            "[290]\ttrain-mlogloss:0.18834\teval-mlogloss:0.13066\n",
            "[291]\ttrain-mlogloss:0.18808\teval-mlogloss:0.13026\n",
            "[292]\ttrain-mlogloss:0.18796\teval-mlogloss:0.13009\n",
            "[293]\ttrain-mlogloss:0.18770\teval-mlogloss:0.12980\n",
            "[294]\ttrain-mlogloss:0.18749\teval-mlogloss:0.12953\n",
            "[295]\ttrain-mlogloss:0.18690\teval-mlogloss:0.12889\n",
            "[296]\ttrain-mlogloss:0.18679\teval-mlogloss:0.12890\n",
            "[297]\ttrain-mlogloss:0.18656\teval-mlogloss:0.12859\n",
            "[298]\ttrain-mlogloss:0.18638\teval-mlogloss:0.12834\n",
            "[299]\ttrain-mlogloss:0.18613\teval-mlogloss:0.12800\n"
          ]
        },
        {
          "name": "stderr",
          "output_type": "stream",
          "text": [
            "[I 2025-09-13 01:30:32,670] Trial 41 finished with value: 1.0 and parameters: {'lambda': 4.444131433362402e-07, 'alpha': 0.004214866874511159, 'eta': 0.010352115618377612, 'gamma': 3.200024827228174e-06, 'max_depth': 4, 'min_child_weight': 7, 'subsample': 0.847109542986382, 'colsample_bytree': 0.5059781374521398}. Best is trial 0 with value: 1.0.\n"
          ]
        },
        {
          "name": "stdout",
          "output_type": "stream",
          "text": [
            "[0]\ttrain-mlogloss:1.07667\teval-mlogloss:1.07544\n",
            "[1]\ttrain-mlogloss:1.06530\teval-mlogloss:1.06322\n",
            "[2]\ttrain-mlogloss:1.05060\teval-mlogloss:1.05018\n",
            "[3]\ttrain-mlogloss:1.02645\teval-mlogloss:1.02438\n",
            "[4]\ttrain-mlogloss:1.01663\teval-mlogloss:1.01358\n",
            "[5]\ttrain-mlogloss:1.00131\teval-mlogloss:0.99726\n",
            "[6]\ttrain-mlogloss:0.97855\teval-mlogloss:0.97292\n",
            "[7]\ttrain-mlogloss:0.95410\teval-mlogloss:0.94690\n",
            "[8]\ttrain-mlogloss:0.94263\teval-mlogloss:0.93654\n"
          ]
        },
        {
          "name": "stderr",
          "output_type": "stream",
          "text": [
            "[I 2025-09-13 01:30:32,775] Trial 42 pruned. Trial was pruned at iteration 8.\n"
          ]
        },
        {
          "name": "stdout",
          "output_type": "stream",
          "text": [
            "[0]\ttrain-mlogloss:1.02116\teval-mlogloss:1.01775\n",
            "[1]\ttrain-mlogloss:0.98383\teval-mlogloss:0.98355\n",
            "[2]\ttrain-mlogloss:0.92445\teval-mlogloss:0.92035\n"
          ]
        },
        {
          "name": "stderr",
          "output_type": "stream",
          "text": [
            "[I 2025-09-13 01:30:32,965] Trial 43 pruned. Trial was pruned at iteration 2.\n"
          ]
        },
        {
          "name": "stdout",
          "output_type": "stream",
          "text": [
            "[0]\ttrain-mlogloss:1.03929\teval-mlogloss:1.03667\n",
            "[1]\ttrain-mlogloss:1.01197\teval-mlogloss:1.00924\n",
            "[2]\ttrain-mlogloss:0.96537\teval-mlogloss:0.96049\n",
            "[3]\ttrain-mlogloss:0.91545\teval-mlogloss:0.90927\n",
            "[4]\ttrain-mlogloss:0.87032\teval-mlogloss:0.86282\n",
            "[5]\ttrain-mlogloss:0.82839\teval-mlogloss:0.81883\n",
            "[6]\ttrain-mlogloss:0.78924\teval-mlogloss:0.77682\n",
            "[7]\ttrain-mlogloss:0.75269\teval-mlogloss:0.73804\n",
            "[8]\ttrain-mlogloss:0.71906\teval-mlogloss:0.70125\n"
          ]
        },
        {
          "name": "stderr",
          "output_type": "stream",
          "text": [
            "[I 2025-09-13 01:30:33,083] Trial 44 pruned. Trial was pruned at iteration 8.\n"
          ]
        },
        {
          "name": "stdout",
          "output_type": "stream",
          "text": [
            "[0]\ttrain-mlogloss:1.07377\teval-mlogloss:1.07253\n",
            "[1]\ttrain-mlogloss:1.06065\teval-mlogloss:1.06077\n",
            "[2]\ttrain-mlogloss:1.04455\teval-mlogloss:1.04629\n",
            "[3]\ttrain-mlogloss:1.01828\teval-mlogloss:1.01820\n",
            "[4]\ttrain-mlogloss:1.00655\teval-mlogloss:1.00660\n",
            "[5]\ttrain-mlogloss:0.98915\teval-mlogloss:0.98966\n",
            "[6]\ttrain-mlogloss:0.96499\teval-mlogloss:0.96318\n",
            "[7]\ttrain-mlogloss:0.93868\teval-mlogloss:0.93464\n",
            "[8]\ttrain-mlogloss:0.92653\teval-mlogloss:0.92379\n"
          ]
        },
        {
          "name": "stderr",
          "output_type": "stream",
          "text": [
            "[I 2025-09-13 01:30:33,314] Trial 45 pruned. Trial was pruned at iteration 8.\n"
          ]
        },
        {
          "name": "stdout",
          "output_type": "stream",
          "text": [
            "[0]\ttrain-mlogloss:0.98951\teval-mlogloss:0.98482\n",
            "[1]\ttrain-mlogloss:0.93902\teval-mlogloss:0.93732\n"
          ]
        },
        {
          "name": "stderr",
          "output_type": "stream",
          "text": [
            "[I 2025-09-13 01:30:33,426] Trial 46 pruned. Trial was pruned at iteration 2.\n"
          ]
        },
        {
          "name": "stdout",
          "output_type": "stream",
          "text": [
            "[0]\ttrain-mlogloss:0.85887\teval-mlogloss:0.84646\n",
            "[1]\ttrain-mlogloss:0.75544\teval-mlogloss:0.74727\n"
          ]
        },
        {
          "name": "stderr",
          "output_type": "stream",
          "text": [
            "[I 2025-09-13 01:30:33,499] Trial 47 pruned. Trial was pruned at iteration 2.\n"
          ]
        },
        {
          "name": "stdout",
          "output_type": "stream",
          "text": [
            "[0]\ttrain-mlogloss:1.04288\teval-mlogloss:1.03964\n",
            "[1]\ttrain-mlogloss:1.01308\teval-mlogloss:1.00756\n"
          ]
        },
        {
          "name": "stderr",
          "output_type": "stream",
          "text": [
            "[I 2025-09-13 01:30:33,566] Trial 48 pruned. Trial was pruned at iteration 2.\n"
          ]
        },
        {
          "name": "stdout",
          "output_type": "stream",
          "text": [
            "[0]\ttrain-mlogloss:0.94403\teval-mlogloss:0.93628\n",
            "[1]\ttrain-mlogloss:0.87346\teval-mlogloss:0.86175\n"
          ]
        },
        {
          "name": "stderr",
          "output_type": "stream",
          "text": [
            "[I 2025-09-13 01:30:33,639] Trial 49 pruned. Trial was pruned at iteration 2.\n"
          ]
        },
        {
          "name": "stdout",
          "output_type": "stream",
          "text": [
            "Best trial: {'lambda': 8.361707558495242e-05, 'alpha': 0.06196160979897864, 'eta': 0.10291141872374487, 'gamma': 1.513565094933609e-05, 'max_depth': 4, 'min_child_weight': 4, 'subsample': 0.8013333139575807, 'colsample_bytree': 0.4242714468857873}\n",
            "Best accuracy: 1.0\n"
          ]
        }
      ],
      "source": [
        "import optuna\n",
        "import xgboost as xgb\n",
        "from sklearn.model_selection import train_test_split\n",
        "from sklearn.datasets import load_iris\n",
        "from sklearn.metrics import accuracy_score\n",
        "import numpy as np\n",
        "\n",
        "\n",
        "# Load the Iris dataset\n",
        "X, y = load_iris(return_X_y=True)\n",
        "\n",
        "\n",
        "# Split the dataset into training and test sets\n",
        "X_train, X_test, y_train, y_test = train_test_split(\n",
        "    X,\n",
        "    y,\n",
        "    test_size=0.2,\n",
        "    random_state=42\n",
        ")\n",
        "\n",
        "\n",
        "# Define the objective function for XGBoost\n",
        "def objective(trial):\n",
        "    # Hyperparameter search space\n",
        "    param = {\n",
        "        'verbosity': 0,\n",
        "        'objective': 'multi:softprob',\n",
        "        'num_class': 3,\n",
        "        'eval_metric': 'mlogloss',  # Ensure that the eval_metric is specified here\n",
        "        'booster': 'gbtree',\n",
        "        'lambda': trial.suggest_float('lambda', 1e-8, 1.0, log=True),\n",
        "        'alpha': trial.suggest_float('alpha', 1e-8, 1.0, log=True),\n",
        "        'eta': trial.suggest_float('eta', 0.01, 0.3),\n",
        "        'gamma': trial.suggest_float('gamma', 1e-8, 1.0, log=True),\n",
        "        'max_depth': trial.suggest_int('max_depth', 3, 9),\n",
        "        'min_child_weight': trial.suggest_int('min_child_weight', 1, 10),\n",
        "        'subsample': trial.suggest_float('subsample', 0.4, 1.0),\n",
        "        'colsample_bytree': trial.suggest_float('colsample_bytree', 0.4, 1.0),\n",
        "        'n_estimators': 300,\n",
        "    }\n",
        "\n",
        "    # Create DMatrix for XGBoost\n",
        "    dtrain = xgb.DMatrix(X_train, label=y_train)\n",
        "    dtest = xgb.DMatrix(X_test, label=y_test)\n",
        "\n",
        "    # Define a pruning callback based on evaluation metrics\n",
        "    pruning_callback = optuna.integration.XGBoostPruningCallback(\n",
        "        trial,\n",
        "        \"eval-mlogloss\"\n",
        "    )  # Match the metric name in the evals list\n",
        "\n",
        "    # Train the model\n",
        "    bst = xgb.train(\n",
        "        param,\n",
        "        dtrain,\n",
        "        num_boost_round=300,\n",
        "        # Ensure the eval datasets and names are specified\n",
        "        evals=[(dtrain, \"train\"), (dtest, \"eval\")],\n",
        "        early_stopping_rounds=30,\n",
        "        callbacks=[pruning_callback]\n",
        "    )\n",
        "\n",
        "    # Predict on the test set\n",
        "    preds = bst.predict(dtest)\n",
        "    best_preds = [int(np.argmax(line)) for line in preds]\n",
        "\n",
        "    # Return accuracy as the objective value\n",
        "    accuracy = accuracy_score(y_test, best_preds)\n",
        "    return accuracy\n",
        "\n",
        "\n",
        "# Create a study with pruning\n",
        "study = optuna.create_study(\n",
        "    direction='maximize',\n",
        "    pruner=optuna.pruners.SuccessiveHalvingPruner()\n",
        ")\n",
        "\n",
        "study.optimize(objective, n_trials=50)\n",
        "\n",
        "\n",
        "# Output the best trial\n",
        "print(f\"Best trial: {study.best_trial.params}\")\n",
        "print(f\"Best accuracy: {study.best_value}\")"
      ]
    },
    {
      "cell_type": "markdown",
      "metadata": {},
      "source": [
        "# **📈 Visualize XGBoost Intermediate Values**"
      ]
    },
    {
      "cell_type": "code",
      "execution_count": 34,
      "metadata": {
        "colab": {
          "base_uri": "https://localhost:8080/",
          "height": 542
        },
        "id": "TkIG5Cf6SoZ_",
        "outputId": "4c8d5294-a0a3-40a2-b4ac-9c73960de7c8"
      },
      "outputs": [
        {
          "data": {
            "application/vnd.plotly.v1+json": {
              "config": {
                "plotlyServerURL": "https://plot.ly"
              },
              "data": [
                {
                  "marker": {
                    "maxdisplayed": 10
                  },
                  "mode": "lines+markers",
                  "name": "Trial0",
                  "type": "scatter",
                  "x": [
                    0,
                    1,
                    2,
                    3,
                    4,
                    5,
                    6,
                    7,
                    8,
                    9,
                    10,
                    11,
                    12,
                    13,
                    14,
                    15,
                    16,
                    17,
                    18,
                    19,
                    20,
                    21,
                    22,
                    23,
                    24,
                    25,
                    26,
                    27,
                    28,
                    29,
                    30,
                    31,
                    32,
                    33,
                    34,
                    35,
                    36,
                    37,
                    38,
                    39,
                    40,
                    41,
                    42,
                    43,
                    44,
                    45,
                    46,
                    47,
                    48,
                    49,
                    50,
                    51,
                    52,
                    53,
                    54,
                    55,
                    56,
                    57,
                    58,
                    59,
                    60,
                    61,
                    62,
                    63,
                    64,
                    65,
                    66,
                    67,
                    68,
                    69,
                    70,
                    71,
                    72,
                    73,
                    74,
                    75,
                    76,
                    77,
                    78,
                    79,
                    80,
                    81,
                    82,
                    83,
                    84,
                    85,
                    86,
                    87,
                    88,
                    89,
                    90,
                    91,
                    92,
                    93,
                    94,
                    95,
                    96,
                    97,
                    98,
                    99,
                    100,
                    101,
                    102,
                    103,
                    104,
                    105,
                    106,
                    107,
                    108,
                    109,
                    110,
                    111,
                    112,
                    113,
                    114,
                    115,
                    116,
                    117,
                    118,
                    119,
                    120,
                    121,
                    122,
                    123,
                    124,
                    125,
                    126,
                    127,
                    128,
                    129,
                    130,
                    131,
                    132,
                    133,
                    134,
                    135,
                    136,
                    137,
                    138,
                    139,
                    140,
                    141,
                    142,
                    143,
                    144,
                    145,
                    146,
                    147,
                    148,
                    149,
                    150,
                    151,
                    152,
                    153,
                    154,
                    155,
                    156,
                    157,
                    158,
                    159,
                    160,
                    161,
                    162,
                    163,
                    164,
                    165,
                    166,
                    167,
                    168,
                    169,
                    170,
                    171,
                    172,
                    173,
                    174,
                    175,
                    176,
                    177,
                    178,
                    179,
                    180,
                    181,
                    182,
                    183,
                    184,
                    185,
                    186,
                    187,
                    188,
                    189,
                    190,
                    191,
                    192,
                    193,
                    194,
                    195,
                    196,
                    197,
                    198,
                    199,
                    200,
                    201,
                    202,
                    203,
                    204,
                    205,
                    206,
                    207,
                    208,
                    209,
                    210,
                    211,
                    212,
                    213,
                    214,
                    215,
                    216,
                    217,
                    218,
                    219,
                    220,
                    221,
                    222,
                    223,
                    224,
                    225,
                    226,
                    227,
                    228,
                    229,
                    230,
                    231,
                    232,
                    233,
                    234,
                    235,
                    236,
                    237,
                    238,
                    239,
                    240,
                    241,
                    242,
                    243,
                    244,
                    245,
                    246,
                    247,
                    248,
                    249,
                    250,
                    251,
                    252,
                    253,
                    254,
                    255,
                    256,
                    257,
                    258,
                    259,
                    260,
                    261,
                    262,
                    263,
                    264,
                    265,
                    266,
                    267,
                    268,
                    269,
                    270,
                    271,
                    272,
                    273,
                    274,
                    275,
                    276,
                    277,
                    278,
                    279,
                    280,
                    281,
                    282,
                    283,
                    284,
                    285,
                    286,
                    287,
                    288,
                    289,
                    290,
                    291,
                    292,
                    293,
                    294,
                    295,
                    296,
                    297,
                    298,
                    299
                  ],
                  "y": [
                    0.9926633934179941,
                    0.951557191212972,
                    0.9008505245049795,
                    0.809039694070816,
                    0.7847971022129059,
                    0.742953375975291,
                    0.6701149463653564,
                    0.601108729839325,
                    0.5801403284072876,
                    0.5221598337093989,
                    0.48207404017448424,
                    0.4736076513926188,
                    0.43821363945802055,
                    0.410405278702577,
                    0.37096572617689766,
                    0.35587551991144817,
                    0.34302602310975394,
                    0.32338292598724366,
                    0.3031702925761541,
                    0.3006227274735769,
                    0.2973811571796735,
                    0.28194763014713925,
                    0.25779119655489924,
                    0.23706851849953334,
                    0.22276651461919147,
                    0.20539041956265766,
                    0.20352629174788792,
                    0.19086561240255834,
                    0.18599363503356775,
                    0.18090121522545816,
                    0.17844943578044573,
                    0.16839384995400905,
                    0.15861600115895272,
                    0.15758948028087616,
                    0.15193418276806672,
                    0.14602203108370304,
                    0.14268149348596731,
                    0.1326888936261336,
                    0.12935803197324275,
                    0.12651095141967136,
                    0.1239332091063261,
                    0.12047719272474448,
                    0.11539541768531004,
                    0.1124885909880201,
                    0.11012380321820577,
                    0.10697969365864993,
                    0.10817089062184096,
                    0.1073268282537659,
                    0.10657715822259585,
                    0.10479295769085487,
                    0.10269011085232099,
                    0.0983002869412303,
                    0.09545192910979192,
                    0.09340099977950254,
                    0.0933336320022742,
                    0.0938627232487003,
                    0.09363221985598405,
                    0.0937718253582716,
                    0.09208918046206235,
                    0.08937334741155306,
                    0.08897123473385969,
                    0.08863457931826511,
                    0.08702940698713064,
                    0.0871143069739143,
                    0.0868537224829197,
                    0.08598711906621853,
                    0.08433113520344099,
                    0.08278216732045014,
                    0.08051026047517856,
                    0.08067706910272439,
                    0.08042066966493924,
                    0.07863287615279356,
                    0.07929321403304736,
                    0.0794719697907567,
                    0.07852005921304225,
                    0.07813695973406236,
                    0.07800332736223936,
                    0.07704085577279329,
                    0.07663773645957311,
                    0.07531860570112864,
                    0.07549776832262675,
                    0.07536256896952788,
                    0.07604671188940605,
                    0.07636299182971319,
                    0.07540686844537656,
                    0.07562757084767023,
                    0.07457055319100618,
                    0.0741057397487263,
                    0.0739357432971398,
                    0.07391887592772643,
                    0.07358630526190003,
                    0.0736896051093936,
                    0.07312126510466138,
                    0.07299546878784895,
                    0.07276245476678014,
                    0.07281085991611083,
                    0.07254239901279409,
                    0.07256416256229083,
                    0.07261649696156383,
                    0.07248086724430322,
                    0.07301607842867573,
                    0.07310855013007919,
                    0.07319427197799086,
                    0.07189368329321345,
                    0.07102479878813028,
                    0.07012530453503132,
                    0.07009528102353216,
                    0.06985008257130781,
                    0.06943522446478406,
                    0.06939730178564787,
                    0.06898463284596801,
                    0.06888432676593463,
                    0.0679042782013615,
                    0.06778123828892907,
                    0.06611559204757214,
                    0.06495439143230518,
                    0.06521940228218834,
                    0.0649704764286677,
                    0.06563821360468865,
                    0.06474959164236983,
                    0.06475309173886974,
                    0.06477633137255907,
                    0.06462019967536131,
                    0.06490446189418435,
                    0.06405369052663445,
                    0.06407264430696766,
                    0.06367313181981445,
                    0.06369997172926863,
                    0.06375749480600158,
                    0.06304041240364314,
                    0.06306655614947279,
                    0.06316243431841334,
                    0.06300086127594114,
                    0.06325189033523201,
                    0.0632917320355773,
                    0.06304870918393135,
                    0.06292876210063696,
                    0.06255885402982433,
                    0.06240099426358938,
                    0.06226235323896011,
                    0.06215054389710228,
                    0.0619147757999599,
                    0.06186415025343497,
                    0.06208353030184905,
                    0.06183491923535864,
                    0.06164821712300182,
                    0.06153674017017086,
                    0.06108612399548292,
                    0.06106701837852598,
                    0.06084382028008501,
                    0.06075285552069545,
                    0.06064990283921361,
                    0.06066822748010357,
                    0.05991523377597332,
                    0.05951241636648774,
                    0.0595985340885818,
                    0.05959904370829463,
                    0.059145954841127,
                    0.05909684322153529,
                    0.05897465220962961,
                    0.05884851363177101,
                    0.05862849090869228,
                    0.05849769487977028,
                    0.05841627248252432,
                    0.05842526741325856,
                    0.05828205676128467,
                    0.05831101884444555,
                    0.05805398346856237,
                    0.05805802438408136,
                    0.05793293931831916,
                    0.05792906194304426,
                    0.05795033676549792,
                    0.05796651570126414,
                    0.05785925149296721,
                    0.0579663338450094,
                    0.05791232123350103,
                    0.05798623462518056,
                    0.05797458204130332,
                    0.05784528867031137,
                    0.05785334163034956,
                    0.05789967983340224,
                    0.05801296920205156,
                    0.05783545393496752,
                    0.05782585637643933,
                    0.05789195466786623,
                    0.0579383559525013,
                    0.0581106682618459,
                    0.05807800590991974,
                    0.05775742571180065,
                    0.05780266569927335,
                    0.0579155156078438,
                    0.05782847364122669,
                    0.05798225061347087,
                    0.05796111496165395,
                    0.05811643141011397,
                    0.0581480263111492,
                    0.058175013307482,
                    0.05808706497773528,
                    0.05790973529219627,
                    0.05770712466910481,
                    0.05762079249446591,
                    0.05763009293004871,
                    0.05787116661667824,
                    0.05797665392359098,
                    0.05784511991466085,
                    0.05746578726296624,
                    0.05761014049251875,
                    0.05757176826397578,
                    0.05766243326167265,
                    0.05760344186176856,
                    0.05759255730857452,
                    0.0575585109492143,
                    0.05741368175173799,
                    0.05737963138769071,
                    0.05739382101843755,
                    0.05752950388317307,
                    0.05757295902197559,
                    0.05716608424360554,
                    0.05630573503052195,
                    0.05627354603881637,
                    0.05643511783952514,
                    0.05660276856894295,
                    0.0565843659453094,
                    0.05670919905727109,
                    0.05595972457279762,
                    0.05596889692048232,
                    0.05631242527936896,
                    0.05619091376041373,
                    0.05617749470596512,
                    0.05607164430742462,
                    0.0559180215621988,
                    0.05580864772200585,
                    0.05572400782257318,
                    0.05575935725743572,
                    0.05554449260234832,
                    0.05541481105610728,
                    0.05543986819684506,
                    0.05549335420752565,
                    0.05546388914808631,
                    0.05536226481199265,
                    0.05538920961941282,
                    0.05553849721327424,
                    0.0556570289346079,
                    0.05549492845311761,
                    0.05554078121980031,
                    0.05547584146261215,
                    0.05577975545699398,
                    0.05572400446981192,
                    0.05569193068270882,
                    0.05550740255663792,
                    0.0552263190659384,
                    0.05525426743552089,
                    0.05530927057067554,
                    0.05514476991569003,
                    0.05516639743000269,
                    0.05514082309479515,
                    0.05504737133160233,
                    0.05504201340178649,
                    0.05498449817920725,
                    0.05486979192743699,
                    0.05492787379771471,
                    0.05494309791053335,
                    0.05511901800831159,
                    0.05504745161160827,
                    0.05500021825234095,
                    0.05500029670074582,
                    0.0550405381868283,
                    0.05501040033996105,
                    0.05489316362266739,
                    0.05471728298192223,
                    0.05477002551779151,
                    0.05477061091611782,
                    0.05485729227463405,
                    0.05477253552526236,
                    0.05467004555587967,
                    0.05464682324479023,
                    0.0546817334368825,
                    0.05474142218008637,
                    0.0552260510623455,
                    0.05515252764647206,
                    0.05512287731592854,
                    0.05508586491147677,
                    0.05511209530134996,
                    0.05509773086135586,
                    0.05513401543721556,
                    0.05542902955785393,
                    0.055492863462617,
                    0.05576264287034671,
                    0.05575799255942305,
                    0.05566961088528236,
                    0.05565841260055701,
                    0.05570763231565555,
                    0.05575394422436754,
                    0.05582782778268059,
                    0.05585973827789227,
                    0.05579425037528078,
                    0.05604944645116727,
                    0.05621818002934257,
                    0.05629133908078075,
                    0.0563187710630397
                  ]
                },
                {
                  "marker": {
                    "maxdisplayed": 10
                  },
                  "mode": "lines+markers",
                  "name": "Trial1",
                  "type": "scatter",
                  "x": [
                    0,
                    1,
                    2,
                    3,
                    4,
                    5,
                    6,
                    7,
                    8,
                    9,
                    10,
                    11,
                    12,
                    13,
                    14,
                    15,
                    16,
                    17,
                    18,
                    19,
                    20,
                    21,
                    22,
                    23,
                    24,
                    25,
                    26,
                    27,
                    28,
                    29,
                    30,
                    31,
                    32,
                    33,
                    34,
                    35,
                    36,
                    37,
                    38,
                    39,
                    40,
                    41,
                    42,
                    43,
                    44,
                    45,
                    46,
                    47,
                    48,
                    49,
                    50,
                    51,
                    52,
                    53,
                    54,
                    55,
                    56,
                    57,
                    58,
                    59,
                    60,
                    61,
                    62,
                    63,
                    64,
                    65,
                    66,
                    67,
                    68,
                    69,
                    70,
                    71,
                    72,
                    73,
                    74,
                    75,
                    76,
                    77,
                    78,
                    79,
                    80,
                    81,
                    82,
                    83,
                    84,
                    85,
                    86,
                    87,
                    88,
                    89,
                    90,
                    91,
                    92,
                    93,
                    94,
                    95,
                    96,
                    97,
                    98,
                    99,
                    100,
                    101,
                    102,
                    103,
                    104,
                    105,
                    106,
                    107,
                    108,
                    109,
                    110,
                    111,
                    112,
                    113,
                    114,
                    115,
                    116,
                    117,
                    118,
                    119,
                    120,
                    121,
                    122,
                    123,
                    124,
                    125,
                    126,
                    127,
                    128,
                    129,
                    130,
                    131,
                    132,
                    133,
                    134,
                    135,
                    136,
                    137,
                    138,
                    139,
                    140,
                    141,
                    142,
                    143,
                    144,
                    145,
                    146,
                    147,
                    148,
                    149,
                    150,
                    151,
                    152,
                    153,
                    154,
                    155,
                    156,
                    157,
                    158,
                    159,
                    160,
                    161,
                    162,
                    163,
                    164,
                    165,
                    166,
                    167,
                    168,
                    169,
                    170,
                    171,
                    172,
                    173,
                    174,
                    175,
                    176,
                    177,
                    178,
                    179,
                    180,
                    181,
                    182,
                    183,
                    184,
                    185,
                    186,
                    187,
                    188,
                    189,
                    190,
                    191,
                    192,
                    193,
                    194,
                    195,
                    196,
                    197,
                    198,
                    199,
                    200,
                    201,
                    202,
                    203,
                    204,
                    205,
                    206,
                    207,
                    208,
                    209,
                    210,
                    211,
                    212,
                    213,
                    214,
                    215,
                    216,
                    217,
                    218,
                    219,
                    220,
                    221,
                    222,
                    223,
                    224,
                    225,
                    226,
                    227,
                    228,
                    229,
                    230,
                    231,
                    232,
                    233,
                    234,
                    235,
                    236,
                    237,
                    238,
                    239,
                    240,
                    241,
                    242,
                    243,
                    244,
                    245,
                    246,
                    247,
                    248,
                    249,
                    250,
                    251,
                    252,
                    253,
                    254,
                    255,
                    256,
                    257,
                    258,
                    259,
                    260,
                    261,
                    262,
                    263,
                    264,
                    265,
                    266,
                    267,
                    268,
                    269,
                    270,
                    271,
                    272,
                    273,
                    274,
                    275,
                    276,
                    277,
                    278,
                    279,
                    280,
                    281,
                    282,
                    283,
                    284,
                    285,
                    286,
                    287,
                    288,
                    289,
                    290,
                    291,
                    292,
                    293,
                    294,
                    295,
                    296,
                    297,
                    298,
                    299
                  ],
                  "y": [
                    0.9829181432723999,
                    0.9279768069585165,
                    0.8429788668950399,
                    0.7631384511788686,
                    0.6919293900330862,
                    0.6278320332368215,
                    0.5721437295277914,
                    0.522656645377477,
                    0.4774659921725591,
                    0.4369466563065847,
                    0.40691284636656444,
                    0.3740058799584707,
                    0.3483322242895762,
                    0.3205446809530258,
                    0.2943905452887217,
                    0.27753358433643976,
                    0.26066782921552656,
                    0.24182450821002324,
                    0.22803890804449717,
                    0.2148379574219386,
                    0.20435232569773992,
                    0.19316803763310114,
                    0.17940562417109807,
                    0.16722242285807928,
                    0.15649486904342969,
                    0.1463909501830737,
                    0.1375208668410778,
                    0.12965818618734679,
                    0.12323829904198647,
                    0.11762847974896432,
                    0.11502411638696988,
                    0.10893677237133186,
                    0.1049730601410071,
                    0.09872959926724434,
                    0.09716694292922815,
                    0.0929822194079558,
                    0.08940132595598697,
                    0.08731026860574881,
                    0.08527267773946126,
                    0.08289308920502662,
                    0.08256450891494752,
                    0.08036182833214602,
                    0.07864229902625083,
                    0.07799042848249277,
                    0.07654842870930831,
                    0.07567545846104622,
                    0.07399874938031038,
                    0.07342577539384365,
                    0.07352921416362126,
                    0.07230766204496225,
                    0.07153411296506723,
                    0.06959257926791906,
                    0.06837197213123242,
                    0.0677574597299099,
                    0.06784406471997499,
                    0.06787908071031173,
                    0.06793360176185767,
                    0.06813501759121815,
                    0.06706744314481815,
                    0.06574576285978158,
                    0.06538818211605152,
                    0.06484503913670778,
                    0.06418184209614992,
                    0.0641914236669739,
                    0.064395472407341,
                    0.06390616670250893,
                    0.06366109071920316,
                    0.06270663949350516,
                    0.06297961653520663,
                    0.06273428282390038,
                    0.06219820442299048,
                    0.06114367612948021,
                    0.06133076852808396,
                    0.06173316761851311,
                    0.06128009756406148,
                    0.05956830959767103,
                    0.05941820895920197,
                    0.05932492452363173,
                    0.05889839331309001,
                    0.05822238052884738,
                    0.05819626282900572,
                    0.05778529718518257,
                    0.05831948804358641,
                    0.05835885747025411,
                    0.05793768167495728,
                    0.05781422642370065,
                    0.0579155861089627,
                    0.05767540770272414,
                    0.05756048144151767,
                    0.05679637150218089,
                    0.05614249681433042,
                    0.05617203389604886,
                    0.05589687339961529,
                    0.05593836884945631,
                    0.05587406611690918,
                    0.05582871356358131,
                    0.0557249257961909,
                    0.05559101371715466,
                    0.0555515069514513,
                    0.05512537776182095,
                    0.05536098337421815,
                    0.05557343928764264,
                    0.055212743456165,
                    0.05475424062460661,
                    0.05458548876146475,
                    0.05386452190577984,
                    0.05384251742313306,
                    0.05384325993557771,
                    0.05408945822467406,
                    0.05400825999677181,
                    0.05420017850895723,
                    0.05418979469686747,
                    0.05442113721122344,
                    0.05419490747153759,
                    0.05386478211730718,
                    0.05386950050791105,
                    0.0540443712224563,
                    0.05405627439419428,
                    0.05437280467400948,
                    0.0543002950027585,
                    0.05404894581685463,
                    0.05410426283876101,
                    0.05391319300979376,
                    0.05420371843501925,
                    0.05358486684660117,
                    0.05356855876743793,
                    0.05336602401609222,
                    0.05326569844037295,
                    0.05336023379738132,
                    0.05275947116315365,
                    0.05279277727628748,
                    0.05285541986425717,
                    0.05258933687582612,
                    0.05259833720823129,
                    0.0527091464959085,
                    0.05266333964342872,
                    0.0524041887683173,
                    0.05226415507495404,
                    0.05205547033498684,
                    0.05202771024778485,
                    0.05200921896224221,
                    0.05187320380161206,
                    0.05190861821174621,
                    0.05190583492318789,
                    0.05172698007275661,
                    0.05172338193903367,
                    0.05164937327305476,
                    0.05161958243697882,
                    0.05153943079834183,
                    0.05158220299830039,
                    0.05149136756857236,
                    0.05140062750627597,
                    0.05147818773984909,
                    0.05147305012991031,
                    0.05113184470683337,
                    0.05132766487076879,
                    0.05138190121700367,
                    0.0514248974310855,
                    0.05139482204491894,
                    0.05139676608766119,
                    0.05143069302042325,
                    0.05122878740852078,
                    0.05101962722837925,
                    0.05102109542737405,
                    0.05094006896639864,
                    0.05124298899124066,
                    0.05134461463118593,
                    0.05156735631947716,
                    0.052382842451334,
                    0.05204509266962608,
                    0.05198487835004926,
                    0.05120064637934168,
                    0.05117478833223383,
                    0.0511848001430432,
                    0.05130260614678264,
                    0.05125457715863983,
                    0.0512036122692128,
                    0.05106544249380628,
                    0.0510575905131797,
                    0.05097478140766422,
                    0.05047027034064134,
                    0.05048711622754733,
                    0.05046499771997333,
                    0.05046866337458292,
                    0.05037440992891788,
                    0.05031338616584738,
                    0.05010637917245428,
                    0.05009281793609262,
                    0.04969022612397869,
                    0.05005198130384088,
                    0.05008533957103888,
                    0.0501321521277229,
                    0.05012967384730776,
                    0.04988760923345884,
                    0.04988175571585695,
                    0.05005941269919276,
                    0.05009532831609249,
                    0.0500860550130407,
                    0.0500667680054903,
                    0.04989926389728983,
                    0.04976013426979383,
                    0.04948922448481122,
                    0.0495239960650603,
                    0.04926240217561523,
                    0.0492555022239685,
                    0.04921702422822515,
                    0.04925190666690469,
                    0.04924949686974287,
                    0.049371889171501,
                    0.04979007809112469,
                    0.04963475049783786,
                    0.04960102330272396,
                    0.04960339618846774,
                    0.04954572869464755,
                    0.04956682178502281,
                    0.04967863218237956,
                    0.04965497218072414,
                    0.04925283137708902,
                    0.04861869964127739,
                    0.04860534714534879,
                    0.04871211666613817,
                    0.04872651069114606,
                    0.04873210995768507,
                    0.04866786866138379,
                    0.04793962830056746,
                    0.0479757413888971,
                    0.04827318737904231,
                    0.04788126004859805,
                    0.04756444298351804,
                    0.04758503676081697,
                    0.04748741937801242,
                    0.04740193455169598,
                    0.04734661125888427,
                    0.04734253877152999,
                    0.04730030133699378,
                    0.04720405790333947,
                    0.04726086296141148,
                    0.04714373530199131,
                    0.047128608978043,
                    0.04736342035854856,
                    0.04718247416118781,
                    0.04715421640624603,
                    0.04712317660450936,
                    0.04696706303705771,
                    0.04701400538906455,
                    0.04691121180852254,
                    0.04717710611099998,
                    0.04717774555707972,
                    0.04712298655261596,
                    0.04710776098072529,
                    0.04699628269299864,
                    0.04713241513818502,
                    0.04705700731525819,
                    0.04693429181352258,
                    0.04703112343947093,
                    0.04698619150246183,
                    0.04699345923339327,
                    0.04706956874579191,
                    0.04696972519159317,
                    0.0469412289870282,
                    0.04697042327995102,
                    0.04701476581394672,
                    0.04704941936458151,
                    0.0469069947488606,
                    0.04675024710595608,
                    0.04676822402204076,
                    0.04683640537162622,
                    0.04693967187777161,
                    0.04722869539012511,
                    0.04703967875490586,
                    0.0470585897564888,
                    0.0470560516230762,
                    0.04700212720781564,
                    0.04688862298304836,
                    0.04674610737711191,
                    0.04677976919338107,
                    0.04680628500257929,
                    0.04687398367871841,
                    0.04709213394671678,
                    0.04713198315973084,
                    0.04710057384024064,
                    0.0471334586540858,
                    0.04713881028195222,
                    0.04717073996240894,
                    0.04690058693910638,
                    0.04715715162456036,
                    0.04720049994066357,
                    0.04732991882289449,
                    0.04738657427951694,
                    0.04753152144451936,
                    0.04752417610337337,
                    0.04745077298333247,
                    0.04725340648243825,
                    0.04730177316814661,
                    0.04731335919350386,
                    0.04729305018360416,
                    0.04761710480476419,
                    0.04764506372933586,
                    0.0476913965617617,
                    0.04755485635250807
                  ]
                },
                {
                  "marker": {
                    "maxdisplayed": 10
                  },
                  "mode": "lines+markers",
                  "name": "Trial2",
                  "type": "scatter",
                  "x": [
                    0,
                    1,
                    2,
                    3,
                    4,
                    5,
                    6,
                    7,
                    8,
                    9,
                    10,
                    11,
                    12,
                    13,
                    14,
                    15,
                    16,
                    17,
                    18,
                    19,
                    20,
                    21,
                    22,
                    23,
                    24,
                    25,
                    26,
                    27,
                    28,
                    29,
                    30,
                    31,
                    32,
                    33,
                    34,
                    35,
                    36,
                    37,
                    38,
                    39,
                    40,
                    41,
                    42,
                    43,
                    44,
                    45,
                    46,
                    47,
                    48,
                    49,
                    50,
                    51,
                    52,
                    53,
                    54,
                    55,
                    56,
                    57,
                    58,
                    59,
                    60,
                    61,
                    62,
                    63,
                    64,
                    65,
                    66,
                    67,
                    68,
                    69,
                    70,
                    71,
                    72,
                    73,
                    74,
                    75,
                    76,
                    77,
                    78,
                    79,
                    80,
                    81,
                    82,
                    83,
                    84,
                    85,
                    86,
                    87,
                    88,
                    89,
                    90,
                    91,
                    92,
                    93,
                    94,
                    95,
                    96,
                    97,
                    98,
                    99,
                    100,
                    101,
                    102,
                    103,
                    104,
                    105,
                    106,
                    107,
                    108,
                    109,
                    110,
                    111,
                    112,
                    113,
                    114,
                    115,
                    116,
                    117,
                    118,
                    119,
                    120,
                    121,
                    122,
                    123,
                    124,
                    125,
                    126,
                    127,
                    128,
                    129,
                    130,
                    131,
                    132,
                    133,
                    134,
                    135,
                    136,
                    137,
                    138,
                    139,
                    140,
                    141,
                    142,
                    143,
                    144,
                    145,
                    146,
                    147,
                    148,
                    149,
                    150,
                    151,
                    152,
                    153,
                    154,
                    155,
                    156,
                    157,
                    158,
                    159,
                    160,
                    161,
                    162,
                    163,
                    164,
                    165,
                    166,
                    167,
                    168,
                    169,
                    170,
                    171,
                    172,
                    173,
                    174,
                    175,
                    176,
                    177,
                    178,
                    179,
                    180,
                    181,
                    182,
                    183,
                    184,
                    185,
                    186,
                    187,
                    188,
                    189,
                    190,
                    191,
                    192,
                    193,
                    194,
                    195,
                    196,
                    197,
                    198,
                    199,
                    200,
                    201,
                    202,
                    203,
                    204,
                    205,
                    206,
                    207,
                    208,
                    209,
                    210,
                    211,
                    212,
                    213,
                    214,
                    215,
                    216,
                    217,
                    218,
                    219,
                    220,
                    221,
                    222,
                    223,
                    224,
                    225,
                    226,
                    227,
                    228,
                    229,
                    230,
                    231,
                    232,
                    233,
                    234,
                    235,
                    236,
                    237,
                    238,
                    239,
                    240,
                    241,
                    242,
                    243,
                    244,
                    245,
                    246,
                    247,
                    248,
                    249,
                    250,
                    251,
                    252,
                    253,
                    254,
                    255,
                    256,
                    257,
                    258,
                    259,
                    260,
                    261,
                    262,
                    263,
                    264,
                    265,
                    266,
                    267,
                    268,
                    269,
                    270,
                    271,
                    272,
                    273,
                    274,
                    275,
                    276,
                    277,
                    278,
                    279,
                    280,
                    281,
                    282,
                    283,
                    284,
                    285,
                    286,
                    287,
                    288,
                    289,
                    290,
                    291,
                    292,
                    293,
                    294
                  ],
                  "y": [
                    0.993915190299352,
                    0.9413818577925365,
                    0.8614921490351359,
                    0.7848784665266673,
                    0.7184987703959147,
                    0.6579808175563813,
                    0.604080734650294,
                    0.5563092768192291,
                    0.5129175176223119,
                    0.4731487294038137,
                    0.44259032011032107,
                    0.4095098406076431,
                    0.38331862290700275,
                    0.35522754192352296,
                    0.32866764863332115,
                    0.3102404927213987,
                    0.2911458909511566,
                    0.2717072238524755,
                    0.25676457583904266,
                    0.2421431968609492,
                    0.22996932864189149,
                    0.21766053239504496,
                    0.20326461444298427,
                    0.18965166062116623,
                    0.17730250855286916,
                    0.16641966154177984,
                    0.15740290855367978,
                    0.14861068576574327,
                    0.14130177373687428,
                    0.13525570258498193,
                    0.13264194900790852,
                    0.12585787971814474,
                    0.12171932955582937,
                    0.11393216301997502,
                    0.1097864522288243,
                    0.10469009925921759,
                    0.1002024723837773,
                    0.09762097646792729,
                    0.09455557105441888,
                    0.09157391848663489,
                    0.0912051472812891,
                    0.08853677622973918,
                    0.08662000459929307,
                    0.08414032359917958,
                    0.08241522908210755,
                    0.08121510508159796,
                    0.07905490634342034,
                    0.07759723601241907,
                    0.07607193179428577,
                    0.07478317245841026,
                    0.07388777658343315,
                    0.07207624924679597,
                    0.0709708450982968,
                    0.07051990081866583,
                    0.07066842839121819,
                    0.07108672348161539,
                    0.07052679707606634,
                    0.07072945808370908,
                    0.06993314586579799,
                    0.06910247666140397,
                    0.06863199944297473,
                    0.06795988207062086,
                    0.06727746619532506,
                    0.06727954608698686,
                    0.067362956268092,
                    0.06652032819887002,
                    0.06625524796545505,
                    0.06554033501694599,
                    0.06497583948075772,
                    0.06487609390169383,
                    0.06479599593828121,
                    0.06355867000917594,
                    0.0637462510416905,
                    0.0638804728165269,
                    0.06364750607560078,
                    0.06213890481740236,
                    0.06207683502386014,
                    0.06198590236405532,
                    0.06209469934304555,
                    0.06209860350936651,
                    0.06239290032535792,
                    0.06127058689792951,
                    0.06170150910814603,
                    0.06196277303000291,
                    0.06159129155178865,
                    0.06150471220413844,
                    0.06160736599316199,
                    0.06138649235169093,
                    0.06127112849305073,
                    0.06014634861300389,
                    0.06011301868905624,
                    0.05955830017725627,
                    0.05918609922130903,
                    0.05927590870608886,
                    0.05927655044943094,
                    0.05924469878276189,
                    0.05917121364424626,
                    0.0592131219804287,
                    0.05917183483640353,
                    0.05899933508286873,
                    0.0588444845750928,
                    0.05864633396267891,
                    0.05822754272570212,
                    0.05762185708930095,
                    0.05747943508128325,
                    0.05740103318045537,
                    0.0573171341791749,
                    0.05736653295656045,
                    0.05718717947602272,
                    0.05706756319850683,
                    0.05712158841391404,
                    0.05712353885173797,
                    0.05726520611594121,
                    0.05729290557404359,
                    0.05611488297581672,
                    0.05611392905314763,
                    0.05614428619543711,
                    0.0558618264272809,
                    0.05593936219811439,
                    0.05537671496470769,
                    0.05514800076683362,
                    0.05512914080172777,
                    0.05505287529279788,
                    0.05494662510852019,
                    0.05465963203459978,
                    0.05464910076310237,
                    0.05441182224700848,
                    0.05445794618378083,
                    0.05453217538694541,
                    0.05402810573577881,
                    0.05404101169357697,
                    0.05408517314742009,
                    0.05342799257487059,
                    0.05339105234791835,
                    0.05345248617231846,
                    0.05341378698746364,
                    0.05343145281076431,
                    0.05329817490031322,
                    0.0530970851580302,
                    0.05306373070925474,
                    0.05298846221218507,
                    0.05287429032226403,
                    0.05301514522482952,
                    0.05299024234215419,
                    0.05283831730484963,
                    0.05283307954668999,
                    0.05279157776385546,
                    0.05241288486868143,
                    0.05237913032372792,
                    0.05246464492132266,
                    0.05241268469641606,
                    0.05228501185774803,
                    0.05227520937720934,
                    0.05218168571591377,
                    0.05191017898420493,
                    0.05186192983140548,
                    0.0518689456085364,
                    0.05191165283322334,
                    0.0519112899278601,
                    0.05189031772315502,
                    0.05184681881219148,
                    0.05165675797810157,
                    0.05171027102818092,
                    0.05165941709031661,
                    0.05161884650588035,
                    0.05167022893826167,
                    0.05173196035126845,
                    0.05162378735840321,
                    0.05190834098805984,
                    0.05188645229985316,
                    0.05178142475585143,
                    0.05121702328324318,
                    0.05118726200113694,
                    0.05116083342581988,
                    0.05126139465719461,
                    0.05122393829127152,
                    0.05121101656307777,
                    0.05108599892506997,
                    0.05101916541655858,
                    0.0509865694368879,
                    0.05054852770020565,
                    0.05054643265902996,
                    0.0505025618399183,
                    0.05062636441240708,
                    0.05059174802154302,
                    0.05070724698404471,
                    0.05057069770991802,
                    0.05057718964914481,
                    0.05031042502572139,
                    0.05062175213048856,
                    0.05067922535041968,
                    0.05070431909213464,
                    0.05065620771298806,
                    0.05044743400067091,
                    0.05045284343262513,
                    0.05042777651300033,
                    0.05048760318507751,
                    0.05042601320892572,
                    0.05040178193400303,
                    0.05026872803767522,
                    0.05019409296413262,
                    0.04993703421205282,
                    0.04998150678972403,
                    0.0497839975481232,
                    0.04976532999426127,
                    0.04958518563459317,
                    0.04964512934287389,
                    0.04970525049914917,
                    0.04982609829554955,
                    0.05017923284322023,
                    0.0500216418877244,
                    0.05005630335460107,
                    0.05004790077606837,
                    0.05003519287953774,
                    0.05004886817187071,
                    0.05000953419754903,
                    0.0499031770353516,
                    0.04941388703882695,
                    0.04899090845137834,
                    0.04895253634701172,
                    0.04891228129466375,
                    0.04892163866509994,
                    0.04893788633247217,
                    0.04887317176908255,
                    0.04814630889644225,
                    0.04818210074057182,
                    0.04843793977051973,
                    0.04846728648990393,
                    0.04845177965859572,
                    0.04863718878477812,
                    0.04854670017957687,
                    0.04844652991741896,
                    0.04852125222484271,
                    0.04847645486394565,
                    0.04866598397493362,
                    0.04857862374434869,
                    0.04864692514141401,
                    0.04839418182770411,
                    0.04836591097215812,
                    0.04836533684283495,
                    0.04847077423085769,
                    0.0484403433278203,
                    0.04845662532995144,
                    0.04839353996018569,
                    0.04793317311753829,
                    0.04780155991514524,
                    0.04799247023959954,
                    0.04799007723728816,
                    0.0480030981823802,
                    0.04785705984880527,
                    0.04764878824353218,
                    0.04772312982628743,
                    0.04757272945716977,
                    0.04756810522327821,
                    0.04762993917490045,
                    0.04756767954677343,
                    0.04758110015342633,
                    0.04758743575463693,
                    0.04754192642867565,
                    0.04752143062651158,
                    0.04746007875849803,
                    0.0474864204103748,
                    0.04718499674151341,
                    0.04711959529668093,
                    0.04702713489532471,
                    0.04706438242768248,
                    0.04714205833151937,
                    0.04722707277784745,
                    0.04748271148030957,
                    0.04748614275207122,
                    0.04754148696859677,
                    0.04755522838483254,
                    0.04763270361969869,
                    0.04756018954018752,
                    0.04749641846865416,
                    0.04756154082715511,
                    0.0475802934418122,
                    0.04760694336146117,
                    0.0478439187631011,
                    0.04784141468505065,
                    0.04770831279456615,
                    0.04771966810027758,
                    0.04763979402681192,
                    0.04763509978850682,
                    0.04750481465210517,
                    0.04747377913445235,
                    0.04753298300007979,
                    0.04765849200387796,
                    0.04766895330200593,
                    0.04787141860773166,
                    0.04788042210663358,
                    0.04781607290108999,
                    0.04774774021158616,
                    0.04779557182143132,
                    0.04780895536144574
                  ]
                },
                {
                  "marker": {
                    "maxdisplayed": 10
                  },
                  "mode": "lines+markers",
                  "name": "Trial3",
                  "type": "scatter",
                  "x": [
                    0,
                    1,
                    2,
                    3,
                    4,
                    5,
                    6,
                    7,
                    8,
                    9,
                    10,
                    11,
                    12,
                    13,
                    14,
                    15,
                    16,
                    17,
                    18,
                    19,
                    20,
                    21,
                    22,
                    23,
                    24,
                    25,
                    26,
                    27,
                    28,
                    29,
                    30,
                    31,
                    32,
                    33,
                    34,
                    35,
                    36,
                    37,
                    38,
                    39,
                    40,
                    41,
                    42,
                    43,
                    44,
                    45,
                    46,
                    47,
                    48,
                    49,
                    50,
                    51,
                    52,
                    53,
                    54,
                    55,
                    56,
                    57,
                    58,
                    59,
                    60,
                    61,
                    62,
                    63,
                    64,
                    65,
                    66,
                    67,
                    68,
                    69,
                    70,
                    71,
                    72,
                    73,
                    74,
                    75,
                    76,
                    77,
                    78,
                    79,
                    80,
                    81,
                    82,
                    83,
                    84,
                    85,
                    86,
                    87,
                    88,
                    89,
                    90,
                    91,
                    92,
                    93,
                    94,
                    95,
                    96,
                    97,
                    98,
                    99,
                    100,
                    101,
                    102,
                    103,
                    104,
                    105,
                    106,
                    107,
                    108,
                    109,
                    110,
                    111,
                    112,
                    113,
                    114,
                    115,
                    116,
                    117,
                    118,
                    119,
                    120,
                    121,
                    122,
                    123,
                    124,
                    125,
                    126,
                    127,
                    128,
                    129,
                    130,
                    131,
                    132,
                    133,
                    134,
                    135,
                    136,
                    137,
                    138,
                    139,
                    140,
                    141,
                    142,
                    143,
                    144,
                    145,
                    146,
                    147,
                    148,
                    149,
                    150,
                    151,
                    152,
                    153,
                    154,
                    155,
                    156,
                    157,
                    158,
                    159,
                    160,
                    161,
                    162,
                    163,
                    164,
                    165,
                    166,
                    167,
                    168,
                    169,
                    170,
                    171,
                    172,
                    173,
                    174,
                    175,
                    176,
                    177,
                    178,
                    179,
                    180,
                    181,
                    182,
                    183,
                    184,
                    185,
                    186,
                    187,
                    188,
                    189,
                    190,
                    191,
                    192,
                    193,
                    194,
                    195,
                    196,
                    197,
                    198,
                    199,
                    200,
                    201,
                    202,
                    203,
                    204,
                    205,
                    206,
                    207,
                    208,
                    209,
                    210,
                    211,
                    212,
                    213,
                    214,
                    215,
                    216,
                    217,
                    218,
                    219,
                    220,
                    221,
                    222,
                    223,
                    224,
                    225,
                    226,
                    227,
                    228,
                    229,
                    230,
                    231,
                    232,
                    233,
                    234,
                    235,
                    236,
                    237,
                    238,
                    239,
                    240,
                    241,
                    242,
                    243,
                    244,
                    245,
                    246,
                    247,
                    248,
                    249,
                    250,
                    251,
                    252,
                    253,
                    254,
                    255,
                    256,
                    257,
                    258,
                    259,
                    260,
                    261,
                    262,
                    263,
                    264,
                    265,
                    266,
                    267,
                    268,
                    269,
                    270,
                    271,
                    272,
                    273,
                    274,
                    275,
                    276,
                    277,
                    278,
                    279,
                    280,
                    281,
                    282,
                    283,
                    284,
                    285,
                    286,
                    287,
                    288,
                    289,
                    290,
                    291,
                    292,
                    293,
                    294,
                    295,
                    296,
                    297,
                    298,
                    299
                  ],
                  "y": [
                    1.0638845483462016,
                    1.0293964942296345,
                    0.995590345064799,
                    0.9647990167140961,
                    0.9347837467988332,
                    0.9045769313971201,
                    0.8768941799799601,
                    0.8500923891862233,
                    0.8244963725407918,
                    0.8003022750218709,
                    0.7772722820440928,
                    0.7547375043233235,
                    0.7336975932121277,
                    0.7126964767773946,
                    0.6920480887095134,
                    0.6726057052612304,
                    0.6534231881300608,
                    0.6351913491884867,
                    0.6181463778018952,
                    0.6014204025268555,
                    0.5847271283467611,
                    0.5684037744998932,
                    0.5528924147288005,
                    0.5378210614124934,
                    0.5232425977786382,
                    0.5092158804337183,
                    0.4954535514116287,
                    0.482499427596728,
                    0.47057335277398427,
                    0.4581187436978022,
                    0.4461228648821513,
                    0.4342624952395757,
                    0.42301325798034667,
                    0.4117514431476593,
                    0.4017315040032069,
                    0.39168134033679963,
                    0.3818234185377757,
                    0.3723655889431636,
                    0.3633317639430364,
                    0.35428478618462883,
                    0.34565394719441733,
                    0.3369248121976852,
                    0.32841973106066386,
                    0.32054693897565206,
                    0.3125806222359339,
                    0.30493487616380055,
                    0.29774602353572843,
                    0.29072075585524243,
                    0.28413443466027577,
                    0.27738843907912575,
                    0.27067314783732094,
                    0.2649147892991702,
                    0.25876701126496,
                    0.25282082259655,
                    0.24682830621798832,
                    0.2412349338332812,
                    0.2358735680580139,
                    0.23090167790651323,
                    0.22597898940245312,
                    0.22081893036762873,
                    0.21603413919607797,
                    0.2109318474928538,
                    0.20643754253784816,
                    0.20244065821170806,
                    0.19791497389475504,
                    0.1935784618059794,
                    0.18903095324834188,
                    0.18498742232720058,
                    0.1809221794207891,
                    0.17733794301748276,
                    0.17345346560080846,
                    0.16931120331088703,
                    0.16577929382522902,
                    0.16287905300656955,
                    0.1602125217517217,
                    0.15705617815256118,
                    0.1541963333884875,
                    0.15101036752263705,
                    0.14748611350854238,
                    0.1445281612376372,
                    0.1417540674408277,
                    0.13911534622311592,
                    0.13679036845763523,
                    0.13419734636942546,
                    0.13187219897905986,
                    0.1295181634525458,
                    0.12700111617644627,
                    0.12449782391389211,
                    0.1219784272213777,
                    0.11990076874693235,
                    0.11782395690679551,
                    0.11589027047157288,
                    0.11403798907995225,
                    0.1117111158867677,
                    0.10968448147177697,
                    0.10819950004418691,
                    0.1061975322663784,
                    0.10424149185419082,
                    0.10261870001753172,
                    0.10146067440509796,
                    0.0999690222243468,
                    0.09829319715499878,
                    0.09683785028755665,
                    0.0951166662077109,
                    0.09387696372965972,
                    0.09216969485084216,
                    0.09087162055075168,
                    0.08933568236728509,
                    0.08765500709414482,
                    0.08639278734723727,
                    0.0858062864591678,
                    0.08442254103720188,
                    0.08408246884743373,
                    0.08343181038896243,
                    0.08271709481875102,
                    0.08204865778485934,
                    0.08125751254459222,
                    0.08028951945404211,
                    0.07972748838365078,
                    0.07907762254277866,
                    0.07841339260339737,
                    0.07776536345481873,
                    0.07707600096861521,
                    0.07667079567909241,
                    0.07632439273099105,
                    0.0758770052343607,
                    0.07535847686231137,
                    0.07478798516094684,
                    0.07415460708240668,
                    0.07387553490698337,
                    0.07360937098662058,
                    0.07304912271598975,
                    0.0727036307255427,
                    0.07241624755163988,
                    0.07195139862596989,
                    0.07162846711774667,
                    0.07126221805810928,
                    0.07089134169121583,
                    0.0710808053612709,
                    0.07073977241913477,
                    0.07022478058934212,
                    0.07023352409402529,
                    0.06989566075305144,
                    0.06955326050519943,
                    0.06930169115463893,
                    0.06935004542271296,
                    0.06896979498366515,
                    0.06854292278488477,
                    0.06811318807303905,
                    0.06789633271594843,
                    0.06798946770528952,
                    0.06798986879487832,
                    0.06754830305775007,
                    0.0672407810886701,
                    0.06679017034669717,
                    0.06644255009790262,
                    0.06621408785382907,
                    0.06583115644752979,
                    0.06586124238868554,
                    0.06543939759333929,
                    0.06550312116742134,
                    0.06530490405857563,
                    0.06497187962134679,
                    0.06477172635495662,
                    0.06467246512571971,
                    0.06468326846758525,
                    0.0643301467721661,
                    0.06408961558093627,
                    0.06409518104046583,
                    0.06386912042895952,
                    0.06344229982544979,
                    0.06303474654754003,
                    0.06285415577391783,
                    0.06268748082220554,
                    0.06274479888379574,
                    0.06280175006637971,
                    0.06255635370810826,
                    0.06223065704107285,
                    0.06203391967962186,
                    0.06168675739318132,
                    0.06147848169008891,
                    0.06145338074614604,
                    0.06113989315927029,
                    0.06100368133435647,
                    0.06106261859337489,
                    0.06071964204311371,
                    0.0607667541752259,
                    0.06073972911884387,
                    0.060764587794741,
                    0.06053704749792814,
                    0.06031133066862822,
                    0.06012431314835946,
                    0.05991326154520114,
                    0.0596453420817852,
                    0.05937665980309248,
                    0.05913294063260158,
                    0.05917025543749332,
                    0.05902768193433682,
                    0.0588323125615716,
                    0.05866932651648919,
                    0.05849735426406066,
                    0.05829793817053239,
                    0.05830916427075863,
                    0.05811232210447391,
                    0.0581373555585742,
                    0.05794500571986039,
                    0.05772279414037863,
                    0.05778279155492783,
                    0.05783621091395617,
                    0.05783962725351254,
                    0.05784186273813248,
                    0.05764336101710796,
                    0.05735084476570288,
                    0.05719153651346763,
                    0.05711887758225202,
                    0.05720456844816605,
                    0.05694008879363537,
                    0.0568494758879145,
                    0.05690425895154476,
                    0.05687799950440724,
                    0.05691430245836576,
                    0.05697437065343062,
                    0.05674653531362613,
                    0.05670766327530145,
                    0.05640925193826358,
                    0.05630633340527614,
                    0.0561315123612682,
                    0.05600506843378147,
                    0.05583308041095734,
                    0.05568967772026857,
                    0.05540164740135272,
                    0.05529301098237435,
                    0.05531311798840761,
                    0.05539154646297296,
                    0.05544220947970947,
                    0.05541964676231146,
                    0.05527779087424278,
                    0.05505939840028683,
                    0.0550363564863801,
                    0.0550630006318291,
                    0.05505831229190031,
                    0.05512793759504954,
                    0.05521242655813694,
                    0.05515684653073549,
                    0.05524447361628215,
                    0.05520599912852049,
                    0.05512870121747256,
                    0.05503570853422086,
                    0.05480022989213466,
                    0.05451635904610157,
                    0.05428445438543956,
                    0.05422456686695417,
                    0.05430588976790508,
                    0.05427152731766303,
                    0.05417999861141046,
                    0.05423965267837048,
                    0.05406784173101187,
                    0.05387126207351685,
                    0.0537205387527744,
                    0.05373376036683718,
                    0.0536924126247565,
                    0.05356753667195638,
                    0.05339696637044351,
                    0.05333749453226725,
                    0.05319716346760591,
                    0.05319745230178038,
                    0.05314312086751063,
                    0.05302738628039758,
                    0.05290900754431883,
                    0.0527716564014554,
                    0.0525886170566082,
                    0.05247909824053446,
                    0.05246732228746017,
                    0.05244302339851856,
                    0.05238071667651335,
                    0.05226509999483823,
                    0.05235597044229508,
                    0.05239369173844655,
                    0.05252654943615198,
                    0.05257852034022411,
                    0.05257238776733478,
                    0.05264144962032636,
                    0.05262524007509152,
                    0.05263360322763522,
                    0.0525387084732453,
                    0.05262534531454245,
                    0.05262744184583425,
                    0.05254926358660062,
                    0.05256901867687702,
                    0.05262137651443481,
                    0.05236170093218485,
                    0.05213740393519402,
                    0.05208667901655038,
                    0.05203003461162249,
                    0.05191827608893315,
                    0.05188949964940548,
                    0.05196310573567946,
                    0.05197711369643609,
                    0.05199991315603256,
                    0.05201006165395181
                  ]
                },
                {
                  "marker": {
                    "maxdisplayed": 10
                  },
                  "mode": "lines+markers",
                  "name": "Trial4",
                  "type": "scatter",
                  "x": [
                    0,
                    1,
                    2
                  ],
                  "y": [
                    1.0250357309977214,
                    0.98990877866745,
                    0.9273685872554779
                  ]
                },
                {
                  "marker": {
                    "maxdisplayed": 10
                  },
                  "mode": "lines+markers",
                  "name": "Trial5",
                  "type": "scatter",
                  "x": [
                    0,
                    1,
                    2
                  ],
                  "y": [
                    0.7710694829622905,
                    0.6557818830013276,
                    0.49936953783035276
                  ]
                },
                {
                  "marker": {
                    "maxdisplayed": 10
                  },
                  "mode": "lines+markers",
                  "name": "Trial6",
                  "type": "scatter",
                  "x": [
                    0,
                    1,
                    2
                  ],
                  "y": [
                    1.0131175955136618,
                    0.9725873708724976,
                    0.9286734501520792
                  ]
                },
                {
                  "marker": {
                    "maxdisplayed": 10
                  },
                  "mode": "lines+markers",
                  "name": "Trial7",
                  "type": "scatter",
                  "x": [
                    0,
                    1,
                    2
                  ],
                  "y": [
                    0.9301761706670125,
                    0.8512078146139781,
                    0.7406874279181163
                  ]
                },
                {
                  "marker": {
                    "maxdisplayed": 10
                  },
                  "mode": "lines+markers",
                  "name": "Trial8",
                  "type": "scatter",
                  "x": [
                    0,
                    1,
                    2
                  ],
                  "y": [
                    0.7993797878424327,
                    0.579488996664683,
                    0.4482979545990626
                  ]
                },
                {
                  "marker": {
                    "maxdisplayed": 10
                  },
                  "mode": "lines+markers",
                  "name": "Trial9",
                  "type": "scatter",
                  "x": [
                    0,
                    1,
                    2,
                    3,
                    4,
                    5,
                    6,
                    7,
                    8
                  ],
                  "y": [
                    1.0346241156260172,
                    1.0044799824555715,
                    0.9704607844352722,
                    0.9045010864734649,
                    0.8827038506666819,
                    0.8447887897491455,
                    0.7889139453570048,
                    0.7349674026171367,
                    0.7166326999664306
                  ]
                },
                {
                  "marker": {
                    "maxdisplayed": 10
                  },
                  "mode": "lines+markers",
                  "name": "Trial10",
                  "type": "scatter",
                  "x": [
                    0,
                    1,
                    2
                  ],
                  "y": [
                    0.8590321818987529,
                    0.678997254371643,
                    0.5492156227429708
                  ]
                },
                {
                  "marker": {
                    "maxdisplayed": 10
                  },
                  "mode": "lines+markers",
                  "name": "Trial11",
                  "type": "scatter",
                  "x": [
                    0,
                    1,
                    2
                  ],
                  "y": [
                    0.928261152903239,
                    0.8521627048651378,
                    0.7673768301804861
                  ]
                },
                {
                  "marker": {
                    "maxdisplayed": 10
                  },
                  "mode": "lines+markers",
                  "name": "Trial12",
                  "type": "scatter",
                  "x": [
                    0,
                    1,
                    2
                  ],
                  "y": [
                    0.8899440586566925,
                    0.8057559132575989,
                    0.6796627561251323
                  ]
                },
                {
                  "marker": {
                    "maxdisplayed": 10
                  },
                  "mode": "lines+markers",
                  "name": "Trial13",
                  "type": "scatter",
                  "x": [
                    0,
                    1,
                    2,
                    3,
                    4,
                    5,
                    6,
                    7,
                    8,
                    9,
                    10,
                    11,
                    12,
                    13,
                    14,
                    15,
                    16,
                    17,
                    18,
                    19,
                    20,
                    21,
                    22,
                    23,
                    24,
                    25,
                    26,
                    27,
                    28,
                    29,
                    30,
                    31,
                    32,
                    33,
                    34,
                    35,
                    36,
                    37,
                    38,
                    39,
                    40,
                    41,
                    42,
                    43,
                    44,
                    45,
                    46,
                    47,
                    48,
                    49,
                    50,
                    51,
                    52,
                    53,
                    54,
                    55,
                    56,
                    57,
                    58,
                    59,
                    60,
                    61,
                    62,
                    63,
                    64,
                    65,
                    66,
                    67,
                    68,
                    69,
                    70,
                    71,
                    72,
                    73,
                    74,
                    75,
                    76,
                    77,
                    78,
                    79,
                    80,
                    81,
                    82,
                    83,
                    84,
                    85,
                    86,
                    87,
                    88,
                    89,
                    90,
                    91,
                    92,
                    93,
                    94,
                    95,
                    96,
                    97,
                    98,
                    99,
                    100,
                    101,
                    102,
                    103,
                    104,
                    105,
                    106,
                    107,
                    108,
                    109,
                    110,
                    111,
                    112,
                    113,
                    114,
                    115,
                    116,
                    117,
                    118,
                    119,
                    120,
                    121,
                    122,
                    123,
                    124,
                    125,
                    126,
                    127,
                    128,
                    129,
                    130,
                    131,
                    132,
                    133,
                    134,
                    135,
                    136,
                    137,
                    138,
                    139,
                    140,
                    141,
                    142,
                    143,
                    144,
                    145,
                    146,
                    147,
                    148,
                    149,
                    150,
                    151,
                    152,
                    153,
                    154,
                    155,
                    156,
                    157,
                    158,
                    159,
                    160,
                    161,
                    162,
                    163,
                    164,
                    165,
                    166,
                    167,
                    168,
                    169,
                    170,
                    171,
                    172,
                    173,
                    174,
                    175,
                    176,
                    177,
                    178,
                    179,
                    180,
                    181,
                    182,
                    183,
                    184,
                    185,
                    186,
                    187,
                    188,
                    189,
                    190,
                    191,
                    192,
                    193,
                    194,
                    195,
                    196,
                    197,
                    198,
                    199,
                    200,
                    201,
                    202,
                    203,
                    204,
                    205,
                    206,
                    207,
                    208,
                    209,
                    210,
                    211,
                    212,
                    213,
                    214,
                    215,
                    216,
                    217,
                    218,
                    219,
                    220,
                    221,
                    222,
                    223,
                    224,
                    225,
                    226,
                    227,
                    228,
                    229,
                    230,
                    231,
                    232,
                    233,
                    234,
                    235,
                    236,
                    237,
                    238,
                    239,
                    240,
                    241,
                    242,
                    243,
                    244,
                    245,
                    246,
                    247,
                    248,
                    249,
                    250,
                    251,
                    252,
                    253,
                    254,
                    255,
                    256,
                    257,
                    258,
                    259,
                    260,
                    261,
                    262,
                    263,
                    264,
                    265,
                    266,
                    267,
                    268,
                    269,
                    270,
                    271,
                    272,
                    273,
                    274,
                    275,
                    276,
                    277,
                    278,
                    279,
                    280,
                    281,
                    282,
                    283,
                    284,
                    285,
                    286,
                    287,
                    288,
                    289,
                    290,
                    291,
                    292,
                    293,
                    294,
                    295,
                    296,
                    297,
                    298,
                    299
                  ],
                  "y": [
                    1.08153741757075,
                    1.0724274039268493,
                    1.0578843235969544,
                    1.0418282190958659,
                    1.0262531995773316,
                    1.0105272829532623,
                    0.9951035141944885,
                    0.9801100393136343,
                    0.9654526134332021,
                    0.9512981216112772,
                    0.9389007250467937,
                    0.9253541847070058,
                    0.9136204699675242,
                    0.9002392152945201,
                    0.8868263721466064,
                    0.8763080537319183,
                    0.8659316460291545,
                    0.853554884592692,
                    0.8436617890993754,
                    0.8334414800008138,
                    0.82397580742836,
                    0.8142308036486308,
                    0.8023904323577881,
                    0.7912510951360067,
                    0.7800479332605997,
                    0.7691796958446503,
                    0.759295254945755,
                    0.7487448036670685,
                    0.7386827886104583,
                    0.730213459332784,
                    0.7242130676905314,
                    0.7165761391321818,
                    0.7068700989087423,
                    0.6969903687636058,
                    0.6903119126955668,
                    0.6808821002642313,
                    0.6729306677977244,
                    0.6639974653720856,
                    0.6551398853460948,
                    0.6469374795754751,
                    0.6401227553685506,
                    0.6314233322938283,
                    0.6230332851409912,
                    0.6149547656377157,
                    0.6087108393510182,
                    0.6007615566253662,
                    0.5932219286759695,
                    0.5865006287892659,
                    0.5792905906836192,
                    0.5716612954934438,
                    0.5641425609588623,
                    0.5576673835515976,
                    0.5533303866783778,
                    0.5464231133460998,
                    0.5412311265865962,
                    0.5358441054821015,
                    0.5301756302515666,
                    0.524868001540502,
                    0.5199758797883988,
                    0.5134138335784276,
                    0.5072187672058741,
                    0.5020054996013641,
                    0.4958108484745026,
                    0.4896305004755656,
                    0.48357856969038643,
                    0.47783615787823996,
                    0.47173518538475034,
                    0.46742672522862755,
                    0.46327579220136006,
                    0.45861854751904807,
                    0.45380455354849497,
                    0.44794354736804964,
                    0.44461679259936016,
                    0.4394970953464508,
                    0.43422881364822385,
                    0.4288459479808807,
                    0.4258562644322713,
                    0.4209832429885864,
                    0.4166940679152807,
                    0.41152386367321014,
                    0.40702591339747113,
                    0.4022868325312932,
                    0.3977690517902374,
                    0.39289777874946596,
                    0.38832125266393025,
                    0.3854388932387034,
                    0.3805645416180293,
                    0.3773441582918167,
                    0.37336934010187783,
                    0.36896257201830546,
                    0.3648864438136419,
                    0.36117471059163414,
                    0.3574518988529841,
                    0.3531944493452708,
                    0.3491392364104589,
                    0.34589127004146575,
                    0.34164881805578867,
                    0.33772981564203897,
                    0.3339050143957138,
                    0.3299708922704061,
                    0.32692660490671793,
                    0.3233323201537132,
                    0.3197156329949697,
                    0.3171242982149124,
                    0.3145316774646441,
                    0.3114327306548754,
                    0.30809105734030406,
                    0.3046584005157153,
                    0.30117222517728803,
                    0.2985654979944229,
                    0.2949931393067042,
                    0.29181775202353794,
                    0.2894439727067947,
                    0.2868074640631676,
                    0.2837028384208679,
                    0.2805037592848142,
                    0.2783603996038437,
                    0.27550398955742517,
                    0.27261957079172133,
                    0.2705153728524844,
                    0.268349190056324,
                    0.265324907998244,
                    0.2628257895509402,
                    0.26081136663754784,
                    0.2587398926417033,
                    0.2566896756490072,
                    0.2546635866165161,
                    0.2525868738691012,
                    0.24978797336419423,
                    0.24732293387254078,
                    0.2448064386844635,
                    0.24281654407580694,
                    0.2403599167863528,
                    0.2389253462354342,
                    0.23690863053003947,
                    0.23521830886602402,
                    0.23283880750338237,
                    0.23049950351317725,
                    0.22862342695395152,
                    0.22690310776233674,
                    0.22481926381587983,
                    0.22252770761648813,
                    0.2205361028512319,
                    0.21831479171911874,
                    0.21618964026371637,
                    0.2141013910373052,
                    0.212018417318662,
                    0.20991114377975464,
                    0.20787450820207595,
                    0.20593604495127996,
                    0.20447158217430114,
                    0.20310466041167577,
                    0.20111451148986817,
                    0.19936618854602178,
                    0.1975062688191732,
                    0.19618074099222818,
                    0.19472743173440296,
                    0.19282738566398622,
                    0.1910704975326856,
                    0.18954904625813165,
                    0.18779029796520869,
                    0.18644953568776448,
                    0.18474469482898712,
                    0.18355086569984755,
                    0.18181111415227255,
                    0.18031567434469858,
                    0.1794156109293302,
                    0.17829687048991522,
                    0.1772785817583402,
                    0.17559856201211613,
                    0.1741766154766083,
                    0.17270524377624194,
                    0.17151980102062225,
                    0.170410718023777,
                    0.16945228179295857,
                    0.16863867516318956,
                    0.16781674176454545,
                    0.16700133631626765,
                    0.1658296376466751,
                    0.16474966903527577,
                    0.16345778852701187,
                    0.16236806586384772,
                    0.16135761936505635,
                    0.16052324548363686,
                    0.15984340409437817,
                    0.15964384426673253,
                    0.15899299283822377,
                    0.15834353069464366,
                    0.15778651262323062,
                    0.15718693137168885,
                    0.15659899140397707,
                    0.1559334173798561,
                    0.15486487125356993,
                    0.15444955825805665,
                    0.15380394980311393,
                    0.15302819907665252,
                    0.15225799505909285,
                    0.15180881321430206,
                    0.1512409781416257,
                    0.15078183139363924,
                    0.15015318567554156,
                    0.14954822932680448,
                    0.14840894614656766,
                    0.1478703590730826,
                    0.14736637646953266,
                    0.14689242814977962,
                    0.14602707251906394,
                    0.1451946494479974,
                    0.14499793673555056,
                    0.14457433819770812,
                    0.1440147042274475,
                    0.14396844680110613,
                    0.1433679257829984,
                    0.14294271171092987,
                    0.14247778529922167,
                    0.14203976367910703,
                    0.14160565212368964,
                    0.1412444512049357,
                    0.14083298643430073,
                    0.14072688271601994,
                    0.1401466692487399,
                    0.14015968119104702,
                    0.13966894000768662,
                    0.1394996407131354,
                    0.13897278383374215,
                    0.13838367983698846,
                    0.13800612737735113,
                    0.13764528135458629,
                    0.1372614880402883,
                    0.13709484388430912,
                    0.1367373563349247,
                    0.13627240930994353,
                    0.13595725546280543,
                    0.13548535654942195,
                    0.13505470057328542,
                    0.13474704672892887,
                    0.13431709731618563,
                    0.1339142456650734,
                    0.1334991154571374,
                    0.1330739788711071,
                    0.13263288587331773,
                    0.13263712922732035,
                    0.13221440563599268,
                    0.13187328825394312,
                    0.1314750072856744,
                    0.13118077541391054,
                    0.13089791387319566,
                    0.13055206313729287,
                    0.1302195020020008,
                    0.1297457459072272,
                    0.12935436988870302,
                    0.1292044684290886,
                    0.12889178569118181,
                    0.12894093717137972,
                    0.12864665215214094,
                    0.12835843712091446,
                    0.12795404642820357,
                    0.12764580498139064,
                    0.12728054399291674,
                    0.1269473674396674,
                    0.12670751437544822,
                    0.1263271542886893,
                    0.12604894364873567,
                    0.12569198831915857,
                    0.12535073682665826,
                    0.12532662923137347,
                    0.12526062577962876,
                    0.12491683314243952,
                    0.1248161680996418,
                    0.12445734490950902,
                    0.12407582625746727,
                    0.1238929291566213,
                    0.12361386070648829,
                    0.12329158460100492,
                    0.12296637296676635,
                    0.12263375446200371,
                    0.12239584798614184,
                    0.12212463691830636,
                    0.12213313157359759,
                    0.12177564203739166,
                    0.12138072724143664,
                    0.12111915697654088,
                    0.12108249788482985,
                    0.1208075058956941,
                    0.12071936801075936,
                    0.12036640519897143,
                    0.1203386274476846,
                    0.12005200410882631,
                    0.11971610287825267,
                    0.11946922466158867,
                    0.11940741067131361,
                    0.1194018691778183,
                    0.119402443865935,
                    0.11928363790114721,
                    0.1192519394059976,
                    0.11920157422622045,
                    0.11920837759971618,
                    0.1191965381304423,
                    0.11915018260478974,
                    0.11914610440532367
                  ]
                },
                {
                  "marker": {
                    "maxdisplayed": 10
                  },
                  "mode": "lines+markers",
                  "name": "Trial14",
                  "type": "scatter",
                  "x": [
                    0,
                    1,
                    2
                  ],
                  "y": [
                    0.9848286410172781,
                    0.9422821640968323,
                    0.8861164053281149
                  ]
                },
                {
                  "marker": {
                    "maxdisplayed": 10
                  },
                  "mode": "lines+markers",
                  "name": "Trial15",
                  "type": "scatter",
                  "x": [
                    0,
                    1,
                    2
                  ],
                  "y": [
                    0.8725983023643493,
                    0.7813103397687277,
                    0.6513661583264668
                  ]
                },
                {
                  "marker": {
                    "maxdisplayed": 10
                  },
                  "mode": "lines+markers",
                  "name": "Trial16",
                  "type": "scatter",
                  "x": [
                    0,
                    1,
                    2
                  ],
                  "y": [
                    0.8103721638520559,
                    0.7085673034191131,
                    0.5667939384778341
                  ]
                },
                {
                  "marker": {
                    "maxdisplayed": 10
                  },
                  "mode": "lines+markers",
                  "name": "Trial17",
                  "type": "scatter",
                  "x": [
                    0,
                    1,
                    2
                  ],
                  "y": [
                    0.9907819112141927,
                    0.9367358982563019,
                    0.8857336660226186
                  ]
                },
                {
                  "marker": {
                    "maxdisplayed": 10
                  },
                  "mode": "lines+markers",
                  "name": "Trial18",
                  "type": "scatter",
                  "x": [
                    0,
                    1,
                    2
                  ],
                  "y": [
                    1.034487744172414,
                    0.9733465770880382,
                    0.9160854796568553
                  ]
                },
                {
                  "marker": {
                    "maxdisplayed": 10
                  },
                  "mode": "lines+markers",
                  "name": "Trial19",
                  "type": "scatter",
                  "x": [
                    0,
                    1,
                    2
                  ],
                  "y": [
                    0.953875478108724,
                    0.8809596002101898,
                    0.7753259519735972
                  ]
                },
                {
                  "marker": {
                    "maxdisplayed": 10
                  },
                  "mode": "lines+markers",
                  "name": "Trial20",
                  "type": "scatter",
                  "x": [
                    0,
                    1,
                    2
                  ],
                  "y": [
                    0.9050423264503479,
                    0.812906285127004,
                    0.6914405028025309
                  ]
                },
                {
                  "marker": {
                    "maxdisplayed": 10
                  },
                  "mode": "lines+markers",
                  "name": "Trial21",
                  "type": "scatter",
                  "x": [
                    0,
                    1,
                    2
                  ],
                  "y": [
                    0.986587009827296,
                    0.9313807487487793,
                    0.8473369220892588
                  ]
                },
                {
                  "marker": {
                    "maxdisplayed": 10
                  },
                  "mode": "lines+markers",
                  "name": "Trial22",
                  "type": "scatter",
                  "x": [
                    0,
                    1,
                    2
                  ],
                  "y": [
                    1.020081102848053,
                    0.9799957176049551,
                    0.9185237387816111
                  ]
                },
                {
                  "marker": {
                    "maxdisplayed": 10
                  },
                  "mode": "lines+markers",
                  "name": "Trial23",
                  "type": "scatter",
                  "x": [
                    0,
                    1,
                    2
                  ],
                  "y": [
                    0.9757993678251903,
                    0.9190819581349691,
                    0.8302465319633484
                  ]
                },
                {
                  "marker": {
                    "maxdisplayed": 10
                  },
                  "mode": "lines+markers",
                  "name": "Trial24",
                  "type": "scatter",
                  "x": [
                    0,
                    1,
                    2,
                    3,
                    4,
                    5,
                    6,
                    7,
                    8
                  ],
                  "y": [
                    1.0414641499519348,
                    1.0102176149686177,
                    0.9609489659468333,
                    0.9114166975021363,
                    0.8670055488745372,
                    0.8250967542330424,
                    0.7867743611335755,
                    0.7503711918989817,
                    0.716190121571223
                  ]
                },
                {
                  "marker": {
                    "maxdisplayed": 10
                  },
                  "mode": "lines+markers",
                  "name": "Trial25",
                  "type": "scatter",
                  "x": [
                    0,
                    1,
                    2
                  ],
                  "y": [
                    0.9721533457438151,
                    0.9188736736774444,
                    0.8617404043674469
                  ]
                },
                {
                  "marker": {
                    "maxdisplayed": 10
                  },
                  "mode": "lines+markers",
                  "name": "Trial26",
                  "type": "scatter",
                  "x": [
                    0,
                    1,
                    2
                  ],
                  "y": [
                    1.0071197827657064,
                    0.9604194223880768,
                    0.9147059917449951
                  ]
                },
                {
                  "marker": {
                    "maxdisplayed": 10
                  },
                  "mode": "lines+markers",
                  "name": "Trial27",
                  "type": "scatter",
                  "x": [
                    0,
                    1,
                    2
                  ],
                  "y": [
                    0.9985213577747345,
                    0.9080098152160645,
                    0.8267254531383514
                  ]
                },
                {
                  "marker": {
                    "maxdisplayed": 10
                  },
                  "mode": "lines+markers",
                  "name": "Trial28",
                  "type": "scatter",
                  "x": [
                    0,
                    1,
                    2
                  ],
                  "y": [
                    0.9009119053681691,
                    0.8163450241088868,
                    0.6955100516478221
                  ]
                },
                {
                  "marker": {
                    "maxdisplayed": 10
                  },
                  "mode": "lines+markers",
                  "name": "Trial29",
                  "type": "scatter",
                  "x": [
                    0,
                    1,
                    2,
                    3,
                    4,
                    5,
                    6,
                    7,
                    8
                  ],
                  "y": [
                    1.0672424554824829,
                    1.0532231291135152,
                    1.0360405544439952,
                    1.002871976296107,
                    0.9913196523984273,
                    0.973471611738205,
                    0.9425961792469024,
                    0.9105066279570262,
                    0.89904279311498
                  ]
                },
                {
                  "marker": {
                    "maxdisplayed": 10
                  },
                  "mode": "lines+markers",
                  "name": "Trial30",
                  "type": "scatter",
                  "x": [
                    0,
                    1,
                    2
                  ],
                  "y": [
                    1.0082133054733275,
                    0.9249490757783254,
                    0.8513378500938416
                  ]
                },
                {
                  "marker": {
                    "maxdisplayed": 10
                  },
                  "mode": "lines+markers",
                  "name": "Trial31",
                  "type": "scatter",
                  "x": [
                    0,
                    1,
                    2,
                    3,
                    4,
                    5,
                    6,
                    7,
                    8,
                    9,
                    10,
                    11,
                    12,
                    13,
                    14,
                    15,
                    16,
                    17,
                    18,
                    19,
                    20,
                    21,
                    22,
                    23,
                    24,
                    25,
                    26,
                    27,
                    28,
                    29,
                    30,
                    31,
                    32
                  ],
                  "y": [
                    1.0819161852200827,
                    1.0655599554379782,
                    1.0490060925483704,
                    1.0329971750577291,
                    1.0174658656120301,
                    1.00196057955424,
                    0.9871605594952901,
                    0.9725283781687418,
                    0.957922903696696,
                    0.9438931206862132,
                    0.9300585230191548,
                    0.9165987094243367,
                    0.9038311878840128,
                    0.8904482662677765,
                    0.8775374174118042,
                    0.8649860839049022,
                    0.8528168241182963,
                    0.8409350673357646,
                    0.8296672304471334,
                    0.8179318646589915,
                    0.8064924637476604,
                    0.7964771568775177,
                    0.7853201409180959,
                    0.7740235904852549,
                    0.7632676204045613,
                    0.7529663185278574,
                    0.7425818979740143,
                    0.7325387756029765,
                    0.7228323539098104,
                    0.7131958345572154,
                    0.7037451128164928,
                    0.6940968692302704,
                    0.6850135246912639
                  ]
                },
                {
                  "marker": {
                    "maxdisplayed": 10
                  },
                  "mode": "lines+markers",
                  "name": "Trial32",
                  "type": "scatter",
                  "x": [
                    0,
                    1,
                    2,
                    3,
                    4,
                    5,
                    6,
                    7,
                    8
                  ],
                  "y": [
                    1.0524624705314636,
                    1.0285120447476706,
                    0.9904304345448812,
                    0.9498019516468048,
                    0.912385509411494,
                    0.8752567609151204,
                    0.841127892335256,
                    0.8090114017327626,
                    0.778571343421936
                  ]
                },
                {
                  "marker": {
                    "maxdisplayed": 10
                  },
                  "mode": "lines+markers",
                  "name": "Trial33",
                  "type": "scatter",
                  "x": [
                    0,
                    1,
                    2
                  ],
                  "y": [
                    1.0209351499875388,
                    0.9479938129583995,
                    0.8821292539437612
                  ]
                },
                {
                  "marker": {
                    "maxdisplayed": 10
                  },
                  "mode": "lines+markers",
                  "name": "Trial34",
                  "type": "scatter",
                  "x": [
                    0,
                    1,
                    2,
                    3,
                    4,
                    5,
                    6,
                    7,
                    8
                  ],
                  "y": [
                    1.059137241045634,
                    1.0385331193606058,
                    1.0025242547194162,
                    0.9661021987597148,
                    0.9324555218219757,
                    0.8990429103374481,
                    0.868706210454305,
                    0.8388400614261627,
                    0.8104122440020244
                  ]
                },
                {
                  "marker": {
                    "maxdisplayed": 10
                  },
                  "mode": "lines+markers",
                  "name": "Trial35",
                  "type": "scatter",
                  "x": [
                    0,
                    1,
                    2
                  ],
                  "y": [
                    0.9735692143440247,
                    0.9141032119592031,
                    0.8233214159806569
                  ]
                },
                {
                  "marker": {
                    "maxdisplayed": 10
                  },
                  "mode": "lines+markers",
                  "name": "Trial36",
                  "type": "scatter",
                  "x": [
                    0,
                    1,
                    2,
                    3,
                    4,
                    5,
                    6,
                    7,
                    8
                  ],
                  "y": [
                    1.0323995073636374,
                    1.0013516962528228,
                    0.9467304309209188,
                    0.8904729147752126,
                    0.8408583958943685,
                    0.7945805827776591,
                    0.7529008368651072,
                    0.7128392835458119,
                    0.6750624001026153
                  ]
                },
                {
                  "marker": {
                    "maxdisplayed": 10
                  },
                  "mode": "lines+markers",
                  "name": "Trial37",
                  "type": "scatter",
                  "x": [
                    0,
                    1,
                    2
                  ],
                  "y": [
                    1.009867525100708,
                    0.9215964476267496,
                    0.8473313530286153
                  ]
                },
                {
                  "marker": {
                    "maxdisplayed": 10
                  },
                  "mode": "lines+markers",
                  "name": "Trial38",
                  "type": "scatter",
                  "x": [
                    0,
                    1,
                    2
                  ],
                  "y": [
                    0.9302562097708384,
                    0.7928039948145549,
                    0.6806339979171753
                  ]
                },
                {
                  "marker": {
                    "maxdisplayed": 10
                  },
                  "mode": "lines+markers",
                  "name": "Trial39",
                  "type": "scatter",
                  "x": [
                    0,
                    1,
                    2
                  ],
                  "y": [
                    0.9888063490390777,
                    0.9475203633308411,
                    0.8923046231269837
                  ]
                },
                {
                  "marker": {
                    "maxdisplayed": 10
                  },
                  "mode": "lines+markers",
                  "name": "Trial40",
                  "type": "scatter",
                  "x": [
                    0,
                    1,
                    2
                  ],
                  "y": [
                    0.7504429380098979,
                    0.6294476509094238,
                    0.47121618688106537
                  ]
                },
                {
                  "marker": {
                    "maxdisplayed": 10
                  },
                  "mode": "lines+markers",
                  "name": "Trial41",
                  "type": "scatter",
                  "x": [
                    0,
                    1,
                    2,
                    3,
                    4,
                    5,
                    6,
                    7,
                    8,
                    9,
                    10,
                    11,
                    12,
                    13,
                    14,
                    15,
                    16,
                    17,
                    18,
                    19,
                    20,
                    21,
                    22,
                    23,
                    24,
                    25,
                    26,
                    27,
                    28,
                    29,
                    30,
                    31,
                    32,
                    33,
                    34,
                    35,
                    36,
                    37,
                    38,
                    39,
                    40,
                    41,
                    42,
                    43,
                    44,
                    45,
                    46,
                    47,
                    48,
                    49,
                    50,
                    51,
                    52,
                    53,
                    54,
                    55,
                    56,
                    57,
                    58,
                    59,
                    60,
                    61,
                    62,
                    63,
                    64,
                    65,
                    66,
                    67,
                    68,
                    69,
                    70,
                    71,
                    72,
                    73,
                    74,
                    75,
                    76,
                    77,
                    78,
                    79,
                    80,
                    81,
                    82,
                    83,
                    84,
                    85,
                    86,
                    87,
                    88,
                    89,
                    90,
                    91,
                    92,
                    93,
                    94,
                    95,
                    96,
                    97,
                    98,
                    99,
                    100,
                    101,
                    102,
                    103,
                    104,
                    105,
                    106,
                    107,
                    108,
                    109,
                    110,
                    111,
                    112,
                    113,
                    114,
                    115,
                    116,
                    117,
                    118,
                    119,
                    120,
                    121,
                    122,
                    123,
                    124,
                    125,
                    126,
                    127,
                    128,
                    129,
                    130,
                    131,
                    132,
                    133,
                    134,
                    135,
                    136,
                    137,
                    138,
                    139,
                    140,
                    141,
                    142,
                    143,
                    144,
                    145,
                    146,
                    147,
                    148,
                    149,
                    150,
                    151,
                    152,
                    153,
                    154,
                    155,
                    156,
                    157,
                    158,
                    159,
                    160,
                    161,
                    162,
                    163,
                    164,
                    165,
                    166,
                    167,
                    168,
                    169,
                    170,
                    171,
                    172,
                    173,
                    174,
                    175,
                    176,
                    177,
                    178,
                    179,
                    180,
                    181,
                    182,
                    183,
                    184,
                    185,
                    186,
                    187,
                    188,
                    189,
                    190,
                    191,
                    192,
                    193,
                    194,
                    195,
                    196,
                    197,
                    198,
                    199,
                    200,
                    201,
                    202,
                    203,
                    204,
                    205,
                    206,
                    207,
                    208,
                    209,
                    210,
                    211,
                    212,
                    213,
                    214,
                    215,
                    216,
                    217,
                    218,
                    219,
                    220,
                    221,
                    222,
                    223,
                    224,
                    225,
                    226,
                    227,
                    228,
                    229,
                    230,
                    231,
                    232,
                    233,
                    234,
                    235,
                    236,
                    237,
                    238,
                    239,
                    240,
                    241,
                    242,
                    243,
                    244,
                    245,
                    246,
                    247,
                    248,
                    249,
                    250,
                    251,
                    252,
                    253,
                    254,
                    255,
                    256,
                    257,
                    258,
                    259,
                    260,
                    261,
                    262,
                    263,
                    264,
                    265,
                    266,
                    267,
                    268,
                    269,
                    270,
                    271,
                    272,
                    273,
                    274,
                    275,
                    276,
                    277,
                    278,
                    279,
                    280,
                    281,
                    282,
                    283,
                    284,
                    285,
                    286,
                    287,
                    288,
                    289,
                    290,
                    291,
                    292,
                    293,
                    294,
                    295,
                    296,
                    297,
                    298,
                    299
                  ],
                  "y": [
                    1.0845039367675782,
                    1.0769419153531392,
                    1.06489208539327,
                    1.0515060067176818,
                    1.0384710709253946,
                    1.0252639770507812,
                    1.0122581501801808,
                    0.999568380912145,
                    0.9870409945646922,
                    0.9749934633572896,
                    0.9644100924332937,
                    0.9527953207492829,
                    0.9426974753538767,
                    0.931168774763743,
                    0.9195708692073822,
                    0.9104538599650065,
                    0.9014628847440084,
                    0.8906521658102672,
                    0.8820022284984589,
                    0.87305472890536,
                    0.864683731396993,
                    0.8561104198296865,
                    0.8456732352574666,
                    0.8357735733191173,
                    0.8258261561393738,
                    0.8161691228548685,
                    0.8073786695798238,
                    0.797948710123698,
                    0.7887943764527638,
                    0.7811544477939606,
                    0.7758051792780558,
                    0.768906154235204,
                    0.7601396342118582,
                    0.7513528923193614,
                    0.7452004631360372,
                    0.7366309066613516,
                    0.7294242640336355,
                    0.7212973475456238,
                    0.7131660123666127,
                    0.7055626710255941,
                    0.6992459277311961,
                    0.69136287967364,
                    0.6836003482341766,
                    0.6761145830154419,
                    0.6702828745047251,
                    0.6628888547420502,
                    0.6558589319388072,
                    0.6496012290318807,
                    0.6428313453992208,
                    0.635697333017985,
                    0.6286234696706136,
                    0.6225280543168386,
                    0.6181901812553405,
                    0.6116349200407664,
                    0.6067221105098725,
                    0.6014152765274048,
                    0.5959756235281627,
                    0.5908647060394288,
                    0.5862981498241424,
                    0.5800110677878062,
                    0.5739893217881521,
                    0.5689536750316619,
                    0.5629729261000951,
                    0.5570860008398691,
                    0.5512286861737569,
                    0.5456669608751933,
                    0.5398828645547231,
                    0.5357360670963923,
                    0.5315784960985184,
                    0.5270500302314758,
                    0.5221644550561905,
                    0.5164574275414149,
                    0.5131873577833176,
                    0.5081448088089625,
                    0.5029581596453985,
                    0.49768463472525276,
                    0.49471376339594525,
                    0.48986770113309225,
                    0.48560544351736706,
                    0.4804230143626531,
                    0.4759458323319753,
                    0.47121732532978056,
                    0.46669477423032124,
                    0.4620114008585612,
                    0.45725986262162527,
                    0.454262571533521,
                    0.4494039326906204,
                    0.4461424817641576,
                    0.4421169588963191,
                    0.43760136465231575,
                    0.43343116839726764,
                    0.42965523501237235,
                    0.4258210817972819,
                    0.4216037491957347,
                    0.41747881670792897,
                    0.41390014787515006,
                    0.4096468597650528,
                    0.40563148260116577,
                    0.401687150200208,
                    0.39765535096327465,
                    0.3945248524347941,
                    0.3906211157639821,
                    0.3868636796871821,
                    0.38417621453603107,
                    0.3814290910959244,
                    0.37795118788878124,
                    0.37450925807158153,
                    0.37095050315062206,
                    0.36735443969567616,
                    0.36483416259288787,
                    0.36112453738848366,
                    0.35754760503768923,
                    0.3550241500139236,
                    0.35219930708408353,
                    0.34876212080319724,
                    0.34525047640005746,
                    0.34282297392686206,
                    0.339806725581487,
                    0.33664996922016144,
                    0.33428093989690144,
                    0.33181915680567425,
                    0.32860670884450277,
                    0.32542829513549804,
                    0.32309018274148305,
                    0.32094946056604384,
                    0.3186226690808932,
                    0.31652496953805287,
                    0.3141854623953501,
                    0.3110845262805621,
                    0.30816991329193116,
                    0.3055028170347214,
                    0.3032471463084221,
                    0.30048560053110124,
                    0.2989593024055163,
                    0.2963602731625239,
                    0.29437158107757566,
                    0.29180994133154553,
                    0.2891982704401016,
                    0.28707283933957417,
                    0.285132505496343,
                    0.2828306565682093,
                    0.28018931945165,
                    0.27773720969756444,
                    0.2752177769939105,
                    0.2727804015080134,
                    0.2703738351662954,
                    0.26806594828764596,
                    0.265652430554231,
                    0.263333406051,
                    0.2611425523956617,
                    0.25940449883540473,
                    0.25720064441363016,
                    0.254895792901516,
                    0.25262691179911295,
                    0.2504512111345927,
                    0.24852872143189111,
                    0.24652341157197952,
                    0.24433575222889584,
                    0.24224190066258114,
                    0.24060386866331102,
                    0.23844713469346365,
                    0.23685721258322398,
                    0.23485063910484313,
                    0.23340669522682825,
                    0.2313520848751068,
                    0.22935325354337693,
                    0.22793416827917098,
                    0.22650060007969539,
                    0.22499412149190903,
                    0.22301596105098725,
                    0.221155022084713,
                    0.21952586521704992,
                    0.21821725368499756,
                    0.2166750103235245,
                    0.2152489831050237,
                    0.21380451222260793,
                    0.212922931710879,
                    0.21192168444395065,
                    0.21030354450146357,
                    0.20869629283746083,
                    0.2070210854212443,
                    0.20546477635701496,
                    0.2042606219649315,
                    0.20311556061108907,
                    0.20196708937486013,
                    0.20086876501639683,
                    0.20011644711097082,
                    0.1992976610859235,
                    0.19807804028193157,
                    0.19680788467327753,
                    0.19537103374799092,
                    0.1941497067610423,
                    0.19256519973278047,
                    0.19196674873431524,
                    0.1910613755385081,
                    0.18991533865531285,
                    0.188564562300841,
                    0.18721342037121455,
                    0.18587562690178552,
                    0.18491567770640055,
                    0.18370542551080385,
                    0.1825370947519938,
                    0.18111116712292036,
                    0.17984062309066454,
                    0.17869700913627942,
                    0.17756780783335369,
                    0.1764449159304301,
                    0.17528411969542504,
                    0.17439708585540453,
                    0.17345575044552486,
                    0.172430419921875,
                    0.1715514789024989,
                    0.17042045965790747,
                    0.16930448735753695,
                    0.16832214171687762,
                    0.16741993948817252,
                    0.16644433935483297,
                    0.1652493434647719,
                    0.16426345085104307,
                    0.16360791598757107,
                    0.16252895221114158,
                    0.16216007471084595,
                    0.16109928488731384,
                    0.16090085804462434,
                    0.1600642442703247,
                    0.15941818753878276,
                    0.15852940703431764,
                    0.15761271690328915,
                    0.1571141627927621,
                    0.1565684181948503,
                    0.15550498068332672,
                    0.15474057520429293,
                    0.15423475553592045,
                    0.15354070017735164,
                    0.15260410557190576,
                    0.15192777365446092,
                    0.15121493190526963,
                    0.15041451454162597,
                    0.14991238166888554,
                    0.14925408040483792,
                    0.1487008715669314,
                    0.14857111622889838,
                    0.14812614992260933,
                    0.14734310259421665,
                    0.14691588506102563,
                    0.1461629793047905,
                    0.14571300248305002,
                    0.14535720100005467,
                    0.14498978878060978,
                    0.14448906977971396,
                    0.1436145233611266,
                    0.14347289279103279,
                    0.1430562396844228,
                    0.14310215140382448,
                    0.14233826796213786,
                    0.14196966538826625,
                    0.14157006964087487,
                    0.14116830751299858,
                    0.14069182475407918,
                    0.14026222104827563,
                    0.13996719643473626,
                    0.13960782041152317,
                    0.13924942637483279,
                    0.13887903988361358,
                    0.13858662645022074,
                    0.1381342815856139,
                    0.13779916589458782,
                    0.13750909169514974,
                    0.13710835725069045,
                    0.13676170880595842,
                    0.1363759366174539,
                    0.13596714809536933,
                    0.13567421461145082,
                    0.13536981816093127,
                    0.13507968311508498,
                    0.13476111988226572,
                    0.13444127316276233,
                    0.13412709857026736,
                    0.13412855143348376,
                    0.13379380330443383,
                    0.1334312379360199,
                    0.13317022224267325,
                    0.1331816742817561,
                    0.132818740606308,
                    0.13251828427116077,
                    0.13218600501616795,
                    0.1319325124224027,
                    0.1316550667087237,
                    0.13131624857584637,
                    0.1310058539112409,
                    0.13066209157307943,
                    0.1302631191909313,
                    0.13008783161640167,
                    0.12979693114757537,
                    0.12953495358427367,
                    0.1288891188800335,
                    0.12889630049467088,
                    0.1285939800242583,
                    0.128341007232666,
                    0.12800459812084833
                  ]
                },
                {
                  "marker": {
                    "maxdisplayed": 10
                  },
                  "mode": "lines+markers",
                  "name": "Trial42",
                  "type": "scatter",
                  "x": [
                    0,
                    1,
                    2,
                    3,
                    4,
                    5,
                    6,
                    7,
                    8
                  ],
                  "y": [
                    1.07543789545695,
                    1.0632206122080485,
                    1.0501832485198974,
                    1.0243792355060577,
                    1.0135764102141063,
                    0.9972592135270436,
                    0.9729242285092672,
                    0.9468975404898325,
                    0.9365405956904094
                  ]
                },
                {
                  "marker": {
                    "maxdisplayed": 10
                  },
                  "mode": "lines+markers",
                  "name": "Trial43",
                  "type": "scatter",
                  "x": [
                    0,
                    1,
                    2
                  ],
                  "y": [
                    1.0177483439445496,
                    0.9835461815198262,
                    0.9203518728415171
                  ]
                },
                {
                  "marker": {
                    "maxdisplayed": 10
                  },
                  "mode": "lines+markers",
                  "name": "Trial44",
                  "type": "scatter",
                  "x": [
                    0,
                    1,
                    2,
                    3,
                    4,
                    5,
                    6,
                    7,
                    8
                  ],
                  "y": [
                    1.0366698980331421,
                    1.0092350939909618,
                    0.9604902843634288,
                    0.909266197681427,
                    0.862820049126943,
                    0.8188285450140635,
                    0.776822829246521,
                    0.7380360305309296,
                    0.7012535830338796
                  ]
                },
                {
                  "marker": {
                    "maxdisplayed": 10
                  },
                  "mode": "lines+markers",
                  "name": "Trial45",
                  "type": "scatter",
                  "x": [
                    0,
                    1,
                    2,
                    3,
                    4,
                    5,
                    6,
                    7,
                    8
                  ],
                  "y": [
                    1.0725262800852458,
                    1.0607672373453776,
                    1.0462857365608216,
                    1.0181960662206013,
                    1.0065955559412638,
                    0.9896616319815318,
                    0.9631757537523905,
                    0.9346413930257161,
                    0.9237860818703969
                  ]
                },
                {
                  "marker": {
                    "maxdisplayed": 10
                  },
                  "mode": "lines+markers",
                  "name": "Trial46",
                  "type": "scatter",
                  "x": [
                    0,
                    1,
                    2
                  ],
                  "y": [
                    0.9848202228546142,
                    0.9373228450616201,
                    0.8550445377826691
                  ]
                },
                {
                  "marker": {
                    "maxdisplayed": 10
                  },
                  "mode": "lines+markers",
                  "name": "Trial47",
                  "type": "scatter",
                  "x": [
                    0,
                    1,
                    2
                  ],
                  "y": [
                    0.8464583039283753,
                    0.7472682495911916,
                    0.6069750805695852
                  ]
                },
                {
                  "marker": {
                    "maxdisplayed": 10
                  },
                  "mode": "lines+markers",
                  "name": "Trial48",
                  "type": "scatter",
                  "x": [
                    0,
                    1,
                    2
                  ],
                  "y": [
                    1.0396424969037374,
                    1.0075612604618072,
                    0.958401225010554
                  ]
                },
                {
                  "marker": {
                    "maxdisplayed": 10
                  },
                  "mode": "lines+markers",
                  "name": "Trial49",
                  "type": "scatter",
                  "x": [
                    0,
                    1,
                    2
                  ],
                  "y": [
                    0.9362803896268209,
                    0.8617491881052654,
                    0.7531150221824646
                  ]
                }
              ],
              "layout": {
                "showlegend": false,
                "template": {
                  "data": {
                    "bar": [
                      {
                        "error_x": {
                          "color": "#2a3f5f"
                        },
                        "error_y": {
                          "color": "#2a3f5f"
                        },
                        "marker": {
                          "line": {
                            "color": "#E5ECF6",
                            "width": 0.5
                          },
                          "pattern": {
                            "fillmode": "overlay",
                            "size": 10,
                            "solidity": 0.2
                          }
                        },
                        "type": "bar"
                      }
                    ],
                    "barpolar": [
                      {
                        "marker": {
                          "line": {
                            "color": "#E5ECF6",
                            "width": 0.5
                          },
                          "pattern": {
                            "fillmode": "overlay",
                            "size": 10,
                            "solidity": 0.2
                          }
                        },
                        "type": "barpolar"
                      }
                    ],
                    "carpet": [
                      {
                        "aaxis": {
                          "endlinecolor": "#2a3f5f",
                          "gridcolor": "white",
                          "linecolor": "white",
                          "minorgridcolor": "white",
                          "startlinecolor": "#2a3f5f"
                        },
                        "baxis": {
                          "endlinecolor": "#2a3f5f",
                          "gridcolor": "white",
                          "linecolor": "white",
                          "minorgridcolor": "white",
                          "startlinecolor": "#2a3f5f"
                        },
                        "type": "carpet"
                      }
                    ],
                    "choropleth": [
                      {
                        "colorbar": {
                          "outlinewidth": 0,
                          "ticks": ""
                        },
                        "type": "choropleth"
                      }
                    ],
                    "contour": [
                      {
                        "colorbar": {
                          "outlinewidth": 0,
                          "ticks": ""
                        },
                        "colorscale": [
                          [
                            0,
                            "#0d0887"
                          ],
                          [
                            0.1111111111111111,
                            "#46039f"
                          ],
                          [
                            0.2222222222222222,
                            "#7201a8"
                          ],
                          [
                            0.3333333333333333,
                            "#9c179e"
                          ],
                          [
                            0.4444444444444444,
                            "#bd3786"
                          ],
                          [
                            0.5555555555555556,
                            "#d8576b"
                          ],
                          [
                            0.6666666666666666,
                            "#ed7953"
                          ],
                          [
                            0.7777777777777778,
                            "#fb9f3a"
                          ],
                          [
                            0.8888888888888888,
                            "#fdca26"
                          ],
                          [
                            1,
                            "#f0f921"
                          ]
                        ],
                        "type": "contour"
                      }
                    ],
                    "contourcarpet": [
                      {
                        "colorbar": {
                          "outlinewidth": 0,
                          "ticks": ""
                        },
                        "type": "contourcarpet"
                      }
                    ],
                    "heatmap": [
                      {
                        "colorbar": {
                          "outlinewidth": 0,
                          "ticks": ""
                        },
                        "colorscale": [
                          [
                            0,
                            "#0d0887"
                          ],
                          [
                            0.1111111111111111,
                            "#46039f"
                          ],
                          [
                            0.2222222222222222,
                            "#7201a8"
                          ],
                          [
                            0.3333333333333333,
                            "#9c179e"
                          ],
                          [
                            0.4444444444444444,
                            "#bd3786"
                          ],
                          [
                            0.5555555555555556,
                            "#d8576b"
                          ],
                          [
                            0.6666666666666666,
                            "#ed7953"
                          ],
                          [
                            0.7777777777777778,
                            "#fb9f3a"
                          ],
                          [
                            0.8888888888888888,
                            "#fdca26"
                          ],
                          [
                            1,
                            "#f0f921"
                          ]
                        ],
                        "type": "heatmap"
                      }
                    ],
                    "histogram": [
                      {
                        "marker": {
                          "pattern": {
                            "fillmode": "overlay",
                            "size": 10,
                            "solidity": 0.2
                          }
                        },
                        "type": "histogram"
                      }
                    ],
                    "histogram2d": [
                      {
                        "colorbar": {
                          "outlinewidth": 0,
                          "ticks": ""
                        },
                        "colorscale": [
                          [
                            0,
                            "#0d0887"
                          ],
                          [
                            0.1111111111111111,
                            "#46039f"
                          ],
                          [
                            0.2222222222222222,
                            "#7201a8"
                          ],
                          [
                            0.3333333333333333,
                            "#9c179e"
                          ],
                          [
                            0.4444444444444444,
                            "#bd3786"
                          ],
                          [
                            0.5555555555555556,
                            "#d8576b"
                          ],
                          [
                            0.6666666666666666,
                            "#ed7953"
                          ],
                          [
                            0.7777777777777778,
                            "#fb9f3a"
                          ],
                          [
                            0.8888888888888888,
                            "#fdca26"
                          ],
                          [
                            1,
                            "#f0f921"
                          ]
                        ],
                        "type": "histogram2d"
                      }
                    ],
                    "histogram2dcontour": [
                      {
                        "colorbar": {
                          "outlinewidth": 0,
                          "ticks": ""
                        },
                        "colorscale": [
                          [
                            0,
                            "#0d0887"
                          ],
                          [
                            0.1111111111111111,
                            "#46039f"
                          ],
                          [
                            0.2222222222222222,
                            "#7201a8"
                          ],
                          [
                            0.3333333333333333,
                            "#9c179e"
                          ],
                          [
                            0.4444444444444444,
                            "#bd3786"
                          ],
                          [
                            0.5555555555555556,
                            "#d8576b"
                          ],
                          [
                            0.6666666666666666,
                            "#ed7953"
                          ],
                          [
                            0.7777777777777778,
                            "#fb9f3a"
                          ],
                          [
                            0.8888888888888888,
                            "#fdca26"
                          ],
                          [
                            1,
                            "#f0f921"
                          ]
                        ],
                        "type": "histogram2dcontour"
                      }
                    ],
                    "mesh3d": [
                      {
                        "colorbar": {
                          "outlinewidth": 0,
                          "ticks": ""
                        },
                        "type": "mesh3d"
                      }
                    ],
                    "parcoords": [
                      {
                        "line": {
                          "colorbar": {
                            "outlinewidth": 0,
                            "ticks": ""
                          }
                        },
                        "type": "parcoords"
                      }
                    ],
                    "pie": [
                      {
                        "automargin": true,
                        "type": "pie"
                      }
                    ],
                    "scatter": [
                      {
                        "fillpattern": {
                          "fillmode": "overlay",
                          "size": 10,
                          "solidity": 0.2
                        },
                        "type": "scatter"
                      }
                    ],
                    "scatter3d": [
                      {
                        "line": {
                          "colorbar": {
                            "outlinewidth": 0,
                            "ticks": ""
                          }
                        },
                        "marker": {
                          "colorbar": {
                            "outlinewidth": 0,
                            "ticks": ""
                          }
                        },
                        "type": "scatter3d"
                      }
                    ],
                    "scattercarpet": [
                      {
                        "marker": {
                          "colorbar": {
                            "outlinewidth": 0,
                            "ticks": ""
                          }
                        },
                        "type": "scattercarpet"
                      }
                    ],
                    "scattergeo": [
                      {
                        "marker": {
                          "colorbar": {
                            "outlinewidth": 0,
                            "ticks": ""
                          }
                        },
                        "type": "scattergeo"
                      }
                    ],
                    "scattergl": [
                      {
                        "marker": {
                          "colorbar": {
                            "outlinewidth": 0,
                            "ticks": ""
                          }
                        },
                        "type": "scattergl"
                      }
                    ],
                    "scattermap": [
                      {
                        "marker": {
                          "colorbar": {
                            "outlinewidth": 0,
                            "ticks": ""
                          }
                        },
                        "type": "scattermap"
                      }
                    ],
                    "scattermapbox": [
                      {
                        "marker": {
                          "colorbar": {
                            "outlinewidth": 0,
                            "ticks": ""
                          }
                        },
                        "type": "scattermapbox"
                      }
                    ],
                    "scatterpolar": [
                      {
                        "marker": {
                          "colorbar": {
                            "outlinewidth": 0,
                            "ticks": ""
                          }
                        },
                        "type": "scatterpolar"
                      }
                    ],
                    "scatterpolargl": [
                      {
                        "marker": {
                          "colorbar": {
                            "outlinewidth": 0,
                            "ticks": ""
                          }
                        },
                        "type": "scatterpolargl"
                      }
                    ],
                    "scatterternary": [
                      {
                        "marker": {
                          "colorbar": {
                            "outlinewidth": 0,
                            "ticks": ""
                          }
                        },
                        "type": "scatterternary"
                      }
                    ],
                    "surface": [
                      {
                        "colorbar": {
                          "outlinewidth": 0,
                          "ticks": ""
                        },
                        "colorscale": [
                          [
                            0,
                            "#0d0887"
                          ],
                          [
                            0.1111111111111111,
                            "#46039f"
                          ],
                          [
                            0.2222222222222222,
                            "#7201a8"
                          ],
                          [
                            0.3333333333333333,
                            "#9c179e"
                          ],
                          [
                            0.4444444444444444,
                            "#bd3786"
                          ],
                          [
                            0.5555555555555556,
                            "#d8576b"
                          ],
                          [
                            0.6666666666666666,
                            "#ed7953"
                          ],
                          [
                            0.7777777777777778,
                            "#fb9f3a"
                          ],
                          [
                            0.8888888888888888,
                            "#fdca26"
                          ],
                          [
                            1,
                            "#f0f921"
                          ]
                        ],
                        "type": "surface"
                      }
                    ],
                    "table": [
                      {
                        "cells": {
                          "fill": {
                            "color": "#EBF0F8"
                          },
                          "line": {
                            "color": "white"
                          }
                        },
                        "header": {
                          "fill": {
                            "color": "#C8D4E3"
                          },
                          "line": {
                            "color": "white"
                          }
                        },
                        "type": "table"
                      }
                    ]
                  },
                  "layout": {
                    "annotationdefaults": {
                      "arrowcolor": "#2a3f5f",
                      "arrowhead": 0,
                      "arrowwidth": 1
                    },
                    "autotypenumbers": "strict",
                    "coloraxis": {
                      "colorbar": {
                        "outlinewidth": 0,
                        "ticks": ""
                      }
                    },
                    "colorscale": {
                      "diverging": [
                        [
                          0,
                          "#8e0152"
                        ],
                        [
                          0.1,
                          "#c51b7d"
                        ],
                        [
                          0.2,
                          "#de77ae"
                        ],
                        [
                          0.3,
                          "#f1b6da"
                        ],
                        [
                          0.4,
                          "#fde0ef"
                        ],
                        [
                          0.5,
                          "#f7f7f7"
                        ],
                        [
                          0.6,
                          "#e6f5d0"
                        ],
                        [
                          0.7,
                          "#b8e186"
                        ],
                        [
                          0.8,
                          "#7fbc41"
                        ],
                        [
                          0.9,
                          "#4d9221"
                        ],
                        [
                          1,
                          "#276419"
                        ]
                      ],
                      "sequential": [
                        [
                          0,
                          "#0d0887"
                        ],
                        [
                          0.1111111111111111,
                          "#46039f"
                        ],
                        [
                          0.2222222222222222,
                          "#7201a8"
                        ],
                        [
                          0.3333333333333333,
                          "#9c179e"
                        ],
                        [
                          0.4444444444444444,
                          "#bd3786"
                        ],
                        [
                          0.5555555555555556,
                          "#d8576b"
                        ],
                        [
                          0.6666666666666666,
                          "#ed7953"
                        ],
                        [
                          0.7777777777777778,
                          "#fb9f3a"
                        ],
                        [
                          0.8888888888888888,
                          "#fdca26"
                        ],
                        [
                          1,
                          "#f0f921"
                        ]
                      ],
                      "sequentialminus": [
                        [
                          0,
                          "#0d0887"
                        ],
                        [
                          0.1111111111111111,
                          "#46039f"
                        ],
                        [
                          0.2222222222222222,
                          "#7201a8"
                        ],
                        [
                          0.3333333333333333,
                          "#9c179e"
                        ],
                        [
                          0.4444444444444444,
                          "#bd3786"
                        ],
                        [
                          0.5555555555555556,
                          "#d8576b"
                        ],
                        [
                          0.6666666666666666,
                          "#ed7953"
                        ],
                        [
                          0.7777777777777778,
                          "#fb9f3a"
                        ],
                        [
                          0.8888888888888888,
                          "#fdca26"
                        ],
                        [
                          1,
                          "#f0f921"
                        ]
                      ]
                    },
                    "colorway": [
                      "#636efa",
                      "#EF553B",
                      "#00cc96",
                      "#ab63fa",
                      "#FFA15A",
                      "#19d3f3",
                      "#FF6692",
                      "#B6E880",
                      "#FF97FF",
                      "#FECB52"
                    ],
                    "font": {
                      "color": "#2a3f5f"
                    },
                    "geo": {
                      "bgcolor": "white",
                      "lakecolor": "white",
                      "landcolor": "#E5ECF6",
                      "showlakes": true,
                      "showland": true,
                      "subunitcolor": "white"
                    },
                    "hoverlabel": {
                      "align": "left"
                    },
                    "hovermode": "closest",
                    "mapbox": {
                      "style": "light"
                    },
                    "paper_bgcolor": "white",
                    "plot_bgcolor": "#E5ECF6",
                    "polar": {
                      "angularaxis": {
                        "gridcolor": "white",
                        "linecolor": "white",
                        "ticks": ""
                      },
                      "bgcolor": "#E5ECF6",
                      "radialaxis": {
                        "gridcolor": "white",
                        "linecolor": "white",
                        "ticks": ""
                      }
                    },
                    "scene": {
                      "xaxis": {
                        "backgroundcolor": "#E5ECF6",
                        "gridcolor": "white",
                        "gridwidth": 2,
                        "linecolor": "white",
                        "showbackground": true,
                        "ticks": "",
                        "zerolinecolor": "white"
                      },
                      "yaxis": {
                        "backgroundcolor": "#E5ECF6",
                        "gridcolor": "white",
                        "gridwidth": 2,
                        "linecolor": "white",
                        "showbackground": true,
                        "ticks": "",
                        "zerolinecolor": "white"
                      },
                      "zaxis": {
                        "backgroundcolor": "#E5ECF6",
                        "gridcolor": "white",
                        "gridwidth": 2,
                        "linecolor": "white",
                        "showbackground": true,
                        "ticks": "",
                        "zerolinecolor": "white"
                      }
                    },
                    "shapedefaults": {
                      "line": {
                        "color": "#2a3f5f"
                      }
                    },
                    "ternary": {
                      "aaxis": {
                        "gridcolor": "white",
                        "linecolor": "white",
                        "ticks": ""
                      },
                      "baxis": {
                        "gridcolor": "white",
                        "linecolor": "white",
                        "ticks": ""
                      },
                      "bgcolor": "#E5ECF6",
                      "caxis": {
                        "gridcolor": "white",
                        "linecolor": "white",
                        "ticks": ""
                      }
                    },
                    "title": {
                      "x": 0.05
                    },
                    "xaxis": {
                      "automargin": true,
                      "gridcolor": "white",
                      "linecolor": "white",
                      "ticks": "",
                      "title": {
                        "standoff": 15
                      },
                      "zerolinecolor": "white",
                      "zerolinewidth": 2
                    },
                    "yaxis": {
                      "automargin": true,
                      "gridcolor": "white",
                      "linecolor": "white",
                      "ticks": "",
                      "title": {
                        "standoff": 15
                      },
                      "zerolinecolor": "white",
                      "zerolinewidth": 2
                    }
                  }
                },
                "title": {
                  "text": "Intermediate Values Plot"
                },
                "xaxis": {
                  "title": {
                    "text": "Step"
                  }
                },
                "yaxis": {
                  "title": {
                    "text": "Intermediate Value"
                  }
                }
              }
            }
          },
          "metadata": {},
          "output_type": "display_data"
        }
      ],
      "source": [
        "from optuna.visualization import plot_intermediate_values\n",
        "\n",
        "# 1. Plot intermediate values during the trials\n",
        "plot_intermediate_values(study).show()"
      ]
    }
  ],
  "metadata": {
    "colab": {
      "provenance": []
    },
    "kernelspec": {
      "display_name": ".venv",
      "language": "python",
      "name": "python3"
    },
    "language_info": {
      "codemirror_mode": {
        "name": "ipython",
        "version": 3
      },
      "file_extension": ".py",
      "mimetype": "text/x-python",
      "name": "python",
      "nbconvert_exporter": "python",
      "pygments_lexer": "ipython3",
      "version": "3.10.11"
    }
  },
  "nbformat": 4,
  "nbformat_minor": 0
}
